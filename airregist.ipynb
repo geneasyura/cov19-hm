{
 "cells": [
  {
   "cell_type": "code",
   "execution_count": null,
   "metadata": {},
   "outputs": [],
   "source": [
    "#!/usr/bin/python3\n",
    "# coding: utf-8\n",
    "# sapporo"
   ]
  },
  {
   "cell_type": "code",
   "execution_count": null,
   "metadata": {},
   "outputs": [],
   "source": [
    "import codecs\n",
    "from datetime import datetime as dt\n",
    "import datetime\n",
    "import math\n",
    "import sys\n",
    "from jma_csvdl import save_jma_data, parse_jma_csv\n",
    "import json\n",
    "import numpy as np\n",
    "import os\n",
    "import pandas as pd\n",
    "import plotly\n",
    "import plotly.express as px\n",
    "import plotly.tools as tls\n",
    "import plotly.graph_objects as go\n",
    "import plotly.io as pio\n",
    "import plotly.offline as offline\n",
    "from plotly.subplots import make_subplots\n",
    "import sys\n",
    "from urllib.request import urlretrieve\n",
    "from cov19utils import create_basic_plot_figure, \\\n",
    "    show_and_clear, moving_average, \\\n",
    "    blank2zero, csv2array, \\\n",
    "    get_twitter, tweet_with_image, \\\n",
    "    get_gpr_predict, FONT_NAME, DT_OFFSET, \\\n",
    "    download_if_needed, json2nparr, code2int, age2int, \\\n",
    "    get_populations, get_os_idx_of_arr, dump_val_in_arr, \\\n",
    "    calc_last1w2w_dif, create_basic_scatter_figure, \\\n",
    "    show_and_save_plotly, make_japan_choropleth, \\\n",
    "    make_japan_heatmap\n",
    "from hokkaidomap import make_hokkaido_choropleth, make_hokkaido_plotly"
   ]
  },
  {
   "cell_type": "code",
   "execution_count": null,
   "metadata": {},
   "outputs": [],
   "source": [
    "from air_registance import AirRegistance"
   ]
  },
  {
   "cell_type": "code",
   "execution_count": null,
   "metadata": {},
   "outputs": [],
   "source": [
    "city2pref = {\n",
    "   \"札幌\": \"Hokkaido\", # 北海道\n",
    "   \"青森\": \"Aomori\", # 青森\n",
    "   \"盛岡\": \"Iwate\", # 岩手\n",
    "   \"仙台\": \"Miyagi\", # 宮城\n",
    "   \"秋田\": \"Akita\", # 秋田\n",
    "   \"山形\": \"Yamagata\", # 山形\n",
    "   \"福島\": \"Fukushima\", # 福島\n",
    "   \"水戸\": \"Ibaraki\", # 茨城\n",
    "   \"宇都宮\": \"Tochigi\", # 栃木\n",
    "   \"前橋\": \"Gunma\", # 群馬\n",
    "   \"秩父\": \"Saitama\", # 埼玉\n",
    "   \"千葉\": \"Chiba\", # 千葉\n",
    "   \"東京\": \"Tokyo\", # 東京\n",
    "   \"横浜\": \"Kanagawa\", # 神奈川\n",
    "   \"新潟\": \"Niigata\", # 新潟\n",
    "   \"富山\": \"Toyama\", # 富山\n",
    "   \"金沢\": \"Ishikawa\", # 石川\n",
    "   \"福井\": \"Fukui\", # 福井\n",
    "   \"甲府\": \"Yamanashi\", # 山梨\n",
    "   \"長野\": \"Nagano\", # 長野\n",
    "   \"岐阜\": \"Gifu\", # 岐阜\n",
    "   \"静岡\": \"Shizuoka\", # 静岡\n",
    "   \"名古屋\": \"Aichi\", # 愛知\n",
    "   \"津\": \"Mie\", # 三重\n",
    "   \"彦根\": \"Shiga\", # 滋賀\n",
    "   \"京都\": \"Kyoto\", # 京都\n",
    "   \"大阪\": \"Osaka\", # 大阪\n",
    "   \"神戸\": \"Hyogo\", # 兵庫\n",
    "   \"奈良\": \"Nara\", # 奈良\n",
    "   \"和歌山\": \"Wakayama\", # 和歌山\n",
    "   \"松江\": \"Tottori\", # 島根\n",
    "   \"鳥取\": \"Shimane\", # 鳥取\n",
    "   \"岡山\": \"Okayama\", # 岡山\n",
    "   \"広島\": \"Hiroshima\", # 広島\n",
    "   \"山口\": \"Yamaguchi\", # 山口\n",
    "   \"徳島\": \"Tokushima\", # 徳島\n",
    "   \"高松\": \"Kagawa\", # 香川\n",
    "   \"松山\": \"Ehime\", # 愛媛\n",
    "   \"高知\": \"Kochi\", # 高知\n",
    "   \"福岡\": \"Fukuoka\", # 福岡\n",
    "   \"佐賀\": \"Saga\", # 佐賀\n",
    "   \"長崎\": \"Nagasaki\", # 長崎\n",
    "   \"熊本\": \"Kumamoto\", # 熊本\n",
    "   \"大分\": \"Oita\", # 大分\n",
    "   \"宮崎\": \"Miyazaki\", # 宮崎\n",
    "   \"鹿児島\": \"Kagoshima\", # 鹿児島\n",
    "   \"那覇\": \"Okinawa\" # 沖縄\n",
    "}"
   ]
  },
  {
   "cell_type": "code",
   "execution_count": null,
   "metadata": {},
   "outputs": [],
   "source": [
    "cite2hokkai = {\n",
    "    \"札幌\"  :  1,# \"石狩\"\n",
    "    \"函館\"  :  2,# \"渡島\"\n",
    "    \"江差\"  :  3,# \"檜山\"\n",
    "    \"倶知安\":  4,# \"後志\"\n",
    "    \"岩見沢\":  5,# \"空知\"\n",
    "    \"旭川\"  :  6,# \"上川\"\n",
    "    \"留萌\"  :  7,# \"留萌\"\n",
    "    \"稚内\"  :  8,# \"宗谷\"\n",
    "    \"網走\"  :  9,# \"オホーツク\"\n",
    "    \"室蘭\"  : 10,# \"胆振\"\n",
    "    \"浦河\"  : 11,# \"日高\"\n",
    "    \"帯広\"  : 12,# \"十勝\"\n",
    "    \"釧路\"  : 13,# \"釧路\"\n",
    "    \"根室\"  : 14,# \"根室\"\n",
    "}"
   ]
  },
  {
   "cell_type": "code",
   "execution_count": null,
   "metadata": {},
   "outputs": [],
   "source": [
    "if 16 != dt.now().hour:\n",
    "    print(\"nothing to do.\")\n",
    "    if \"ipy\" in sys.argv[0]:\n",
    "        pass#exit()\n",
    "    else:\n",
    "        sys.exit()"
   ]
  },
  {
   "cell_type": "code",
   "execution_count": null,
   "metadata": {},
   "outputs": [],
   "source": [
    "# 前日のデータ\n",
    "u = \"https://www.data.jma.go.jp/obd/stats/data/mdrr/synopday/data2s.html\"\n",
    "dfs = pd.read_html(u)"
   ]
  },
  {
   "cell_type": "code",
   "execution_count": null,
   "metadata": {},
   "outputs": [],
   "source": [
    "pop_inf = get_populations()"
   ]
  },
  {
   "cell_type": "code",
   "execution_count": null,
   "metadata": {},
   "outputs": [],
   "source": [
    "Fds = np.zeros(47 + 1).tolist()\n",
    "VHs = np.zeros(47 + 1).tolist()\n",
    "Fds_hokkaido = np.zeros(len(cite2hokkai) + 1).tolist()\n",
    "VHs_hokkaido = np.zeros(len(cite2hokkai) + 1).tolist()\n",
    "Fds[0] = Fds_hokkaido[0] = 5.55e-11\n",
    "VHs[0] = VHs_hokkaido[0] = 10.0\n",
    "ar = AirRegistance()\n",
    "def str2f(x):\n",
    "    return float(x.replace(')', '').replace(']', ''))\n",
    "def tPrh(r):\n",
    "    return str2f(r[5]), str2f(r[1]), str2f(r[11])\n",
    "def getVH(vp, tc):\n",
    "    return 18.0 * ((100.0 * vp) / (8.31447 * (273.15 + tc)))\n",
    "data = np.zeros((1,47))"
   ]
  },
  {
   "cell_type": "code",
   "execution_count": null,
   "metadata": {},
   "outputs": [],
   "source": [
    "cnt = 0\n",
    "for df in dfs:\n",
    "    if len(df.columns) == 33:\n",
    "        for i, row in df.iterrows():\n",
    "            if row[0] in city2pref:\n",
    "                cnt += 1\n",
    "                prefname = city2pref[row[0]]\n",
    "                t, P, rh = tPrh(row)\n",
    "                Fd = ar.calc(t=t, P=P, rh=rh)\n",
    "                vh = getVH(str2f(row[10]), t)\n",
    "                code = pop_inf[prefname]['code']\n",
    "                #print(type(Fd), t, P, rh, vh)\n",
    "                Fds[code] = Fd\n",
    "                VHs[code] = vh\n",
    "            if row[0] in cite2hokkai:\n",
    "                cnt += 1\n",
    "                t, P, rh = tPrh(row)\n",
    "                Fd = ar.calc(t=t, P=P, rh=rh)\n",
    "                vh = getVH(str2f(row[10]), t)\n",
    "                code = cite2hokkai[row[0]]\n",
    "                Fds_hokkaido[code] = Fd\n",
    "                VHs_hokkaido[code] = vh\n",
    "print(\"processed {} lines.\".format(cnt))"
   ]
  },
  {
   "cell_type": "code",
   "execution_count": null,
   "metadata": {},
   "outputs": [],
   "source": [
    "minFd = min(np.min(Fds), np.min(Fds_hokkaido))\n",
    "maxFd = max(np.max(Fds), np.min(Fds_hokkaido))\n",
    "print(\"Fd min:{} max:{}\".format(minFd, maxFd))\n",
    "Fds[0] = Fds_hokkaido[0] = minFd"
   ]
  },
  {
   "cell_type": "code",
   "execution_count": null,
   "metadata": {},
   "outputs": [],
   "source": [
    "minVH = min(np.min(VHs), np.min(VHs_hokkaido))\n",
    "maxVH = max(np.max(VHs), np.min(VHs_hokkaido))\n",
    "print(\"Fd min:{} max:{}\".format(minVH, maxVH))\n",
    "VHs[0] = VHs_hokkaido[0] = maxVH"
   ]
  },
  {
   "cell_type": "code",
   "execution_count": null,
   "metadata": {},
   "outputs": [],
   "source": [
    "today_str = dt.now().isoformat()[:16].replace('T', ' ')\n",
    "tw_body_map_fds = \"全国 新型コロナ 県別 空気抵抗力(前日平均) ({})\".format(today_str)\n",
    "imgname = 'japan-fds.jpg'\n",
    "make_japan_choropleth(imgname, tw_body_map_fds, Fds[1:])\n",
    "make_japan_heatmap(imgname, tw_body_map_fds, Fds, pop_inf)"
   ]
  },
  {
   "cell_type": "code",
   "execution_count": null,
   "metadata": {},
   "outputs": [],
   "source": [
    "tw = get_twitter()"
   ]
  },
  {
   "cell_type": "code",
   "execution_count": null,
   "metadata": {},
   "outputs": [],
   "source": [
    "if False:\n",
    "    tw_body_map_fds += \"低リスク:55p以上? 中リスク:54p以下?, 高リスク:53p以下?\"\n",
    "    tw_body_map_fds += \" https://geneasyura.github.io/cov19-hm/airregist.html \"\n",
    "    tweet_with_image(tw, \"docs/images/japan-fds.jpg\", tw_body_map_fds)"
   ]
  },
  {
   "cell_type": "code",
   "execution_count": null,
   "metadata": {},
   "outputs": [],
   "source": [
    "tw_body_map_vhs = \"全国 新型コロナ 県別 絶対湿度(前日平均) ({})\".format(today_str)\n",
    "imgname = 'japan-vh.jpg'   \n",
    "make_japan_choropleth(imgname, tw_body_map_vhs, VHs[1:])\n",
    "make_japan_heatmap(imgname, tw_body_map_vhs, VHs, pop_inf)"
   ]
  },
  {
   "cell_type": "code",
   "execution_count": null,
   "metadata": {},
   "outputs": [],
   "source": [
    "tw_body_map_vhs += \"高リスク:7g/㎥以下?\"\n",
    "tw_body_map_vhs += \" https://geneasyura.github.io/cov19-hm/airregist.html \"\n",
    "if False:\n",
    "    tweet_with_image(tw, \"docs/images/japan-vh.jpg\", tw_body_map_vhs)"
   ]
  },
  {
   "cell_type": "code",
   "execution_count": null,
   "metadata": {},
   "outputs": [],
   "source": [
    "tw_body_map_fds = \"北海道 新型コロナ 振興局別 空気抵抗力(前日平均) ({})\".format(today_str)\n",
    "imgname = 'hokkaido-map-fds.jpg'\n",
    "make_hokkaido_choropleth(imgname, tw_body_map_fds, Fds_hokkaido)"
   ]
  },
  {
   "cell_type": "code",
   "execution_count": null,
   "metadata": {},
   "outputs": [],
   "source": [
    "if False:\n",
    "    tw_body_map_fds += \"低リスク:55p以上? 中リスク:54p以下?, 高リスク:53p以下?\"\n",
    "    tw_body_map_fds += \" https://geneasyura.github.io/cov19-hm/airregist.html \"\n",
    "    tweet_with_image(tw, \"docs/images/hokkaido-map-fds.jpg\", tw_body_map_fds)"
   ]
  },
  {
   "cell_type": "code",
   "execution_count": null,
   "metadata": {},
   "outputs": [],
   "source": [
    "tw_body_map_vhs = \"北海道 新型コロナ 振興局別 絶対湿度(前日平均) ({})\".format(today_str)\n",
    "imgname = 'hokkaido-map-vh.jpg'\n",
    "make_hokkaido_choropleth(imgname, tw_body_map_vhs, VHs_hokkaido)"
   ]
  },
  {
   "cell_type": "code",
   "execution_count": null,
   "metadata": {},
   "outputs": [],
   "source": [
    "tw_body_map_vhs += \"高リスク:7g/㎥以下?\"\n",
    "tw_body_map_vhs += \" https://geneasyura.github.io/cov19-hm/airregist.html \"\n",
    "if False:\n",
    "    tweet_with_image(tw, \"docs/images/hokkaido-map-vh.jpg\", tw_body_map_vhs)"
   ]
  },
  {
   "cell_type": "code",
   "execution_count": null,
   "metadata": {},
   "outputs": [],
   "source": []
  }
 ],
 "metadata": {
  "kernelspec": {
   "display_name": "Python 3",
   "language": "python",
   "name": "python3"
  },
  "language_info": {
   "codemirror_mode": {
    "name": "ipython",
    "version": 3
   },
   "file_extension": ".py",
   "mimetype": "text/x-python",
   "name": "python",
   "nbconvert_exporter": "python",
   "pygments_lexer": "ipython3",
   "version": "3.8.6"
  }
 },
 "nbformat": 4,
 "nbformat_minor": 4
}
