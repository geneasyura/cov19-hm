{
 "cells": [
  {
   "cell_type": "code",
   "execution_count": null,
   "metadata": {},
   "outputs": [],
   "source": [
    "#!/usr/bin/env python\n",
    "# coding: utf-8"
   ]
  },
  {
   "cell_type": "code",
   "execution_count": null,
   "metadata": {},
   "outputs": [],
   "source": [
    "import codecs\n",
    "from datetime import datetime as dt\n",
    "import json\n",
    "import sys\n",
    "import numpy as np\n",
    "import os\n",
    "import pandas as pd\n",
    "import plotly\n",
    "from plotly import subplots\n",
    "import plotly.express as px\n",
    "import plotly.tools as tls\n",
    "import plotly.graph_objects as go\n",
    "import plotly.io as pio\n",
    "import plotly.offline as offline\n",
    "import sys\n",
    "if \"ipy\" in sys.argv[0]:\n",
    "    offline.init_notebook_mode()\n",
    "from cov19utils import create_basic_plot_figure, \\\n",
    "    show_and_clear, moving_average, \\\n",
    "    blank2zero, csv2array, \\\n",
    "    get_twitter, tweet_with_image, \\\n",
    "    get_gpr_predict, FONT_NAME, DT_OFFSET, \\\n",
    "    download_if_needed, json2nparr, code2int, age2int, \\\n",
    "    get_populations, get_os_idx_of_arr, dump_val_in_arr, \\\n",
    "    calc_last1w2w_dif, create_basic_scatter_figure, \\\n",
    "    show_and_save_plotly\n",
    "import re\n",
    "import requests\n",
    "from sklearn.linear_model import LinearRegression"
   ]
  },
  {
   "cell_type": "code",
   "execution_count": null,
   "metadata": {},
   "outputs": [],
   "source": [
    "curr = pd.read_csv(\"csv/sapporo.csv\", encoding='shift-jis', header=0)\n",
    "n = len(curr)\n",
    "print(n)"
   ]
  },
  {
   "cell_type": "code",
   "execution_count": null,
   "metadata": {},
   "outputs": [],
   "source": [
    "prev = 0\n",
    "with codecs.open(\"csv/sapporo.tmp\", encoding=\"utf-8\") as f:\n",
    "    prev = f.read().strip()\n",
    "prev = int(prev)\n",
    "print(prev)"
   ]
  },
  {
   "cell_type": "code",
   "execution_count": null,
   "metadata": {},
   "outputs": [],
   "source": [
    "if n == prev:\n",
    "    print(\"maybe the same data, nothing to do.\")\n",
    "    if \"ipy\" in sys.argv[0]:\n",
    "        pass#exit()\n",
    "    else:\n",
    "        sys.exit()"
   ]
  },
  {
   "cell_type": "code",
   "execution_count": null,
   "metadata": {},
   "outputs": [],
   "source": [
    "curr['untrack'] = ((curr['postive'] - curr['trace']) / curr['postive']) * 100\n",
    "curr['posrate'] = (curr['postive'] / curr['test']) * 100"
   ]
  },
  {
   "cell_type": "code",
   "execution_count": null,
   "metadata": {},
   "outputs": [],
   "source": [
    "df = curr"
   ]
  },
  {
   "cell_type": "code",
   "execution_count": null,
   "metadata": {
    "scrolled": false
   },
   "outputs": [],
   "source": [
    "titles = [\"検査数\",\"陽性者\",\"経路不明率\",\"陽性率\"]\n",
    "cols = ['test', 'postive', 'untrack', 'posrate']\n",
    "fig = subplots.make_subplots(shared_xaxes=True,\n",
    "    rows=4, cols=1, subplot_titles=titles,\n",
    "    horizontal_spacing=0.03, vertical_spacing=0.07)\n",
    "i = 0\n",
    "for c in cols:\n",
    "    trace = go.Bar(x=df['date'], y=df[c], name=titles[i])\n",
    "    fig.add_trace(trace, 1 + i, 1)\n",
    "    i += 1\n",
    "\n",
    "today_str = dt.now().isoformat()[:16].replace('T', ' ')\n",
    "title = '札幌感染状況 {}'.format(today_str)\n",
    "fig.update_layout(\n",
    "    template='plotly_dark',\n",
    "    margin={\"r\":10,\"t\":80,\"l\":10,\"b\":100},\n",
    "    height=700, showlegend=False,\n",
    "    title=title)\n",
    "show_and_save_plotly(fig, \"sapporo.jpg\", js=False, show=True, image=True, html=True)"
   ]
  },
  {
   "cell_type": "code",
   "execution_count": null,
   "metadata": {},
   "outputs": [],
   "source": [
    "tw = get_twitter()\n",
    "tweet_with_image(tw, \"docs/images/sapporo.jpg\", title)"
   ]
  },
  {
   "cell_type": "code",
   "execution_count": null,
   "metadata": {},
   "outputs": [],
   "source": [
    "with open(\"csv/sapporo.tmp\", \"w\") as f:\n",
    "    f.write(\"{}\".format(n))"
   ]
  }
 ],
 "metadata": {
  "kernelspec": {
   "display_name": "Python 3",
   "language": "python",
   "name": "python3"
  },
  "language_info": {
   "codemirror_mode": {
    "name": "ipython",
    "version": 3
   },
   "file_extension": ".py",
   "mimetype": "text/x-python",
   "name": "python",
   "nbconvert_exporter": "python",
   "pygments_lexer": "ipython3",
   "version": "3.8.6"
  }
 },
 "nbformat": 4,
 "nbformat_minor": 4
}
