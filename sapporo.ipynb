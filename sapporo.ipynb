{
 "cells": [
  {
   "cell_type": "code",
   "execution_count": null,
   "metadata": {},
   "outputs": [],
   "source": [
    "#!/usr/bin/env python\n",
    "# coding: utf-8"
   ]
  },
  {
   "cell_type": "code",
   "execution_count": null,
   "metadata": {},
   "outputs": [],
   "source": [
    "import codecs\n",
    "from datetime import datetime as dt\n",
    "import json\n",
    "import sys\n",
    "import numpy as np\n",
    "import os\n",
    "import pandas as pd\n",
    "import plotly\n",
    "from plotly import subplots\n",
    "import plotly.express as px\n",
    "import plotly.tools as tls\n",
    "import plotly.graph_objects as go\n",
    "import plotly.io as pio\n",
    "import plotly.offline as offline\n",
    "import re\n",
    "import sys\n",
    "if \"ipy\" in sys.argv[0]:\n",
    "    offline.init_notebook_mode()\n",
    "from cov19utils import create_basic_plot_figure, \\\n",
    "    show_and_clear, moving_average, \\\n",
    "    blank2zero, csv2array, \\\n",
    "    get_twitter, tweet_with_image, \\\n",
    "    get_gpr_predict, FONT_NAME, DT_OFFSET, \\\n",
    "    download_if_needed, json2nparr, code2int, age2int, \\\n",
    "    get_populations, get_os_idx_of_arr, dump_val_in_arr, \\\n",
    "    calc_last1w2w_dif, create_basic_scatter_figure, \\\n",
    "    show_and_save_plotly\n",
    "import re\n",
    "import requests\n",
    "from sklearn.linear_model import LinearRegression"
   ]
  },
  {
   "cell_type": "code",
   "execution_count": null,
   "metadata": {},
   "outputs": [],
   "source": [
    "u = \"https://www.city.sapporo.jp/hokenjo/f1kansen/\"\n",
    "f = \"2019n-covhassei.html\"\n",
    "download_if_needed(u, f)"
   ]
  },
  {
   "cell_type": "code",
   "execution_count": null,
   "metadata": {},
   "outputs": [],
   "source": [
    "with codecs.open(f, encoding='UTF-8') as fin:\n",
    "    for line in fin:\n",
    "        if '更新日' in line:\n",
    "            m = re.search(r\"更新日：(\\d+)年(\\d+)月(\\d+)日\", line)\n",
    "            ymd = m.groups()\n",
    "            update = \"{}/{}/{}\".format(ymd[0], ymd[1], ymd[2])\n",
    "            print(update)"
   ]
  },
  {
   "cell_type": "code",
   "execution_count": null,
   "metadata": {},
   "outputs": [],
   "source": [
    "with codecs.open(\"sapporo.tmp\", encoding='UTF-8') as fin:\n",
    "    last_updated = fin.read().strip()\n",
    "print(last_updated)"
   ]
  },
  {
   "cell_type": "code",
   "execution_count": null,
   "metadata": {},
   "outputs": [],
   "source": [
    "if last_updated == update:\n",
    "    print(\"maybe the same html, nothing to do.\")\n",
    "    if \"ipy\" in sys.argv[0]:\n",
    "        pass#exit()\n",
    "    else:\n",
    "        sys.exit()"
   ]
  },
  {
   "cell_type": "code",
   "execution_count": null,
   "metadata": {},
   "outputs": [],
   "source": []
  },
  {
   "cell_type": "code",
   "execution_count": null,
   "metadata": {},
   "outputs": [],
   "source": [
    "df = pd.read_html(f)"
   ]
  },
  {
   "cell_type": "code",
   "execution_count": null,
   "metadata": {},
   "outputs": [],
   "source": [
    "posit = float(df[3]['陽性率'][0].replace('％', ''))\n",
    "tests = int(df[3]['新規検査人数合計'][0].replace('人', '').replace(',', ''))\n",
    "cases = int(df[3]['本日の陽性者数'][0].replace('人', ''))\n",
    "#print(\"p:{} t:{} c:{}\".format(posit, tests, cases))"
   ]
  },
  {
   "cell_type": "code",
   "execution_count": null,
   "metadata": {},
   "outputs": [],
   "source": [
    "d = df[4]['死亡（累計）'][0]\n",
    "deaths = 0\n",
    "m = re.search(r'\\+(\\d+)人', d)\n",
    "if m:\n",
    "    deaths = int(m.groups()[0])\n",
    "print(\"deaths: {} (d)\".format(deaths, d))"
   ]
  },
  {
   "cell_type": "code",
   "execution_count": null,
   "metadata": {},
   "outputs": [],
   "source": [
    "t = df[4]['陽性者数（累計）'][2]\n",
    "m = re.search(r'\\+(\\d+)人', t)\n",
    "tracked = int(m.groups()[0])\n",
    "#print(\"tracked: {}\".format(tracked))\n",
    "untracked = round(100.0 * (cases - tracked) / cases, 2)\n",
    "#print(\"untracked: {}\".format(untracked))"
   ]
  },
  {
   "cell_type": "code",
   "execution_count": null,
   "metadata": {},
   "outputs": [],
   "source": [
    "print(\"pos:{}% test:{} case:{} death:{} track:{} untrack:{}%\".format(\n",
    "    posit, tests, cases, deaths, tracked, untracked))"
   ]
  },
  {
   "cell_type": "code",
   "execution_count": null,
   "metadata": {},
   "outputs": [],
   "source": [
    "l = \"{},{},{},{},{}\\n\".format(update, tests, cases, tracked, deaths)\n",
    "print(l)\n",
    "with open(\"csv/sapporo.csv\", \"a\") as fout:\n",
    "    fout.write(l)"
   ]
  },
  {
   "cell_type": "code",
   "execution_count": null,
   "metadata": {},
   "outputs": [],
   "source": []
  },
  {
   "cell_type": "code",
   "execution_count": null,
   "metadata": {},
   "outputs": [],
   "source": [
    "curr = pd.read_csv(\"csv/sapporo.csv\", encoding='shift-jis', header=0)\n",
    "n = len(curr)\n",
    "print(n)"
   ]
  },
  {
   "cell_type": "code",
   "execution_count": null,
   "metadata": {},
   "outputs": [],
   "source": [
    "prev = 0\n",
    "with codecs.open(\"csv/sapporo.tmp\", encoding=\"utf-8\") as f:\n",
    "    prev = f.read().strip()\n",
    "prev = int(prev)\n",
    "print(prev)"
   ]
  },
  {
   "cell_type": "code",
   "execution_count": null,
   "metadata": {},
   "outputs": [],
   "source": [
    "if n == prev:\n",
    "    print(\"maybe the same data, nothing to do.\")\n",
    "    if \"ipy\" in sys.argv[0]:\n",
    "        pass#exit()\n",
    "    else:\n",
    "        sys.exit()"
   ]
  },
  {
   "cell_type": "code",
   "execution_count": null,
   "metadata": {},
   "outputs": [],
   "source": [
    "curr['untrack'] = ((curr['postive'] - curr['trace']) / curr['postive']) * 100\n",
    "curr['posrate'] = (curr['postive'] / curr['test']) * 100\n",
    "curr['ma_posr'] = moving_average(curr['posrate'] )"
   ]
  },
  {
   "cell_type": "code",
   "execution_count": null,
   "metadata": {},
   "outputs": [],
   "source": [
    "df = curr"
   ]
  },
  {
   "cell_type": "code",
   "execution_count": null,
   "metadata": {
    "scrolled": false
   },
   "outputs": [],
   "source": [
    "titles = [\"検査数\",\"陽性者\",\"経路不明率[%]\",\"陽性率[%]\", \"死者数\", \"陽性率移動平均[%]\"]\n",
    "cols = ['test', 'postive', 'untrack', 'posrate', 'death', 'ma_posr']\n",
    "fig = subplots.make_subplots(shared_xaxes=True,\n",
    "    rows=3, cols=2, subplot_titles=titles,\n",
    "    horizontal_spacing=0.05, vertical_spacing=0.07)\n",
    "i = 0\n",
    "for c in cols:\n",
    "    if c == 'death':\n",
    "        trace = go.Bar(x=df['date'], y=df[c], name=titles[i])\n",
    "        fig.add_trace(trace, 1 + int(i/2), 1 + (i % 2))\n",
    "    else:\n",
    "        trace = go.Scatter(x=df['date'], y=df[c], name=titles[i])\n",
    "        fig.add_trace(trace, 1 + int(i/2), 1 + (i % 2))\n",
    "        fig.update_yaxes(range=[0, (max(df[c])*1.1)], row=1 + int(i/2), col=1 + (i % 2))\n",
    "    i += 1\n",
    "\n",
    "today_str = dt.now().isoformat()[:16].replace('T', ' ')\n",
    "title = '札幌感染状況 2021-04-25 ～ {}'.format(today_str)\n",
    "fig.update_layout(\n",
    "    template='plotly_dark',\n",
    "    margin={\"r\":10,\"t\":80,\"l\":10,\"b\":100},\n",
    "    height=700, showlegend=False, width=600,\n",
    "    title=title)\n",
    "show_and_save_plotly(fig, \"sapporo.jpg\", js=False, show=True, image=True, html=True)"
   ]
  },
  {
   "cell_type": "code",
   "execution_count": null,
   "metadata": {},
   "outputs": [],
   "source": [
    "tw = get_twitter()\n",
    "tweet_with_image(tw, \"docs/images/sapporo.jpg\", title)"
   ]
  },
  {
   "cell_type": "code",
   "execution_count": null,
   "metadata": {},
   "outputs": [],
   "source": [
    "with open(\"csv/sapporo.tmp\", \"w\") as f:\n",
    "    f.write(\"{}\".format(n))"
   ]
  },
  {
   "cell_type": "code",
   "execution_count": null,
   "metadata": {},
   "outputs": [],
   "source": [
    "with open(\"sapporo.tmp\", \"w\") as f:\n",
    "    f.write(\"{}\".format(update))"
   ]
  },
  {
   "cell_type": "code",
   "execution_count": null,
   "metadata": {},
   "outputs": [],
   "source": [
    "print(title)"
   ]
  },
  {
   "cell_type": "code",
   "execution_count": null,
   "metadata": {},
   "outputs": [],
   "source": []
  }
 ],
 "metadata": {
  "kernelspec": {
   "display_name": "Python 3",
   "language": "python",
   "name": "python3"
  },
  "language_info": {
   "codemirror_mode": {
    "name": "ipython",
    "version": 3
   },
   "file_extension": ".py",
   "mimetype": "text/x-python",
   "name": "python",
   "nbconvert_exporter": "python",
   "pygments_lexer": "ipython3",
   "version": "3.8.6"
  }
 },
 "nbformat": 4,
 "nbformat_minor": 4
}
