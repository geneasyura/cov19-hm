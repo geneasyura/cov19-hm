{
 "cells": [
  {
   "cell_type": "code",
   "execution_count": null,
   "metadata": {},
   "outputs": [],
   "source": [
    "#!/usr/bin/python3\n",
    "# coding: utf-8\n",
    "# prefectures"
   ]
  },
  {
   "cell_type": "code",
   "execution_count": null,
   "metadata": {},
   "outputs": [],
   "source": [
    "import codecs\n",
    "from datetime import datetime as dt\n",
    "from datetime import timedelta as td\n",
    "import json\n",
    "import matplotlib\n",
    "import numpy as np\n",
    "import os\n",
    "import pandas as pd\n",
    "import sys\n",
    "if \"ipy\" not in sys.argv[0]:\n",
    "    matplotlib.use('Agg')\n",
    "import matplotlib.pyplot as plt\n",
    "import matplotlib.cm as cm\n",
    "import plotly\n",
    "import plotly.express as px\n",
    "import plotly.tools as tls\n",
    "import plotly.graph_objects as go\n",
    "import plotly.io as pio\n",
    "import plotly.offline as offline\n",
    "from plotly.subplots import make_subplots\n",
    "if \"ipy\" in sys.argv[0]:\n",
    "    offline.init_notebook_mode()\n",
    "from sklearn.neighbors import LocalOutlierFactor\n",
    "from cov19utils import create_basic_plot_figure, \\\n",
    "    show_and_clear, moving_average, \\\n",
    "    blank2zero, csv2array, \\\n",
    "    get_twitter, tweet_with_image, \\\n",
    "    get_gpr_predict, FONT_NAME, DT_OFFSET, \\\n",
    "    download_if_needed, json2nparr, code2int, age2int, \\\n",
    "    get_populations, get_os_idx_of_arr, dump_val_in_arr, \\\n",
    "    calc_last1w2w_dif, create_basic_scatter_figure, \\\n",
    "    show_and_save_plotly, make_japan_heatmap, \\\n",
    "    make_japan_choropleth"
   ]
  },
  {
   "cell_type": "code",
   "execution_count": null,
   "metadata": {},
   "outputs": [],
   "source": [
    "populations = get_populations()\n",
    "#print(populations)"
   ]
  },
  {
   "cell_type": "code",
   "execution_count": null,
   "metadata": {},
   "outputs": [],
   "source": [
    "today_str = dt.now().isoformat()[:16].replace('T', ' ')\n",
    "# 全国情報\n",
    "ogiwara_uri = \"https://toyokeizai.net/sp/visual/tko/covid19/csv/\"\n",
    "pref_file = \"prefectures.csv\"\n",
    "download_if_needed(ogiwara_uri, pref_file)"
   ]
  },
  {
   "cell_type": "code",
   "execution_count": null,
   "metadata": {},
   "outputs": [],
   "source": [
    "offsets = dict(\n",
    "    year  = 0, # 年\n",
    "    month = 1, # 月\n",
    "    day   = 2, # 日\n",
    "    st_ja = 3, # 都道府県\n",
    "    st_en = 4, # state\n",
    "    posis = 5, # 陽性者数\n",
    "    tests = 6, # 検査数\n",
    "    hospi = 7, # hospitalized\n",
    "    serio = 8, # serious\n",
    "    disch = 9, # discharged\n",
    "    death =10, # deaths\n",
    "    ern   =11, # Effective Reproduction Number\n",
    ")"
   ]
  },
  {
   "cell_type": "code",
   "execution_count": null,
   "metadata": {},
   "outputs": [],
   "source": [
    "dt_start = dt.strptime(\"2020/2/8\", \"%Y/%m/%d\") # 統計開始日\n",
    "dt_now   = dt.now() # 現在日時\n",
    "dt_delta = (dt_now - dt_start).days # 差分\n",
    "n_states = 47 # 都道府県数\n",
    "erns = [] # 実効再生産数\n",
    "poss = [] # 陽性者数\n",
    "test = [] # 検査数\n",
    "for i in np.arange(dt_delta):\n",
    "    erns.append(np.zeros(n_states+1).tolist())\n",
    "    poss.append(np.zeros(n_states+1).tolist())\n",
    "    test.append(np.zeros(n_states+1).tolist())\n",
    "    test[i][0] = poss[i][0] = erns[i][0] = i"
   ]
  },
  {
   "cell_type": "code",
   "execution_count": null,
   "metadata": {},
   "outputs": [],
   "source": [
    "with codecs.open(\"prefectures.csv\", encoding='utf-8') as f:\n",
    "    l = f.readline()\n",
    "    cnt = 0\n",
    "    while l:\n",
    "        l = f.readline().replace(\"\\r\\n\", \"\").rstrip()\n",
    "        elems = l.split(',')\n",
    "        if len(elems) < 2:\n",
    "            continue\n",
    "        dt_idx  = (dt(int(elems[0]), int(elems[1]), int(elems[2])) - dt_start).days\n",
    "        st_name = elems[offsets['st_en']]\n",
    "        st_idx  = populations[st_name]['code']\n",
    "        erns[dt_idx][st_idx] = blank2zero(elems[offsets['ern']])\n",
    "        poss[dt_idx][st_idx] = blank2zero(elems[offsets['posis']])\n",
    "        tested = blank2zero(elems[offsets['tests']])\n",
    "        if tested > 0:\n",
    "            test[dt_idx][st_idx] = tested\n",
    "        cnt += 1"
   ]
  },
  {
   "cell_type": "code",
   "execution_count": null,
   "metadata": {},
   "outputs": [],
   "source": [
    "with open(\"prefectures.prev.tmp\", \"rt\") as f:\n",
    "    prev = int(f.read().rstrip())\n",
    "print(\"Load {} lines, prev: {}.\".format(cnt, prev))\n",
    "if cnt == prev:\n",
    "    print(\"maybe the same data, nothing to do.\")\n",
    "    if \"ipy\" in sys.argv[0]:\n",
    "        pass#exit()\n",
    "    else:\n",
    "        sys.exit()\n",
    "\n",
    "with open(\"prefectures.prev.tmp\", \"wt\") as f:\n",
    "    f.write(\"{}\".format(cnt))"
   ]
  },
  {
   "cell_type": "code",
   "execution_count": null,
   "metadata": {},
   "outputs": [],
   "source": [
    "erns = np.array(erns)\n",
    "poss = np.array(poss)\n",
    "test = np.array(test)"
   ]
  },
  {
   "cell_type": "code",
   "execution_count": null,
   "metadata": {
    "scrolled": true
   },
   "outputs": [],
   "source": [
    "os_idx = get_os_idx_of_arr(erns, dt_delta)\n",
    "latest_erns = erns[os_idx] # 最新の実効再生産数\n",
    "dump_val_in_arr(populations, latest_erns, \"最新の実効再生産数\")"
   ]
  },
  {
   "cell_type": "code",
   "execution_count": null,
   "metadata": {},
   "outputs": [],
   "source": [
    "os_idx = get_os_idx_of_arr(poss, dt_delta)\n",
    "latest_poss = poss[os_idx] # 最新の感染者数\n",
    "dump_val_in_arr(populations, latest_poss, \"最新の感染者数\", 0)"
   ]
  },
  {
   "cell_type": "code",
   "execution_count": null,
   "metadata": {},
   "outputs": [],
   "source": [
    "diff1w_poss, diff2w_poss = calc_last1w2w_dif(poss, dt_delta)\n",
    "dump_val_in_arr(populations, diff1w_poss, \"1週間陽性者数\", 0)\n",
    "dump_val_in_arr(populations, diff2w_poss, \"2週間陽性者数\", 0)"
   ]
  },
  {
   "cell_type": "code",
   "execution_count": null,
   "metadata": {},
   "outputs": [],
   "source": [
    "# 都道府県別 罹患率\n",
    "incid1w_rate = np.zeros(n_states + 1).tolist() # 罹患率 (1週足)\n",
    "incid2w_rate = np.zeros(n_states + 1).tolist() # 罹患率 (2週足)\n",
    "incid_all_rate = np.zeros(n_states + 1).tolist() # 罹患率 (全期間)\n",
    "for k, v in populations.items():\n",
    "    i = v['code']\n",
    "    incid1w_rate[i] = (diff1w_poss[i] / v['total']) * 100 # percentage\n",
    "    incid2w_rate[i] = (diff2w_poss[i] / v['total']) * 100 # percentage\n",
    "    incid_all_rate[i] = (latest_poss[i] / v['total']) * 100 # percentage\n",
    "dump_val_in_arr(populations, incid_all_rate, \"全期間罹患率\", 3)"
   ]
  },
  {
   "cell_type": "code",
   "execution_count": null,
   "metadata": {},
   "outputs": [],
   "source": [
    "diff1w_test, diff2w_test = calc_last1w2w_dif(test, dt_delta)\n",
    "# 茨城県は衛生研究所・水戸市保健所の検査数のみでオープンデータが公開。\n",
    "# これとは別に民間検査・医療機関検査数が加わる。\n",
    "# 民間・医療機関検査数は集計に時間がかかると、県のHPに記載されているため、\n",
    "# 暫定対処として検査比率を掛ける\n",
    "multi_ibaraki = 6\n",
    "diff1w_test[8] *= multi_ibaraki\n",
    "diff2w_test[8] *= multi_ibaraki\n",
    "dump_val_in_arr(populations, diff1w_test, \"1週間検査数\", 0)\n",
    "dump_val_in_arr(populations, diff2w_test, \"2週間検査数\", 0)"
   ]
  },
  {
   "cell_type": "code",
   "execution_count": null,
   "metadata": {},
   "outputs": [],
   "source": [
    "# 都道府県別 陽性率\n",
    "test1w_rate = np.zeros(n_states + 1).tolist() # 陽性率 (1週足)\n",
    "test2w_rate = np.zeros(n_states + 1).tolist() # 陽性率 (2週足)\n",
    "for k, v in populations.items():\n",
    "    i = v['code']\n",
    "    # 陽性者数は再陽性と判明した患者で減少する場合があるため、max(0,a)を取る\n",
    "    if diff1w_test[i] > 0:\n",
    "        test1w_rate[i] = min(100, max(0, (diff1w_poss[i] / diff1w_test[i]) * 100)) # percentage\n",
    "    if diff2w_test[i] > 0:\n",
    "        test2w_rate[i] = min(100, max(0, (diff2w_poss[i] / diff2w_test[i]) * 100)) # percentage\n",
    "dump_val_in_arr(populations, test1w_rate, \"1週間陽性率\", 1)\n",
    "dump_val_in_arr(populations, test2w_rate, \"2週間陽性率\", 1)"
   ]
  },
  {
   "cell_type": "code",
   "execution_count": null,
   "metadata": {
    "scrolled": false
   },
   "outputs": [],
   "source": [
    "if False:\n",
    "    fig, ax = create_basic_scatter_figure(\"実効再生産数(感染拡大しているか？)\", \"直近1週間罹患率(県内で自分が罹患する確率)[%]\")\n",
    "    cols = [ \"#ff0000\" for i in range(n_states)]\n",
    "    texts = [ \"?\" for i in range(n_states)]\n",
    "    for k, v in populations.items():\n",
    "        cols[v['code'] - 1]  = cm.hsv(v['region'] / 11)\n",
    "        texts[v['code'] - 1] = v['ja']\n",
    "    plt.scatter(latest_erns[1:], incid1w_rate[1:], s=50, c=cols)\n",
    "    for i in range(n_states):\n",
    "        ax.annotate(texts[i], xy=(latest_erns[1 + i], incid1w_rate[1 + i]), size=15, fontname=FONT_NAME)\n",
    "    tw_body_1w = '全国 新型コロナ情報 都道府県別拡大傾向(直近1週間)'\n",
    "    plt.title(tw_body_1w, fontname=FONT_NAME)\n",
    "    show_and_clear(fig, \"docs/images/ern-1w_poss.jpg\")"
   ]
  },
  {
   "cell_type": "code",
   "execution_count": null,
   "metadata": {},
   "outputs": [],
   "source": [
    "fig = go.Figure()\n",
    "cols = [ \"#ff0000\" for i in range(n_states)]\n",
    "texts = [ \"?\" for i in range(n_states)]\n",
    "\n",
    "for k, v in populations.items():\n",
    "    cols[v['code'] - 1]  = \"hsv({},100%,100%)\".format(int((v['region'] * 255) / 11))\n",
    "    texts[v['code'] - 1] = v['ja']\n",
    "\n",
    "fig.add_trace(go.Scatter(x=latest_erns[1:], y=incid1w_rate[1:],\n",
    "                         mode='markers+text', marker=dict(size=9, color=cols),\n",
    "                         text=texts, textposition='top center'))\n",
    "tw_body_1w = '全国 新型コロナ 県別 拡大傾向[直近1週間]({})'.format(today_str)\n",
    "fig.update_layout(\n",
    "    title=tw_body_1w,\n",
    "    xaxis=dict(title=\"実効再生産数(感染拡大しているか？)\"),\n",
    "    yaxis=dict(title=\"直近1週間罹患率(県内で自分が罹患する確率)[%]\")\n",
    ")\n",
    "show_and_save_plotly(fig, \"ern-1w_poss.jpg\", js=False)"
   ]
  },
  {
   "cell_type": "code",
   "execution_count": null,
   "metadata": {},
   "outputs": [],
   "source": [
    "def show_zoomed_ern_scatter(\n",
    "    xbins, ybins, colors, xytexts, nweek, filename, title, xlabel, ylabel,\n",
    "    n_neighbors=30, n_states=47):\n",
    "    fig, ax = create_basic_scatter_figure(xlabel, ylabel)\n",
    "    # LOF\n",
    "    clf = LocalOutlierFactor(\n",
    "        n_neighbors=n_neighbors, contamination='auto',\n",
    "        algorithm='auto', metric='mahalanobis')\n",
    "    X = np.stack([xbins[1:], ybins[1:]], 1)\n",
    "    y_pred = clf.fit_predict(X)\n",
    "    selected_cols = np.array(colors)[y_pred == 1]\n",
    "    selected_text = np.array(xytexts)[y_pred == 1]\n",
    "    # append top element\n",
    "    y_pred = np.append(-1, y_pred)\n",
    "    selected_xbins = xbins[y_pred == 1]\n",
    "    selected_ybins = np.array(ybins)[y_pred == 1]\n",
    "    plt.xlim(0, np.max(selected_xbins))\n",
    "    plt.ylim(0, np.max(selected_ybins))\n",
    "    plt.scatter(selected_xbins, selected_ybins, s=50, c=selected_cols)\n",
    "    for i in np.arange(len(selected_xbins)):\n",
    "        ax.annotate(selected_text[i], xy=(selected_xbins[i], selected_ybins[i]), size=15, fontname=FONT_NAME)\n",
    "    plt.title(title, fontname=FONT_NAME)\n",
    "    show_and_clear(fig, filename)"
   ]
  },
  {
   "cell_type": "code",
   "execution_count": null,
   "metadata": {},
   "outputs": [],
   "source": [
    "def show_zoomed_ern_plotly(\n",
    "    xbins, ybins, colors, xytexts, nweek, filename, title, xlabel, ylabel,\n",
    "    n_neighbors=30, n_states=47):\n",
    "    fig = go.Figure()\n",
    "    # LOF\n",
    "    clf = LocalOutlierFactor(n_neighbors=n_neighbors, contamination='auto', algorithm='auto', metric='mahalanobis')\n",
    "    X = np.stack([xbins[1:], ybins[1:]], 1)\n",
    "    y_pred = clf.fit_predict(X)\n",
    "    selected_cols = np.array(colors)[y_pred == 1]\n",
    "    selected_text = np.array(xytexts)[y_pred == 1]\n",
    "    # append top element\n",
    "    y_pred = np.append(-1, y_pred)\n",
    "    selected_xbins = xbins[y_pred == 1]\n",
    "    selected_ybins = np.array(ybins)[y_pred == 1]\n",
    "    fig.add_trace(go.Scatter(x=selected_xbins, y=selected_ybins,\n",
    "                         mode='markers+text', marker=dict(size=9, color=selected_cols),\n",
    "                         text=selected_text, textposition='top center'))\n",
    "    fig.update_layout(title=title, xaxis=dict(title=xlabel), yaxis=dict(title=ylabel))\n",
    "    show_and_save_plotly(fig, filename, js=False)"
   ]
  },
  {
   "cell_type": "code",
   "execution_count": null,
   "metadata": {},
   "outputs": [],
   "source": [
    "tw_body_1w_zoom = '全国 新型コロナ 県別拡大傾向[直近1週間]ズーム表示({})'.format(today_str)\n",
    "show_zoomed_ern_plotly(\n",
    "    latest_erns, incid1w_rate, cols, texts, 1, \"ern-1w_poss-zoom.jpg\",\n",
    "    tw_body_1w_zoom,\n",
    "    \"実効再生産数(感染拡大しているか？)\",\n",
    "    \"直近1週間罹患率(県内で自分が罹患する確率)[%]\")"
   ]
  },
  {
   "cell_type": "code",
   "execution_count": null,
   "metadata": {
    "scrolled": false
   },
   "outputs": [],
   "source": [
    "if False:\n",
    "    pfig, ax = create_basic_scatter_figure(\"実効再生産数(感染拡大しているか？)\", \"直近2週間罹患率(県内で自分が罹患する確率)[%]\")\n",
    "    plt.scatter(latest_erns[1:], incid2w_rate[1:], s=50, c=cols)\n",
    "    tw_body_2w = '全国 新型コロナ 府県別拡大傾向(直近2週間)'\n",
    "    plt.title(tw_body_2w, fontname=FONT_NAME)\n",
    "    for i in range(n_states):\n",
    "        ax.annotate(texts[i], xy=(latest_erns[1 + i], incid2w_rate[1 + i]), size=15, fontname=FONT_NAME)\n",
    "    show_and_clear(fig, \"docs/images/ern-2w_poss.jpg\")"
   ]
  },
  {
   "cell_type": "code",
   "execution_count": null,
   "metadata": {},
   "outputs": [],
   "source": [
    "fig = go.Figure()\n",
    "fig.add_trace(go.Scatter(x=latest_erns[1:], y=incid2w_rate[1:],\n",
    "                         mode='markers+text', marker=dict(size=9, color=cols),\n",
    "                         text=texts, textposition='top center'))\n",
    "tw_body_2w = '全国 新型コロナ 県別 拡大傾向[直近2週間] ({})'.format(today_str)\n",
    "fig.update_layout(\n",
    "    title=tw_body_2w,\n",
    "    xaxis=dict(title=\"実効再生産数(感染拡大しているか？)\"),\n",
    "    yaxis=dict(title=\"直近2週間罹患率(県内で自分が罹患する確率)[%]\"))\n",
    "show_and_save_plotly(fig, \"ern-2w_poss.jpg\", js=False)"
   ]
  },
  {
   "cell_type": "code",
   "execution_count": null,
   "metadata": {
    "scrolled": false
   },
   "outputs": [],
   "source": [
    "tw_body_2w_zoom = '全国 新型コロナ 県別拡大傾向[直近2週間]ズーム表示 ({})'.format(today_str)\n",
    "show_zoomed_ern_plotly(\n",
    "    latest_erns, incid2w_rate, cols, texts, 2, \"ern-2w_poss-zoom.jpg\",\n",
    "    tw_body_2w_zoom,\n",
    "    \"実効再生産数(感染拡大しているか？)\",\n",
    "    \"直近2週間罹患率(県内で自分が罹患する確率)[%]\")"
   ]
  },
  {
   "cell_type": "code",
   "execution_count": null,
   "metadata": {},
   "outputs": [],
   "source": []
  },
  {
   "cell_type": "code",
   "execution_count": null,
   "metadata": {},
   "outputs": [],
   "source": []
  },
  {
   "cell_type": "code",
   "execution_count": null,
   "metadata": {
    "scrolled": false
   },
   "outputs": [],
   "source": [
    "tw_body_map_erns = \"全国 新型コロナ 県別 実効再生産数 ({})\".format(today_str)\n",
    "imgname = 'japan-erns.jpg'\n",
    "make_japan_choropleth(imgname, tw_body_map_erns, latest_erns[1:])\n",
    "make_japan_heatmap(imgname, tw_body_map_erns, latest_erns, populations)"
   ]
  },
  {
   "cell_type": "code",
   "execution_count": null,
   "metadata": {},
   "outputs": [],
   "source": [
    "#tw_body_map_erns = \"全国 新型コロナ情報 都道府県別 実効再生産数\"\n",
    "#mak_japan_heatmap('docs/images/japan-erns.jpg', tw_body_map_erns, latest_erns, populations)"
   ]
  },
  {
   "cell_type": "code",
   "execution_count": null,
   "metadata": {},
   "outputs": [],
   "source": [
    "tw_body_map_1w = \"全国 新型コロナ 県別 直近1週間罹患率 ({})\".format(today_str)\n",
    "imgname = 'japan-1w.jpg'\n",
    "make_japan_choropleth(imgname, tw_body_map_1w, incid1w_rate[1:])\n",
    "make_japan_heatmap(imgname, tw_body_map_1w, incid1w_rate, populations)"
   ]
  },
  {
   "cell_type": "code",
   "execution_count": null,
   "metadata": {},
   "outputs": [],
   "source": [
    "tw_body_map_2w = \"全国 新型コロナ 県別 直近2週間罹患率 ({})\".format(today_str)\n",
    "imgname = 'japan-2w.jpg'\n",
    "make_japan_choropleth(imgname, tw_body_map_2w, incid2w_rate[1:])\n",
    "make_japan_heatmap(imgname, tw_body_map_2w, incid2w_rate, populations)"
   ]
  },
  {
   "cell_type": "code",
   "execution_count": null,
   "metadata": {},
   "outputs": [],
   "source": [
    "tw_body_map_all = \"全国 新型コロナ 県別 罹患率(全期間) ({})\".format(today_str)\n",
    "imgname = 'japan-all.jpg'\n",
    "make_japan_choropleth(imgname, tw_body_map_all, incid_all_rate[1:])\n",
    "make_japan_heatmap(imgname, tw_body_map_all, incid_all_rate, populations)"
   ]
  },
  {
   "cell_type": "code",
   "execution_count": null,
   "metadata": {},
   "outputs": [],
   "source": [
    "tw_body_map_rate1w = \"全国 新型コロナ 県別 直近1週間陽性率 ({})\".format(today_str)\n",
    "imgname = 'japan-rate1w.jpg'\n",
    "make_japan_choropleth(imgname, tw_body_map_rate1w, test1w_rate[1:])\n",
    "make_japan_heatmap(imgname, tw_body_map_rate1w, test1w_rate, populations)"
   ]
  },
  {
   "cell_type": "code",
   "execution_count": null,
   "metadata": {},
   "outputs": [],
   "source": [
    "tw_body_map_rate2w = \"全国 新型コロナ 県別 直近2週間陽性率 ({})\".format(today_str)\n",
    "imgname = 'japan-rate2w.jpg'\n",
    "make_japan_choropleth(imgname, tw_body_map_rate2w, test2w_rate[1:])\n",
    "make_japan_heatmap(imgname, tw_body_map_rate2w, test2w_rate, populations)"
   ]
  },
  {
   "cell_type": "code",
   "execution_count": null,
   "metadata": {},
   "outputs": [],
   "source": [
    "tw = get_twitter()\n",
    "tw_body_postfix = \" https://geneasyura.github.io/cov19-hm/pref.html\"\n",
    "tweet_with_image(tw, \"docs/images/ern-1w_poss.jpg\", tw_body_1w + tw_body_postfix)\n",
    "tweet_with_image(tw, \"docs/images/ern-1w_poss-zoom.jpg\", tw_body_1w_zoom + tw_body_postfix)\n",
    "tweet_with_image(tw, \"docs/images/ern-2w_poss.jpg\", tw_body_2w + tw_body_postfix)\n",
    "tweet_with_image(tw, \"docs/images/ern-2w_poss-zoom.jpg\", tw_body_2w_zoom + tw_body_postfix)"
   ]
  },
  {
   "cell_type": "code",
   "execution_count": null,
   "metadata": {},
   "outputs": [],
   "source": [
    "tw_body_postfix = \" https://geneasyura.github.io/cov19-hm/pref-hm.html\"\n",
    "tweet_with_image(tw, 'docs/images/japan-erns.jpg', tw_body_map_erns + tw_body_postfix)\n",
    "tweet_with_image(tw, 'docs/images/japan-1w.jpg', tw_body_map_1w + tw_body_postfix)\n",
    "tweet_with_image(tw, 'docs/images/japan-2w.jpg', tw_body_map_2w + tw_body_postfix)\n",
    "tweet_with_image(tw, 'docs/images/japan-all.jpg', tw_body_map_all + tw_body_postfix)"
   ]
  },
  {
   "cell_type": "code",
   "execution_count": null,
   "metadata": {},
   "outputs": [],
   "source": [
    "tweet_with_image(tw, 'docs/images/japan-rate1w.jpg', tw_body_map_rate1w + tw_body_postfix)\n",
    "tweet_with_image(tw, 'docs/images/japan-rate2w.jpg', tw_body_map_rate2w + tw_body_postfix)"
   ]
  },
  {
   "cell_type": "code",
   "execution_count": null,
   "metadata": {},
   "outputs": [],
   "source": [
    "#poss / test"
   ]
  },
  {
   "cell_type": "code",
   "execution_count": null,
   "metadata": {},
   "outputs": [],
   "source": []
  }
 ],
 "metadata": {
  "kernelspec": {
   "display_name": "Python 3",
   "language": "python",
   "name": "python3"
  },
  "language_info": {
   "codemirror_mode": {
    "name": "ipython",
    "version": 3
   },
   "file_extension": ".py",
   "mimetype": "text/x-python",
   "name": "python",
   "nbconvert_exporter": "python",
   "pygments_lexer": "ipython3",
   "version": "3.8.6"
  }
 },
 "nbformat": 4,
 "nbformat_minor": 4
}
