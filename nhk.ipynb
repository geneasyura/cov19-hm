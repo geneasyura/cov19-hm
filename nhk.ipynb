{
 "cells": [
  {
   "cell_type": "code",
   "execution_count": null,
   "metadata": {},
   "outputs": [],
   "source": [
    "#!/usr/bin/env python\n",
    "# coding: utf-8"
   ]
  },
  {
   "cell_type": "code",
   "execution_count": null,
   "metadata": {},
   "outputs": [],
   "source": [
    "from datetime import datetime as dt\n",
    "import sys\n",
    "import numpy as np\n",
    "import os\n",
    "import pandas as pd\n",
    "import plotly\n",
    "from plotly import subplots\n",
    "import plotly.express as px\n",
    "import plotly.tools as tls\n",
    "import plotly.graph_objects as go\n",
    "import plotly.io as pio\n",
    "import plotly.offline as offline\n",
    "import sys\n",
    "if \"ipy\" in sys.argv[0]:\n",
    "    offline.init_notebook_mode()\n",
    "from cov19utils import create_basic_plot_figure, \\\n",
    "    show_and_clear, moving_average, \\\n",
    "    blank2zero, csv2array, \\\n",
    "    get_twitter, tweet_with_image, \\\n",
    "    get_gpr_predict, FONT_NAME, DT_OFFSET, \\\n",
    "    download_if_needed, json2nparr, code2int, age2int, \\\n",
    "    get_populations, get_os_idx_of_arr, dump_val_in_arr, \\\n",
    "    calc_last1w2w_dif, create_basic_scatter_figure, \\\n",
    "    show_and_save_plotly\n",
    "import requests\n",
    "from sklearn.linear_model import LinearRegression"
   ]
  },
  {
   "cell_type": "code",
   "execution_count": null,
   "metadata": {},
   "outputs": [],
   "source": [
    "today_str = \" \" + dt.now().isoformat()[:16].replace('T', ' ')"
   ]
  },
  {
   "cell_type": "code",
   "execution_count": null,
   "metadata": {},
   "outputs": [],
   "source": [
    "uri = \"https://www3.nhk.or.jp/n-data/opendata/coronavirus/\"\n",
    "name = \"nhk_news_covid19_prefectures_daily_data.csv\"\n",
    "referer = \"https://www3.nhk.or.jp/news/special/coronavirus/data-widget/\"\n",
    "ua = \"Mozilla/5.0 (Macintosh; Intel Mac OS X 10_13_5)\"\n",
    "ua += \" AppleWebKit/537.36 (KHTML, like Gecko)\"\n",
    "ua += \" Chrome/67.0.3396.99 Safari/537.36\"\n",
    "headers = {'User-Agent': ua, 'referer': referer}"
   ]
  },
  {
   "cell_type": "code",
   "execution_count": null,
   "metadata": {},
   "outputs": [],
   "source": [
    "response = requests.get(uri + name, headers=headers)\n",
    "f = open(\"nhk.csv\", \"w\")\n",
    "lines = response.text.split(\"\\n\")\n",
    "for line in lines:\n",
    "    l = line.strip()\n",
    "    if len(l) > 0:\n",
    "        f.write(l + \"\\n\")\n",
    "f.close()"
   ]
  },
  {
   "cell_type": "code",
   "execution_count": null,
   "metadata": {},
   "outputs": [],
   "source": [
    "df = pd.read_csv(\"nhk.csv\", encoding='shift-jis', header=0)"
   ]
  },
  {
   "cell_type": "code",
   "execution_count": null,
   "metadata": {},
   "outputs": [],
   "source": [
    "k_ts         = '日付'\n",
    "k_pref_code  = '都道府県コード'\n",
    "k_pref_name  = '都道府県名'\n",
    "k_case       = '各地の感染者数_1日ごとの発表数'\n",
    "k_total_case = '各地の感染者数_累計'\n",
    "k_death      = '各地の死者数_1日ごとの発表数'\n",
    "k_total_death='各地の死者数_累計'"
   ]
  },
  {
   "cell_type": "code",
   "execution_count": null,
   "metadata": {},
   "outputs": [],
   "source": [
    "latest = df[k_ts].iloc[-1]"
   ]
  },
  {
   "cell_type": "code",
   "execution_count": null,
   "metadata": {},
   "outputs": [],
   "source": [
    "with open(\"nhk.prev.tmp\", \"rt\") as f:\n",
    "    prev = f.read().rstrip()\n",
    "if latest == prev:\n",
    "    print(\"maybe the same data, nothing to do.\")\n",
    "    if \"ipy\" in sys.argv[0]:\n",
    "        pass#exit()\n",
    "    else:\n",
    "        sys.exit()\n",
    "with open(\"nhk.prev.tmp\", \"wt\") as f:\n",
    "    f.write(latest)"
   ]
  },
  {
   "cell_type": "code",
   "execution_count": null,
   "metadata": {},
   "outputs": [],
   "source": [
    "# 文字列を日付型に変換\n",
    "df[k_ts] = pd.to_datetime(df[k_ts])"
   ]
  },
  {
   "cell_type": "code",
   "execution_count": null,
   "metadata": {},
   "outputs": [],
   "source": [
    "# 都道府県名を取得\n",
    "prefs = df[k_pref_name].unique()"
   ]
  },
  {
   "cell_type": "code",
   "execution_count": null,
   "metadata": {},
   "outputs": [],
   "source": [
    "def get_template_fig():\n",
    "    figa = subplots.make_subplots(\n",
    "        rows=4, cols=6, subplot_titles=prefs[:24],\n",
    "        horizontal_spacing=0.03, vertical_spacing=0.07)\n",
    "    figb = subplots.make_subplots(\n",
    "        rows=4, cols=6, subplot_titles=prefs[24:],\n",
    "        horizontal_spacing=0.03, vertical_spacing=0.07)\n",
    "    return figa, figb"
   ]
  },
  {
   "cell_type": "code",
   "execution_count": null,
   "metadata": {},
   "outputs": [],
   "source": [
    "fig1, fig2 = get_template_fig()"
   ]
  },
  {
   "cell_type": "code",
   "execution_count": null,
   "metadata": {},
   "outputs": [],
   "source": [
    "lr = LinearRegression()"
   ]
  },
  {
   "cell_type": "code",
   "execution_count": null,
   "metadata": {},
   "outputs": [],
   "source": [
    "def get_lr_col(v):\n",
    "    c = 'green'\n",
    "    if v < -0.5:\n",
    "        c = 'blue'\n",
    "    if v >= -0.5:\n",
    "        c = 'royalblue'\n",
    "    if v > 0.2:\n",
    "        c = 'orange'   \n",
    "    if v > 0.5:\n",
    "        c = 'red'\n",
    "    if v < 0.2 and v > -0.2:\n",
    "        c = 'green'\n",
    "    return c"
   ]
  },
  {
   "cell_type": "code",
   "execution_count": null,
   "metadata": {},
   "outputs": [],
   "source": [
    "def add_pref2fig(i, x, y, X, fig):\n",
    "    dfh = df[ df[k_pref_name] == prefs[i]]\n",
    "    df14 = dfh[-14:]\n",
    "    Y = df14[k_case].values\n",
    "    lr.fit(X.reshape(-1, 1), Y.reshape(-1, 1))\n",
    "    Y_pred = lr.predict(X.reshape(-1, 1)).reshape(1, -1)[0]\n",
    "    a = lr.coef_[0][0]\n",
    "    lr_col = get_lr_col(a)\n",
    "    trace_xy = go.Scatter(\n",
    "        x=X, y=Y, mode='lines',\n",
    "        line=dict(width=2, color='white'))\n",
    "    trace_lr = go.Scatter(\n",
    "        x=X, y=Y_pred, mode='lines',\n",
    "        line=dict(width=2, color=lr_col))\n",
    "    fig.add_trace(trace_xy, y, x)\n",
    "    fig.add_trace(trace_lr, y, x)"
   ]
  },
  {
   "cell_type": "code",
   "execution_count": null,
   "metadata": {},
   "outputs": [],
   "source": [
    "X = np.arange(14)\n",
    "for y in np.arange(4):\n",
    "    for x in np.arange(6):\n",
    "        i = x + (y * 6)\n",
    "        add_pref2fig(i, x+1, y+1, X, fig1)\n",
    "        if i < 23:\n",
    "            add_pref2fig(i + 24, x+1, y+1, X, fig2)"
   ]
  },
  {
   "cell_type": "code",
   "execution_count": null,
   "metadata": {},
   "outputs": [],
   "source": [
    "def update_axes(fig):\n",
    "    fig.update_xaxes(\n",
    "        showgrid=False, showticklabels=False, ticks=\"\",\n",
    "        zeroline=False)\n",
    "    fig.update_yaxes(\n",
    "        showgrid=False, showticklabels=False, ticks=\"\",\n",
    "        zeroline=False)"
   ]
  },
  {
   "cell_type": "code",
   "execution_count": null,
   "metadata": {},
   "outputs": [],
   "source": [
    "def update_layout(fig, title):\n",
    "    fig.update_layout(\n",
    "        margin={\"r\":5,\"t\":50,\"l\":5,\"b\":5},\n",
    "        width=600, height=400, template='plotly_dark',\n",
    "        title=title + \" \" + today_str, showlegend=False)"
   ]
  },
  {
   "cell_type": "code",
   "execution_count": null,
   "metadata": {},
   "outputs": [],
   "source": [
    "update_axes(fig1)\n",
    "update_axes(fig2)\n",
    "twbody1 = \"新型コロナ 各都道府県 直近2週間状況1\"\n",
    "update_layout(fig1, twbody1)\n",
    "twbody2 = \"新型コロナ 各都道府県 直近2週間状況2\"\n",
    "update_layout(fig2, twbody2)"
   ]
  },
  {
   "cell_type": "code",
   "execution_count": null,
   "metadata": {},
   "outputs": [],
   "source": [
    "show_and_save_plotly(fig1, \"nhk-all-1.jpg\", html=False)"
   ]
  },
  {
   "cell_type": "code",
   "execution_count": null,
   "metadata": {
    "scrolled": false
   },
   "outputs": [],
   "source": [
    "show_and_save_plotly(fig2, \"nhk-all-2.jpg\", html=False)"
   ]
  },
  {
   "cell_type": "code",
   "execution_count": null,
   "metadata": {},
   "outputs": [],
   "source": [
    "notes = \" (縦軸範囲は各都道府県の最大値) \"\n",
    "tw = get_twitter()\n",
    "tweet_with_image(\n",
    "    tw, \"docs/images/nhk-all-1.jpg\", twbody1 + today_str + notes)\n",
    "tweet_with_image(\n",
    "    tw, \"docs/images/nhk-all-2.jpg\", twbody2 + today_str + notes)"
   ]
  },
  {
   "cell_type": "code",
   "execution_count": null,
   "metadata": {},
   "outputs": [],
   "source": [
    "fig3, fig4 = get_template_fig()"
   ]
  },
  {
   "cell_type": "code",
   "execution_count": null,
   "metadata": {},
   "outputs": [],
   "source": [
    "def add_trace2fig(i, x, y, X, fig, key):\n",
    "    dfh = df[ df[k_pref_name] == prefs[i]]\n",
    "    Y = dfh[key].values\n",
    "    trace_xy = go.Scatter(\n",
    "        x=X, y=Y, mode='lines', line=dict(width=1, color='white'))\n",
    "    trace_ma = go.Scatter(\n",
    "        x=X, y=moving_average(Y), mode='lines',\n",
    "        line=dict(width=.75, color='green'))\n",
    "    fig.add_trace(trace_xy, y, x)\n",
    "    fig.add_trace(trace_ma, y, x)"
   ]
  },
  {
   "cell_type": "code",
   "execution_count": null,
   "metadata": {},
   "outputs": [],
   "source": [
    "def make_prefs_subplots(k, figa, figb, X):\n",
    "    for y in np.arange(4):\n",
    "        for x in np.arange(6):\n",
    "            i = x + (y * 6)\n",
    "            add_trace2fig(i, x+1, y+1, X, figa, k)\n",
    "            if i < 23:\n",
    "                add_trace2fig(i + 24, x+1, y+1, X, figb, k)"
   ]
  },
  {
   "cell_type": "code",
   "execution_count": null,
   "metadata": {},
   "outputs": [],
   "source": [
    "xbins = df[k_ts]\n",
    "make_prefs_subplots(k_case, fig3, fig4, xbins)\n",
    "update_axes(fig3)\n",
    "update_axes(fig4)\n",
    "twbody3 = \"新型コロナ 各都道府県 全期間感染状況1\"\n",
    "update_layout(fig3, twbody3)\n",
    "twbody4 = \"新型コロナ 各都道府県 全期間感染状況2\"\n",
    "update_layout(fig4, twbody4)"
   ]
  },
  {
   "cell_type": "code",
   "execution_count": null,
   "metadata": {},
   "outputs": [],
   "source": [
    "show_and_save_plotly(fig3, \"nhk-all-3.jpg\", html=False)"
   ]
  },
  {
   "cell_type": "code",
   "execution_count": null,
   "metadata": {},
   "outputs": [],
   "source": [
    "show_and_save_plotly(fig4, \"nhk-all-4.jpg\", html=False)"
   ]
  },
  {
   "cell_type": "code",
   "execution_count": null,
   "metadata": {},
   "outputs": [],
   "source": [
    "tweet_with_image(\n",
    "    tw, \"docs/images/nhk-all-3.jpg\", twbody3 + today_str + notes)\n",
    "tweet_with_image(\n",
    "    tw, \"docs/images/nhk-all-4.jpg\", twbody4 + today_str + notes)"
   ]
  },
  {
   "cell_type": "code",
   "execution_count": null,
   "metadata": {},
   "outputs": [],
   "source": []
  },
  {
   "cell_type": "code",
   "execution_count": null,
   "metadata": {},
   "outputs": [],
   "source": [
    "fig5, fig6 = get_template_fig()"
   ]
  },
  {
   "cell_type": "code",
   "execution_count": null,
   "metadata": {},
   "outputs": [],
   "source": [
    "xbins = df[k_ts]\n",
    "make_prefs_subplots(k_death, fig5, fig6, xbins)\n",
    "update_axes(fig5)\n",
    "update_axes(fig6)\n",
    "twbody5 = \"新型コロナ 各都道府県 全期間死者状況1\"\n",
    "update_layout(fig5, twbody5)\n",
    "twbody6 = \"新型コロナ 各都道府県 全期間死者状況2\"\n",
    "update_layout(fig6, twbody6)"
   ]
  },
  {
   "cell_type": "code",
   "execution_count": null,
   "metadata": {},
   "outputs": [],
   "source": [
    "show_and_save_plotly(fig5, \"nhk-all-5.jpg\", html=False)"
   ]
  },
  {
   "cell_type": "code",
   "execution_count": null,
   "metadata": {},
   "outputs": [],
   "source": [
    "show_and_save_plotly(fig6, \"nhk-all-6.jpg\", html=False)"
   ]
  },
  {
   "cell_type": "code",
   "execution_count": null,
   "metadata": {},
   "outputs": [],
   "source": [
    "tweet_with_image(\n",
    "    tw, \"docs/images/nhk-all-5.jpg\", twbody5 + today_str + notes)\n",
    "tweet_with_image(\n",
    "    tw, \"docs/images/nhk-all-6.jpg\", twbody6 + today_str + notes)"
   ]
  },
  {
   "cell_type": "code",
   "execution_count": null,
   "metadata": {},
   "outputs": [],
   "source": [
    "#df"
   ]
  },
  {
   "cell_type": "code",
   "execution_count": null,
   "metadata": {},
   "outputs": [],
   "source": [
    "#x=df.groupby(k_pref_name).resample('W-Mon', on=k_ts).sum().reset_index().sort_values(by=k_ts)"
   ]
  },
  {
   "cell_type": "code",
   "execution_count": null,
   "metadata": {},
   "outputs": [],
   "source": [
    "#x = x.drop(k_total_case, axis=1)\n",
    "#x = x.drop(k_total_death, axis=1)\n",
    "#x['p1w'] = x[k_ts] + pd.Timedelta(days=7)"
   ]
  },
  {
   "cell_type": "code",
   "execution_count": null,
   "metadata": {},
   "outputs": [],
   "source": [
    "#x"
   ]
  },
  {
   "cell_type": "code",
   "execution_count": null,
   "metadata": {},
   "outputs": [],
   "source": [
    "#p = get_populations()"
   ]
  },
  {
   "cell_type": "code",
   "execution_count": null,
   "metadata": {},
   "outputs": [],
   "source": [
    "#pcodes = {}\n",
    "#ppops = {}\n",
    "#for k, v in p.items():\n",
    "#    pcodes[v['ja']] = v['code']\n",
    "#    ppops[v['ja']] = v['total']"
   ]
  },
  {
   "cell_type": "code",
   "execution_count": null,
   "metadata": {},
   "outputs": [],
   "source": [
    "#x = x.astype({k_case: float})\n",
    "#x = x.astype({k_death: float})"
   ]
  },
  {
   "cell_type": "code",
   "execution_count": null,
   "metadata": {},
   "outputs": [],
   "source": [
    "#for index, row in x.iterrows():\n",
    "#    pname = row[k_pref_name].rstrip('県').rstrip('都').rstrip('府')\n",
    "#    x.at[index, k_pref_code] = pcodes[pname]\n",
    "#    x.at[index, k_case] = (float(row[k_case]) / ppops[pname]) * 100000\n",
    "#    x.at[index, k_death] = (float(row[k_death]) / ppops[pname]) * 100000"
   ]
  },
  {
   "cell_type": "code",
   "execution_count": null,
   "metadata": {},
   "outputs": [],
   "source": [
    "#x"
   ]
  },
  {
   "cell_type": "code",
   "execution_count": null,
   "metadata": {},
   "outputs": [],
   "source": [
    "#fig = px.timeline(x[x[k_pref_code] <= 24], x_start=k_ts, x_end='p1w', y=k_pref_code, color=k_case)\n",
    "#fig.show()"
   ]
  },
  {
   "cell_type": "code",
   "execution_count": null,
   "metadata": {},
   "outputs": [],
   "source": [
    "#fig = px.timeline(x[x[k_pref_code] > 24], x_start=k_ts, x_end='p1w', y=k_pref_code, color=k_case)\n",
    "#fig.show()"
   ]
  },
  {
   "cell_type": "code",
   "execution_count": null,
   "metadata": {},
   "outputs": [],
   "source": []
  }
 ],
 "metadata": {
  "kernelspec": {
   "display_name": "Python 3",
   "language": "python",
   "name": "python3"
  },
  "language_info": {
   "codemirror_mode": {
    "name": "ipython",
    "version": 3
   },
   "file_extension": ".py",
   "mimetype": "text/x-python",
   "name": "python",
   "nbconvert_exporter": "python",
   "pygments_lexer": "ipython3",
   "version": "3.8.6"
  }
 },
 "nbformat": 4,
 "nbformat_minor": 4
}
