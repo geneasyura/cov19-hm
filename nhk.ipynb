{
 "cells": [
  {
   "cell_type": "code",
   "execution_count": null,
   "metadata": {},
   "outputs": [],
   "source": [
    "#!/usr/bin/env python\n",
    "# coding: utf-8"
   ]
  },
  {
   "cell_type": "code",
   "execution_count": null,
   "metadata": {},
   "outputs": [],
   "source": [
    "from datetime import datetime as dt\n",
    "import sys\n",
    "import numpy as np\n",
    "import os\n",
    "import pandas as pd\n",
    "import plotly\n",
    "from plotly import subplots\n",
    "import plotly.express as px\n",
    "import plotly.tools as tls\n",
    "import plotly.graph_objects as go\n",
    "import plotly.io as pio\n",
    "import plotly.offline as offline\n",
    "import sys\n",
    "if \"ipy\" in sys.argv[0]:\n",
    "    offline.init_notebook_mode()\n",
    "from cov19utils import create_basic_plot_figure, \\\n",
    "    show_and_clear, moving_average, \\\n",
    "    blank2zero, csv2array, \\\n",
    "    get_twitter, tweet_with_image, \\\n",
    "    get_gpr_predict, FONT_NAME, DT_OFFSET, \\\n",
    "    download_if_needed, json2nparr, code2int, age2int, \\\n",
    "    get_populations, get_os_idx_of_arr, dump_val_in_arr, \\\n",
    "    calc_last1w2w_dif, create_basic_scatter_figure, \\\n",
    "    show_and_save_plotly\n",
    "import requests\n",
    "from sklearn.linear_model import LinearRegression\n",
    "from nhk_lib import get_nhk_df, get_nhk_keys, get_lr_col, \\\n",
    "    add_pref2fig, update_axes, update_layout, get_template_fig"
   ]
  },
  {
   "cell_type": "code",
   "execution_count": null,
   "metadata": {},
   "outputs": [],
   "source": [
    "today_str = \" \" + dt.now().isoformat()[:16].replace('T', ' ')"
   ]
  },
  {
   "cell_type": "code",
   "execution_count": null,
   "metadata": {},
   "outputs": [],
   "source": [
    "df = get_nhk_df(\"nhk.csv\")"
   ]
  },
  {
   "cell_type": "code",
   "execution_count": null,
   "metadata": {},
   "outputs": [],
   "source": [
    "k = get_nhk_keys()"
   ]
  },
  {
   "cell_type": "code",
   "execution_count": null,
   "metadata": {},
   "outputs": [],
   "source": [
    "latest = df[k.ts].iloc[-1]"
   ]
  },
  {
   "cell_type": "code",
   "execution_count": null,
   "metadata": {},
   "outputs": [],
   "source": [
    "with open(\"nhk.prev.tmp\", \"rt\") as f:\n",
    "    prev = f.read().rstrip()\n",
    "if latest == prev:\n",
    "    print(\"maybe the same data, nothing to do.\")\n",
    "    if \"ipy\" in sys.argv[0]:\n",
    "        pass#exit()\n",
    "    else:\n",
    "        sys.exit()\n",
    "with open(\"nhk.prev.tmp\", \"wt\") as f:\n",
    "    f.write(latest)"
   ]
  },
  {
   "cell_type": "code",
   "execution_count": null,
   "metadata": {},
   "outputs": [],
   "source": [
    "# 文字列を日付型に変換\n",
    "df[k.ts] = pd.to_datetime(df[k.ts])"
   ]
  },
  {
   "cell_type": "code",
   "execution_count": null,
   "metadata": {},
   "outputs": [],
   "source": [
    "# 都道府県名を取得\n",
    "prefs = df[k.pref_name].unique()"
   ]
  },
  {
   "cell_type": "code",
   "execution_count": null,
   "metadata": {},
   "outputs": [],
   "source": [
    "fig1, fig2 = get_template_fig(prefs)"
   ]
  },
  {
   "cell_type": "code",
   "execution_count": null,
   "metadata": {},
   "outputs": [],
   "source": [
    "lr = LinearRegression()"
   ]
  },
  {
   "cell_type": "code",
   "execution_count": null,
   "metadata": {},
   "outputs": [],
   "source": [
    "X = np.arange(14)\n",
    "for y in np.arange(4):\n",
    "    for x in np.arange(6):\n",
    "        i = x + (y * 6)\n",
    "        add_pref2fig(df, lr, i, x+1, y+1, X, fig1, prefs)\n",
    "        if i < 23:\n",
    "            add_pref2fig(df, lr, i + 24, x+1, y+1, X, fig2, prefs)"
   ]
  },
  {
   "cell_type": "code",
   "execution_count": null,
   "metadata": {},
   "outputs": [],
   "source": [
    "update_axes(fig1)\n",
    "update_axes(fig2)\n",
    "twbody1 = \"新型コロナ 各都道府県 直近2週間状況1\"\n",
    "update_layout(fig1, twbody1, today_str)\n",
    "twbody2 = \"新型コロナ 各都道府県 直近2週間状況2\"\n",
    "update_layout(fig2, twbody2, today_str)"
   ]
  },
  {
   "cell_type": "code",
   "execution_count": null,
   "metadata": {},
   "outputs": [],
   "source": [
    "show_and_save_plotly(fig1, \"nhk-all-1.jpg\", html=True)"
   ]
  },
  {
   "cell_type": "code",
   "execution_count": null,
   "metadata": {
    "scrolled": false
   },
   "outputs": [],
   "source": [
    "show_and_save_plotly(fig2, \"nhk-all-2.jpg\", html=True)"
   ]
  },
  {
   "cell_type": "code",
   "execution_count": null,
   "metadata": {},
   "outputs": [],
   "source": [
    "notes = \" (縦軸範囲は各都道府県の最大値) https://geneasyura.github.io/cov19-hm/nhk-1-2.html \"\n",
    "tw = get_twitter()\n",
    "tweet_with_image(\n",
    "    tw, \"docs/images/nhk-all-1.jpg\", twbody1 + today_str + notes)\n",
    "tweet_with_image(\n",
    "    tw, \"docs/images/nhk-all-2.jpg\", twbody2 + today_str + notes)"
   ]
  },
  {
   "cell_type": "code",
   "execution_count": null,
   "metadata": {},
   "outputs": [],
   "source": [
    "def add_trace2fig(dfx, i, x, y, Xx, fig, key, prefs, div=10):\n",
    "    dfh = dfx[ dfx['都道府県名'] == prefs[i]]\n",
    "    Y = dfh[key].values\n",
    "    #trace_xy = go.Scatter(\n",
    "    #    x=Xx, y=Y, mode='lines', line=dict(width=1, color='white'))\n",
    "    trace_ma = go.Scatter(\n",
    "        x=Xx[::div], y=moving_average(Y)[::div], mode='lines',\n",
    "        line=dict(width=1.25, color='green'))\n",
    "    #fig.add_trace(trace_xy, y, x)\n",
    "    fig.add_trace(trace_ma, y, x)"
   ]
  },
  {
   "cell_type": "code",
   "execution_count": null,
   "metadata": {},
   "outputs": [],
   "source": [
    "def make_prefs_subplots(dfx, k, figa, figb, Xx, prefs, div=10):\n",
    "    for y in np.arange(4):\n",
    "        for x in np.arange(6):\n",
    "            i = x + (y * 6)\n",
    "            add_trace2fig(dfx, i, x+1, y+1, Xx, figa, k, prefs, div)\n",
    "            if i < 23:\n",
    "                add_trace2fig(dfx, i + 24, x+1, y+1, Xx, figb, k, prefs, div)"
   ]
  },
  {
   "cell_type": "code",
   "execution_count": null,
   "metadata": {},
   "outputs": [],
   "source": [
    "fig3, fig4 = get_template_fig(prefs)"
   ]
  },
  {
   "cell_type": "code",
   "execution_count": null,
   "metadata": {},
   "outputs": [],
   "source": [
    "xbins = df[k.ts]\n",
    "make_prefs_subplots(df, k.case, fig3, fig4, xbins, prefs)\n",
    "update_axes(fig3)\n",
    "update_axes(fig4)\n",
    "twbody3 = \"新型コロナ 各都道府県 全期間感染状況1\"\n",
    "update_layout(fig3, twbody3, today_str)\n",
    "twbody4 = \"新型コロナ 各都道府県 全期間感染状況2\"\n",
    "update_layout(fig4, twbody4, today_str)"
   ]
  },
  {
   "cell_type": "code",
   "execution_count": null,
   "metadata": {},
   "outputs": [],
   "source": [
    "show_and_save_plotly(fig3, \"nhk-all-3.jpg\", html=True)"
   ]
  },
  {
   "cell_type": "code",
   "execution_count": null,
   "metadata": {},
   "outputs": [],
   "source": [
    "show_and_save_plotly(fig4, \"nhk-all-4.jpg\", html=True)"
   ]
  },
  {
   "cell_type": "code",
   "execution_count": null,
   "metadata": {},
   "outputs": [],
   "source": [
    "notes = \" (縦軸範囲は各都道府県の最大値) https://geneasyura.github.io/cov19-hm/nhk-3-4.html \"\n",
    "tweet_with_image(\n",
    "    tw, \"docs/images/nhk-all-3.jpg\", twbody3 + today_str + notes)\n",
    "tweet_with_image(\n",
    "    tw, \"docs/images/nhk-all-4.jpg\", twbody4 + today_str + notes)"
   ]
  },
  {
   "cell_type": "code",
   "execution_count": null,
   "metadata": {},
   "outputs": [],
   "source": []
  },
  {
   "cell_type": "code",
   "execution_count": null,
   "metadata": {},
   "outputs": [],
   "source": [
    "fig5, fig6 = get_template_fig(prefs)"
   ]
  },
  {
   "cell_type": "code",
   "execution_count": null,
   "metadata": {},
   "outputs": [],
   "source": [
    "xbins = df[k.ts]\n",
    "make_prefs_subplots(df, k.death, fig5, fig6, xbins, prefs, div=8)\n",
    "update_axes(fig5)\n",
    "update_axes(fig6)\n",
    "twbody5 = \"新型コロナ 各都道府県 全期間死者状況1\"\n",
    "update_layout(fig5, twbody5, today_str)\n",
    "twbody6 = \"新型コロナ 各都道府県 全期間死者状況2\"\n",
    "update_layout(fig6, twbody6, today_str)"
   ]
  },
  {
   "cell_type": "code",
   "execution_count": null,
   "metadata": {},
   "outputs": [],
   "source": [
    "show_and_save_plotly(fig5, \"nhk-all-5.jpg\", html=True)"
   ]
  },
  {
   "cell_type": "code",
   "execution_count": null,
   "metadata": {},
   "outputs": [],
   "source": [
    "show_and_save_plotly(fig6, \"nhk-all-6.jpg\", html=True)"
   ]
  },
  {
   "cell_type": "code",
   "execution_count": null,
   "metadata": {},
   "outputs": [],
   "source": [
    "notes = \" (縦軸範囲は各都道府県の最大値) https://geneasyura.github.io/cov19-hm/nhk-5-6.html \"\n",
    "tweet_with_image(\n",
    "    tw, \"docs/images/nhk-all-5.jpg\", twbody5 + today_str + notes)\n",
    "tweet_with_image(\n",
    "    tw, \"docs/images/nhk-all-6.jpg\", twbody6 + today_str + notes)"
   ]
  },
  {
   "cell_type": "code",
   "execution_count": null,
   "metadata": {},
   "outputs": [],
   "source": []
  },
  {
   "cell_type": "code",
   "execution_count": null,
   "metadata": {},
   "outputs": [],
   "source": [
    "#df[ df[k_ts] >= pd.to_datetime(\"2020-02-01\")]"
   ]
  },
  {
   "cell_type": "code",
   "execution_count": null,
   "metadata": {},
   "outputs": [],
   "source": [
    "# 2020/2/1 以降のデータに対して、週ごとの集計に変換\n",
    "df_group_by_w = df[ df[k.ts] >= pd.to_datetime(\"2020-03-01\")].groupby(k.pref_name)\\\n",
    "    .resample('W-Mon', on=k.ts).sum().reset_index().sort_values(by=k.ts)\n",
    "# 累計値の列を削除\n",
    "df_group_by_w = df_group_by_w.drop(k.total_case, axis=1)\n",
    "df_group_by_w = df_group_by_w.drop(k.total_death, axis=1)\n",
    "# 7 日後を追加\n",
    "df_group_by_w['p1w'] = df_group_by_w[k.ts] + pd.Timedelta(days=7)"
   ]
  },
  {
   "cell_type": "code",
   "execution_count": null,
   "metadata": {},
   "outputs": [],
   "source": [
    "# int から float へ変換\n",
    "df_group_by_w = df_group_by_w.astype({k.case: float})\n",
    "df_group_by_w = df_group_by_w.astype({k.death: float})\n",
    "#df_group_by_w"
   ]
  },
  {
   "cell_type": "code",
   "execution_count": null,
   "metadata": {},
   "outputs": [],
   "source": [
    "# 都道府県別人口を取得\n",
    "p = get_populations()\n",
    "# 都道府県コード\n",
    "pcodes = {}\n",
    "# 都道府県人口\n",
    "ppops = {}\n",
    "for ky, v in p.items():\n",
    "    pcodes[v['ja']] = v['code']\n",
    "    ppops[v['ja']] = v['total']"
   ]
  },
  {
   "cell_type": "code",
   "execution_count": null,
   "metadata": {},
   "outputs": [],
   "source": [
    "# ppm で正規化する\n",
    "ppm = 1000000\n",
    "for index, row in df_group_by_w.iterrows():\n",
    "    pname = row[k.pref_name].rstrip('県').rstrip('都').rstrip('府')\n",
    "    df_group_by_w.at[index, k.pref_code] = pcodes[pname]\n",
    "    df_group_by_w.at[index, k.case] = (float(row[k.case]) / ppops[pname]) * ppm\n",
    "    df_group_by_w.at[index, k.death] = (float(row[k.death]) / ppops[pname]) * ppm"
   ]
  },
  {
   "cell_type": "code",
   "execution_count": null,
   "metadata": {},
   "outputs": [],
   "source": [
    "# データの行を都道府県コード、日付でソート\n",
    "df_group_by_w = df_group_by_w.reindex(\n",
    "    columns=[k.pref_code, k.ts, 'p1w', k.case, k.death, k.pref_name])\n",
    "df_group_by_w = df_group_by_w.sort_values([k.pref_code, k.ts])"
   ]
  },
  {
   "cell_type": "code",
   "execution_count": null,
   "metadata": {},
   "outputs": [],
   "source": [
    "fig7 = px.timeline(#df_group_by_w[df_group_by_w[k_pref_code] <= 24],\n",
    "    df_group_by_w, x_start=k.ts, x_end='p1w', y=k.pref_name, color=k.case,\n",
    "    color_continuous_scale='Rainbow', labels={k.case:'cpm'})\n",
    "twbody7 = \"全国 新型コロナ 都道府県別 週毎 感染者数\"\n",
    "update_layout(fig7, twbody7, today_str)\n",
    "fig7.update_layout(\n",
    "    width=700, height=800,\n",
    "    xaxis=dict(type='date', dtick=2419200000.0, tickformat=\"%_m/%-d\"))\n",
    "fig7.update_yaxes(autorange=\"reversed\", side=\"right\")\n",
    "fig7.update_coloraxes(\n",
    "    showscale=True, \n",
    "    colorbar=dict(\n",
    "        xanchor='left', x=-0.05, \n",
    "        tickfont=dict(color=\"black\"),\n",
    "        ticklabelposition=\"inside\", ticks=\"inside\"))\n",
    "show_and_save_plotly(fig7, \"nhk-all-7.jpg\", html=True)"
   ]
  },
  {
   "cell_type": "code",
   "execution_count": null,
   "metadata": {},
   "outputs": [],
   "source": [
    "notes = \" https://geneasyura.github.io/cov19-hm/nhk-7-8.html \"\n",
    "tweet_with_image(tw, \"docs/images/nhk-all-7.jpg\", twbody7 + today_str + notes)"
   ]
  },
  {
   "cell_type": "code",
   "execution_count": null,
   "metadata": {},
   "outputs": [],
   "source": [
    "fig8 = px.timeline(#df_group_by_w[df_group_by_w[k_pref_code] <= 24],\n",
    "    df_group_by_w, x_start=k.ts, x_end='p1w', y=k.pref_name, color=k.death,\n",
    "    color_continuous_scale='Rainbow', labels={k.death:'dpm'})\n",
    "twbody8 = \"全国 新型コロナ 都道府県別 週毎 死者数\"\n",
    "update_layout(fig8, twbody8, today_str)\n",
    "fig8.update_layout(\n",
    "    width=700, height=800,\n",
    "    xaxis=dict(type='date', dtick=2419200000.0, tickformat=\"%_m/%-d\"))\n",
    "fig8.update_yaxes(autorange=\"reversed\", side=\"right\")\n",
    "fig8.update_coloraxes(\n",
    "    showscale=True, \n",
    "    colorbar=dict(\n",
    "        xanchor='left', x=-0.05, \n",
    "        tickfont=dict(color=\"black\"),\n",
    "        ticklabelposition=\"inside\", ticks=\"inside\"))\n",
    "show_and_save_plotly(fig8, \"nhk-all-8.jpg\", html=True)"
   ]
  },
  {
   "cell_type": "code",
   "execution_count": null,
   "metadata": {},
   "outputs": [],
   "source": [
    "tweet_with_image(tw, \"docs/images/nhk-all-8.jpg\", twbody8 + today_str + notes)"
   ]
  },
  {
   "cell_type": "code",
   "execution_count": null,
   "metadata": {},
   "outputs": [],
   "source": []
  },
  {
   "cell_type": "code",
   "execution_count": null,
   "metadata": {},
   "outputs": [],
   "source": [
    "# ppm で正規化する\n",
    "df_ppm = df.copy(deep=True) \n",
    "df_ppm = df_ppm[ df_ppm[k.ts] >= pd.to_datetime(\"2020-10-01\")]\n",
    "df_ppm = df_ppm.astype({k.case: float})\n",
    "df_ppm = df_ppm.astype({k.death: float})\n",
    "ppm = 1000000\n",
    "for index, row in df_ppm.iterrows():\n",
    "    pname = row[k.pref_name].rstrip('県').rstrip('都').rstrip('府')\n",
    "    df_ppm.at[index, k.case] = (float(row[k.case]) / ppops[pname]) * ppm\n",
    "    df_ppm.at[index, k.death] = (float(row[k.death]) / ppops[pname]) * ppm\n",
    "df_ppm = df_ppm.drop(k.total_case, axis=1)\n",
    "df_ppm = df_ppm.drop(k.total_death, axis=1)"
   ]
  },
  {
   "cell_type": "code",
   "execution_count": null,
   "metadata": {},
   "outputs": [],
   "source": [
    "df_ppm['p1w'] = df_ppm[k.ts] + pd.Timedelta(hours=23)\n",
    "#df_ppm"
   ]
  },
  {
   "cell_type": "code",
   "execution_count": null,
   "metadata": {},
   "outputs": [],
   "source": [
    "fig9 = px.timeline(#df_group_by_w[df_group_by_w[k_pref_code] <= 24],\n",
    "    df_ppm,\n",
    "    x_start=k.ts, x_end='p1w',\n",
    "    y=k.pref_name, color=k.case,\n",
    "    color_continuous_scale='Rainbow', labels={k.case:'cpm'})\n",
    "twbody9 = \"全国 新型コロナ 都道府県別 感染者数 10/1～\"\n",
    "update_layout(fig9, twbody9, today_str)\n",
    "fig9.update_layout(\n",
    "    width=700, height=800,\n",
    "    xaxis=dict(type='date', dtick=2419200000.0, tickformat=\"%_m/%-d\"))\n",
    "fig9.update_yaxes(autorange=\"reversed\", side=\"right\")\n",
    "fig9.update_coloraxes(\n",
    "    showscale=True, \n",
    "    colorbar=dict(\n",
    "        xanchor='left', x=-0.05, \n",
    "        tickfont=dict(color=\"black\"),\n",
    "        ticklabelposition=\"inside\", ticks=\"inside\"))\n",
    "show_and_save_plotly(fig9, \"nhk-all-9.jpg\", html=True)"
   ]
  },
  {
   "cell_type": "code",
   "execution_count": null,
   "metadata": {},
   "outputs": [],
   "source": [
    "print(twbody9 + today_str)\n",
    "notes = \" https://geneasyura.github.io/cov19-hm/nhk-9-10.html \"\n",
    "tweet_with_image(tw, \"docs/images/nhk-all-9.jpg\", twbody9 + today_str + notes)"
   ]
  },
  {
   "cell_type": "code",
   "execution_count": null,
   "metadata": {},
   "outputs": [],
   "source": [
    "fig10 = px.timeline(#df_group_by_w[df_group_by_w[k_pref_code] <= 24],\n",
    "    df_ppm,\n",
    "    x_start=k.ts, x_end='p1w',\n",
    "    y=k.pref_name, color=k.death,\n",
    "    color_continuous_scale='Rainbow', labels={k.death:'dpm'})\n",
    "twbody10 = \"全国 新型コロナ 都道府県別 死者数 10/1～\"\n",
    "update_layout(fig10, twbody10, today_str)\n",
    "fig10.update_layout(\n",
    "    width=700, height=800,\n",
    "    xaxis=dict(type='date', dtick=2419200000.0, tickformat=\"%_m/%-d\"))\n",
    "fig10.update_yaxes(autorange=\"reversed\", side=\"right\")\n",
    "fig10.update_coloraxes(\n",
    "    showscale=True, \n",
    "    colorbar=dict(\n",
    "        xanchor='left', x=-0.05, \n",
    "        tickfont=dict(color=\"black\"),\n",
    "        ticklabelposition=\"inside\", ticks=\"inside\"))\n",
    "show_and_save_plotly(fig10, \"nhk-all-10.jpg\", html=True)"
   ]
  },
  {
   "cell_type": "code",
   "execution_count": null,
   "metadata": {},
   "outputs": [],
   "source": [
    "print(twbody10 + today_str)\n",
    "tweet_with_image(tw, \"docs/images/nhk-all-10.jpg\", twbody10 + today_str + notes)"
   ]
  },
  {
   "cell_type": "code",
   "execution_count": null,
   "metadata": {},
   "outputs": [],
   "source": []
  }
 ],
 "metadata": {
  "kernelspec": {
   "display_name": "Python 3",
   "language": "python",
   "name": "python3"
  },
  "language_info": {
   "codemirror_mode": {
    "name": "ipython",
    "version": 3
   },
   "file_extension": ".py",
   "mimetype": "text/x-python",
   "name": "python",
   "nbconvert_exporter": "python",
   "pygments_lexer": "ipython3",
   "version": "3.8.6"
  }
 },
 "nbformat": 4,
 "nbformat_minor": 4
}
