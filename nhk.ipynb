{
 "cells": [
  {
   "cell_type": "code",
   "execution_count": null,
   "metadata": {},
   "outputs": [],
   "source": [
    "#!/usr/bin/env python\n",
    "# coding: utf-8"
   ]
  },
  {
   "cell_type": "code",
   "execution_count": null,
   "metadata": {},
   "outputs": [],
   "source": [
    "from datetime import datetime as dt\n",
    "import sys\n",
    "import numpy as np\n",
    "import os\n",
    "import pandas as pd\n",
    "import plotly\n",
    "from plotly import subplots\n",
    "import plotly.express as px\n",
    "import plotly.tools as tls\n",
    "import plotly.graph_objects as go\n",
    "import plotly.io as pio\n",
    "import plotly.offline as offline\n",
    "import sys\n",
    "if \"ipy\" in sys.argv[0]:\n",
    "    offline.init_notebook_mode()\n",
    "from cov19utils import create_basic_plot_figure, \\\n",
    "    show_and_clear, moving_average, \\\n",
    "    blank2zero, csv2array, \\\n",
    "    get_twitter, tweet_with_image, \\\n",
    "    get_gpr_predict, FONT_NAME, DT_OFFSET, \\\n",
    "    download_if_needed, json2nparr, code2int, age2int, \\\n",
    "    get_populations, get_os_idx_of_arr, dump_val_in_arr, \\\n",
    "    calc_last1w2w_dif, create_basic_scatter_figure, \\\n",
    "    show_and_save_plotly\n",
    "import requests\n",
    "from sklearn.linear_model import LinearRegression"
   ]
  },
  {
   "cell_type": "code",
   "execution_count": null,
   "metadata": {},
   "outputs": [],
   "source": [
    "today_str = dt.now().isoformat()[:16].replace('T', ' ')"
   ]
  },
  {
   "cell_type": "code",
   "execution_count": null,
   "metadata": {},
   "outputs": [],
   "source": [
    "uri = \"https://www3.nhk.or.jp/n-data/opendata/coronavirus/\"\n",
    "name = \"nhk_news_covid19_prefectures_daily_data.csv\"\n",
    "referer = \"https://www3.nhk.or.jp/news/special/coronavirus/data-widget/\"\n",
    "ua = \"Mozilla/5.0 (Macintosh; Intel Mac OS X 10_13_5)\"\n",
    "ua += \" AppleWebKit/537.36 (KHTML, like Gecko)\"\n",
    "ua += \" Chrome/67.0.3396.99 Safari/537.36\"\n",
    "headers = {'User-Agent': ua, 'referer': referer}"
   ]
  },
  {
   "cell_type": "code",
   "execution_count": null,
   "metadata": {},
   "outputs": [],
   "source": [
    "response = requests.get(uri + name, headers=headers)\n",
    "f = open(\"nhk.csv\", \"w\")\n",
    "lines = response.text.split(\"\\n\")\n",
    "for line in lines:\n",
    "    l = line.strip()\n",
    "    if len(l) > 0:\n",
    "        f.write(l + \"\\n\")\n",
    "f.close()"
   ]
  },
  {
   "cell_type": "code",
   "execution_count": null,
   "metadata": {},
   "outputs": [],
   "source": [
    "df = pd.read_csv(\"nhk.csv\", encoding='shift-jis', header=0)"
   ]
  },
  {
   "cell_type": "code",
   "execution_count": null,
   "metadata": {},
   "outputs": [],
   "source": [
    "k_ts         = '日付'\n",
    "k_pref_code  = '都道府県コード'\n",
    "k_pref_name  = '都道府県名'\n",
    "k_case       = '各地の感染者数_1日ごとの発表数'\n",
    "k_total_case = '各地の感染者数_累計'\n",
    "k_death      = '各地の死者数_1日ごとの発表数'\n",
    "k_total_death='各地の死者数_累計'"
   ]
  },
  {
   "cell_type": "code",
   "execution_count": null,
   "metadata": {},
   "outputs": [],
   "source": [
    "latest = df[k_ts].iloc[-1]"
   ]
  },
  {
   "cell_type": "code",
   "execution_count": null,
   "metadata": {},
   "outputs": [],
   "source": [
    "with open(\"nhk.prev.tmp\", \"rt\") as f:\n",
    "    prev = f.read().rstrip()\n",
    "if latest == prev:\n",
    "    print(\"maybe the same data, nothing to do.\")\n",
    "    if \"ipy\" in sys.argv[0]:\n",
    "        pass#exit()\n",
    "    else:\n",
    "        sys.exit()\n",
    "with open(\"nhk.prev.tmp\", \"wt\") as f:\n",
    "    f.write(latest)"
   ]
  },
  {
   "cell_type": "code",
   "execution_count": null,
   "metadata": {},
   "outputs": [],
   "source": [
    "# 文字列を日付型に変換\n",
    "df[k_ts] = pd.to_datetime(df[k_ts])"
   ]
  },
  {
   "cell_type": "code",
   "execution_count": null,
   "metadata": {},
   "outputs": [],
   "source": [
    "# 都道府県名を取得\n",
    "prefs = df[k_pref_name].unique()"
   ]
  },
  {
   "cell_type": "code",
   "execution_count": null,
   "metadata": {},
   "outputs": [],
   "source": [
    "fig1 = subplots.make_subplots(\n",
    "    rows=4, cols=6, subplot_titles=prefs[:24],\n",
    "    horizontal_spacing=0.03, vertical_spacing=0.07)\n",
    "fig2 = subplots.make_subplots(\n",
    "    rows=4, cols=6, subplot_titles=prefs[24:],\n",
    "    horizontal_spacing=0.03, vertical_spacing=0.07)"
   ]
  },
  {
   "cell_type": "code",
   "execution_count": null,
   "metadata": {},
   "outputs": [],
   "source": [
    "lr = LinearRegression()"
   ]
  },
  {
   "cell_type": "code",
   "execution_count": null,
   "metadata": {},
   "outputs": [],
   "source": [
    "def get_lr_col(v):\n",
    "    c = 'green'\n",
    "    if v < -0.5:\n",
    "        c = 'blue'\n",
    "    if v >= -0.5:\n",
    "        c = 'royalblue'\n",
    "    if v > 0.2:\n",
    "        c = 'orange'   \n",
    "    if v > 0.5:\n",
    "        c = 'red'\n",
    "    if v < 0.2 and v > -0.2:\n",
    "        c = 'green'\n",
    "    return c"
   ]
  },
  {
   "cell_type": "code",
   "execution_count": null,
   "metadata": {},
   "outputs": [],
   "source": [
    "def add_pref2fig(i, x, y, X, fig):\n",
    "    dfh = df[ df[k_pref_name] == prefs[i]]\n",
    "    df14 = dfh[-14:]\n",
    "    Y = df14[k_case].values\n",
    "    lr.fit(X.reshape(-1, 1), Y.reshape(-1, 1))\n",
    "    Y_pred = lr.predict(X.reshape(-1, 1)).reshape(1, -1)[0]\n",
    "    a = lr.coef_[0][0]\n",
    "    lr_col = get_lr_col(a)\n",
    "    trace_xy = go.Scatter(\n",
    "        x=X, y=Y, mode='lines',\n",
    "        line=dict(width=2, color='white'))\n",
    "    trace_lr = go.Scatter(\n",
    "        x=X, y=Y_pred, mode='lines',\n",
    "        line=dict(width=2, color=lr_col))\n",
    "    fig.add_trace(trace_xy, y, x)\n",
    "    fig.add_trace(trace_lr, y, x)"
   ]
  },
  {
   "cell_type": "code",
   "execution_count": null,
   "metadata": {},
   "outputs": [],
   "source": [
    "X = np.arange(14)\n",
    "for y in np.arange(4):\n",
    "    for x in np.arange(6):\n",
    "        i = x + (y * 6)\n",
    "        add_pref2fig(i, x+1, y+1, X, fig1)\n",
    "        if i < 23:\n",
    "            add_pref2fig(i + 24, x+1, y+1, X, fig2)"
   ]
  },
  {
   "cell_type": "code",
   "execution_count": null,
   "metadata": {},
   "outputs": [],
   "source": [
    "def update_axes(fig):\n",
    "    fig.update_xaxes(\n",
    "        showgrid=False, showticklabels=False, ticks=\"\",\n",
    "        zeroline=False)\n",
    "    fig.update_yaxes(\n",
    "        showgrid=False, showticklabels=False, ticks=\"\",\n",
    "        zeroline=False)"
   ]
  },
  {
   "cell_type": "code",
   "execution_count": null,
   "metadata": {},
   "outputs": [],
   "source": [
    "def update_layout(fig, title):\n",
    "    fig.update_layout(\n",
    "        margin={\"r\":5,\"t\":50,\"l\":5,\"b\":5},\n",
    "        width=600, height=400, template='plotly_dark',\n",
    "        title=title + \" \" + today_str, showlegend=False)"
   ]
  },
  {
   "cell_type": "code",
   "execution_count": null,
   "metadata": {},
   "outputs": [],
   "source": [
    "update_axes(fig1)\n",
    "update_axes(fig2)\n",
    "twbody1 = \"各都道府県直近2週間状況1\"\n",
    "update_layout(fig1, twbody1)\n",
    "twbody2 = \"各都道府県直近2週間状況2\"\n",
    "update_layout(fig2, twbody2)"
   ]
  },
  {
   "cell_type": "code",
   "execution_count": null,
   "metadata": {},
   "outputs": [],
   "source": [
    "#offline.iplot(fig1)\n",
    "show_and_save_plotly(fig1, \"nhk-all-1.jpg\", html=False)"
   ]
  },
  {
   "cell_type": "code",
   "execution_count": null,
   "metadata": {
    "scrolled": false
   },
   "outputs": [],
   "source": [
    "#offline.iplot(fig2)\n",
    "show_and_save_plotly(fig2, \"nhk-all-2.jpg\", html=False)"
   ]
  },
  {
   "cell_type": "code",
   "execution_count": null,
   "metadata": {},
   "outputs": [],
   "source": [
    "tw = get_twitter()\n",
    "tweet_with_image(\n",
    "    tw, \"docs/images/nhk-all-1.jpg\", twbody1 + \" \" + today_str)\n",
    "tweet_with_image(\n",
    "    tw, \"docs/images/nhk-all-2.jpg\", twbody2 + \" \" + today_str)"
   ]
  },
  {
   "cell_type": "code",
   "execution_count": null,
   "metadata": {},
   "outputs": [],
   "source": []
  }
 ],
 "metadata": {
  "kernelspec": {
   "display_name": "Python 3",
   "language": "python",
   "name": "python3"
  },
  "language_info": {
   "codemirror_mode": {
    "name": "ipython",
    "version": 3
   },
   "file_extension": ".py",
   "mimetype": "text/x-python",
   "name": "python",
   "nbconvert_exporter": "python",
   "pygments_lexer": "ipython3",
   "version": "3.8.6"
  }
 },
 "nbformat": 4,
 "nbformat_minor": 4
}
