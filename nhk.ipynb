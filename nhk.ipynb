{
 "cells": [
  {
   "cell_type": "code",
   "execution_count": null,
   "metadata": {},
   "outputs": [],
   "source": [
    "#!/usr/bin/env python\n",
    "# coding: utf-8"
   ]
  },
  {
   "cell_type": "code",
   "execution_count": null,
   "metadata": {},
   "outputs": [],
   "source": [
    "from datetime import datetime as dt\n",
    "import sys\n",
    "import numpy as np\n",
    "import os\n",
    "import pandas as pd\n",
    "from PIL import Image\n",
    "import plotly\n",
    "from plotly import subplots\n",
    "import plotly.express as px\n",
    "import plotly.tools as tls\n",
    "import plotly.graph_objects as go\n",
    "import plotly.io as pio\n",
    "import plotly.offline as offline\n",
    "import sys\n",
    "if \"ipy\" in sys.argv[0]:\n",
    "    offline.init_notebook_mode()\n",
    "from cov19utils import create_basic_plot_figure, \\\n",
    "    show_and_clear, moving_average, \\\n",
    "    blank2zero, csv2array, \\\n",
    "    get_twitter, tweet_with_image, \\\n",
    "    get_gpr_predict, FONT_NAME, DT_OFFSET, \\\n",
    "    download_if_needed, json2nparr, code2int, age2int, \\\n",
    "    get_populations, get_os_idx_of_arr, dump_val_in_arr, \\\n",
    "    calc_last1w2w_dif, create_basic_scatter_figure, \\\n",
    "    show_and_save_plotly, save_plotly_in_en\n",
    "import requests\n",
    "from sklearn.linear_model import LinearRegression\n",
    "from nhk_lib import get_nhk_df, get_nhk_keys, get_lr_col, \\\n",
    "    add_pref2fig, update_axes, update_layout, get_template_fig"
   ]
  },
  {
   "cell_type": "code",
   "execution_count": null,
   "metadata": {},
   "outputs": [],
   "source": [
    "if dt.now().weekday() != 5:\n",
    "    print(\"Today is not Saturday.\")\n",
    "    if not \"ipy\" in sys.argv[0]:\n",
    "        sys.exit()"
   ]
  },
  {
   "cell_type": "code",
   "execution_count": null,
   "metadata": {},
   "outputs": [],
   "source": [
    "if dt.now().hour < 18:\n",
    "    print(\"before 6 pm.\")\n",
    "    if not \"ipy\" in sys.argv[0]:\n",
    "        sys.exit()"
   ]
  },
  {
   "cell_type": "code",
   "execution_count": null,
   "metadata": {},
   "outputs": [],
   "source": [
    "today_str = \" \" + dt.now().isoformat()[:16].replace('T', ' ')"
   ]
  },
  {
   "cell_type": "code",
   "execution_count": null,
   "metadata": {},
   "outputs": [],
   "source": [
    "df = get_nhk_df(\"nhk.csv\")"
   ]
  },
  {
   "cell_type": "code",
   "execution_count": null,
   "metadata": {},
   "outputs": [],
   "source": [
    "k = get_nhk_keys()"
   ]
  },
  {
   "cell_type": "code",
   "execution_count": null,
   "metadata": {},
   "outputs": [],
   "source": [
    "latest = df[k.ts].iloc[-1]"
   ]
  },
  {
   "cell_type": "code",
   "execution_count": null,
   "metadata": {},
   "outputs": [],
   "source": [
    "with open(\"nhk.prev.tmp\", \"rt\") as f:\n",
    "    prev = f.read().rstrip()\n",
    "if latest == prev:\n",
    "    print(\"maybe the same data, nothing to do.\")\n",
    "    if \"ipy\" in sys.argv[0]:\n",
    "        pass#exit()\n",
    "    else:\n",
    "        sys.exit()\n",
    "with open(\"nhk.prev.tmp\", \"wt\") as f:\n",
    "    f.write(latest)"
   ]
  },
  {
   "cell_type": "code",
   "execution_count": null,
   "metadata": {},
   "outputs": [],
   "source": [
    "# 文字列を日付型に変換\n",
    "df[k.ts] = pd.to_datetime(df[k.ts])"
   ]
  },
  {
   "cell_type": "code",
   "execution_count": null,
   "metadata": {},
   "outputs": [],
   "source": [
    "# 都道府県名を取得\n",
    "prefs = df[k.pref_name].unique()"
   ]
  },
  {
   "cell_type": "code",
   "execution_count": null,
   "metadata": {},
   "outputs": [],
   "source": [
    "fig1, fig2 = get_template_fig(prefs)"
   ]
  },
  {
   "cell_type": "code",
   "execution_count": null,
   "metadata": {},
   "outputs": [],
   "source": [
    "lr = LinearRegression()"
   ]
  },
  {
   "cell_type": "code",
   "execution_count": null,
   "metadata": {},
   "outputs": [],
   "source": [
    "X = np.arange(14)\n",
    "for y in np.arange(4):\n",
    "    for x in np.arange(6):\n",
    "        i = x + (y * 6)\n",
    "        add_pref2fig(df, lr, i, x+1, y+1, X, fig1, prefs)\n",
    "        if i < 23:\n",
    "            add_pref2fig(df, lr, i + 24, x+1, y+1, X, fig2, prefs)"
   ]
  },
  {
   "cell_type": "code",
   "execution_count": null,
   "metadata": {},
   "outputs": [],
   "source": [
    "update_axes(fig1)\n",
    "update_axes(fig2)\n",
    "twbody1 = \"新型コロナ 各都道府県 直近2週間状況1\"\n",
    "update_layout(fig1, twbody1, today_str)\n",
    "twbody2 = \"新型コロナ 各都道府県 直近2週間状況2\"\n",
    "update_layout(fig2, twbody2, today_str)"
   ]
  },
  {
   "cell_type": "code",
   "execution_count": null,
   "metadata": {},
   "outputs": [],
   "source": [
    "show_and_save_plotly(fig1, \"nhk-all-1.jpg\", html=True)"
   ]
  },
  {
   "cell_type": "code",
   "execution_count": null,
   "metadata": {
    "scrolled": false
   },
   "outputs": [],
   "source": [
    "show_and_save_plotly(fig2, \"nhk-all-2.jpg\", html=True)"
   ]
  },
  {
   "cell_type": "code",
   "execution_count": null,
   "metadata": {},
   "outputs": [],
   "source": [
    "def vcat_images(x, y, z, dirname=\"\"):\n",
    "    img1 = Image.open(\"docs/images/{}{}\".format(dirname, x))\n",
    "    img2 = Image.open(\"docs/images/{}{}\".format(dirname, y))\n",
    "    img = Image.new('RGB', (img1.width, img1.height + img2.height))\n",
    "    img.paste(img1, (0, 0))\n",
    "    img.paste(img2, (0, img1.height))\n",
    "    img.save(\"docs/images/{}{}\".format(dirname, z))"
   ]
  },
  {
   "cell_type": "code",
   "execution_count": null,
   "metadata": {},
   "outputs": [],
   "source": [
    "vcat_images(\"nhk-all-1.jpg\", \"nhk-all-2.jpg\", \"nhk-all-a.jpg\")"
   ]
  },
  {
   "cell_type": "code",
   "execution_count": null,
   "metadata": {},
   "outputs": [],
   "source": [
    "tw = get_twitter()\n",
    "notes = \" (縦軸範囲は各都道府県の最大値) https://geneasyura.github.io/cov19-hm/nhk-1-2.html \"\n",
    "twbody = \"新型コロナ 各都道府県 直近2週間感染状況\"\n",
    "tweet_with_image(tw, \"docs/images/nhk-all-a.jpg\", twbody + today_str + notes)"
   ]
  },
  {
   "cell_type": "code",
   "execution_count": null,
   "metadata": {},
   "outputs": [],
   "source": [
    "def j2e_titles(a, b):\n",
    "    cnt = 0\n",
    "    for t in en_prefs['e'].to_list():\n",
    "        if cnt < 24:\n",
    "            a['layout']['annotations'][cnt]['text'] = t\n",
    "        else:\n",
    "            b['layout']['annotations'][cnt - 24]['text'] = t\n",
    "        cnt += 1"
   ]
  },
  {
   "cell_type": "code",
   "execution_count": null,
   "metadata": {},
   "outputs": [],
   "source": [
    "en_prefs = pd.read_csv('population.txt', encoding='utf-8', header=None, names=['a', 'b', 'j', 'e', 'p', 'r'])"
   ]
  },
  {
   "cell_type": "code",
   "execution_count": null,
   "metadata": {},
   "outputs": [],
   "source": [
    "j2e_titles(fig1, fig2)"
   ]
  },
  {
   "cell_type": "code",
   "execution_count": null,
   "metadata": {},
   "outputs": [],
   "source": [
    "twbody = \"Japan Daily new confirmed COVID-19 cases for last 2 weeks \"\n",
    "fig1['layout']['title']['text'] = twbody\n",
    "fig2['layout']['title']['text'] = twbody"
   ]
  },
  {
   "cell_type": "code",
   "execution_count": null,
   "metadata": {},
   "outputs": [],
   "source": [
    "save_plotly_in_en(fig1, \"nhk-all-1.jpg\")\n",
    "save_plotly_in_en(fig2, \"nhk-all-2.jpg\")\n",
    "vcat_images(\"nhk-all-1.jpg\", \"nhk-all-2.jpg\", \"nhk-all-a.jpg\", dirname=\"en/\")"
   ]
  },
  {
   "cell_type": "code",
   "execution_count": null,
   "metadata": {},
   "outputs": [],
   "source": [
    "notes = \" (the maximum range of y-axis is refered to each prefecture) \"\n",
    "tweet_with_image(tw, \"docs/images/en/nhk-all-a.jpg\", twbody + today_str + notes)"
   ]
  },
  {
   "cell_type": "code",
   "execution_count": null,
   "metadata": {},
   "outputs": [],
   "source": []
  },
  {
   "cell_type": "code",
   "execution_count": null,
   "metadata": {},
   "outputs": [],
   "source": [
    "def add_trace2fig(dfx, i, x, y, Xx, fig, key, prefs, div=10):\n",
    "    dfh = dfx[ dfx['都道府県名'] == prefs[i]]\n",
    "    Y = dfh[key].values\n",
    "    #trace_xy = go.Scatter(\n",
    "    #    x=Xx, y=Y, mode='lines', line=dict(width=1, color='white'))\n",
    "    trace_ma = go.Scatter(\n",
    "        x=Xx[::div], y=moving_average(Y)[::div], mode='lines',\n",
    "        line=dict(width=1.25, color='green'))\n",
    "    #fig.add_trace(trace_xy, y, x)\n",
    "    fig.add_trace(trace_ma, y, x)"
   ]
  },
  {
   "cell_type": "code",
   "execution_count": null,
   "metadata": {},
   "outputs": [],
   "source": [
    "def make_prefs_subplots(dfx, k, figa, figb, Xx, prefs, div=10):\n",
    "    for y in np.arange(4):\n",
    "        for x in np.arange(6):\n",
    "            i = x + (y * 6)\n",
    "            add_trace2fig(dfx, i, x+1, y+1, Xx, figa, k, prefs, div)\n",
    "            if i < 23:\n",
    "                add_trace2fig(dfx, i + 24, x+1, y+1, Xx, figb, k, prefs, div)"
   ]
  },
  {
   "cell_type": "code",
   "execution_count": null,
   "metadata": {},
   "outputs": [],
   "source": [
    "fig3, fig4 = get_template_fig(prefs)"
   ]
  },
  {
   "cell_type": "code",
   "execution_count": null,
   "metadata": {},
   "outputs": [],
   "source": [
    "xbins = df[k.ts]\n",
    "make_prefs_subplots(df, k.case, fig3, fig4, xbins, prefs)\n",
    "update_axes(fig3)\n",
    "update_axes(fig4)\n",
    "twbody3 = \"新型コロナ 各都道府県 全期間感染状況1\"\n",
    "update_layout(fig3, twbody3, today_str)\n",
    "twbody4 = \"新型コロナ 各都道府県 全期間感染状況2\"\n",
    "update_layout(fig4, twbody4, today_str)"
   ]
  },
  {
   "cell_type": "code",
   "execution_count": null,
   "metadata": {},
   "outputs": [],
   "source": [
    "show_and_save_plotly(fig3, \"nhk-all-3.jpg\", html=True)"
   ]
  },
  {
   "cell_type": "code",
   "execution_count": null,
   "metadata": {},
   "outputs": [],
   "source": [
    "show_and_save_plotly(fig4, \"nhk-all-4.jpg\", html=True)"
   ]
  },
  {
   "cell_type": "code",
   "execution_count": null,
   "metadata": {},
   "outputs": [],
   "source": [
    "vcat_images(\"nhk-all-3.jpg\", \"nhk-all-4.jpg\", \"nhk-all-b.jpg\")"
   ]
  },
  {
   "cell_type": "code",
   "execution_count": null,
   "metadata": {},
   "outputs": [],
   "source": [
    "twbody = \"新型コロナ 各都道府県 全期間感染状況\"\n",
    "notes = \" (縦軸範囲は各都道府県の最大値) https://geneasyura.github.io/cov19-hm/nhk-3-4.html \"\n",
    "tweet_with_image(tw, \"docs/images/nhk-all-b.jpg\", twbody + today_str + notes)"
   ]
  },
  {
   "cell_type": "code",
   "execution_count": null,
   "metadata": {},
   "outputs": [],
   "source": [
    "j2e_titles(fig3, fig4)"
   ]
  },
  {
   "cell_type": "code",
   "execution_count": null,
   "metadata": {},
   "outputs": [],
   "source": [
    "twbody = \"Japan Daily new confirmed COVID-19 cases \"\n",
    "fig3['layout']['title']['text'] = twbody\n",
    "fig4['layout']['title']['text'] = twbody"
   ]
  },
  {
   "cell_type": "code",
   "execution_count": null,
   "metadata": {},
   "outputs": [],
   "source": [
    "save_plotly_in_en(fig3, \"nhk-all-3.jpg\")\n",
    "save_plotly_in_en(fig4, \"nhk-all-4.jpg\")\n",
    "vcat_images(\"nhk-all-3.jpg\", \"nhk-all-4.jpg\", \"nhk-all-b.jpg\", dirname=\"en/\")"
   ]
  },
  {
   "cell_type": "code",
   "execution_count": null,
   "metadata": {},
   "outputs": [],
   "source": [
    "notes = \" shown is the rolling 7-day average (the maximum range of y-axis is refered to each prefecture) \"\n",
    "tweet_with_image(tw, \"docs/images/en/nhk-all-b.jpg\", twbody + today_str + notes)"
   ]
  },
  {
   "cell_type": "code",
   "execution_count": null,
   "metadata": {},
   "outputs": [],
   "source": []
  },
  {
   "cell_type": "code",
   "execution_count": null,
   "metadata": {},
   "outputs": [],
   "source": [
    "fig5, fig6 = get_template_fig(prefs)"
   ]
  },
  {
   "cell_type": "code",
   "execution_count": null,
   "metadata": {},
   "outputs": [],
   "source": [
    "xbins = df[k.ts]\n",
    "make_prefs_subplots(df, k.death, fig5, fig6, xbins, prefs, div=8)\n",
    "update_axes(fig5)\n",
    "update_axes(fig6)\n",
    "twbody5 = \"新型コロナ 各都道府県 全期間死者状況1\"\n",
    "update_layout(fig5, twbody5, today_str)\n",
    "twbody6 = \"新型コロナ 各都道府県 全期間死者状況2\"\n",
    "update_layout(fig6, twbody6, today_str)"
   ]
  },
  {
   "cell_type": "code",
   "execution_count": null,
   "metadata": {},
   "outputs": [],
   "source": [
    "show_and_save_plotly(fig5, \"nhk-all-5.jpg\", html=True)"
   ]
  },
  {
   "cell_type": "code",
   "execution_count": null,
   "metadata": {},
   "outputs": [],
   "source": [
    "show_and_save_plotly(fig6, \"nhk-all-6.jpg\", html=True)"
   ]
  },
  {
   "cell_type": "code",
   "execution_count": null,
   "metadata": {},
   "outputs": [],
   "source": [
    "vcat_images(\"nhk-all-5.jpg\", \"nhk-all-6.jpg\", \"nhk-all-c.jpg\")"
   ]
  },
  {
   "cell_type": "code",
   "execution_count": null,
   "metadata": {},
   "outputs": [],
   "source": [
    "twbody = \"新型コロナ 各都道府県 全期間死者状況\"\n",
    "notes = \" (縦軸範囲は各都道府県の最大値) https://geneasyura.github.io/cov19-hm/nhk-5-6.html \"\n",
    "tweet_with_image(tw, \"docs/images/nhk-all-c.jpg\", twbody + today_str + notes)"
   ]
  },
  {
   "cell_type": "code",
   "execution_count": null,
   "metadata": {},
   "outputs": [],
   "source": [
    "j2e_titles(fig5, fig6)"
   ]
  },
  {
   "cell_type": "code",
   "execution_count": null,
   "metadata": {},
   "outputs": [],
   "source": [
    "twbody = \"Japan Daily new confirmed COVID-19 deaths\"\n",
    "fig5['layout']['title']['text'] = twbody\n",
    "fig6['layout']['title']['text'] = twbody"
   ]
  },
  {
   "cell_type": "code",
   "execution_count": null,
   "metadata": {},
   "outputs": [],
   "source": [
    "save_plotly_in_en(fig5, \"nhk-all-5.jpg\")\n",
    "save_plotly_in_en(fig6, \"nhk-all-6.jpg\")\n",
    "vcat_images(\"nhk-all-5.jpg\", \"nhk-all-6.jpg\", \"nhk-all-c.jpg\", dirname=\"en/\")"
   ]
  },
  {
   "cell_type": "code",
   "execution_count": null,
   "metadata": {},
   "outputs": [],
   "source": [
    "notes = \" (the maximum range of y-axis is refered to each prefecture) \"\n",
    "tweet_with_image(tw, \"docs/images/en/nhk-all-c.jpg\", twbody + today_str + notes)"
   ]
  },
  {
   "cell_type": "code",
   "execution_count": null,
   "metadata": {},
   "outputs": [],
   "source": []
  },
  {
   "cell_type": "code",
   "execution_count": null,
   "metadata": {},
   "outputs": [],
   "source": [
    "#df[ df[k_ts] >= pd.to_datetime(\"2020-02-01\")]"
   ]
  },
  {
   "cell_type": "code",
   "execution_count": null,
   "metadata": {},
   "outputs": [],
   "source": [
    "# 週ごとの集計に変換\n",
    "df_group_by_w = df[ df[k.ts] >= pd.to_datetime(\"2020-03-01\")].groupby(k.pref_name)\\\n",
    "    .resample('W-Mon', on=k.ts).sum().reset_index().sort_values(by=k.ts)\n",
    "# 累計値の列を削除\n",
    "df_group_by_w = df_group_by_w.drop(k.total_case, axis=1)\n",
    "df_group_by_w = df_group_by_w.drop(k.total_death, axis=1)\n",
    "# 7 日後を追加\n",
    "df_group_by_w['p1w'] = df_group_by_w[k.ts] + pd.Timedelta(days=7)"
   ]
  },
  {
   "cell_type": "code",
   "execution_count": null,
   "metadata": {},
   "outputs": [],
   "source": [
    "# int から float へ変換\n",
    "df_group_by_w = df_group_by_w.astype({k.case: float})\n",
    "df_group_by_w = df_group_by_w.astype({k.death: float})\n",
    "#df_group_by_w"
   ]
  },
  {
   "cell_type": "code",
   "execution_count": null,
   "metadata": {},
   "outputs": [],
   "source": [
    "# 都道府県別人口を取得\n",
    "p = get_populations()\n",
    "# 都道府県コード\n",
    "pcodes = {}\n",
    "# 都道府県人口\n",
    "ppops = {}\n",
    "for ky, v in p.items():\n",
    "    pcodes[v['ja']] = v['code']\n",
    "    ppops[v['ja']] = v['total']"
   ]
  },
  {
   "cell_type": "code",
   "execution_count": null,
   "metadata": {},
   "outputs": [],
   "source": [
    "# ppm で正規化する\n",
    "ppm = 1000000\n",
    "for index, row in df_group_by_w.iterrows():\n",
    "    pname = row[k.pref_name].rstrip('県').rstrip('都').rstrip('府')\n",
    "    df_group_by_w.at[index, k.pref_code] = pcodes[pname]\n",
    "    df_group_by_w.at[index, k.case] = (float(row[k.case]) / ppops[pname]) * ppm\n",
    "    df_group_by_w.at[index, k.death] = (float(row[k.death]) / ppops[pname]) * ppm"
   ]
  },
  {
   "cell_type": "code",
   "execution_count": null,
   "metadata": {},
   "outputs": [],
   "source": [
    "# データの行を都道府県コード、日付でソート\n",
    "df_group_by_w = df_group_by_w.reindex(\n",
    "    columns=[k.pref_code, k.ts, 'p1w', k.case, k.death, k.pref_name])\n",
    "df_group_by_w = df_group_by_w.sort_values([k.pref_code, k.ts])"
   ]
  },
  {
   "cell_type": "code",
   "execution_count": null,
   "metadata": {},
   "outputs": [],
   "source": [
    "fig7 = px.timeline(#df_group_by_w[df_group_by_w[k_pref_code] <= 24],\n",
    "    df_group_by_w, x_start=k.ts, x_end='p1w', y=k.pref_name, color=k.case,\n",
    "    color_continuous_scale='Rainbow', labels={k.case:'cpm'})\n",
    "twbody7 = \"全国 新型コロナ 都道府県別 週毎 感染者数\"\n",
    "update_layout(fig7, twbody7, today_str)\n",
    "fig7.update_layout(\n",
    "    width=800, height=800,\n",
    "    xaxis=dict(type='date', dtick=2419200000.0, tickformat=\"%_m/%-d\"))\n",
    "fig7.update_yaxes(autorange=\"reversed\", side=\"right\")\n",
    "fig7.update_coloraxes(\n",
    "    showscale=True, \n",
    "    colorbar=dict(\n",
    "        xanchor='left', x=-0.08, \n",
    "        tickfont=dict(color=\"white\"),\n",
    "        ticklabelposition=\"outside\", ticks=\"inside\"))\n",
    "show_and_save_plotly(fig7, \"nhk-all-7.jpg\", html=True)"
   ]
  },
  {
   "cell_type": "code",
   "execution_count": null,
   "metadata": {},
   "outputs": [],
   "source": [
    "notes = \" https://geneasyura.github.io/cov19-hm/nhk-7-8.html \"\n",
    "tweet_with_image(tw, \"docs/images/nhk-all-7.jpg\", twbody7 + today_str + notes)"
   ]
  },
  {
   "cell_type": "code",
   "execution_count": null,
   "metadata": {},
   "outputs": [],
   "source": [
    "df_group_by_w['Prefectures'] = ''\n",
    "for index, row in df_group_by_w.iterrows():\n",
    "    df_group_by_w.at[index, 'Prefectures'] = en_prefs['e'][row['都道府県コード'] -1]"
   ]
  },
  {
   "cell_type": "code",
   "execution_count": null,
   "metadata": {},
   "outputs": [],
   "source": [
    "fig7 = px.timeline(#df_group_by_w[df_group_by_w[k_pref_code] <= 24],\n",
    "    df_group_by_w, x_start=k.ts, x_end='p1w', y='Prefectures', color=k.case,\n",
    "    color_continuous_scale='Rainbow', labels={k.case:'cpm'})\n",
    "twbody7 = \"Japan Weekly new confirmed COVID-19 cases / million people\"\n",
    "update_layout(fig7, twbody7, \"\")\n",
    "fig7.update_layout(\n",
    "    width=800, height=800,\n",
    "    xaxis=dict(type='date', dtick=2419200000.0, tickformat=\"%_m/%-d\"))\n",
    "fig7.update_yaxes(autorange=\"reversed\", side=\"right\")\n",
    "fig7.update_coloraxes(\n",
    "    showscale=True, \n",
    "    colorbar=dict(\n",
    "        xanchor='left', x=-0.08, \n",
    "        tickfont=dict(color=\"white\"),\n",
    "        ticklabelposition=\"outside\", ticks=\"inside\"))\n",
    "save_plotly_in_en(fig7, \"nhk-all-7.jpg\")"
   ]
  },
  {
   "cell_type": "code",
   "execution_count": null,
   "metadata": {},
   "outputs": [],
   "source": [
    "tweet_with_image(tw, \"docs/images/en/nhk-all-7.jpg\", twbody7 + \" (updated on \" + today_str + \")\")"
   ]
  },
  {
   "cell_type": "code",
   "execution_count": null,
   "metadata": {},
   "outputs": [],
   "source": [
    "hyogo_death_20210518 = df_group_by_w[\n",
    "    (df_group_by_w[k.pref_name] == '兵庫県') & \n",
    "    (df_group_by_w['日付'] == pd.to_datetime('2021-05-24'))]"
   ]
  },
  {
   "cell_type": "code",
   "execution_count": null,
   "metadata": {},
   "outputs": [],
   "source": [
    "hyogo_death_20210518 = hyogo_death_20210518[k.death].values[0]\n",
    "hyogo_death_20210518\n",
    "wks = 9"
   ]
  },
  {
   "cell_type": "code",
   "execution_count": null,
   "metadata": {},
   "outputs": [],
   "source": [
    "df_group_by_w.loc[\\\n",
    "           (df_group_by_w['日付'] == pd.to_datetime('2021-05-24')) & \\\n",
    "           (df_group_by_w[k.pref_name] == '兵庫県'), k.death] = 0"
   ]
  },
  {
   "cell_type": "code",
   "execution_count": null,
   "metadata": {},
   "outputs": [],
   "source": [
    "df_group_by_w.loc[\\\n",
    "           (df_group_by_w['日付'] >= pd.to_datetime('2021-03-29')) & \\\n",
    "           (df_group_by_w['日付'] <= pd.to_datetime('2021-05-24')) & \\\n",
    "           (df_group_by_w[k.pref_name] == '兵庫県'), k.death] += (hyogo_death_20210518 / wks)"
   ]
  },
  {
   "cell_type": "code",
   "execution_count": null,
   "metadata": {},
   "outputs": [],
   "source": [
    "fig8 = px.timeline(#df_group_by_w[df_group_by_w[k_pref_code] <= 24],\n",
    "    df_group_by_w, x_start=k.ts, x_end='p1w', y=k.pref_name, color=k.death,\n",
    "    color_continuous_scale='Rainbow', labels={k.death:'dpm'})\n",
    "twbody8 = \"全国 新型コロナ 都道府県別 週毎 死者数\"\n",
    "update_layout(fig8, twbody8, today_str)\n",
    "fig8.update_layout(\n",
    "    width=730, height=800,\n",
    "    xaxis=dict(type='date', dtick=2419200000.0, tickformat=\"%_m/%-d\"))\n",
    "fig8.update_yaxes(autorange=\"reversed\", side=\"right\")\n",
    "fig8.update_coloraxes(\n",
    "    showscale=True, \n",
    "    colorbar=dict(\n",
    "        xanchor='left', x=-0.05, \n",
    "        tickfont=dict(color=\"black\"),\n",
    "        ticklabelposition=\"inside\", ticks=\"inside\"))\n",
    "show_and_save_plotly(fig8, \"nhk-all-8.jpg\", html=True)"
   ]
  },
  {
   "cell_type": "code",
   "execution_count": null,
   "metadata": {},
   "outputs": [],
   "source": [
    "tw_msg = twbody8 + today_str \\\n",
    "    + \"\\n※兵庫県2021/5/18発表の129人は3/29～5/24にdpm平均値として加算\\n\" + notes\n",
    "tweet_with_image(tw, \"docs/images/nhk-all-8.jpg\", tw_msg)"
   ]
  },
  {
   "cell_type": "code",
   "execution_count": null,
   "metadata": {},
   "outputs": [],
   "source": [
    "fig8 = px.timeline(#df_group_by_w[df_group_by_w[k_pref_code] <= 24],\n",
    "    df_group_by_w, x_start=k.ts, x_end='p1w', y='Prefectures', color=k.death,\n",
    "    color_continuous_scale='Rainbow', labels={k.death:'dpm'})\n",
    "twbody8 = \"Japan Weekly new confirmed COVID-19 deaths / million people\"\n",
    "update_layout(fig8, twbody8, today_str)\n",
    "fig8.update_layout(\n",
    "    width=730, height=800,\n",
    "    xaxis=dict(type='date', dtick=2419200000.0, tickformat=\"%_m/%-d\"))\n",
    "fig8.update_yaxes(autorange=\"reversed\", side=\"right\")\n",
    "fig8.update_coloraxes(\n",
    "    showscale=True, \n",
    "    colorbar=dict(\n",
    "        xanchor='left', x=-0.05, \n",
    "        tickfont=dict(color=\"black\"),\n",
    "        ticklabelposition=\"inside\", ticks=\"inside\"))\n",
    "save_plotly_in_en(fig8, \"nhk-all-8.jpg\")"
   ]
  },
  {
   "cell_type": "code",
   "execution_count": null,
   "metadata": {},
   "outputs": [],
   "source": [
    "tweet_with_image(tw, \"docs/images/en/nhk-all-8.jpg\", twbody8 + \" (updated on \" + today_str + \")\")"
   ]
  },
  {
   "cell_type": "code",
   "execution_count": null,
   "metadata": {},
   "outputs": [],
   "source": []
  },
  {
   "cell_type": "code",
   "execution_count": null,
   "metadata": {},
   "outputs": [],
   "source": [
    "# ppm で正規化する\n",
    "df_ppm = df.copy(deep=True) \n",
    "df_ppm = df_ppm[ df_ppm[k.ts] >= pd.to_datetime(\"2021-06-01\")]\n",
    "df_ppm = df_ppm.astype({k.case: float})\n",
    "df_ppm = df_ppm.astype({k.death: float})\n",
    "ppm = 1000000\n",
    "for index, row in df_ppm.iterrows():\n",
    "    pname = row[k.pref_name].rstrip('県').rstrip('都').rstrip('府')\n",
    "    df_ppm.at[index, k.case] = (float(row[k.case]) / ppops[pname]) * ppm\n",
    "    df_ppm.at[index, k.death] = (float(row[k.death]) / ppops[pname]) * ppm\n",
    "df_ppm = df_ppm.drop(k.total_case, axis=1)\n",
    "df_ppm = df_ppm.drop(k.total_death, axis=1)"
   ]
  },
  {
   "cell_type": "code",
   "execution_count": null,
   "metadata": {},
   "outputs": [],
   "source": [
    "df_ppm['p1w'] = df_ppm[k.ts] + pd.Timedelta(hours=23)\n",
    "#df_ppm"
   ]
  },
  {
   "cell_type": "code",
   "execution_count": null,
   "metadata": {},
   "outputs": [],
   "source": [
    "fig9 = px.timeline(#df_group_by_w[df_group_by_w[k_pref_code] <= 24],\n",
    "    df_ppm,\n",
    "    x_start=k.ts, x_end='p1w',\n",
    "    y=k.pref_name, color=k.case,\n",
    "    color_continuous_scale='Rainbow', labels={k.case:'cpm'})\n",
    "twbody9 = \"全国 新型コロナ 都道府県別 感染者数 6/1～\"\n",
    "update_layout(fig9, twbody9, today_str)\n",
    "fig9.update_layout(\n",
    "    width=700, height=800,\n",
    "    xaxis=dict(type='date', dtick=2419200000.0, tickformat=\"%_m/%-d\"))\n",
    "fig9.update_yaxes(autorange=\"reversed\", side=\"right\")\n",
    "fig9.update_coloraxes(\n",
    "    showscale=True, \n",
    "    colorbar=dict(\n",
    "        xanchor='left', x=-0.05, \n",
    "        tickfont=dict(color=\"black\"),\n",
    "        ticklabelposition=\"inside\", ticks=\"inside\"))\n",
    "show_and_save_plotly(fig9, \"nhk-all-9.jpg\", html=True)"
   ]
  },
  {
   "cell_type": "code",
   "execution_count": null,
   "metadata": {},
   "outputs": [],
   "source": [
    "print(twbody9 + today_str)\n",
    "notes = \" https://geneasyura.github.io/cov19-hm/nhk-9-10.html \"\n",
    "tweet_with_image(tw, \"docs/images/nhk-all-9.jpg\", twbody9 + today_str + notes)"
   ]
  },
  {
   "cell_type": "code",
   "execution_count": null,
   "metadata": {},
   "outputs": [],
   "source": [
    "df_ppm['Prefectures'] = ''\n",
    "for index, row in df_ppm.iterrows():\n",
    "    df_ppm.at[index, 'Prefectures'] = en_prefs['e'][row['都道府県コード'] -1]"
   ]
  },
  {
   "cell_type": "code",
   "execution_count": null,
   "metadata": {},
   "outputs": [],
   "source": [
    "fig9 = px.timeline(#df_group_by_w[df_group_by_w[k_pref_code] <= 24],\n",
    "    df_ppm,\n",
    "    x_start=k.ts, x_end='p1w',\n",
    "    y=\"Prefectures\", color=k.case,\n",
    "    color_continuous_scale='Rainbow', labels={k.case:'cpm'})\n",
    "twbody9 = \"Japan Daily new confirmed COVID-19 cases per million people\"\n",
    "update_layout(fig9, twbody9, today_str)\n",
    "fig9.update_layout(\n",
    "    width=710, height=800,\n",
    "    xaxis=dict(type='date', dtick=2419200000.0, tickformat=\"%_m/%-d\"))\n",
    "fig9.update_yaxes(autorange=\"reversed\", side=\"right\")\n",
    "fig9.update_coloraxes(\n",
    "    showscale=True, \n",
    "    colorbar=dict(\n",
    "        xanchor='left', x=-0.05, \n",
    "        tickfont=dict(color=\"black\"),\n",
    "        ticklabelposition=\"inside\", ticks=\"inside\"))\n",
    "save_plotly_in_en(fig9, \"nhk-all-9.jpg\")"
   ]
  },
  {
   "cell_type": "code",
   "execution_count": null,
   "metadata": {},
   "outputs": [],
   "source": [
    "tweet_with_image(tw, \"docs/images/en/nhk-all-9.jpg\", twbody9 + today_str)"
   ]
  },
  {
   "cell_type": "code",
   "execution_count": null,
   "metadata": {},
   "outputs": [],
   "source": [
    "#hyogo_death_20210518 = df_ppm[df_ppm['日付'] == pd.to_datetime('2021-05-18')]\n",
    "#hyogo_death_20210518 = hyogo_death_20210518[hyogo_death_20210518[k.pref_name] == '兵庫県']\n",
    "#hyogo_death_20210518 = hyogo_death_20210518[k.death].values[0]\n",
    "#hyogo_death_20210518\n",
    "#td_hyogo = pd.to_datetime('2021-05-17') - pd.to_datetime('2021-03-26')\n",
    "#hyogo_death_20210518 / td_hyogo.days"
   ]
  },
  {
   "cell_type": "code",
   "execution_count": null,
   "metadata": {},
   "outputs": [],
   "source": [
    "#df_ppm.loc[\\\n",
    "#           (df_ppm['日付'] == pd.to_datetime('2021-05-18')) & \\\n",
    "#           (df_ppm[k.pref_name] == '兵庫県'), k.death] = 0"
   ]
  },
  {
   "cell_type": "code",
   "execution_count": null,
   "metadata": {},
   "outputs": [],
   "source": [
    "#df_ppm.loc[\\\n",
    "#           (df_ppm['日付'] >= pd.to_datetime('2021-03-26')) & \\\n",
    "#           (df_ppm['日付'] <= pd.to_datetime('2021-05-17')) & \\\n",
    "#           (df_ppm[k.pref_name] == '兵庫県'), k.death] += (hyogo_death_20210518 / td_hyogo.days)"
   ]
  },
  {
   "cell_type": "code",
   "execution_count": null,
   "metadata": {},
   "outputs": [],
   "source": [
    "fig10 = px.timeline(#df_group_by_w[df_group_by_w[k_pref_code] <= 24],\n",
    "    df_ppm,\n",
    "    x_start=k.ts, x_end='p1w',\n",
    "    y=k.pref_name, color=k.death,\n",
    "    color_continuous_scale='Rainbow', labels={k.death:'dpm'})\n",
    "twbody10 = \"全国 新型コロナ 都道府県別 死者数 6/1～\"\n",
    "update_layout(fig10, twbody10, today_str)\n",
    "fig10.update_layout(\n",
    "    width=700, height=800,\n",
    "    xaxis=dict(type='date', dtick=2419200000.0, tickformat=\"%_m/%-d\"))\n",
    "fig10.update_yaxes(autorange=\"reversed\", side=\"right\")\n",
    "fig10.update_coloraxes(\n",
    "    showscale=True, \n",
    "    colorbar=dict(\n",
    "        xanchor='left', x=-0.05, \n",
    "        tickfont=dict(color=\"black\"),\n",
    "        ticklabelposition=\"inside\", ticks=\"inside\"))\n",
    "show_and_save_plotly(fig10, \"nhk-all-10.jpg\", html=True)"
   ]
  },
  {
   "cell_type": "code",
   "execution_count": null,
   "metadata": {},
   "outputs": [],
   "source": [
    "tw_msg = twbody10 + today_str + notes # \\\n",
    "#    + \"\\n※兵庫県2021/5/18発表の129人は3/26～5/17にdpm平均値として加算\\n\" + notes\n",
    "print(tw_msg)\n",
    "tweet_with_image(tw, \"docs/images/nhk-all-10.jpg\", tw_msg)"
   ]
  },
  {
   "cell_type": "code",
   "execution_count": null,
   "metadata": {},
   "outputs": [],
   "source": [
    "fig10 = px.timeline(#df_group_by_w[df_group_by_w[k_pref_code] <= 24],\n",
    "    df_ppm,\n",
    "    x_start=k.ts, x_end='p1w',\n",
    "    y=\"Prefectures\", color=k.death,\n",
    "    color_continuous_scale='Rainbow', labels={k.death:'dpm'})\n",
    "twbody10 = \"Japan Daily new confirmed COVID-19 deaths per million people\"\n",
    "update_layout(fig10, twbody10, today_str)\n",
    "fig10.update_layout(\n",
    "    width=720, height=800,\n",
    "    xaxis=dict(type='date', dtick=2419200000.0, tickformat=\"%_m/%-d\"))\n",
    "fig10.update_yaxes(autorange=\"reversed\", side=\"right\")\n",
    "fig10.update_coloraxes(\n",
    "    showscale=True, \n",
    "    colorbar=dict(\n",
    "        xanchor='left', x=-0.05, \n",
    "        tickfont=dict(color=\"black\"),\n",
    "        ticklabelposition=\"inside\", ticks=\"inside\"))\n",
    "save_plotly_in_en(fig10, \"nhk-all-10.jpg\")"
   ]
  },
  {
   "cell_type": "code",
   "execution_count": null,
   "metadata": {},
   "outputs": [],
   "source": [
    "tweet_with_image(tw, \"docs/images/en/nhk-all-10.jpg\", twbody10 + today_str)"
   ]
  },
  {
   "cell_type": "code",
   "execution_count": null,
   "metadata": {},
   "outputs": [],
   "source": []
  }
 ],
 "metadata": {
  "kernelspec": {
   "display_name": "Python 3",
   "language": "python",
   "name": "python3"
  },
  "language_info": {
   "codemirror_mode": {
    "name": "ipython",
    "version": 3
   },
   "file_extension": ".py",
   "mimetype": "text/x-python",
   "name": "python",
   "nbconvert_exporter": "python",
   "pygments_lexer": "ipython3",
   "version": "3.8.6"
  }
 },
 "nbformat": 4,
 "nbformat_minor": 4
}
