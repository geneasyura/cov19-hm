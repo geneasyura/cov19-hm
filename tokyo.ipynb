{
 "cells": [
  {
   "cell_type": "code",
   "execution_count": 244,
   "metadata": {},
   "outputs": [],
   "source": [
    "#!/usr/bin/python3\n",
    "# coding: -*- utf-8 -*-\n",
    "# Tokyo"
   ]
  },
  {
   "cell_type": "code",
   "execution_count": 2,
   "metadata": {},
   "outputs": [],
   "source": [
    "import codecs\n",
    "from datetime import datetime as dt\n",
    "from datetime import timedelta as td\n",
    "import json\n",
    "import matplotlib.pyplot as plt\n",
    "import matplotlib.dates as dates\n",
    "import numpy as np\n",
    "import os\n",
    "import pandas as pd\n",
    "import sklearn\n",
    "from sklearn.tree import DecisionTreeRegressor\n",
    "from sklearn.ensemble import AdaBoostRegressor\n",
    "from sklearn.gaussian_process import GaussianProcessRegressor\n",
    "from sklearn.gaussian_process.kernels import WhiteKernel, ExpSineSquared, RBF, ConstantKernel\n",
    "import sys\n",
    "from twitter import Twitter, OAuth\n",
    "from urllib.request import urlretrieve\n",
    "import yaml"
   ]
  },
  {
   "cell_type": "code",
   "execution_count": 3,
   "metadata": {},
   "outputs": [],
   "source": [
    "def age2int(age):\n",
    "    \"\"\" 年齢を整数に変換する \"\"\"\n",
    "    x = age.replace('-', '-1').replace('代', '').replace('10歳未満', '0').replace('100歳以上', '100').replace('不明', '-1')\n",
    "    if len(x) == 0:\n",
    "        return -1\n",
    "    return int(x)\n"
   ]
  },
  {
   "cell_type": "code",
   "execution_count": 4,
   "metadata": {},
   "outputs": [],
   "source": [
    "def code2int(code):\n",
    "    \"\"\" 空文字を不定-1に変換する \"\"\"\n",
    "    if len(code) == 0:\n",
    "        return -1\n",
    "    return int(code)\n"
   ]
  },
  {
   "cell_type": "code",
   "execution_count": 5,
   "metadata": {},
   "outputs": [],
   "source": [
    "def moving_average(data, periods=7):\n",
    "    w = np.ones(periods) / periods\n",
    "    ret = np.convolve(data, w, mode='valid')\n",
    "    ret = np.insert(ret, 0, [0 for i in range(periods - 1)])\n",
    "    return ret"
   ]
  },
  {
   "cell_type": "code",
   "execution_count": 6,
   "metadata": {},
   "outputs": [],
   "source": [
    "# 東京都の OpenData を参照する\n",
    "patients_file = \"130001_tokyo_covid19_patients.csv\"\n",
    "patients_uri = \"https://stopcovid19.metro.tokyo.lg.jp/data/\"\n",
    "if not os.path.exists(patients_file):\n",
    "    print(\"Downloading {} ...\".format(patients_file))\n",
    "    urlretrieve(patients_uri + patients_file, patients_file)"
   ]
  },
  {
   "cell_type": "code",
   "execution_count": 7,
   "metadata": {},
   "outputs": [
    {
     "name": "stdout",
     "output_type": "stream",
     "text": [
      "Total: 26169\n"
     ]
    }
   ],
   "source": [
    "patients = []\n",
    "# CSVデータを整形する\n",
    "with codecs.open(patients_file, encoding=\"utf-8\") as f:\n",
    "    l = f.readline()\n",
    "    while l:\n",
    "        l = f.readline().replace(\"\\r\\n\", \"\")\n",
    "        arr = l.split(',')\n",
    "        if len(arr) == 16:\n",
    "            patients.append(\n",
    "                [\n",
    "                    code2int(arr[0]), # No\n",
    "                    code2int(arr[1]), # code\n",
    "                    arr[2], # state\n",
    "                    arr[4], # date\n",
    "                    arr[5], # day of week\n",
    "                    arr[7], # live in\n",
    "                    age2int(arr[8]), # age\n",
    "                    arr[9], # sex\n",
    "                    arr[15] # discharge\n",
    "                ]\n",
    "            )\n",
    "\n",
    "print(\"Total: {}\".format(len(patients)))\n",
    "#print(patients[0])\n",
    "# 先頭３つのデータは飛ばす\n",
    "patients = patients[3:]\n",
    "#print(\"Total: {}\".format(len(patients)))"
   ]
  },
  {
   "cell_type": "code",
   "execution_count": 8,
   "metadata": {},
   "outputs": [],
   "source": [
    "# Pandas DataFrame を作成する\n",
    "df = pd.DataFrame(patients, columns=['No', 'Code', 'State', 'Date', 'DoW', 'LiveIn', 'Age', 'Sex', 'Discharge'])"
   ]
  },
  {
   "cell_type": "code",
   "execution_count": 9,
   "metadata": {},
   "outputs": [
    {
     "name": "stdout",
     "output_type": "stream",
     "text": [
      "Daily New: 196\n",
      "From: 2020-02-13 To: 2020-10-02\n"
     ]
    }
   ],
   "source": [
    "# Daily の新規感染者を集計する\n",
    "daily_new = df.groupby('Date').size()\n",
    "print(\"Daily New: {}\".format(daily_new[-1]))\n",
    "# duration\n",
    "frm_date = daily_new.index[0]\n",
    "end_date = daily_new.index[-1]\n",
    "print(\"From: {} To: {}\".format(frm_date, end_date))\n",
    "# moving average by week\n",
    "ave_mov_days = 7\n",
    "# 移動平均を算出する\n",
    "mov_mean = daily_new.rolling(ave_mov_days).mean()\n",
    "# 4 weeks later\n",
    "xbins = [dt.strptime(x, \"%Y-%m-%d\") for x in daily_new.index]\n",
    "days2pred = 2 * ave_mov_days # 2 weeks\n",
    "# 4週間先の日付列を取得する\n",
    "four_weeks_later = pd.date_range(xbins[-1] + td(days=1), xbins[-1] + td(days=days2pred)).to_pydatetime()\n",
    "xbins_pred = xbins.copy()\n",
    "xbins_pred.extend(four_weeks_later)"
   ]
  },
  {
   "cell_type": "code",
   "execution_count": 10,
   "metadata": {},
   "outputs": [],
   "source": [
    "# 決定木-AdaBoost による予測値を算出する\n",
    "rng = np.random.RandomState(1)\n",
    "regr_raw = AdaBoostRegressor(DecisionTreeRegressor(max_depth=4), n_estimators=300, random_state=rng)\n",
    "X = np.arange(0, len(daily_new.index.values))[:, np.newaxis]\n",
    "regr_raw.fit(X, daily_new.values)\n",
    "X_pred = np.arange(0, len(xbins_pred))[:, np.newaxis]\n",
    "y_raw = regr_raw.predict(X_pred)"
   ]
  },
  {
   "cell_type": "code",
   "execution_count": 11,
   "metadata": {},
   "outputs": [],
   "source": [
    "# ガウス過程回帰による予測値を算出する\n",
    "#gp_kernel = RBF(111) + ConstantKernel(11) + WhiteKernel(111)\n",
    "#gp_kernel = RBF(100) + ConstantKernel(10) + WhiteKernel(100)\n",
    "gp_kernel = RBF(80) + ConstantKernel(10) + WhiteKernel(200)\n",
    "gpr = GaussianProcessRegressor(kernel=gp_kernel, alpha=1e-1, optimizer=\"fmin_l_bfgs_b\", n_restarts_optimizer=10, normalize_y=True)\n",
    "gpr.fit(X, daily_new.values)\n",
    "y_gpr, y_std = gpr.predict(X_pred, return_std=True)"
   ]
  },
  {
   "cell_type": "code",
   "execution_count": 12,
   "metadata": {},
   "outputs": [],
   "source": [
    "fontname = 'MS Gothic'\n",
    "def create_basic_plot_figure():\n",
    "    plt.style.use(\"dark_background\")\n",
    "    fig, ax = plt.subplots(figsize=(20,10))\n",
    "    ax.xaxis.set_major_locator(dates.DayLocator(bymonthday=None, interval=7, tz=None))\n",
    "    ax.xaxis.set_major_formatter(dates.DateFormatter(\"%Y-%m-%d\"))\n",
    "    plt.ylabel('人数', fontname=fontname)\n",
    "    plt.grid(True)\n",
    "    plt.xticks(rotation=90, fontsize=10)\n",
    "    return fig, ax\n",
    "\n",
    "def show_and_clear(fig, filename):\n",
    "    if \"ipy\" in sys.argv[0]:\n",
    "        plt.show()\n",
    "    else:\n",
    "        fig.savefig(filename)\n",
    "    fig.clear()"
   ]
  },
  {
   "cell_type": "code",
   "execution_count": 13,
   "metadata": {},
   "outputs": [
    {
     "data": {
      "image/png": "[encoded data removed]",
      "text/plain": [
       "<Figure size 1440x720 with 2 Axes>"
      ]
     },
     "metadata": {},
     "output_type": "display_data"
    }
   ],
   "source": [
    "fig, ax = create_basic_plot_figure()\n",
    "ymax = max(daily_new)\n",
    "plt.title('東京都新規感染者数', fontname=fontname)\n",
    "plt.xlim(xbins_pred[ave_mov_days], xbins_pred[-1])\n",
    "plt.ylim(0, ymax)\n",
    "plt.plot(xbins, daily_new,  '.', linewidth=1, color='#c0ffc0')\n",
    "plt.bar(xbins, mov_mean, color='#008080', edgecolor='#008080', alpha=1)\n",
    "plt.legend(labels=[\"新規\", \"７日移動平均\"], loc='upper left', borderaxespad=0, fontsize=12, prop={\"family\":fontname})\n",
    "ax2 = ax.twinx()\n",
    "plt.plot(xbins_pred, y_gpr, '-', linewidth=1.5, color='#ff8080')\n",
    "plt.ylim(0, ymax)\n",
    "plt.legend(labels=[\"ガウス過程回帰\"], loc='upper right', borderaxespad=0, fontsize=12, prop={\"family\":fontname})\n",
    "show_and_clear(fig, \"tokyo.jpg\")"
   ]
  },
  {
   "cell_type": "code",
   "execution_count": 14,
   "metadata": {},
   "outputs": [],
   "source": [
    "def tweet_with_image(twtr, filename, msg):\n",
    "    print(msg)\n",
    "    with open(filename, \"rb\") as imagefile:\n",
    "        imagedata = imagefile.read()\n",
    "        params = {\"media[]\": imagedata, \"status\": tw_body}\n",
    "        req = twtr.statuses.update_with_media(**params)\n",
    "        print(req['created_at'])\n",
    "    print(\"Tweeted\")"
   ]
  },
  {
   "cell_type": "code",
   "execution_count": 15,
   "metadata": {},
   "outputs": [],
   "source": [
    "today_str = dt.now().isoformat()[:19].replace('T', ' ')\n",
    "tw_body = \"東京都の新規感染者数＋2週間予測（東京都 \" + today_str + \" 時点）\"\n",
    "\n",
    "tw_cfg = yaml.load(open(\".tokens\"), Loader=yaml.SafeLoader)\n",
    "tw = Twitter(auth=OAuth(\n",
    "    tw_cfg['ACCESS_TOKEN'], tw_cfg['ACCESS_TOKEN_SECRET'],\n",
    "    tw_cfg['CONSUMER_KEY'], tw_cfg['CONSUMER_SECRET']))\n",
    "\n",
    "if \"ipy\" not in sys.argv[0]:\n",
    "    tweet_with_image(tw, \"tokyo.jpg\", tw_body)"
   ]
  },
  {
   "cell_type": "code",
   "execution_count": 16,
   "metadata": {},
   "outputs": [],
   "source": [
    "def json2nparr(keys, filename):\n",
    "    lst = []\n",
    "    with codecs.open(filename, encoding='utf-8') as f:\n",
    "        jsn = json.load(f)\n",
    "        print(\"{} 更新日: {}\".format(filename, jsn['date']))\n",
    "        npa = np.asarray(jsn['data'])\n",
    "        for l in npa:\n",
    "            elems = [dt.strptime(l[\"diagnosed_date\"], \"%Y-%m-%d\")]\n",
    "            for k in keys:\n",
    "                if l[k] is None:\n",
    "                    elems.append(0)\n",
    "                else:\n",
    "                    elems.append(l[k])\n",
    "            lst.append(elems)\n",
    "    return np.array(lst)"
   ]
  },
  {
   "cell_type": "code",
   "execution_count": 17,
   "metadata": {},
   "outputs": [],
   "source": [
    "# Github JSON データ\n",
    "github_uri = \"https://raw.githubusercontent.com/tokyo-metropolitan-gov/covid19/development/data/\"\n",
    "raw_files = dict(\n",
    "    pos_rate = \"positive_rate.json\", # 陽性率\n",
    "    pos_detail = \"daily_positive_detail.json\", # 経路情報\n",
    ")\n",
    "\n",
    "for k, v in raw_files.items():\n",
    "    if not os.path.exists(v):\n",
    "        print(\"Downloading {} ...\".format(v))\n",
    "        urlretrieve(github_uri + v, v)"
   ]
  },
  {
   "cell_type": "code",
   "execution_count": 18,
   "metadata": {
    "scrolled": false
   },
   "outputs": [],
   "source": [
    "keys_rate = [\n",
    "    #\"diagnosed_date\",\n",
    "    \"positive_count\",\n",
    "    \"negative_count\",\n",
    "    \"positive_rate\",\n",
    "    \"weekly_average_diagnosed_count\",\n",
    "    \"pcr_positive_count\",\n",
    "    \"pcr_negative_count\",\n",
    "    \"antigen_positive_count\",\n",
    "    \"antigen_negative_count\"\n",
    "]"
   ]
  },
  {
   "cell_type": "code",
   "execution_count": null,
   "metadata": {
    "scrolled": false
   },
   "outputs": [],
   "source": [
    "pos_rate_np = json2nparr(keys_rate, raw_files['pos_rate'])\n",
    "fig, ax = create_basic_plot_figure()\n",
    "plt.title('東京都 検査人数・陽性率', fontname=fontname)\n",
    "plt.ylabel('人数', fontname=fontname)\n",
    "xbins = pos_rate_np[:, 0]\n",
    "plt.plot(xbins, pos_rate_np[:, 1] + pos_rate_np[:, 2], '.', linewidth=1.5, color='#00ff00')\n",
    "#plt.plot(xbins, pos_rate_np[:, 4], '-', linewidth=1.5, color='#008000')\n",
    "plt.bar(xbins, pos_rate_np[:, 4], color='#008000', edgecolor='#008000', alpha=.75)\n",
    "plt.legend(labels=[\"検査人数\", \"移動平均\"], loc='upper left', borderaxespad=0, fontsize=12, prop={\"family\":fontname})\n",
    "ax2 = ax.twinx()\n",
    "plt.ylim(0, 50)\n",
    "ax2.bar(xbins, pos_rate_np[:, 3], color='pink', edgecolor='pink', alpha=.5)\n",
    "plt.legend(labels=[\"陽性率[%]\"], loc='upper right', borderaxespad=0, fontsize=12, prop={\"family\":fontname})\n",
    "show_and_clear(fig, \"tokyo-rate.jpg\")"
   ]
  },
  {
   "cell_type": "code",
   "execution_count": null,
   "metadata": {},
   "outputs": [],
   "source": [
    "today_str = dt.now().isoformat()[:19].replace('T', ' ')\n",
    "tw_body = \"東京都の検査人数・陽性率（東京都 \" + today_str + \" 時点）\"\n",
    "\n",
    "if \"ipy\" not in sys.argv[0]:\n",
    "    tweet_with_image(tw, \"tokyo-rate.jpg\", tw_body)"
   ]
  },
  {
   "cell_type": "code",
   "execution_count": null,
   "metadata": {},
   "outputs": [],
   "source": [
    "keys_detail = [\n",
    "    #\"diagnosed_date\",\n",
    "    \"count\",\n",
    "    \"missing_count\",\n",
    "    \"reported_count\",\n",
    "    \"weekly_gain_ratio\",\n",
    "    \"untracked_percent\",\n",
    "    \"weekly_average_count\",\n",
    "    \"weekly_average_untracked_count\",\n",
    "    \"weekly_average_untracked_increse_percent\"]"
   ]
  },
  {
   "cell_type": "code",
   "execution_count": null,
   "metadata": {},
   "outputs": [],
   "source": [
    "pos_detail_np = json2nparr(keys_detail, raw_files['pos_detail'])\n",
    "xbins = pos_detail_np[:, 0]\n",
    "fig, ax = create_basic_plot_figure()\n",
    "plt.title('東京都 経路不明率', fontname=fontname)\n",
    "plt.ylim(0, 100)\n",
    "plt.ylabel('経路不明率[%]', fontname=fontname)\n",
    "plt.bar(xbins, pos_detail_np[:, 5], color='#c08080', edgecolor='#c08080', alpha=.8)\n",
    "plt.legend(labels=[\"経路不明率[%]\"], loc='upper left', borderaxespad=0, fontsize=12, prop={\"family\":fontname})\n",
    "ax2 = ax.twinx()\n",
    "plt.ylabel('人数', fontname=fontname)\n",
    "ax2.plot(xbins, pos_detail_np[:, 1], '.', color='#00ff00', label='感染者')\n",
    "ax2.plot(xbins, pos_detail_np[:, 2], '.', color='white', label=\"経路不明者\")\n",
    "ax2.bar(xbins, moving_average(pos_detail_np[:, 1]), color='#00c000', edgecolor='#00c000', alpha=.5, label=\"感染者-移動平均\")\n",
    "ax2.bar(xbins, pos_detail_np[:, 7], color='#000080', edgecolor='#000080', alpha=.3, label=\"経路不明者-移動平均\")\n",
    "plt.legend(loc='upper right', borderaxespad=0, fontsize=12, prop={\"family\":fontname})\n",
    "show_and_clear(fig, \"tokyo-track.jpg\")"
   ]
  },
  {
   "cell_type": "code",
   "execution_count": null,
   "metadata": {},
   "outputs": [],
   "source": [
    "today_str = dt.now().isoformat()[:19].replace('T', ' ')\n",
    "tw_body = \"東京都の経路不明率（東京都 \" + today_str + \" 時点）\"\n",
    "\n",
    "if \"ipy\" not in sys.argv[0]:\n",
    "    tweet_with_image(tw, \"tokyo-track.jpg\", tw_body)"
   ]
  },
  {
   "cell_type": "code",
   "execution_count": null,
   "metadata": {},
   "outputs": [],
   "source": []
  }
 ],
 "metadata": {
  "kernelspec": {
   "display_name": "Python 3",
   "language": "python",
   "name": "python3"
  },
  "language_info": {
   "codemirror_mode": {
    "name": "ipython",
    "version": 3
   },
   "file_extension": ".py",
   "mimetype": "text/x-python",
   "name": "python",
   "nbconvert_exporter": "python",
   "pygments_lexer": "ipython3",
   "version": "3.8.6"
  }
 },
 "nbformat": 4,
 "nbformat_minor": 4
}
