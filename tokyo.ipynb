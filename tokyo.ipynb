{
 "cells": [
  {
   "cell_type": "code",
   "execution_count": null,
   "metadata": {},
   "outputs": [],
   "source": [
    "#!/usr/bin/python3\n",
    "# coding: utf-8\n",
    "# Tokyo"
   ]
  },
  {
   "cell_type": "code",
   "execution_count": null,
   "metadata": {},
   "outputs": [],
   "source": [
    "import codecs\n",
    "from datetime import datetime as dt\n",
    "from datetime import timedelta as td\n",
    "from jma_csvdl import save_jma_data, parse_jma_csv\n",
    "import matplotlib.pyplot as plt\n",
    "import matplotlib.dates as dates\n",
    "import numpy as np\n",
    "import os\n",
    "import pandas as pd\n",
    "import plotly\n",
    "import plotly.express as px\n",
    "import plotly.tools as tls\n",
    "import plotly.graph_objects as go\n",
    "import plotly.io as pio\n",
    "import plotly.offline as offline\n",
    "from plotly.subplots import make_subplots\n",
    "import sys\n",
    "if \"ipy\" in sys.argv[0]:\n",
    "    offline.init_notebook_mode()\n",
    "from cov19utils import create_basic_plot_figure, \\\n",
    "    show_and_clear, moving_average, \\\n",
    "    blank2zero, csv2array, \\\n",
    "    get_twitter, tweet_with_image, \\\n",
    "    get_gpr_predict, FONT_NAME, DT_OFFSET, \\\n",
    "    download_if_needed, json2nparr, code2int, age2int, \\\n",
    "    show_and_save_plotly, make_exp_fit_graph, save_plotly_in_en\n",
    "from urllib.request import urlretrieve"
   ]
  },
  {
   "cell_type": "code",
   "execution_count": null,
   "metadata": {},
   "outputs": [],
   "source": [
    "today_str = dt.now().isoformat()[:16].replace('T', ' ')\n",
    "# 東京都の OpenData を参照する\n",
    "patients_file = \"130001_tokyo_covid19_patients.csv\"\n",
    "patients_uri = \"https://stopcovid19.metro.tokyo.lg.jp/data/\"\n",
    "try:\n",
    "    download_if_needed(patients_uri, patients_file)\n",
    "except:\n",
    "    print(\"download error: tokyo covid19 patients file is incomplete.\")\n",
    "    if \"ipy\" in sys.argv[0]:\n",
    "        pass#exit()\n",
    "    else:\n",
    "        sys.exit()"
   ]
  },
  {
   "cell_type": "code",
   "execution_count": null,
   "metadata": {},
   "outputs": [],
   "source": [
    "patients = []\n",
    "# CSVデータを整形する\n",
    "with codecs.open(patients_file, encoding=\"utf-8\") as f:\n",
    "    l = f.readline()\n",
    "    while l:\n",
    "        l = f.readline().replace(\"\\r\\n\", \"\")\n",
    "        arr = l.split(',')\n",
    "        if len(arr) == 17:\n",
    "            patients.append(\n",
    "                [\n",
    "                    code2int(arr[0]), # No\n",
    "                    code2int(arr[1]), # code\n",
    "                    arr[2], # state\n",
    "                    arr[4], # date\n",
    "                    arr[5], # day of week\n",
    "                    arr[7], # live in\n",
    "                    age2int(arr[8]), # age\n",
    "                    arr[9], # sex\n",
    "                    arr[16] # discharge\n",
    "                ]\n",
    "            )\n",
    "\n",
    "print(\"Total: {}\".format(len(patients)))\n",
    "# 先頭３つのデータは飛ばす\n",
    "patients = patients[3:]\n",
    "#print(\"Total: {}\".format(len(patients)))"
   ]
  },
  {
   "cell_type": "code",
   "execution_count": null,
   "metadata": {},
   "outputs": [],
   "source": [
    "# Pandas DataFrame を作成する\n",
    "df = pd.DataFrame(patients, columns=['No', 'Code', 'State', 'Date', 'DoW', 'LiveIn', 'Age', 'Sex', 'Discharge'])"
   ]
  },
  {
   "cell_type": "code",
   "execution_count": null,
   "metadata": {},
   "outputs": [],
   "source": [
    "# Daily の新規感染者を集計する\n",
    "daily_new = df.groupby('Date').size()\n",
    "print(\"Daily New: {}\".format(daily_new[-1]))\n",
    "# duration\n",
    "frm_date = daily_new.index[0]\n",
    "end_date = daily_new.index[-1]\n",
    "print(\"From: {} To: {}\".format(frm_date, end_date))\n",
    "\n",
    "with open(\"tokyo.prev.tmp\", \"rt\") as f:\n",
    "    prev = f.read().rstrip()\n",
    "if end_date == prev:\n",
    "    print(\"maybe the same data, nothing to do.\")\n",
    "    if \"ipy\" in sys.argv[0]:\n",
    "        pass#exit()\n",
    "    else:\n",
    "        sys.exit()\n",
    "with open(\"tokyo.prev.tmp\", \"wt\") as f:\n",
    "    f.write(end_date)"
   ]
  },
  {
   "cell_type": "code",
   "execution_count": null,
   "metadata": {},
   "outputs": [],
   "source": [
    "# moving average by week\n",
    "ave_mov_days = 7\n",
    "# 移動平均を算出する\n",
    "mov_mean = daily_new.rolling(ave_mov_days).mean()"
   ]
  },
  {
   "cell_type": "code",
   "execution_count": null,
   "metadata": {},
   "outputs": [],
   "source": [
    "# 4 weeks later\n",
    "xbins = [dt.strptime(x, \"%Y-%m-%d\") for x in daily_new.index]\n",
    "days2pred = 2 * ave_mov_days # 2 weeks\n",
    "# 2週間先の日付列を取得する\n",
    "two_weeks_later = pd.date_range(xbins[-1] + td(days=1), xbins[-1] + td(days=days2pred)).to_pydatetime()\n",
    "xbins_pred = xbins.copy()\n",
    "xbins_pred.extend(two_weeks_later)\n",
    "\n",
    "X = np.arange(0, len(daily_new.index.values))[:, np.newaxis]\n",
    "X_pred = np.arange(0, len(xbins_pred))[:, np.newaxis]\n",
    "y_gpr = get_gpr_predict(X, daily_new.values, X_pred, 80, 10, 200)"
   ]
  },
  {
   "cell_type": "code",
   "execution_count": null,
   "metadata": {},
   "outputs": [],
   "source": [
    "save_jma_data(\"tokyo-jma.csv\", city_code=\"s47662\")\n",
    "weather_tokyo = parse_jma_csv(\"tokyo-jma.csv\")\n",
    "print(\"Loaded {} data.\".format(len(weather_tokyo)))\n",
    "df_weather = pd.DataFrame(weather_tokyo, columns=['Date', 'Temp', 'RH', 'VP', 'AP', 'AH', 'Fd'])\n",
    "fig = px.scatter(df_weather, x='Date', y=['AH'])\n",
    "fig.update_layout(template='plotly_dark')\n",
    "if \"ipy\" in sys.argv[0]:\n",
    "    fig.show()\n",
    "np_weather = np.array(weather_tokyo)"
   ]
  },
  {
   "cell_type": "code",
   "execution_count": null,
   "metadata": {
    "scrolled": false
   },
   "outputs": [],
   "source": [
    "fig = make_subplots(specs=[[{\"secondary_y\": True}]])\n",
    "fig.add_trace(\n",
    "    go.Scatter(x=xbins, y=daily_new, mode='markers', name='新規',\n",
    "               marker=dict(size=4)), secondary_y=False)\n",
    "fig.add_trace(go.Bar(\n",
    "    x=xbins, y=mov_mean, name='7日移動平均', opacity=0.6), \n",
    "              secondary_y=False)\n",
    "#fig.add_trace(\n",
    "#    go.Scatter(x=xbins_pred, y=y_gpr, mode='lines', name='予測',\n",
    "#               line=dict(width=1)), secondary_y=False)\n",
    "fig.add_trace(go.Scatter(\n",
    "    x=np_weather[:, 0], # 日付\n",
    "    y=moving_average(np_weather[:, 5]), # 絶対湿度\n",
    "    name=\"絶対湿度\",\n",
    "    line=dict(width=1)), secondary_y=True)\n",
    "fig.update_layout(\n",
    "    xaxis=dict(title='日付', type='date',\n",
    "               dtick=1209600000.0, tickformat=\"%_m/%-d\",\n",
    "               range=[xbins[10], xbins_pred[-1]]\n",
    "              ),\n",
    "    yaxis=dict(title='人数', type=\"log\"),\n",
    "    yaxis2=dict(title='東京平均容積絶対湿度 [g/㎥] 移動平均'),\n",
    "    title='東京都 新型コロナ 新規感染者数/絶対湿度({})'.format(today_str),\n",
    ")\n",
    "show_and_save_plotly(fig, \"tokyo.jpg\", js=False)"
   ]
  },
  {
   "cell_type": "code",
   "execution_count": null,
   "metadata": {},
   "outputs": [],
   "source": [
    "tw_body = \"東京都 新型コロナ予測 新規感染者数(\" + today_str + \")\"\n",
    "tw_body += \" https://geneasyura.github.io/cov19-hm/tokyo.html \"\n",
    "tw = get_twitter()\n",
    "tweet_with_image(tw, \"docs/images/tokyo.jpg\", tw_body)"
   ]
  },
  {
   "cell_type": "code",
   "execution_count": null,
   "metadata": {},
   "outputs": [],
   "source": [
    "tw_body = 'Tokyo daily new confirmed COVID-19 cases and volumetric humidity<br>' \\\n",
    "    + '(last updated on {}) '.format(today_str)\n",
    "fig['data'][0]['name'] = 'new cases'\n",
    "fig['data'][1]['name'] = 'rolling'\n",
    "fig['data'][2]['name'] = 'VH'\n",
    "fig.update_layout(\n",
    "    xaxis=dict(title='date', type='date',\n",
    "               dtick=1209600000.0, tickformat=\"%_m/%-d\",\n",
    "               range=[xbins[10], xbins_pred[-1]]\n",
    "              ),\n",
    "    yaxis=dict(title='cases [log]', type=\"log\"),\n",
    "    yaxis2=dict(title='volumetric humidity [g/㎥] in the rolling 7-day average.'),\n",
    "    title=tw_body,\n",
    "    margin={\"r\":10,\"t\":100,\"l\":10,\"b\":100},\n",
    "    height=700, width=1000,\n",
    ")\n",
    "save_plotly_in_en(fig, \"tokyo.jpg\")"
   ]
  },
  {
   "cell_type": "code",
   "execution_count": null,
   "metadata": {},
   "outputs": [],
   "source": [
    "tweet_with_image(tw, \"docs/images/en/tokyo.jpg\", tw_body.replace('<br>', ''))"
   ]
  },
  {
   "cell_type": "code",
   "execution_count": null,
   "metadata": {},
   "outputs": [],
   "source": [
    "# Github JSON データ\n",
    "github_uri = \"https://raw.githubusercontent.com/tokyo-metropolitan-gov/covid19/development/data/\"\n",
    "raw_files = dict(\n",
    "    pos_rate = \"positive_rate.json\", # 陽性率\n",
    "    pos_detail = \"daily_positive_detail.json\", # 経路情報\n",
    "    patient = \"patient.json\", # 区別\n",
    ")\n",
    "\n",
    "for k, v in raw_files.items():\n",
    "    download_if_needed(github_uri, v)"
   ]
  },
  {
   "cell_type": "code",
   "execution_count": null,
   "metadata": {
    "scrolled": false
   },
   "outputs": [],
   "source": [
    "keys_rate = [\n",
    "    #\"diagnosed_date\",\n",
    "    \"positive_count\",\n",
    "    \"negative_count\",\n",
    "    \"positive_rate\",\n",
    "    \"weekly_average_diagnosed_count\",\n",
    "    \"pcr_positive_count\",\n",
    "    \"pcr_negative_count\",\n",
    "    \"antigen_positive_count\",\n",
    "    \"antigen_negative_count\"\n",
    "]"
   ]
  },
  {
   "cell_type": "code",
   "execution_count": null,
   "metadata": {},
   "outputs": [],
   "source": [
    "pos_rate_np = json2nparr(keys_rate, raw_files['pos_rate'])\n",
    "# 検査件数\n",
    "tests_cnt = pos_rate_np[:, 1] + pos_rate_np[:, 2]"
   ]
  },
  {
   "cell_type": "code",
   "execution_count": null,
   "metadata": {},
   "outputs": [],
   "source": [
    "xbins = pos_rate_np[:, 0]\n",
    "two_weeks_later = pd.date_range(xbins[-1] + td(days=1), xbins[-1] + td(days=days2pred)).to_pydatetime()\n",
    "xbins_pred = xbins.tolist()\n",
    "xbins_pred.extend(two_weeks_later)\n",
    "X = np.arange(0, len(pos_rate_np[:, 0]))[:, np.newaxis]\n",
    "X_pred = np.arange(0, len(xbins_pred))[:, np.newaxis]\n",
    "\n",
    "y_test = get_gpr_predict(X, tests_cnt, X_pred, 10, 10, 10)\n",
    "y_rate = get_gpr_predict(X, pos_rate_np[:, 3], X_pred)"
   ]
  },
  {
   "cell_type": "code",
   "execution_count": null,
   "metadata": {},
   "outputs": [],
   "source": [
    "fig = make_subplots(specs=[[{\"secondary_y\": True}]])\n",
    "fig.add_trace(go.Scatter(x=xbins, y=tests_cnt, mode='markers', name='検査人数',\n",
    "                                       marker=dict(size=4)), secondary_y=False)\n",
    "fig.add_trace(go.Bar(x=xbins, y=pos_rate_np[:, 4], name='移動平均', opacity=0.75), \n",
    "                    secondary_y=False)\n",
    "fig.add_trace(go.Scatter(x=xbins_pred, y=y_test, mode='lines', name='予測値',\n",
    "                         line=dict(width=1)), secondary_y=False)\n",
    "fig.add_trace(go.Bar(x=xbins, y=pos_rate_np[:, 3], name=\"陽性率[%]\", opacity=0.75),\n",
    "                         secondary_y=True)\n",
    "fig.add_trace(go.Scatter(x=xbins_pred, y=y_rate, name=\"予測値\",\n",
    "                         line=dict(width=1)), secondary_y=True)\n",
    "fig.update_layout(\n",
    "    barmode='overlay',\n",
    "    xaxis=dict(title='日付', type='date', \n",
    "               dtick=1209600000.0, tickformat=\"%_m/%-d\",\n",
    "               range=(xbins_pred[7], xbins_pred[-1])),\n",
    "    yaxis=dict(title='人数'),\n",
    "    title='東京都 新型コロナ 検査人数/陽性率({})'.format(today_str),\n",
    ")\n",
    "show_and_save_plotly(fig, \"tokyo-rate.jpg\", js=False)"
   ]
  },
  {
   "cell_type": "code",
   "execution_count": null,
   "metadata": {},
   "outputs": [],
   "source": [
    "today_str = dt.now().isoformat()[:19].replace('T', ' ')\n",
    "tw_body = \"東京都 新型コロナ予測 検査人数/陽性率(\" + today_str + \") \"\n",
    "tw_body += \" https://geneasyura.github.io/cov19-hm/tokyo.html \"\n",
    "tweet_with_image(tw, \"docs/images/tokyo-rate.jpg\", tw_body)"
   ]
  },
  {
   "cell_type": "code",
   "execution_count": null,
   "metadata": {},
   "outputs": [],
   "source": [
    "tw_body = 'Tokyo daily new confirmed COVID-19 tests and positive rates<br>' \\\n",
    "    + '(last updated on {}) '.format(today_str)\n",
    "fig['data'][0]['name'] = 'tests'\n",
    "fig['data'][1]['name'] = 'rolling'\n",
    "fig['data'][2]['name'] = 'filtered'\n",
    "fig['data'][3]['name'] = 'positive rates'\n",
    "fig['data'][4]['name'] = 'filtered'\n",
    "fig.update_layout(\n",
    "    xaxis=dict(title='date', type='date',\n",
    "               dtick=1209600000.0, tickformat=\"%_m/%-d\",\n",
    "               range=[xbins[10], xbins_pred[-1]]\n",
    "              ),\n",
    "    yaxis=dict(title='tests'),\n",
    "    yaxis2=dict(title='positive rates [%]'),\n",
    "    title=tw_body,\n",
    "    margin={\"r\":10,\"t\":100,\"l\":10,\"b\":100},\n",
    "    height=700, width=1000,\n",
    ")\n",
    "save_plotly_in_en(fig, \"tokyo-rate.jpg\")"
   ]
  },
  {
   "cell_type": "code",
   "execution_count": null,
   "metadata": {},
   "outputs": [],
   "source": [
    "tweet_with_image(tw, \"docs/images/en/tokyo-rate.jpg\", tw_body.replace('<br>', ''))"
   ]
  },
  {
   "cell_type": "code",
   "execution_count": null,
   "metadata": {},
   "outputs": [],
   "source": [
    "keys_detail = [\n",
    "    #\"diagnosed_date\",\n",
    "    \"count\",\n",
    "    \"missing_count\",\n",
    "    \"reported_count\",\n",
    "    \"weekly_gain_ratio\",\n",
    "    \"untracked_percent\",\n",
    "    \"weekly_average_count\",\n",
    "    \"weekly_average_untracked_count\",\n",
    "    \"weekly_average_untracked_increse_percent\"]"
   ]
  },
  {
   "cell_type": "code",
   "execution_count": null,
   "metadata": {},
   "outputs": [],
   "source": [
    "pos_detail_np = json2nparr(keys_detail, raw_files['pos_detail'])\n",
    "xbins = pos_detail_np[:, 0]"
   ]
  },
  {
   "cell_type": "code",
   "execution_count": null,
   "metadata": {},
   "outputs": [],
   "source": [
    "two_weeks_later = pd.date_range(xbins[-1] + td(days=1), xbins[-1] + td(days=days2pred)).to_pydatetime()\n",
    "xbins_pred = xbins.tolist()\n",
    "xbins_pred.extend(two_weeks_later)\n",
    "X = np.arange(0, len(pos_detail_np[:, 0]))[:, np.newaxis]\n",
    "X_pred = np.arange(0, len(xbins_pred))[:, np.newaxis]"
   ]
  },
  {
   "cell_type": "code",
   "execution_count": null,
   "metadata": {},
   "outputs": [],
   "source": [
    "#y_un_rate = get_gpr_predict(X, pos_detail_np[:, 5], X_pred, 1.0, 1.0, 1.0)\n",
    "#y_cases = get_gpr_predict(X, pos_detail_np[:, 1], X_pred)\n",
    "#y_untrack = get_gpr_predict(X, pos_detail_np[:, 2], X_pred)"
   ]
  },
  {
   "cell_type": "code",
   "execution_count": null,
   "metadata": {},
   "outputs": [],
   "source": [
    "fig = make_subplots(specs=[[{\"secondary_y\": True}]])\n",
    "#fig.add_trace(go.Bar(x=xbins, y=pos_detail_np[:, 5], name='経路不明率[%]', opacity=0.3, marker_color='#c08080'),  secondary_y=True)\n",
    "#fig.add_trace(go.Scatter(x=xbins_pred, y=y_un_rate, name='経路不明率-予測値', line=dict(width=1)), secondary_y=True)\n",
    "fig.add_trace(go.Scatter(x=xbins, y=pos_detail_np[:, 5], name='経路不明率[%]', line=dict(width=1)), secondary_y=True)\n",
    "fig.add_trace(go.Scatter(x=xbins, y=pos_detail_np[:, 1], mode='markers', name='感染者', marker=dict(size=4, color='#00ff00')), secondary_y=False)\n",
    "fig.add_trace(go.Bar(x=xbins, y=moving_average(pos_detail_np[:, 1]), name='感染者-移動平均', opacity=0.5, marker_color='#00c000'),  secondary_y=False)\n",
    "#fig.add_trace(go.Scatter(x=xbins_pred, y=y_cases, name=\"感染者-予測値\",   line=dict(width=1)), secondary_y=False)\n",
    "#fig.add_trace(go.Scatter(x=xbins, y=pos_detail_np[:, 2], mode='markers', name='経路不明者', marker=dict(size=4, color='#ffffff')), secondary_y=False)\n",
    "#fig.add_trace(go.Bar(x=xbins, y=pos_detail_np[:, 7], name='経路不明者-移動平均', opacity=0.7, marker_color='#000080'),  secondary_y=False)\n",
    "#fig.add_trace(go.Scatter(x=xbins, y=pos_detail_np[:, 7], mode='markers', name='経路不明者-移動平均', marker=dict(size=4, color='#ffffff')), secondary_y=False)\n",
    "#fig.add_trace(go.Scatter(x=xbins_pred, y=y_untrack, name=\"経路不明者-予測値\",   line=dict(width=1)), secondary_y=False)\n",
    "fig.update_layout(\n",
    "    barmode='overlay',\n",
    "    xaxis=dict(title='日付', type='date',\n",
    "               dtick=1209600000.0, tickformat=\"%_m/%-d\",\n",
    "               range=[xbins[10], xbins_pred[-1]]\n",
    "              ),\n",
    "    yaxis=dict(title='人数', type='log'),\n",
    "    title='東京都 新型コロナ 経路不明率({})'.format(today_str),\n",
    ")\n",
    "show_and_save_plotly(fig, \"tokyo-track.jpg\", js=False)"
   ]
  },
  {
   "cell_type": "code",
   "execution_count": null,
   "metadata": {},
   "outputs": [],
   "source": [
    "today_str = dt.now().isoformat()[:19].replace('T', ' ')\n",
    "tw_body = \"東京都 新型コロナ予測 経路不明率(\" + today_str + \") \"\n",
    "tw_body += \" https://geneasyura.github.io/cov19-hm/tokyo.html \"\n",
    "tweet_with_image(tw, \"docs/images/tokyo-track.jpg\", tw_body)"
   ]
  },
  {
   "cell_type": "code",
   "execution_count": null,
   "metadata": {},
   "outputs": [],
   "source": []
  },
  {
   "cell_type": "code",
   "execution_count": null,
   "metadata": {
    "scrolled": false
   },
   "outputs": [],
   "source": [
    "if \"ipy\" in sys.argv[0]:\n",
    "    title = '東京都 新型コロナ 新規感染者数/指数近似 (' + today_str + ')'\n",
    "    xos = 510\n",
    "    make_exp_fit_graph(tw, \n",
    "        xbins[xos:], pos_detail_np[xos:, 1], \n",
    "        title, \"tokyo-fit.jpg\", \"tokyo-doubling-time.html\", \"tokyo.html\")"
   ]
  },
  {
   "cell_type": "code",
   "execution_count": null,
   "metadata": {},
   "outputs": [],
   "source": [
    "#np.append(xbins, )\n",
    "xbins[-1] + td(days=1)"
   ]
  },
  {
   "cell_type": "code",
   "execution_count": null,
   "metadata": {},
   "outputs": [],
   "source": [
    "if \"ipy\" in sys.argv[0]:\n",
    "    title = '東京都 新型コロナ 新規移動平均/指数近似 (' + today_str + ')'\n",
    "    ydata = moving_average(pos_detail_np[:, 1])\n",
    "    xos = 310\n",
    "    make_exp_fit_graph(tw, \n",
    "        xbins[xos:], ydata[xos:], \n",
    "        title, \"tokyo-fit-ave.jpg\", \"tokyo-doubling-time-ave.html\", \"tokyo.html\")"
   ]
  },
  {
   "cell_type": "code",
   "execution_count": null,
   "metadata": {},
   "outputs": [],
   "source": []
  }
 ],
 "metadata": {
  "kernelspec": {
   "display_name": "Python 3",
   "language": "python",
   "name": "python3"
  },
  "language_info": {
   "codemirror_mode": {
    "name": "ipython",
    "version": 3
   },
   "file_extension": ".py",
   "mimetype": "text/x-python",
   "name": "python",
   "nbconvert_exporter": "python",
   "pygments_lexer": "ipython3",
   "version": "3.8.6"
  }
 },
 "nbformat": 4,
 "nbformat_minor": 4
}
