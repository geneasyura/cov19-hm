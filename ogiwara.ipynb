{
 "cells": [
  {
   "cell_type": "code",
   "execution_count": null,
   "metadata": {},
   "outputs": [],
   "source": [
    "#!/usr/bin/python3\n",
    "# coding: utf-8\n",
    "# MHLW"
   ]
  },
  {
   "cell_type": "code",
   "execution_count": null,
   "metadata": {},
   "outputs": [],
   "source": [
    "from datetime import datetime as dt\n",
    "from datetime import timedelta as td\n",
    "import matplotlib.pyplot as plt\n",
    "import numpy as np\n",
    "import os\n",
    "import pandas as pd\n",
    "import sys\n",
    "import plotly\n",
    "import plotly.express as px\n",
    "import plotly.tools as tls\n",
    "import plotly.graph_objects as go\n",
    "import plotly.io as pio\n",
    "import plotly.offline as offline\n",
    "from plotly.subplots import make_subplots\n",
    "if \"ipy\" in sys.argv[0]:\n",
    "    offline.init_notebook_mode()\n",
    "from cov19utils import create_basic_plot_figure, \\\n",
    "    show_and_clear, moving_average, \\\n",
    "    blank2zero, csv2array, \\\n",
    "    get_twitter, tweet_with_image, \\\n",
    "    get_gpr_predict, FONT_NAME, DT_OFFSET, \\\n",
    "    download_if_needed, show_and_save_plotly, \\\n",
    "    make_exp_fit_graph"
   ]
  },
  {
   "cell_type": "code",
   "execution_count": null,
   "metadata": {},
   "outputs": [],
   "source": [
    "today_str = dt.now().isoformat()[:16].replace('T', ' ')"
   ]
  },
  {
   "cell_type": "code",
   "execution_count": null,
   "metadata": {},
   "outputs": [],
   "source": [
    "dt_range = (dt.today() - dt.strptime(DT_OFFSET, \"%Y/%m/%d\")).days\n",
    "from_date = dt.strptime(DT_OFFSET, \"%Y/%m/%d\")\n",
    "xbins = [from_date + td(days=i) for i in range(dt_range)]\n",
    "days2pred = 4 * 7\n",
    "xbins_pred = [from_date + td(days=i) for i in range(dt_range + days2pred)]"
   ]
  },
  {
   "cell_type": "code",
   "execution_count": null,
   "metadata": {},
   "outputs": [],
   "source": [
    "# 実効再生産数\n",
    "ogiwara_uri = \"https://raw.githubusercontent.com/kaz-ogiwara/covid19/master/data/\"\n",
    "ern_file = \"effective_reproduction_number.csv\"\n",
    "download_if_needed(ogiwara_uri, ern_file)"
   ]
  },
  {
   "cell_type": "code",
   "execution_count": null,
   "metadata": {},
   "outputs": [],
   "source": [
    "ern_data_arr = []\n",
    "for i in np.arange(dt_range):\n",
    "    ern_data_arr.append([i, 0, 0, 0])\n",
    "csv2array(ern_data_arr, 'ern', ern_file, 1)\n",
    "ern_data_np = np.array(ern_data_arr)\n",
    "#print(ern_data_np[:,1])"
   ]
  },
  {
   "cell_type": "code",
   "execution_count": null,
   "metadata": {},
   "outputs": [],
   "source": [
    "X = np.arange(0, len(ern_data_arr))[:, np.newaxis]\n",
    "X_pred = np.arange(0, len(xbins_pred))[:, np.newaxis]\n",
    "y_ern = get_gpr_predict(X, ern_data_np[:, 1], X_pred, 80, 10, 200)"
   ]
  },
  {
   "cell_type": "code",
   "execution_count": null,
   "metadata": {},
   "outputs": [],
   "source": [
    "if False:\n",
    "    fig, ax = create_basic_plot_figure()\n",
    "    plt.xlim(xbins_pred[44], xbins_pred[-1])\n",
    "    plt.ylim(0, max(ern_data_np[:, 1])+0.1)\n",
    "    plt.ylabel('実効再生産数', fontname=FONT_NAME)\n",
    "    plt.plot(xbins_pred, y_ern, '-.', linewidth=1, color='#ff8080')\n",
    "    plt.bar(xbins, ern_data_np[:, 1], color='#00c000', edgecolor='#00c000', alpha=.5)\n",
    "    plt.legend(labels=[\"予測値\", \"実効再生産数\"], loc='upper left', borderaxespad=0, fontsize=12, prop={\"family\":FONT_NAME})\n",
    "    plt.title('全国 新型コロナ予測 実効再生産数', fontname=FONT_NAME)\n",
    "    show_and_clear(fig, \"docs/images/ogiwara-ern.jpg\")"
   ]
  },
  {
   "cell_type": "code",
   "execution_count": null,
   "metadata": {},
   "outputs": [],
   "source": [
    "fig = go.Figure()\n",
    "fig.add_trace(go.Bar(x=xbins, y=ern_data_np[:, 1], name=\"実効再生産数\", opacity=0.5))\n",
    "fig.add_trace(go.Scatter(x=xbins_pred, y=y_ern, mode='lines', name='予測値', line=dict(width=1)))\n",
    "fig.update_layout(\n",
    "    xaxis=dict(title='日付', type='date', dtick=1209600000.0, tickformat=\"%_m/%-d\",\n",
    "               range=[xbins[44], xbins_pred[-1]]),\n",
    "    yaxis=dict(title='実効再生産'),\n",
    "    title='全国 新型コロナ 実効再生産数 ({})'.format(today_str),\n",
    ")\n",
    "show_and_save_plotly(fig, \"ogiwara-ern.jpg\", js=False)"
   ]
  },
  {
   "cell_type": "code",
   "execution_count": null,
   "metadata": {},
   "outputs": [],
   "source": [
    "tw_body_ern = \"全国 新型コロナ 実効再生産数 ({})\".format(today_str)\n",
    "tw_body_ern += \" https://geneasyura.github.io/cov19-hm/tokyo.html \"\n",
    "tw = get_twitter()\n",
    "tweet_with_image(tw, \"docs/images/ogiwara-ern.jpg\", tw_body_ern)"
   ]
  },
  {
   "cell_type": "code",
   "execution_count": null,
   "metadata": {},
   "outputs": [],
   "source": [
    "title = '全国 新型コロナ 新規陽性者移動平均/累乗近似 (' + today_str + ')'\n",
    "xdata = np.array(xbins)\n",
    "#ydata = all_data_np[:, offsets['posis']]\n",
    "ydata = posis_mov_mean\n",
    "xos = 265\n",
    "make_exp_fit_graph(tw,\n",
    "    xdata[xos:], ydata[xos:],\n",
    "    title, \"mhlw-fit.jpg\",\n",
    "    \"mhlw-doubling-time.html\", \"mhlw.html\")"
   ]
  },
  {
   "cell_type": "code",
   "execution_count": null,
   "metadata": {},
   "outputs": [],
   "source": []
  },
  {
   "cell_type": "code",
   "execution_count": null,
   "metadata": {},
   "outputs": [],
   "source": []
  }
 ],
 "metadata": {
  "kernelspec": {
   "display_name": "Python 3",
   "language": "python",
   "name": "python3"
  },
  "language_info": {
   "codemirror_mode": {
    "name": "ipython",
    "version": 3
   },
   "file_extension": ".py",
   "mimetype": "text/x-python",
   "name": "python",
   "nbconvert_exporter": "python",
   "pygments_lexer": "ipython3",
   "version": "3.8.6"
  }
 },
 "nbformat": 4,
 "nbformat_minor": 4
}
