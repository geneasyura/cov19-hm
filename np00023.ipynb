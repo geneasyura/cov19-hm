{
 "cells": [
  {
   "cell_type": "code",
   "execution_count": null,
   "metadata": {},
   "outputs": [],
   "source": [
    "#!/usr/bin/env python\n",
    "# coding: utf-8"
   ]
  },
  {
   "cell_type": "code",
   "execution_count": null,
   "metadata": {},
   "outputs": [],
   "source": [
    "import codecs\n",
    "from datetime import datetime as dt\n",
    "import sys\n",
    "import numpy as np\n",
    "import os\n",
    "import pandas as pd\n",
    "import plotly\n",
    "from plotly import subplots\n",
    "import plotly.express as px\n",
    "import plotly.tools as tls\n",
    "import plotly.graph_objects as go\n",
    "import plotly.io as pio\n",
    "import plotly.offline as offline\n",
    "import sys\n",
    "if \"ipy\" in sys.argv[0]:\n",
    "    offline.init_notebook_mode()\n",
    "from cov19utils import create_basic_plot_figure, \\\n",
    "    show_and_clear, moving_average, \\\n",
    "    blank2zero, csv2array, \\\n",
    "    get_twitter, tweet_with_image, \\\n",
    "    get_gpr_predict, FONT_NAME, DT_OFFSET, \\\n",
    "    download_if_needed, json2nparr, code2int, age2int, \\\n",
    "    get_populations, get_os_idx_of_arr, dump_val_in_arr, \\\n",
    "    calc_last1w2w_dif, create_basic_scatter_figure, \\\n",
    "    show_and_save_plotly\n",
    "import re\n",
    "import requests\n",
    "from sklearn.decomposition import PCA\n",
    "from sklearn import manifold, cluster\n",
    "from sklearn.linear_model import LinearRegression\n",
    "import xlrd"
   ]
  },
  {
   "cell_type": "code",
   "execution_count": null,
   "metadata": {},
   "outputs": [],
   "source": [
    "uri = \"https://www.mhlw.go.jp/stf/seisakunitsuite/\"\n",
    "file = \"newpage_00023.html\"\n",
    "download_if_needed(uri, file)"
   ]
  },
  {
   "cell_type": "code",
   "execution_count": null,
   "metadata": {},
   "outputs": [],
   "source": [
    "prev = None\n",
    "with open(\"np00023.tmp\") as f:\n",
    "    prev = f.read().strip()\n",
    "print(prev)"
   ]
  },
  {
   "cell_type": "code",
   "execution_count": null,
   "metadata": {},
   "outputs": [],
   "source": [
    "ptn = re.compile(r\"^.*\\<a href=\\\"(.*?)\\\"\\>エクセル版.*$\")\n",
    "xlsx = None\n",
    "with codecs.open(file, encoding=\"utf-8\") as f:\n",
    "    for l in f:\n",
    "        l.strip('\\r\\n')\n",
    "        m = ptn.match(l)\n",
    "        if m:\n",
    "            xlsx = m.groups()[0]\n",
    "            break"
   ]
  },
  {
   "cell_type": "code",
   "execution_count": null,
   "metadata": {},
   "outputs": [],
   "source": [
    "if xlsx:\n",
    "    uri = \"https://www.mhlw.go.jp\" + xlsx\n",
    "    (url, file) = os.path.split(uri)\n",
    "    url = url + '/'\n",
    "    print(url, file)\n",
    "    if file == prev:\n",
    "        print(\"maybe the same data, nothing to do.\")\n",
    "        if \"ipy\" in sys.argv[0]:\n",
    "            pass#exit()\n",
    "        else:\n",
    "            sys.exit()\n",
    "    with open(\"np00023.tmp\", \"wt\") as f:\n",
    "        f.write(file)\n",
    "    download_if_needed(url, file)"
   ]
  },
  {
   "cell_type": "code",
   "execution_count": null,
   "metadata": {
    "scrolled": true
   },
   "outputs": [],
   "source": [
    "names = [\"{}\".format(i) for i in np.arange(20)]\n",
    "names = [\n",
    "    \"都道府県名\",\n",
    "    \"陽性者数\",\n",
    "    \"入院者数\",\n",
    "    \"フェーズ\",\n",
    "    \"病床数\",\n",
    "    \"使用率\",\n",
    "    \"即応病床\",\n",
    "    \"重症者数\",\n",
    "    \"重症フェーズ\",\n",
    "    \"重症病床数\",\n",
    "    \"重症病床使用率\",\n",
    "    \"即応重症病床\",\n",
    "    \"宿泊療養者数\",\n",
    "    \"療養フェーズ\",\n",
    "    \"居室数\",\n",
    "    \"居室使用率\",\n",
    "    \"計画居室数\",\n",
    "    \"自宅療養者数\",\n",
    "    \"社会福祉施設等療養者数\",\n",
    "    \"確認中\"\n",
    "]\n",
    "#print(names)"
   ]
  },
  {
   "cell_type": "code",
   "execution_count": null,
   "metadata": {},
   "outputs": [],
   "source": [
    "df = pd.read_excel(file, names=names, usecols=\"C:V\", skiprows=6, nrows=47)"
   ]
  },
  {
   "cell_type": "code",
   "execution_count": null,
   "metadata": {},
   "outputs": [],
   "source": [
    "df['コード'] = 0\n",
    "df['値'] = 1\n",
    "df['非入院数'] = df['社会福祉施設等療養者数'] + df['自宅療養者数'] + df['確認中']\n",
    "#df"
   ]
  },
  {
   "cell_type": "code",
   "execution_count": null,
   "metadata": {},
   "outputs": [],
   "source": [
    "populations = get_populations()\n",
    "totals = {} # populations\n",
    "for k, v in populations.items():\n",
    "    totals[v['code']] = v['total']\n",
    "#totals"
   ]
  },
  {
   "cell_type": "code",
   "execution_count": null,
   "metadata": {},
   "outputs": [],
   "source": [
    "for k, v in df.iterrows():\n",
    "    args = df.at[k, '都道府県名'].split(' ')\n",
    "    df.at[k, '都道府県名'] = args[1]\n",
    "    df.at[k, 'コード'] = args[0]\n",
    "    df.at[k, '使用率'] *= 100.0\n",
    "    df.at[k, '重症病床使用率'] *= 100.0\n",
    "    df.at[k, '居室使用率'] *= 100.0\n",
    "    # 人口 per million peoples で正規化\n",
    "    mp_multi = 1000000\n",
    "    df.at[k, '陽性者数'] = (df.at[k, '陽性者数'] / totals[df.at[k, 'コード']]) * mp_multi\n",
    "    df.at[k, '入院者数'] = (df.at[k, '入院者数'] / totals[df.at[k, 'コード']]) * mp_multi\n",
    "    df.at[k, '重症者数'] = (df.at[k, '重症者数'] / totals[df.at[k, 'コード']]) * mp_multi\n",
    "    df.at[k, '宿泊療養者数'] = (df.at[k, '宿泊療養者数'] / totals[df.at[k, 'コード']]) * mp_multi\n",
    "    df.at[k, '自宅療養者数'] = (df.at[k, '自宅療養者数'] / totals[df.at[k, 'コード']]) * mp_multi\n",
    "    df.at[k, '社会福祉施設等療養者数'] = (df.at[k, '社会福祉施設等療養者数'] / totals[df.at[k, 'コード']]) * mp_multi\n",
    "    df.at[k, '確認中'] = (df.at[k, '確認中'] / totals[df.at[k, 'コード']]) * mp_multi\n",
    "    df.at[k, '非入院数'] = (df.at[k, '非入院数'] / totals[df.at[k, 'コード']]) * mp_multi"
   ]
  },
  {
   "cell_type": "code",
   "execution_count": null,
   "metadata": {
    "scrolled": true
   },
   "outputs": [],
   "source": [
    "#df"
   ]
  },
  {
   "cell_type": "code",
   "execution_count": null,
   "metadata": {},
   "outputs": [],
   "source": [
    "today = dt.now().isoformat()[:10]"
   ]
  },
  {
   "cell_type": "code",
   "execution_count": null,
   "metadata": {},
   "outputs": [],
   "source": [
    "title = '病床使用率と非入院者数'\n",
    "fig = px.scatter(#使用率 陽性者数  入院者数    重症者数\n",
    "    df, x='使用率', y='非入院数', size='陽性者数', color='陽性者数', text='都道府県名',\n",
    "    log_y=True,\n",
    "    width=700, height=700, title=title + today)\n",
    "fig.update_layout(margin=dict(t=50, l=0, r=0, b=0))\n",
    "fig.update_layout(xaxis=dict(title='病床使用率 [%]'))\n",
    "fig.update_layout(yaxis=dict(title='非入院者数 / 100万人'))\n",
    "imgname = \"newpage_00023.jpg\"\n",
    "show_and_save_plotly(fig, imgname, js=False, show=True, image=True, html=False)"
   ]
  },
  {
   "cell_type": "code",
   "execution_count": null,
   "metadata": {},
   "outputs": [],
   "source": [
    "tw = get_twitter()"
   ]
  },
  {
   "cell_type": "code",
   "execution_count": null,
   "metadata": {},
   "outputs": [],
   "source": [
    "tw_body = title + 'のグラフ (' + today + \\\n",
    "    \")\\n非入院者数＝施設療養者＋自宅療養者＋確認中。\" + \\\n",
    "    \"\\n厚生労働省「新型コロナウイルス感染症患者の療養状況、病床数等に関する調査結果」を加工。\"\n",
    "print(tw_body)"
   ]
  },
  {
   "cell_type": "code",
   "execution_count": null,
   "metadata": {},
   "outputs": [],
   "source": [
    "tweet_with_image(tw, \"docs/images/\" + imgname, tw_body)"
   ]
  },
  {
   "cell_type": "code",
   "execution_count": null,
   "metadata": {},
   "outputs": [],
   "source": [
    "# x使用率 重症病床使用率 陽性者数 入院者数 重症者数 x非入院数\n",
    "title = '重症者数と入院者数'\n",
    "fig = px.scatter(\n",
    "    df, x='重症者数', y='入院者数', size='陽性者数', color='陽性者数', text='都道府県名',\n",
    "    log_x=True, log_y=True,\n",
    "    width=700, height=700, title=title + today)\n",
    "fig.update_layout(margin=dict(t=50, l=0, r=0, b=0))\n",
    "fig.update_layout(xaxis=dict(title='重症者数 / 100万人'))\n",
    "fig.update_layout(yaxis=dict(title='入院者数 / 100万人'))\n",
    "imgname = \"newpage_00023b.jpg\"\n",
    "show_and_save_plotly(fig, imgname, js=False, show=True, image=True, html=False)"
   ]
  },
  {
   "cell_type": "code",
   "execution_count": null,
   "metadata": {},
   "outputs": [],
   "source": [
    "tw_body = title + 'のグラフ (' + today + \\\n",
    "    \"\\n厚生労働省「新型コロナウイルス感染症患者の療養状況、病床数等に関する調査結果」を加工。\"\n",
    "print(tw_body)"
   ]
  },
  {
   "cell_type": "code",
   "execution_count": null,
   "metadata": {},
   "outputs": [],
   "source": [
    "tweet_with_image(tw, \"docs/images/\" + imgname, tw_body)"
   ]
  },
  {
   "cell_type": "code",
   "execution_count": null,
   "metadata": {},
   "outputs": [],
   "source": [
    "#'使用率''重症病床使用率''居室使用率''陽性者数''入院者数'\n",
    "#'重症者数''宿泊療養者数''自宅療養者数''社会福祉施設等療養者数'\n",
    "#'確認中''非入院数'"
   ]
  },
  {
   "cell_type": "code",
   "execution_count": null,
   "metadata": {},
   "outputs": [],
   "source": [
    "#features = [\"使用率\", \"重症病床使用率\", \"居室使用率\",\n",
    "#            \"陽性者数\", \"入院者数\", \"重症者数\", \"宿泊療養者数\", \"自宅療養者数\",\n",
    "#            '社会福祉施設等療養者数', '確認中', \"非入院数\"]\n",
    "#X = df[features]\n",
    "#pca = PCA(n_components=2)\n",
    "#components = pca.fit_transform(X)\n",
    "#fig = px.scatter(components, x=0, y=1, color=df['陽性者数'])\n",
    "#fig.show()\n",
    "#X_reduced = manifold.TSNE(n_components=2).fit_transform(X)"
   ]
  },
  {
   "cell_type": "code",
   "execution_count": null,
   "metadata": {},
   "outputs": [],
   "source": [
    "#title = '次元削減後の病床状況'\n",
    "#fig = px.scatter(\n",
    "#    X_reduced, x=0, y=1, size=df['陽性者数'], color=df['陽性者数'], text=df['都道府県名'],\n",
    "#    width=700, height=700, title=title + today)\n",
    "#fig.update_layout(margin=dict(t=50, l=0, r=0, b=0))\n",
    "#fig.update_layout(xaxis=dict(title='', ticks=''))\n",
    "#fig.update_layout(yaxis=dict(title='', ticks=''))\n",
    "#imgname = \"newpage_00023c.jpg\"\n",
    "#show_and_save_plotly(fig, imgname, js=False, show=True, image=True, html=False)"
   ]
  },
  {
   "cell_type": "code",
   "execution_count": null,
   "metadata": {},
   "outputs": [],
   "source": []
  }
 ],
 "metadata": {
  "kernelspec": {
   "display_name": "Python 3",
   "language": "python",
   "name": "python3"
  },
  "language_info": {
   "codemirror_mode": {
    "name": "ipython",
    "version": 3
   },
   "file_extension": ".py",
   "mimetype": "text/x-python",
   "name": "python",
   "nbconvert_exporter": "python",
   "pygments_lexer": "ipython3",
   "version": "3.8.6"
  }
 },
 "nbformat": 4,
 "nbformat_minor": 4
}
