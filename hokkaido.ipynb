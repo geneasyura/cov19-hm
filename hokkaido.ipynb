{
 "cells": [
  {
   "cell_type": "code",
   "execution_count": null,
   "metadata": {},
   "outputs": [],
   "source": [
    "#!/usr/bin/python3\n",
    "# coding: utf-8\n",
    "# Hokkaido"
   ]
  },
  {
   "cell_type": "code",
   "execution_count": null,
   "metadata": {},
   "outputs": [],
   "source": [
    "import codecs\n",
    "from datetime import datetime as dt\n",
    "from datetime import timedelta as td\n",
    "from jma_csvdl import save_jma_data, parse_jma_csv\n",
    "import json\n",
    "import matplotlib\n",
    "import sys\n",
    "if \"ipy\" not in sys.argv[0]:\n",
    "    matplotlib.use('Agg')\n",
    "import matplotlib.pyplot as plt\n",
    "import matplotlib.cm as cm\n",
    "from sklearn.neighbors import LocalOutlierFactor\n",
    "import numpy as np\n",
    "import os\n",
    "import pandas as pd\n",
    "import plotly\n",
    "import plotly.express as px\n",
    "import plotly.tools as tls\n",
    "import plotly.graph_objects as go\n",
    "import plotly.io as pio\n",
    "import plotly.offline as offline\n",
    "from plotly.subplots import make_subplots\n",
    "import sys\n",
    "if \"ipy\" in sys.argv[0]:\n",
    "    offline.init_notebook_mode()\n",
    "from PIL import Image\n",
    "from cov19utils import create_basic_plot_figure, \\\n",
    "    show_and_clear, moving_average, \\\n",
    "    blank2zero, csv2array, \\\n",
    "    get_twitter, tweet_with_image, \\\n",
    "    get_gpr_predict, FONT_NAME, DT_OFFSET, \\\n",
    "    download_if_needed, json2nparr, code2int, age2int, \\\n",
    "    get_populations, get_os_idx_of_arr, dump_val_in_arr, \\\n",
    "    calc_last1w2w_dif, create_basic_scatter_figure, \\\n",
    "    show_and_save_plotly, make_exp_fit_graph\n",
    "from hokkaidomap import sub_prefs, get_sub_code, get_hokkaido, \\\n",
    "    make_hokkaido_choropleth, make_hokkaido_plotly\n",
    "from urllib.request import urlretrieve"
   ]
  },
  {
   "cell_type": "code",
   "execution_count": null,
   "metadata": {},
   "outputs": [],
   "source": [
    "patients_file = \"010006_hokkaido_covid19_patients.csv\""
   ]
  },
  {
   "cell_type": "code",
   "execution_count": null,
   "metadata": {},
   "outputs": [],
   "source": [
    "u='https://www.harp.lg.jp/opendata/api/package_show?id=752c577e-0cbe-46e0-bebd-eb47b71b38bf'\n",
    "urlretrieve(u, 'hokkaido-api.json')\n",
    "f=codecs.open(\"hokkaido-api.json\", encoding='utf-8')\n",
    "x=json.load(f)\n",
    "f.close()\n",
    "#updated = x['result']['updated'][:16]\n",
    "with open(\"hokkaido.prev.tmp\", \"rt\") as f:\n",
    "    prev = f.read().rstrip()\n",
    "#today = dt.now().isoformat()[:16]\n",
    "\n",
    "for i in x['result']['resources']:\n",
    "    if i['filename'] == patients_file:\n",
    "        updated = i['updated'][:16]\n",
    "        break\n",
    "\n",
    "print(updated, prev)\n",
    "if updated == prev:\n",
    "    print(\"maybe the same data, nothing to do.\")\n",
    "    if \"ipy\" in sys.argv[0]:\n",
    "        pass#exit()\n",
    "    else:\n",
    "        sys.exit()\n",
    "\n",
    "with open(\"hokkaido.prev.tmp\", \"wt\") as f:\n",
    "    f.write(updated)"
   ]
  },
  {
   "cell_type": "code",
   "execution_count": null,
   "metadata": {},
   "outputs": [],
   "source": [
    "today_str = dt.now().isoformat()[:16].replace('T', ' ')\n",
    "# 北海道 OpenData を参照する\n",
    "# https://www.harp.lg.jp/opendata/dataset/1369.html\n",
    "# 北海道は面積が広いため、振興局別に集計を行う\n",
    "base_uri = \"https://www.harp.lg.jp/opendata/dataset/1369/resource/3132/\"\n",
    "download_if_needed(base_uri, patients_file)\n",
    "base_uri = \"https://www.harp.lg.jp/opendata/dataset/1369/resource/2853/\"\n",
    "data_file = \"covid19_data.csv\"\n",
    "download_if_needed(base_uri, data_file)"
   ]
  },
  {
   "cell_type": "code",
   "execution_count": null,
   "metadata": {},
   "outputs": [],
   "source": [
    "patients = []\n",
    "# CSVデータを整形する\n",
    "with codecs.open(patients_file, encoding=\"shift-jis\") as f:\n",
    "    l = f.readline() # 先頭行をスキップ\n",
    "    while l:\n",
    "        l = f.readline().replace(\"\\r\\n\", \"\")\n",
    "        arr = l.split(',')\n",
    "        if len(arr) == 16:\n",
    "            patients.append(\n",
    "                [\n",
    "                    code2int(arr[0]), # No\n",
    "                    get_sub_code(arr[6]), # sub-pref code\n",
    "                    arr[6], # sub-pref\n",
    "                    dt.strptime(arr[4], \"%Y-%m-%d\"), # press date\n",
    "                    arr[5], # infected \n",
    "                    arr[7], # Age\n",
    "                    arr[8], # Sex\n",
    "                ]\n",
    "            )\n",
    "\n",
    "print(\"Total: {}\".format(len(patients)))\n",
    "print(patients[-1][3])"
   ]
  },
  {
   "cell_type": "code",
   "execution_count": null,
   "metadata": {},
   "outputs": [],
   "source": [
    "# Pandas DataFrame を作成する\n",
    "df = pd.DataFrame(patients, columns=['No', 'Code', 'State', 'Date', 'DoW', 'Age', 'Sex'])"
   ]
  },
  {
   "cell_type": "code",
   "execution_count": null,
   "metadata": {},
   "outputs": [],
   "source": [
    "# Daily の新規感染者を集計する\n",
    "daily_new = df.groupby('Date').size()\n",
    "print(\"Daily New: {}\".format(daily_new[-1]))\n",
    "# duration\n",
    "frm_date = daily_new.index[0]\n",
    "end_date = daily_new.index[-1]\n",
    "print(\"From: {} To: {}\".format(frm_date, end_date))\n",
    "# moving average by week\n",
    "ave_mov_days = 7\n",
    "# 移動平均を算出する\n",
    "mov_mean = daily_new.rolling(ave_mov_days).mean()"
   ]
  },
  {
   "cell_type": "code",
   "execution_count": null,
   "metadata": {},
   "outputs": [],
   "source": [
    "# 4 weeks later\n",
    "xbins = daily_new.index.tolist()\n",
    "days2pred = 2 * ave_mov_days # 2 weeks\n",
    "# 2週間先の日付列を取得する\n",
    "two_weeks_later = pd.date_range(xbins[-1] + td(days=1), xbins[-1] + td(days=days2pred)).to_pydatetime()\n",
    "xbins_pred = xbins.copy()\n",
    "xbins_pred.extend(two_weeks_later)\n",
    "\n",
    "X = np.arange(0, len(daily_new.index.values))[:, np.newaxis]\n",
    "X_pred = np.arange(0, len(xbins_pred))[:, np.newaxis]\n",
    "y_gpr = get_gpr_predict(X, daily_new.values, X_pred, 10, 10, 10)"
   ]
  },
  {
   "cell_type": "code",
   "execution_count": null,
   "metadata": {},
   "outputs": [],
   "source": [
    "save_jma_data(\"sapporo-jma.csv\", city_code=\"s47412\")\n",
    "weather_sapporo = parse_jma_csv(\"sapporo-jma.csv\")\n",
    "print(\"Loaded {} data.\".format(len(weather_sapporo)))\n",
    "df_weather = pd.DataFrame(weather_sapporo, columns=['Date', 'Temp', 'RH', 'VP', 'AP', 'AH', 'Fd'])\n",
    "fig = px.scatter(df_weather, x='Date', y=['AH'])\n",
    "fig.update_layout(template='plotly_dark')\n",
    "if \"ipy\" in sys.argv[0]:\n",
    "    fig.show()"
   ]
  },
  {
   "cell_type": "code",
   "execution_count": null,
   "metadata": {},
   "outputs": [],
   "source": [
    "np_weather = np.array(weather_sapporo)"
   ]
  },
  {
   "cell_type": "code",
   "execution_count": null,
   "metadata": {},
   "outputs": [],
   "source": [
    "fig = make_subplots(specs=[[{\"secondary_y\": True}]])\n",
    "fig.add_trace(go.Scatter(\n",
    "    x=xbins, y=daily_new, mode='markers', name='新規',\n",
    "    marker=dict(size=4)), secondary_y=False)\n",
    "fig.add_trace(go.Bar(\n",
    "    x=xbins, y=mov_mean, name='7日移動平均', opacity=0.6),\n",
    "    secondary_y=False)\n",
    "fig.add_trace(go.Scatter(\n",
    "    x=xbins_pred, y=y_gpr, mode='lines', name='予測',\n",
    "    line=dict(width=1)), secondary_y=False)\n",
    "fig.add_trace(go.Scatter(\n",
    "    x=np_weather[:, 0], # 日付\n",
    "    y=np_weather[:, 1], # 気温\n",
    "    name=\"札幌平均気温\",\n",
    "    line=dict(width=1)), secondary_y=True)\n",
    "fig.update_layout(\n",
    "    xaxis=dict(title='日付', type='date',\n",
    "               dtick=1209600000.0, tickformat=\"%_m/%-d\",\n",
    "               range=(xbins[4], xbins_pred[-1])),\n",
    "    yaxis=dict(title='人数', type=\"log\"),\n",
    "    yaxis2=dict(title='札幌平均気温'),\n",
    "    title='北海道 新型コロナ 新規感染者数/札幌平均気温({})'.format(today_str),\n",
    ")\n",
    "show_and_save_plotly(fig, \"hokkaido.jpg\", js=False, show=False)"
   ]
  },
  {
   "cell_type": "code",
   "execution_count": null,
   "metadata": {},
   "outputs": [],
   "source": [
    "today_str = dt.now().isoformat()[:19].replace('T', ' ')\n",
    "tw_body = \"北海道 新型コロナ 新規感染者数/気温(\" + today_str + \" 時点)\"\n",
    "tw_body += \" https://geneasyura.github.io/cov19-hm/hokkaido.html \"\n",
    "tw_body += \"(気象業務法第13～24条に接触するため、予報を含まない前日までの気温を表示) \"\n",
    "tw = get_twitter()\n",
    "tweet_with_image(tw, \"docs/images/hokkaido.jpg\", tw_body)"
   ]
  },
  {
   "cell_type": "code",
   "execution_count": null,
   "metadata": {},
   "outputs": [],
   "source": [
    "fig = make_subplots(specs=[[{\"secondary_y\": True}]])\n",
    "fig.add_trace(go.Scatter(\n",
    "    x=xbins, y=daily_new, mode='markers', name='新規',\n",
    "    marker=dict(size=4)), secondary_y=False)\n",
    "fig.add_trace(go.Bar(\n",
    "    x=xbins, y=mov_mean, name='7日移動平均', opacity=0.6),\n",
    "    secondary_y=False)\n",
    "fig.add_trace(go.Scatter(\n",
    "    x=xbins_pred, y=y_gpr, mode='lines', name='予測',\n",
    "    line=dict(width=1)), secondary_y=False)\n",
    "fig.add_trace(go.Scatter(\n",
    "    x=np_weather[:, 0], # 日付\n",
    "    y=np_weather[:, 5], # 絶対湿度\n",
    "    name=\"絶対湿度\",\n",
    "    line=dict(width=1)), secondary_y=True)\n",
    "fig.update_layout(\n",
    "    xaxis=dict(title='日付', type='date',\n",
    "               dtick=1209600000.0, tickformat=\"%_m/%-d\",\n",
    "               range=(xbins[4], xbins_pred[-1])),\n",
    "    yaxis=dict(title='人数', type=\"log\"),\n",
    "    yaxis2=dict(title='札幌平均容積絶対湿度 [g/㎥]'),\n",
    "    title='北海道 新型コロナ 新規感染者数/札幌絶対湿度({})'.format(today_str),\n",
    ")\n",
    "show_and_save_plotly(fig, \"hokkaido-ah.jpg\", js=False, show=False)"
   ]
  },
  {
   "cell_type": "code",
   "execution_count": null,
   "metadata": {},
   "outputs": [],
   "source": [
    "today_str = dt.now().isoformat()[:19].replace('T', ' ')\n",
    "tw_body = \"北海道 新型コロナ 新規感染者数/絶対湿度(\" + today_str + \" 時点)\"\n",
    "tw_body += \" https://geneasyura.github.io/cov19-hm/hokkaido.html \"\n",
    "tw_body += \"(気象業務法第13～24条に接触するため、予報を含まない前日までの絶対湿度を表示) \"\n",
    "#tw = get_twitter()\n",
    "tweet_with_image(tw, \"docs/images/hokkaido-ah.jpg\", tw_body)"
   ]
  },
  {
   "cell_type": "code",
   "execution_count": null,
   "metadata": {},
   "outputs": [],
   "source": [
    "fig = make_subplots(specs=[[{\"secondary_y\": True}]])\n",
    "fig.add_trace(go.Scatter(\n",
    "    x=xbins, y=daily_new, mode='markers', name='新規',\n",
    "    marker=dict(size=4)), secondary_y=False)\n",
    "fig.add_trace(go.Bar(\n",
    "    x=xbins, y=mov_mean, name='7日移動平均', opacity=0.6),\n",
    "    secondary_y=False)\n",
    "fig.add_trace(go.Scatter(\n",
    "    x=xbins_pred, y=y_gpr, mode='lines', name='予測',\n",
    "    line=dict(width=1)), secondary_y=False)\n",
    "fig.add_trace(go.Scatter(\n",
    "    x=np_weather[:, 0], # 日付\n",
    "    y=np_weather[:, 6], # 絶対湿度\n",
    "    name=\"空気抵抗力\",\n",
    "    line=dict(width=1)), secondary_y=True)\n",
    "fig.update_layout(\n",
    "    xaxis=dict(title='日付', type='date',\n",
    "               dtick=1209600000.0, tickformat=\"%_m/%-d\",\n",
    "               range=(xbins[4], xbins_pred[-1])),\n",
    "    yaxis=dict(title='人数', type=\"log\"),\n",
    "    yaxis2=dict(title='ウィルスに働く空気抵抗力'),\n",
    "    title='北海道 新型コロナ 新規感染者数/空気抵抗力({})'.format(today_str),\n",
    ")\n",
    "show_and_save_plotly(fig, \"hokkaido-fd.jpg\", js=False, show=False)"
   ]
  },
  {
   "cell_type": "code",
   "execution_count": null,
   "metadata": {},
   "outputs": [],
   "source": [
    "if False:\n",
    "    tw_body = \"北海道 新型コロナ 新規感染者数/空気抵抗力(\" + today_str + \" 時点)\"\n",
    "    tw_body += \" https://geneasyura.github.io/cov19-hm/hokkaido.html \"\n",
    "    tw_body += \"(ウィルス微粒子に働く空気抵抗力をプロット、低いほど活発になるはず)\"\n",
    "    #tw = get_twitter()\n",
    "    tweet_with_image(tw, \"docs/images/hokkaido-fd.jpg\", tw_body)\n",
    "    #tw_body"
   ]
  },
  {
   "cell_type": "code",
   "execution_count": null,
   "metadata": {},
   "outputs": [],
   "source": [
    "cov19data = []\n",
    "# CSVデータを整形する\n",
    "with codecs.open(data_file, encoding=\"shift-jis\") as f:\n",
    "    l = f.readline() # 先頭行をスキップ\n",
    "    while l:\n",
    "        l = f.readline().replace(\"\\r\\n\", \"\")\n",
    "        arr = l.split(',')\n",
    "        if len(arr) == 24:\n",
    "            tracked = blank2zero(arr[20])\n",
    "            untracked = blank2zero(arr[21])\n",
    "            unknown_rate = (untracked / max(1.0, (tracked + untracked))) * 100.0\n",
    "            #print(tracked, untracked, unknown_rate)\n",
    "            cov19data.append(\n",
    "                [\n",
    "                    dt(int(arr[1]), int(arr[2]), int(arr[3])), # date\n",
    "                    blank2zero(arr[4]),  # tests\n",
    "                    blank2zero(arr[6]),  # positive\n",
    "                    blank2zero(arr[19]), # postive rate [%]\n",
    "                    tracked, # tracked 濃厚接触\n",
    "                    untracked,  # untracked 濃厚接触以外\n",
    "                    unknown_rate # 経路不明率\n",
    "                ]\n",
    "            )\n",
    "\n",
    "print(\"Total: {}\".format(len(cov19data)))"
   ]
  },
  {
   "cell_type": "code",
   "execution_count": null,
   "metadata": {},
   "outputs": [],
   "source": [
    "pos_rate_np = np.array(cov19data)\n",
    "#print(\"{}\".format(pos_rate_np))"
   ]
  },
  {
   "cell_type": "code",
   "execution_count": null,
   "metadata": {},
   "outputs": [],
   "source": [
    "xbins = pos_rate_np[:, 0]\n",
    "two_weeks_later = pd.date_range(xbins[-1] + td(days=1), xbins[-1] + td(days=days2pred)).to_pydatetime()\n",
    "xbins_pred = xbins.tolist()\n",
    "xbins_pred.extend(two_weeks_later)\n",
    "X = np.arange(0, len(pos_rate_np[:, 0]))[:, np.newaxis]\n",
    "X_pred = np.arange(0, len(xbins_pred))[:, np.newaxis]\n",
    "\n",
    "y_test = get_gpr_predict(X, pos_rate_np[:, 1], X_pred, 10, 10, 10)\n",
    "y_rate = get_gpr_predict(X, pos_rate_np[:, 3], X_pred, 10, 10, 10)\n",
    "y_unkn = get_gpr_predict(X, pos_rate_np[:, 6], X_pred, 10, 10, 10)"
   ]
  },
  {
   "cell_type": "code",
   "execution_count": null,
   "metadata": {},
   "outputs": [],
   "source": [
    "fig = make_subplots(specs=[[{\"secondary_y\": True}]])\n",
    "fig.add_trace(go.Scatter(x=xbins, y=pos_rate_np[:, 1], mode='markers', name='検査人数',\n",
    "                                       marker=dict(size=4)), secondary_y=False)\n",
    "fig.add_trace(go.Bar(x=xbins, y=moving_average(pos_rate_np[:, 1]), name='移動平均', opacity=0.5), \n",
    "                    secondary_y=False)\n",
    "fig.add_trace(go.Scatter(x=xbins_pred, y=y_test, mode='lines', name='予測値',\n",
    "                         line=dict(width=1)), secondary_y=False)\n",
    "fig.add_trace(go.Bar(x=xbins, y=pos_rate_np[:, 3], name=\"陽性率[%]\", opacity=0.5),\n",
    "                         secondary_y=True)\n",
    "fig.add_trace(go.Scatter(x=xbins_pred, y=y_rate, name=\"予測値\",\n",
    "                         line=dict(width=1)), secondary_y=True)\n",
    "fig.update_layout(\n",
    "    xaxis=dict(title='日付', type='date',\n",
    "               dtick=1209600000.0, tickformat=\"%_m/%-d\",\n",
    "               range=[xbins_pred[30], xbins_pred[-1]]),\n",
    "    yaxis=dict(title='人数', range=[0, np.max(pos_rate_np[:, 1])]),\n",
    "    yaxis2=dict(title='陽性率[%]', range=[0, np.max(pos_rate_np[:, 3])]),\n",
    "    title='北海道 新型コロナ 検査人数/陽性率({})'.format(today_str),\n",
    ")\n",
    "show_and_save_plotly(fig, \"hokkaido-rate.jpg\", js=False, show=False)"
   ]
  },
  {
   "cell_type": "code",
   "execution_count": null,
   "metadata": {},
   "outputs": [],
   "source": [
    "tw_body = \"北海道 新型コロナ 検査人数/陽性率(\" + today_str + \" 時点)\"\n",
    "tw_body += \" https://geneasyura.github.io/cov19-hm/hokkaido.html \"\n",
    "tweet_with_image(tw, \"docs/images/hokkaido-rate.jpg\", tw_body)"
   ]
  },
  {
   "cell_type": "code",
   "execution_count": null,
   "metadata": {},
   "outputs": [],
   "source": [
    "fig = make_subplots(specs=[[{\"secondary_y\": True}]])\n",
    "fig.add_trace(go.Scatter(x=xbins, y=pos_rate_np[:, 1], mode='markers', name='検査人数',\n",
    "                                       marker=dict(size=4)), secondary_y=False)\n",
    "fig.add_trace(go.Bar(x=xbins, y=moving_average(pos_rate_np[:, 1]), name='移動平均', opacity=0.5), \n",
    "                    secondary_y=False)\n",
    "fig.add_trace(go.Scatter(x=xbins_pred, y=y_test, mode='lines', name='予測値',\n",
    "                         line=dict(width=1)), secondary_y=False)\n",
    "fig.add_trace(go.Bar(x=xbins, y=pos_rate_np[:, 6], name=\"経路不明率[%]\", opacity=0.5),\n",
    "                         secondary_y=True)\n",
    "fig.add_trace(go.Scatter(x=xbins_pred, y=y_unkn, name=\"予測値\",\n",
    "                         line=dict(width=1)), secondary_y=True)\n",
    "fig.update_layout(\n",
    "    xaxis=dict(title='日付', type='date',\n",
    "               dtick=1209600000.0, tickformat=\"%_m/%-d\",\n",
    "               range=[xbins_pred[30], xbins_pred[-1]]),\n",
    "    yaxis=dict(title='人数', range=[0, np.max(pos_rate_np[:, 1])]),\n",
    "    yaxis2=dict(title='経路不明率[%]', range=[0, np.max(pos_rate_np[:, 6])]),\n",
    "    title='北海道 新型コロナ 検査人数/経路不明率({})'.format(today_str),\n",
    ")\n",
    "show_and_save_plotly(fig, \"hokkaido-unknown.jpg\", js=False, show=False)"
   ]
  },
  {
   "cell_type": "code",
   "execution_count": null,
   "metadata": {},
   "outputs": [],
   "source": [
    "today_str = dt.now().isoformat()[:19].replace('T', ' ')\n",
    "tw_body = \"北海道 新型コロナ 検査人数/経路不明率(\" + today_str + \" 時点)\"\n",
    "tw_body += \" https://geneasyura.github.io/cov19-hm/hokkaido.html \"\n",
    "tweet_with_image(tw, \"docs/images/hokkaido-unknown.jpg\", tw_body)"
   ]
  },
  {
   "cell_type": "code",
   "execution_count": null,
   "metadata": {},
   "outputs": [],
   "source": [
    "tw_body = \"北海道 新型コロナ 振興局別 罹患率[全期間] (\" + today_str + \")\"\n",
    "imgname = \"hokkaido-all.jpg\"\n",
    "# 振興局別感染者数\n",
    "sub_poss = df.groupby('Code').size()\n",
    "#print(\"Sub-pref Pos: {}\".format(sub_poss))\n",
    "vals = np.zeros(len(sub_prefs.keys()), dtype=float)\n",
    "for i in range(len(vals)):\n",
    "    if i not in sub_poss.index:\n",
    "        sub_poss.loc[i] = 0\n",
    "#print(sub_poss)\n",
    "for i in sub_poss.index:\n",
    "    #print(i, sub_prefs[i]['code'])\n",
    "    vals[i] = (sub_poss[i] / sub_prefs[i]['total']) * 100.0\n",
    "#print(vals)\n",
    "make_hokkaido_choropleth(imgname, tw_body, vals, show=False)\n",
    "#make_hokkaido_plotly(imgname, tw_body, vals)"
   ]
  },
  {
   "cell_type": "code",
   "execution_count": null,
   "metadata": {},
   "outputs": [],
   "source": [
    "tw_body += \" https://geneasyura.github.io/cov19-hm/hokkaido-hm.html \"\n",
    "tweet_with_image(tw, \"docs/images/{}\".format(imgname), tw_body)"
   ]
  },
  {
   "cell_type": "code",
   "execution_count": null,
   "metadata": {},
   "outputs": [],
   "source": [
    "tw_body = \"北海道 新型コロナ 振興局別 陽性者数[全期間] (\" + today_str + \")\"\n",
    "imgname = \"hokkaido-all-n.jpg\"\n",
    "vals = np.zeros(len(sub_prefs.keys()), dtype=float)\n",
    "for i in range(len(vals)):\n",
    "    if i not in sub_poss.index:\n",
    "        sub_poss.loc[i] = 0\n",
    "for i in sub_poss.index:\n",
    "    vals[i] = sub_poss[i]\n",
    "make_hokkaido_choropleth(imgname, tw_body, vals, show=False)\n",
    "#make_hokkaido_plotly(imgname, tw_body, vals)"
   ]
  },
  {
   "cell_type": "code",
   "execution_count": null,
   "metadata": {},
   "outputs": [],
   "source": [
    "#tw_body += \" https://geneasyura.github.io/cov19-hm/hokkaido.html \"\n",
    "#tweet_with_image(tw, \"docs/images/{}\".format(imgname), tw_body)"
   ]
  },
  {
   "cell_type": "code",
   "execution_count": null,
   "metadata": {},
   "outputs": [],
   "source": [
    "dt_last1w = end_date - td(7)\n",
    "dt_last2w = end_date - td(14)\n",
    "print(end_date, dt_last1w, dt_last2w)\n",
    "# 直近1週間\n",
    "df_last1w = df[df['Date'] > dt_last1w]\n",
    "sub_last1w = df_last1w.groupby('Code').size()\n",
    "# 直近2週間\n",
    "df_last2w = df[df['Date'] > dt_last2w]\n",
    "sub_last2w = df_last2w.groupby('Code').size()\n",
    "# 直近1週間陽性者数\n",
    "sub_pos_last1w = np.zeros(len(sub_prefs))\n",
    "cnt = 0\n",
    "for i in sub_last1w.index.to_list():\n",
    "    sub_pos_last1w[i] = sub_last1w.values[cnt]\n",
    "    cnt +=1\n",
    "print(sub_pos_last1w.astype(int))\n",
    "# 直近2週間陽性者数\n",
    "sub_pos_last2w = np.zeros(len(sub_prefs))\n",
    "cnt = 0\n",
    "for i in sub_last2w.index.to_list():\n",
    "    sub_pos_last2w[i] = sub_last2w.values[cnt]\n",
    "    cnt += 1\n",
    "print(sub_pos_last2w.astype(int))"
   ]
  },
  {
   "cell_type": "code",
   "execution_count": null,
   "metadata": {},
   "outputs": [],
   "source": [
    "# 計算式は「（直近7日間の新規陽性者数／その前7日間の新規陽性者数）^（平均世代時間／報告間隔）」\n",
    "agt = 5 # 平均世代時間\n",
    "ri = 7 #報告間隔\n",
    "min_smpl = 5 # 最低サンプリング数\n",
    "Rt = []\n",
    "for i in np.arange(len(sub_pos_last1w)):\n",
    "    div = (sub_pos_last2w[i] - sub_pos_last1w[i])\n",
    "    if div == 0 and sub_pos_last1w[i] > 0:\n",
    "        Rt.append(1.0) # 0から増加した場合は他地域からの流入\n",
    "    elif div == 0:\n",
    "        Rt.append(0.0) # 0を維持\n",
    "    elif sub_pos_last2w[i] < min_smpl and sub_pos_last1w[i] < min_smpl:\n",
    "        Rt.append(1) # サンプリングが少ない場合、1 と仮定\n",
    "    else:\n",
    "        r = (sub_pos_last1w[i] / div) ** (agt / ri)\n",
    "        Rt.append(r)\n",
    "print(Rt)"
   ]
  },
  {
   "cell_type": "code",
   "execution_count": null,
   "metadata": {},
   "outputs": [],
   "source": [
    "tw_body = \"北海道 新型コロナ 振興局別 実効再生産数[簡易計算] (\" + today_str + \")\"\n",
    "imgname = \"hokkaido-Rt.jpg\"\n",
    "make_hokkaido_choropleth(imgname, tw_body, Rt, show=False)\n",
    "#make_hokkaido_plotly(imgname, tw_body, Rt)\n",
    "tw_body += \" https://geneasyura.github.io/cov19-hm/hokkaido-hm.html \"\n",
    "tweet_with_image(tw, \"docs/images/{}\".format(imgname), tw_body)"
   ]
  },
  {
   "cell_type": "code",
   "execution_count": null,
   "metadata": {
    "scrolled": false
   },
   "outputs": [],
   "source": [
    "tw_body = \"北海道 新型コロナ 振興局別 直近2週間罹患率 (\" + today_str + \")\"\n",
    "imgname = \"hokkaido-2w.jpg\"\n",
    "vals = []\n",
    "for k, v in sub_prefs.items():\n",
    "    vals.append((sub_pos_last2w[k] / v['total']) * 100.0)\n",
    "print(vals)\n",
    "make_hokkaido_choropleth(imgname, tw_body, vals, show=False)\n",
    "#make_hokkaido_plotly(imgname, tw_body, vals)\n",
    "tw_body += \" https://geneasyura.github.io/cov19-hm/hokkaido-hm.html \"\n",
    "tweet_with_image(tw, \"docs/images/{}\".format(imgname), tw_body)"
   ]
  },
  {
   "cell_type": "code",
   "execution_count": null,
   "metadata": {
    "scrolled": false
   },
   "outputs": [],
   "source": [
    "if False:\n",
    "    title = '北海道 新型コロナ 新規感染者数/累乗近似 (' + today_str + ')'\n",
    "    xos = 240\n",
    "    make_exp_fit_graph(tw,\n",
    "        pos_rate_np[xos:,0], pos_rate_np[xos:, 2],\n",
    "        title, \"hokkaido-fit.jpg\",\n",
    "        \"hokkaido-doubling-time.html\", \"hokkaido-fit.html\")"
   ]
  },
  {
   "cell_type": "code",
   "execution_count": null,
   "metadata": {},
   "outputs": [],
   "source": [
    "if False:\n",
    "    title = '北海道 新型コロナ 新規移動平均/累乗近似 (' + today_str + ')'\n",
    "    xos = 225\n",
    "    xbins = np.array([i.to_pydatetime() for i in daily_new.index.tolist()])\n",
    "    ybins = np.array(daily_new.rolling(ave_mov_days).mean().to_list())\n",
    "    make_exp_fit_graph(tw,\n",
    "        xbins[xos:], ybins[xos:],\n",
    "        title, \"hokkaido-fit-ave.jpg\",\n",
    "        \"hokkaido-doubling-time-ave.html\", \"hokkaido-fit.html\")"
   ]
  },
  {
   "cell_type": "code",
   "execution_count": null,
   "metadata": {},
   "outputs": [],
   "source": [
    "# 新規感染者数 移動平均\n",
    "mv_mean = daily_new.rolling(ave_mov_days).mean()\n",
    "# 札幌平均気温 移動平均\n",
    "x_mv = moving_average(np_weather[:, 1])\n",
    "# 札幌絶対湿度 移動平均\n",
    "y_mv = moving_average(np_weather[:, 5])\n",
    "# 札幌 移動平均\n",
    "z_mv = moving_average(np_weather[:, 2])\n",
    "# 気象情報 日付\n",
    "weather_dates = np_weather[:, 0]\n",
    "#print(weather_dates[0], weather_dates[-1])"
   ]
  },
  {
   "cell_type": "code",
   "execution_count": null,
   "metadata": {},
   "outputs": [],
   "source": [
    "# 詰め替え\n",
    "sizes = []\n",
    "xbins = []\n",
    "ybins = []\n",
    "zbins = []\n",
    "colors = []\n",
    "texts = []\n",
    "dofs = 7 # = 報告日 - 感染日\n",
    "mv_mean = mv_mean.dropna(how='all')\n",
    "mv_max = np.max(mv_mean)\n",
    "for k, v in mv_mean.items():\n",
    "    ts = k.to_pydatetime()\n",
    "    if ts < dt(2020, 5, 25, 0, 0, 0, 0): continue\n",
    "    if ts in weather_dates:\n",
    "        i = int(np.where(weather_dates == ts)[0]) - dofs\n",
    "        ts_str = \"{}\".format(ts - td(days=dofs))\n",
    "        msg = \"%s =%d v:%.2f t:%.2f vh:%.2f f:%.2f\" % \\\n",
    "        (ts_str[:10], i, v, x_mv[i], y_mv[i], z_mv[i])\n",
    "        xbins.append(x_mv[i]); ybins.append(y_mv[i]); zbins.append(z_mv[i]);\n",
    "        colors.append(v); sizes.append(max(5,v*15/mv_max))\n",
    "        texts.append(\"%s: %.1f人\" % (ts_str[:10], v)); \n",
    "        #print(msg)"
   ]
  },
  {
   "cell_type": "code",
   "execution_count": null,
   "metadata": {},
   "outputs": [],
   "source": [
    "def gen_hokkaido_rel_graph(x, y, xtype, ytype, xlabel, ylabel, imgname):\n",
    "    fig = go.Figure()\n",
    "    fig.add_trace(go.Scatter(\n",
    "        mode='markers', x=x, y=y, text=texts,\n",
    "        marker=dict(\n",
    "            opacity=0.85, size=sizes, color=colors,\n",
    "            colorscale=[[0, 'rgb(59, 70, 222)'],\n",
    "                        [.3, 'rgb(255, 255, 255)'],\n",
    "                        [1, 'rgb(178, 10, 28)']],\n",
    "            colorbar_title = '人数移動平均')))\n",
    "    fig.update_layout(template='plotly_dark')\n",
    "    tw_body = '北海道(札幌) {}/{}と感染日 ('.format(xtype, ytype) + \\\n",
    "        today_str[:13] + '時)'\n",
    "    fig.update_layout(\n",
    "        height=500, width=500, margin=dict(l=12, r=5, b=12, t=42),\n",
    "        xaxis =dict(domain=[0, 1], showgrid=True, title=xlabel),\n",
    "        yaxis =dict(domain=[0, 1], title=ylabel),\n",
    "        title=tw_body,\n",
    "        showlegend=False)\n",
    "    show_and_save_plotly(fig, imgname, js=False)\n",
    "    tw_body += \" (2020/5/25以降) \"\n",
    "    tw_body += \" https://geneasyura.github.io/cov19-hm/{} \".format(\"hokkaido-trh-tvh.html\")\n",
    "    tweet_with_image(tw, \"docs/images/{}\".format(imgname), tw_body)"
   ]
  },
  {
   "cell_type": "code",
   "execution_count": null,
   "metadata": {},
   "outputs": [],
   "source": [
    "gen_hokkaido_rel_graph(\n",
    "    xbins, ybins, \"気温\", \"絶対湿度\", \n",
    "    '札幌 平均気温 移動平均 [℃]',\n",
    "    '札幌 容積絶対湿度 移動平均 [g/㎥]',\n",
    "    \"hokkaido-tvh.jpg\")"
   ]
  },
  {
   "cell_type": "code",
   "execution_count": null,
   "metadata": {},
   "outputs": [],
   "source": [
    "gen_hokkaido_rel_graph(\n",
    "    xbins, zbins, \"気温\", \"相対湿度\", \n",
    "    '札幌 平均気温 移動平均 [℃]',\n",
    "    '札幌 相対湿度 移動平均 [%RH]',\n",
    "    \"hokkaido-trh.jpg\")"
   ]
  },
  {
   "cell_type": "code",
   "execution_count": null,
   "metadata": {},
   "outputs": [],
   "source": [
    "def gen_hokkaido_rel_contour(x, y, xtype, ytype, xlabel, ylabel, imgname):\n",
    "    fig = go.Figure()\n",
    "    fig.add_trace(go.Contour(\n",
    "        x=x, y=y, z=colors, text=texts,\n",
    "        colorbar_title='感染人数',\n",
    "        contours=dict(\n",
    "            coloring='heatmap',\n",
    "            showlabels=True,\n",
    "            labelfont=dict(size=12,color='white')\n",
    "        )))\n",
    "    fig.update_layout(template='plotly_dark')\n",
    "    tw_body = '北海道(札幌) 感染日の{}/{} ('.format(xtype, ytype) + \\\n",
    "        today_str[:13] + '時)'\n",
    "    fig.update_layout(\n",
    "        height=500, width=500, margin=dict(l=12, r=5, b=12, t=42),\n",
    "        xaxis =dict(domain=[0, 1], showgrid=True, title=xlabel),\n",
    "        yaxis =dict(domain=[0, 1], title=ylabel),\n",
    "        title=tw_body,\n",
    "        showlegend=False)\n",
    "    show_and_save_plotly(fig, imgname, js=False)\n",
    "    tw_body += \" (2020/5/25以降) \"\n",
    "    tw_body += \" https://geneasyura.github.io/cov19-hm/{} \".format(\"hokkaido-trh-tvh.html\")\n",
    "    tweet_with_image(tw, \"docs/images/{}\".format(imgname), tw_body)"
   ]
  },
  {
   "cell_type": "code",
   "execution_count": null,
   "metadata": {},
   "outputs": [],
   "source": [
    "gen_hokkaido_rel_contour(\n",
    "    xbins, ybins, \"気温\", \"絶対湿度\", \n",
    "    '札幌 平均気温 移動平均 [℃]',\n",
    "    '札幌 容積絶対湿度 移動平均 [g/㎥]',\n",
    "    \"hokkaido-tvh-contour.jpg\")"
   ]
  },
  {
   "cell_type": "code",
   "execution_count": null,
   "metadata": {},
   "outputs": [],
   "source": [
    "gen_hokkaido_rel_contour(\n",
    "    xbins, zbins, \"気温\", \"相対湿度\", \n",
    "    '札幌 平均気温 移動平均 [℃]',\n",
    "    '札幌 相対湿度 移動平均 [%RH]',\n",
    "    \"hokkaido-trh-contour.jpg\")"
   ]
  },
  {
   "cell_type": "code",
   "execution_count": null,
   "metadata": {},
   "outputs": [],
   "source": []
  }
 ],
 "metadata": {
  "kernelspec": {
   "display_name": "Python 3",
   "language": "python",
   "name": "python3"
  },
  "language_info": {
   "codemirror_mode": {
    "name": "ipython",
    "version": 3
   },
   "file_extension": ".py",
   "mimetype": "text/x-python",
   "name": "python",
   "nbconvert_exporter": "python",
   "pygments_lexer": "ipython3",
   "version": "3.8.6"
  }
 },
 "nbformat": 4,
 "nbformat_minor": 4
}
