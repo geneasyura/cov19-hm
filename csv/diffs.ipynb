{
 "cells": [
  {
   "cell_type": "code",
   "execution_count": 1,
   "metadata": {},
   "outputs": [],
   "source": [
    "#!/usr/bin/env python\n",
    "# coding: utf-8"
   ]
  },
  {
   "cell_type": "code",
   "execution_count": 2,
   "metadata": {},
   "outputs": [],
   "source": [
    "from datetime import datetime as dt\n",
    "import pandas as pd"
   ]
  },
  {
   "cell_type": "code",
   "execution_count": 29,
   "metadata": {},
   "outputs": [],
   "source": [
    "prev = pd.read_csv(\"prev.csv\", encoding='shift-jis', header=0)\n",
    "curr = pd.read_csv(\"maps.csv\", encoding='shift-jis', header=0)"
   ]
  },
  {
   "cell_type": "code",
   "execution_count": 30,
   "metadata": {},
   "outputs": [],
   "source": [
    "n = len(curr) - len(prev)\n",
    "today = dt.now().isoformat()[:10]"
   ]
  },
  {
   "cell_type": "code",
   "execution_count": 31,
   "metadata": {},
   "outputs": [],
   "source": [
    "icons = [\n",
    "    '',      #  0 NULL\n",
    "    '🍴',    #  1 飲食店\n",
    "    '🍻',    #  2 キャバクラ\n",
    "    '🏢',    #  3 事業所\n",
    "    '👨‍🦽',  #  4 福祉施設\n",
    "    '🏥',    #  5 医療機関\n",
    "    '🏫',    #  6 小学校\n",
    "    '🏫',    #  7 中学校\n",
    "    '🏫',    #  8 高校\n",
    "    '🏫',    #  9 大学\n",
    "    '🏫',    # 10 専門学校\n",
    "    '👮‍♂️', # 11 警察\n",
    "    '🛡',    # 12 自衛隊\n",
    "    '🏫',    # 13 教育機関\n",
    "    '👨‍🚒',  # 14 消防署\n",
    "    '️⚽️',   # 15 運動施設\n",
    "    '🧒',    # 16 保育園/幼稚園\n",
    "]\n",
    "msg = []\n",
    "spr = []\n",
    "if n > 0:\n",
    "    head = \"{}、道内で {} 件の新規感染報告が発生しています。\".format(today, n)\n",
    "else:\n",
    "    head = \"{}、北海道の新型コロナ感染者の報告状況です。\".format(today)\n",
    "for k, v in curr.iterrows():\n",
    "    s = \"\"\n",
    "    if k < len(prev):\n",
    "        diff = curr.at[k, 'patients'] - prev.at[k, 'patients']\n",
    "        if diff > 0:\n",
    "            s = \"{}、{} {}名[+{}名]\".format(\n",
    "                curr.at[k, 'state'], curr.at[k, 'name'],\n",
    "                curr.at[k, 'patients'], diff)\n",
    "    else:\n",
    "        s = \"{}、{} {}名🆕\".format(\n",
    "            curr.at[k, 'state'], curr.at[k, 'name'], curr.at[k, 'patients'])\n",
    "    if s != \"\":\n",
    "        if not pd.isnull(curr.at[k, 'ACH']) and curr.at[k, 'ACH'] > 0:\n",
    "            s += '(変異)'\n",
    "        if s.startswith('札幌市、'):\n",
    "            s = s.replace(\"札幌市、\", \"\").replace(\"札幌市立\", \"\").replace('市立','')\n",
    "            s = icons[curr.at[k, 'id']] + s\n",
    "            spr.append(s)\n",
    "        else:\n",
    "            s = icons[curr.at[k, 'id']] + s\n",
    "            msg.append(s)\n",
    "\n",
    "if len(msg) > 0 or len(spr) > 0:\n",
    "    print(head)\n",
    "    if len(spr) > 0:\n",
    "        print(\"■札幌市\")\n",
    "        for s in sorted(spr):\n",
    "            print(s)\n",
    "    if len(msg) > 0:\n",
    "        print(\"■札幌以外\")\n",
    "        for m in sorted(msg):\n",
    "            print(m)\n"
   ]
  },
  {
   "cell_type": "code",
   "execution_count": null,
   "metadata": {},
   "outputs": [],
   "source": []
  }
 ],
 "metadata": {
  "kernelspec": {
   "display_name": "Python 3",
   "language": "python",
   "name": "python3"
  },
  "language_info": {
   "codemirror_mode": {
    "name": "ipython",
    "version": 3
   },
   "file_extension": ".py",
   "mimetype": "text/x-python",
   "name": "python",
   "nbconvert_exporter": "python",
   "pygments_lexer": "ipython3",
   "version": "3.8.6"
  }
 },
 "nbformat": 4,
 "nbformat_minor": 4
}
