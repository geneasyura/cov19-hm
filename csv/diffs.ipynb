{
 "cells": [
  {
   "cell_type": "code",
   "execution_count": 1,
   "metadata": {},
   "outputs": [],
   "source": [
    "#!/usr/bin/env python\n",
    "# coding: utf-8"
   ]
  },
  {
   "cell_type": "code",
   "execution_count": 18,
   "metadata": {},
   "outputs": [],
   "source": [
    "import codecs\n",
    "from datetime import datetime as dt\n",
    "import pandas as pd\n",
    "from cov19utils import create_basic_plot_figure, \\\n",
    "    show_and_clear, moving_average, \\\n",
    "    blank2zero, csv2array, \\\n",
    "    get_twitter, tweet_with_image, \\\n",
    "    get_gpr_predict, FONT_NAME, DT_OFFSET, \\\n",
    "    download_if_needed, json2nparr, code2int, age2int, \\\n",
    "    get_populations, get_os_idx_of_arr, dump_val_in_arr, \\\n",
    "    calc_last1w2w_dif, create_basic_scatter_figure, \\\n",
    "    show_and_save_plotly\n",
    "import sys\n",
    "import shutil"
   ]
  },
  {
   "cell_type": "code",
   "execution_count": 3,
   "metadata": {},
   "outputs": [],
   "source": [
    "def get_gr_name(x):\n",
    "    if x == 'a':\n",
    "        return \"(アルファ株)\"\n",
    "    if x == 'd':\n",
    "        return \"(デルタ株)\"\n",
    "    if x == 'd+':\n",
    "        return \"(デルタ＋株)\"\n",
    "    return \"(変異株)\""
   ]
  },
  {
   "cell_type": "code",
   "execution_count": 17,
   "metadata": {},
   "outputs": [
    {
     "name": "stdout",
     "output_type": "stream",
     "text": [
      "latest date: 2021-8-14\n"
     ]
    }
   ],
   "source": [
    "prev = pd.read_csv(\"prev.csv\", encoding='shift-jis', header=0)\n",
    "curr = pd.read_csv(\"maps.csv\", encoding='shift-jis', header=0)\n",
    "latest_date = curr['opened'].iloc[-1].replace('/', '-')\n",
    "print(\"latest date: {}\".format(latest_date))\n",
    "curr.to_excel('maps.xlsx', encoding='utf-8', index=False)"
   ]
  },
  {
   "cell_type": "code",
   "execution_count": 5,
   "metadata": {},
   "outputs": [],
   "source": [
    "n = len(curr) - len(prev)\n",
    "today = latest_date #= dt.now().isoformat()[:10]\n",
    "head = ''"
   ]
  },
  {
   "cell_type": "code",
   "execution_count": 6,
   "metadata": {},
   "outputs": [],
   "source": [
    "icons = [\n",
    "    '',      #  0 NULL\n",
    "    '🍴',    #  1 飲食店\n",
    "    '🍻',    #  2 キャバクラ\n",
    "    '🏢',    #  3 事業所\n",
    "    '👨‍🦽',  #  4 福祉施設\n",
    "    '🏥',    #  5 医療機関\n",
    "    '🏫',    #  6 小学校\n",
    "    '🏫',    #  7 中学校\n",
    "    '🏫',    #  8 高校\n",
    "    '🏫',    #  9 大学\n",
    "    '🏫',    # 10 専門学校\n",
    "    '👮‍♂️', # 11 警察\n",
    "    '🛡',    # 12 自衛隊\n",
    "    '🏫',    # 13 教育機関\n",
    "    '👨‍🚒',  # 14 消防署\n",
    "    '️⚽️',   # 15 運動施設\n",
    "    '🧒',    # 16 保育園/幼稚園\n",
    "    '🎤',   # 17 カラオケ\n",
    "    '⛹🏻‍♂️',   # 18 体育館\n",
    "    '🏭',   # 19 工場\n",
    "    '🏊🏼‍♀️',   # 20 水泳\n",
    "    '🥋',   # 21 柔道空手\n",
    "    '🏨',   # 22 ホテル\n",
    "    '☎️',   # 23 コールセンター\n",
    "    '🚕',   # 24 タクシー\n",
    "    '🚌',   # 25 バス\n",
    "    '🚗',   # 26 自家用車\n",
    "    '💇‍♀️',# 27 理美容室\n",
    "    '🛳️', # 28 船\n",
    "    '📚', # 29 図書館 \n",
    "    '🚑', # 30 救急車 \n",
    "    '🏧', # 31 金融機関 \n",
    "    '🧑‍🍳', # 32 調理室\n",
    "    '🏡', # 33 個人宅 \n",
    "    '🚊', # 34 電車\n",
    "    '🐟', # 35 生鮮市場\n",
    "]"
   ]
  },
  {
   "cell_type": "code",
   "execution_count": 7,
   "metadata": {},
   "outputs": [],
   "source": [
    "def get_prev_cases_edu(df, name):\n",
    "    results = []\n",
    "    total = 0\n",
    "    ico = \"🧑‍🎓\"\n",
    "    if name.endswith(\"小学校\"):\n",
    "        ico = \"🎒\"\n",
    "    ret = \"{}{}では過去に\".format(ico, name)\n",
    "    prev_cases = curr[\n",
    "        (curr['name'] == name) & \n",
    "        (curr['opened'] != curr['opened'].iloc[-1])]\n",
    "    if len(prev_cases) == 0:\n",
    "        return results\n",
    "    for k, v in prev_cases.iterrows():\n",
    "        new_str = \"{}の{}名、\".format(v['opened'], v['patients'])\n",
    "        if len(ret) + len(new_str) < 160:\n",
    "            ret += new_str\n",
    "        else:\n",
    "            results.append(ret)\n",
    "            ret = new_str\n",
    "        total += v['patients']\n",
    "    ret = ret.rstrip('、')\n",
    "    new_str = \"の{}回(計{}名)の感染が確認されています。\".format(len(prev_cases), total)\n",
    "    if len(ret) + len(new_str) < 160:\n",
    "        results.append(ret + new_str)\n",
    "    else:\n",
    "        results.append(ret)\n",
    "        results.append(new_str)\n",
    "    #print(results)\n",
    "    return results"
   ]
  },
  {
   "cell_type": "code",
   "execution_count": 8,
   "metadata": {},
   "outputs": [],
   "source": [
    "msg = []\n",
    "spr = []\n",
    "sch = []\n",
    "if n > 0:\n",
    "    head = \"{}、道内で {} 件の新規感染報告が発生しています。\".format(today, n)\n",
    "else:\n",
    "    head = \"{}、北海道の新型コロナ感染者の報告状況です。\".format(today)\n",
    "for k, v in curr.iterrows():\n",
    "    s = \"\"\n",
    "    name = \"\"\n",
    "    if k < len(prev):\n",
    "        diff = curr.at[k, 'patients'] - prev.at[k, 'patients']\n",
    "        if diff > 0:\n",
    "            name = curr.at[k, 'name']\n",
    "            s = \"{}、{} {}名[+{}名]\".format(\n",
    "                curr.at[k, 'state'], curr.at[k, 'name'],\n",
    "                curr.at[k, 'patients'], diff)\n",
    "    else:\n",
    "        s = \"{}、{} {}名🆕\".format(\n",
    "            curr.at[k, 'state'], curr.at[k, 'name'], curr.at[k, 'patients'])\n",
    "        name = curr.at[k, 'name']\n",
    "    if s != \"\":\n",
    "        if name.endswith(\"学校\"):\n",
    "            prev_cases = get_prev_cases_edu(curr, name)\n",
    "            if len(prev_cases) > 0:\n",
    "                sch.extend(prev_cases)\n",
    "        if not pd.isnull(curr.at[k, 'ACH']) and curr.at[k, 'ACH'] != '':\n",
    "            s += get_gr_name(curr.at[k, 'ACH'])\n",
    "        if s.startswith('札幌市、'):\n",
    "            s = s.replace(\"札幌市、\", \"\").replace(\"札幌市立\", \"\").replace('市立','')\n",
    "            s = icons[curr.at[k, 'icon']] + s\n",
    "            spr.append(s)\n",
    "        else:\n",
    "            s = icons[curr.at[k, 'icon']] + s\n",
    "            msg.append(s)"
   ]
  },
  {
   "cell_type": "code",
   "execution_count": 9,
   "metadata": {},
   "outputs": [],
   "source": [
    "if len(msg) > 0 or len(spr) > 0:\n",
    "    f = codecs.open(\"diffs.txt\", \"w\", encoding=\"utf-8\")\n",
    "    #f.write(head + \"\\n\")\n",
    "    if len(spr) > 0:\n",
    "        f.write(\"■札幌市\\n\")\n",
    "        for s in sorted(spr):\n",
    "            f.write(\"{}\\n\".format(s))\n",
    "    if len(msg) > 0:\n",
    "        f.write(\"■札幌以外\\n\")\n",
    "        for m in sorted(msg):\n",
    "            f.write(\"{}\\n\".format(m))\n",
    "    f.write(\"\\n皆様の一日も早いご回復をお祈り申し上げます。\\n\")\n",
    "    if len(sch) > 0:\n",
    "        f.write(\"🏫学校関連\\n\")\n",
    "        for s in sorted(sch):\n",
    "            f.write(\"{}\\n\".format(s))\n",
    "    f.close()"
   ]
  },
  {
   "cell_type": "code",
   "execution_count": 10,
   "metadata": {},
   "outputs": [
    {
     "name": "stdout",
     "output_type": "stream",
     "text": [
      "2021-8-14、道内で 10 件の新規感染報告が発生しています。\n",
      "Finished, dounai:7, sapporo:13\n"
     ]
    }
   ],
   "source": [
    "print(head)\n",
    "print(\"Finished, dounai:{}, sapporo:{}\".format(len(msg), len(spr)))"
   ]
  },
  {
   "cell_type": "code",
   "execution_count": 11,
   "metadata": {},
   "outputs": [],
   "source": [
    "#msg"
   ]
  },
  {
   "cell_type": "code",
   "execution_count": 12,
   "metadata": {},
   "outputs": [],
   "source": [
    "tw = get_twitter()"
   ]
  },
  {
   "cell_type": "code",
   "execution_count": 13,
   "metadata": {},
   "outputs": [],
   "source": [
    "if \"ipy\" in sys.argv[0]:\n",
    "    exit()"
   ]
  },
  {
   "cell_type": "code",
   "execution_count": null,
   "metadata": {},
   "outputs": [],
   "source": [
    "if len(msg) == 0 and len(spr) == 0:\n",
    "    exit()"
   ]
  },
  {
   "cell_type": "code",
   "execution_count": 15,
   "metadata": {},
   "outputs": [
    {
     "data": {
      "text/plain": [
       "'2021-8-14、道内で 10 件の新規感染報告が発生しています。\\n地図: https://geneasyura.github.io/cov19-hm/hokkaido-map.html\\nExcel: https://raw.githubusercontent.com/geneasyura/cov19-hm/master/csv/maps.xlsx\\nCSV: https://raw.githubusercontent.com/geneasyura/cov19-hm/master/csv/maps.csv'"
      ]
     },
     "execution_count": 15,
     "metadata": {},
     "output_type": "execute_result"
    }
   ],
   "source": [
    "u = 'https://geneasyura.github.io/cov19-hm/hokkaido-map.html'\n",
    "c = 'https://raw.githubusercontent.com/geneasyura/cov19-hm/master/csv/maps.xlsx'\n",
    "heads = \"{}\\n地図: {}\\nExcel: {}\\nCSV: {}\".format(head, u, c, c.replace('xlsx', 'csv'))\n",
    "heads"
   ]
  },
  {
   "cell_type": "code",
   "execution_count": null,
   "metadata": {},
   "outputs": [],
   "source": [
    "req = tw.statuses.update(status=heads)\n",
    "parent_tweet_id = req['id']\n",
    "print(\"Tweeted({}):[{}]\".format(parent_tweet_id, heads))"
   ]
  },
  {
   "cell_type": "code",
   "execution_count": null,
   "metadata": {},
   "outputs": [],
   "source": [
    "f = codecs.open(\"diffs.txt\", encoding=\"utf-8\")\n",
    "blk = ''\n",
    "while True:\n",
    "    l = f.readline()\n",
    "    if not l:\n",
    "        break\n",
    "    #print(l)\n",
    "    if len(blk + l) < 160:\n",
    "        blk += l\n",
    "    else:\n",
    "        req = tw.statuses.update(status=blk, in_reply_to_status_id=parent_tweet_id)\n",
    "        parent_tweet_id = req['id']\n",
    "        print(\"Tweeted:[{}]\".format(blk))\n",
    "        blk = l\n",
    "f.close()"
   ]
  },
  {
   "cell_type": "code",
   "execution_count": null,
   "metadata": {},
   "outputs": [],
   "source": [
    "if len(blk) > 0:\n",
    "    req = tw.statuses.update(status=blk, in_reply_to_status_id=parent_tweet_id)   \n",
    "    print(\"Tweeted:[[{}]]\".format(blk))"
   ]
  },
  {
   "cell_type": "code",
   "execution_count": null,
   "metadata": {},
   "outputs": [],
   "source": []
  },
  {
   "cell_type": "code",
   "execution_count": 19,
   "metadata": {},
   "outputs": [
    {
     "data": {
      "text/plain": [
       "'prev.csv'"
      ]
     },
     "execution_count": 19,
     "metadata": {},
     "output_type": "execute_result"
    }
   ],
   "source": [
    "shutil.copyfile(\"maps.csv\", \"prev.csv\")"
   ]
  },
  {
   "cell_type": "code",
   "execution_count": null,
   "metadata": {},
   "outputs": [],
   "source": []
  },
  {
   "cell_type": "code",
   "execution_count": null,
   "metadata": {},
   "outputs": [],
   "source": []
  },
  {
   "cell_type": "code",
   "execution_count": null,
   "metadata": {},
   "outputs": [],
   "source": []
  }
 ],
 "metadata": {
  "kernelspec": {
   "display_name": "Python 3",
   "language": "python",
   "name": "python3"
  },
  "language_info": {
   "codemirror_mode": {
    "name": "ipython",
    "version": 3
   },
   "file_extension": ".py",
   "mimetype": "text/x-python",
   "name": "python",
   "nbconvert_exporter": "python",
   "pygments_lexer": "ipython3",
   "version": "3.8.6"
  }
 },
 "nbformat": 4,
 "nbformat_minor": 4
}
