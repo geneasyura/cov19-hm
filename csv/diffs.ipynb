{
 "cells": [
  {
   "cell_type": "code",
   "execution_count": 1,
   "metadata": {},
   "outputs": [],
   "source": [
    "#!/usr/bin/env python\n",
    "# coding: utf-8"
   ]
  },
  {
   "cell_type": "code",
   "execution_count": 2,
   "metadata": {},
   "outputs": [],
   "source": [
    "import codecs\n",
    "from datetime import datetime as dt\n",
    "import pandas as pd\n",
    "from cov19utils import create_basic_plot_figure, \\\n",
    "    show_and_clear, moving_average, \\\n",
    "    blank2zero, csv2array, \\\n",
    "    get_twitter, tweet_with_image, \\\n",
    "    get_gpr_predict, FONT_NAME, DT_OFFSET, \\\n",
    "    download_if_needed, json2nparr, code2int, age2int, \\\n",
    "    get_populations, get_os_idx_of_arr, dump_val_in_arr, \\\n",
    "    calc_last1w2w_dif, create_basic_scatter_figure, \\\n",
    "    show_and_save_plotly"
   ]
  },
  {
   "cell_type": "code",
   "execution_count": 3,
   "metadata": {},
   "outputs": [],
   "source": [
    "prev = pd.read_csv(\"prev.csv\", encoding='shift-jis', header=0)\n",
    "curr = pd.read_csv(\"maps.csv\", encoding='shift-jis', header=0)"
   ]
  },
  {
   "cell_type": "code",
   "execution_count": 4,
   "metadata": {},
   "outputs": [],
   "source": [
    "n = len(curr) - len(prev)\n",
    "today = dt.now().isoformat()[:10]"
   ]
  },
  {
   "cell_type": "code",
   "execution_count": 5,
   "metadata": {},
   "outputs": [],
   "source": [
    "icons = [\n",
    "    '',      #  0 NULL\n",
    "    '🍴',    #  1 飲食店\n",
    "    '🍻',    #  2 キャバクラ\n",
    "    '🏢',    #  3 事業所\n",
    "    '👨‍🦽',  #  4 福祉施設\n",
    "    '🏥',    #  5 医療機関\n",
    "    '🏫',    #  6 小学校\n",
    "    '🏫',    #  7 中学校\n",
    "    '🏫',    #  8 高校\n",
    "    '🏫',    #  9 大学\n",
    "    '🏫',    # 10 専門学校\n",
    "    '👮‍♂️', # 11 警察\n",
    "    '🛡',    # 12 自衛隊\n",
    "    '🏫',    # 13 教育機関\n",
    "    '👨‍🚒',  # 14 消防署\n",
    "    '️⚽️',   # 15 運動施設\n",
    "    '🧒',    # 16 保育園/幼稚園\n",
    "    '🎤',   # 17 カラオケ\n",
    "    '⛹🏻‍♂️',   # 18 体育館\n",
    "    '🏭',   # 19 工場\n",
    "    '🏊🏼‍♀️',   # 20 水泳\n",
    "    '🥋',   # 21 柔道空手\n",
    "    '🏨',   # 22 ホテル\n",
    "    '☎️',   # 23 コールセンター\n",
    "    '🚕',   # 24 タクシー\n",
    "    '🚌',   # 25 バス\n",
    "    '🚗',   # 26 自家用車\n",
    "    '💇‍♀️',# 27 理美容室\n",
    "    '🛳️', # 28 船\n",
    "    '📚', # 29 図書館 \n",
    "    '🚑', # 30 救急車 \n",
    "    '🏧', # 31 金融機関 \n",
    "    '🧑‍🍳', # 32 調理室\n",
    "    '🏡', # 33 個人宅 \n",
    "    '', # 34 \n",
    "]\n",
    "msg = []\n",
    "spr = []\n",
    "if n > 0:\n",
    "    head = \"{}、道内で {} 件の新規感染報告が発生しています。\".format(today, n)\n",
    "else:\n",
    "    head = \"{}、北海道の新型コロナ感染者の報告状況です。\".format(today)\n",
    "for k, v in curr.iterrows():\n",
    "    s = \"\"\n",
    "    if k < len(prev):\n",
    "        diff = curr.at[k, 'patients'] - prev.at[k, 'patients']\n",
    "        if diff > 0:\n",
    "            s = \"{}、{} {}名[+{}名]\".format(\n",
    "                curr.at[k, 'state'], curr.at[k, 'name'],\n",
    "                curr.at[k, 'patients'], diff)\n",
    "    else:\n",
    "        s = \"{}、{} {}名🆕\".format(\n",
    "            curr.at[k, 'state'], curr.at[k, 'name'], curr.at[k, 'patients'])\n",
    "    if s != \"\":\n",
    "        if not pd.isnull(curr.at[k, 'ACH']) and curr.at[k, 'ACH'] > 0:\n",
    "            s += '(変異)'\n",
    "        if s.startswith('札幌市、'):\n",
    "            s = s.replace(\"札幌市、\", \"\").replace(\"札幌市立\", \"\").replace('市立','')\n",
    "            s = icons[curr.at[k, 'icon']] + s\n",
    "            spr.append(s)\n",
    "        else:\n",
    "            s = icons[curr.at[k, 'icon']] + s\n",
    "            msg.append(s)\n",
    "\n",
    "if len(msg) > 0 or len(spr) > 0:\n",
    "    f = codecs.open(\"diffs.txt\", \"w\", encoding=\"utf-8\")\n",
    "    f.write(head + \"\\n\")\n",
    "    if len(spr) > 0:\n",
    "        f.write(\"■札幌市\\n\")\n",
    "        for s in sorted(spr):\n",
    "            f.write(s + \"\\n\")\n",
    "    if len(msg) > 0:\n",
    "        f.write(\"■札幌以外\\n\")\n",
    "        for m in sorted(msg):\n",
    "            f.write(m + \"\\n\")\n",
    "    f.close()"
   ]
  },
  {
   "cell_type": "code",
   "execution_count": 6,
   "metadata": {},
   "outputs": [
    {
     "name": "stdout",
     "output_type": "stream",
     "text": [
      "Finished, dounai:15, sapporo:29\n"
     ]
    }
   ],
   "source": [
    "print(\"Finished, dounai:{}, sapporo:{}\".format(len(msg), len(spr)))"
   ]
  },
  {
   "cell_type": "code",
   "execution_count": 7,
   "metadata": {},
   "outputs": [
    {
     "ename": "FileNotFoundError",
     "evalue": "[Errno 2] No such file or directory: '.tokens'",
     "output_type": "error",
     "traceback": [
      "\u001b[1;31m---------------------------------------------------------------------------\u001b[0m",
      "\u001b[1;31mFileNotFoundError\u001b[0m                         Traceback (most recent call last)",
      "\u001b[1;32m<ipython-input-7-5797fb36be54>\u001b[0m in \u001b[0;36m<module>\u001b[1;34m\u001b[0m\n\u001b[1;32m----> 1\u001b[1;33m \u001b[0mtw\u001b[0m \u001b[1;33m=\u001b[0m \u001b[0mget_twitter\u001b[0m\u001b[1;33m(\u001b[0m\u001b[1;33m)\u001b[0m\u001b[1;33m\u001b[0m\u001b[1;33m\u001b[0m\u001b[0m\n\u001b[0m",
      "\u001b[1;32mD:\\work\\cov19-hm\\csv\\cov19utils.py\u001b[0m in \u001b[0;36mget_twitter\u001b[1;34m()\u001b[0m\n\u001b[0;32m    149\u001b[0m \u001b[1;32mdef\u001b[0m \u001b[0mget_twitter\u001b[0m\u001b[1;33m(\u001b[0m\u001b[1;33m)\u001b[0m\u001b[1;33m:\u001b[0m\u001b[1;33m\u001b[0m\u001b[1;33m\u001b[0m\u001b[0m\n\u001b[0;32m    150\u001b[0m     \u001b[1;34m\"\"\" Twitterインスタンスを取得する \"\"\"\u001b[0m\u001b[1;33m\u001b[0m\u001b[1;33m\u001b[0m\u001b[0m\n\u001b[1;32m--> 151\u001b[1;33m     \u001b[0mtw_cfg\u001b[0m \u001b[1;33m=\u001b[0m \u001b[0myaml\u001b[0m\u001b[1;33m.\u001b[0m\u001b[0mload\u001b[0m\u001b[1;33m(\u001b[0m\u001b[0mopen\u001b[0m\u001b[1;33m(\u001b[0m\u001b[1;34m\".tokens\"\u001b[0m\u001b[1;33m)\u001b[0m\u001b[1;33m,\u001b[0m \u001b[0mLoader\u001b[0m\u001b[1;33m=\u001b[0m\u001b[0myaml\u001b[0m\u001b[1;33m.\u001b[0m\u001b[0mSafeLoader\u001b[0m\u001b[1;33m)\u001b[0m\u001b[1;33m\u001b[0m\u001b[1;33m\u001b[0m\u001b[0m\n\u001b[0m\u001b[0;32m    152\u001b[0m     oauth = OAuth(\n\u001b[0;32m    153\u001b[0m         \u001b[0mtw_cfg\u001b[0m\u001b[1;33m[\u001b[0m\u001b[1;34m'ACCESS_TOKEN'\u001b[0m\u001b[1;33m]\u001b[0m\u001b[1;33m,\u001b[0m \u001b[0mtw_cfg\u001b[0m\u001b[1;33m[\u001b[0m\u001b[1;34m'ACCESS_TOKEN_SECRET'\u001b[0m\u001b[1;33m]\u001b[0m\u001b[1;33m,\u001b[0m\u001b[1;33m\u001b[0m\u001b[1;33m\u001b[0m\u001b[0m\n",
      "\u001b[1;31mFileNotFoundError\u001b[0m: [Errno 2] No such file or directory: '.tokens'"
     ]
    }
   ],
   "source": [
    "tw = get_twitter()"
   ]
  },
  {
   "cell_type": "code",
   "execution_count": null,
   "metadata": {},
   "outputs": [],
   "source": [
    "if \"ipy\" in sys.argv[0]:\n",
    "    return"
   ]
  },
  {
   "cell_type": "code",
   "execution_count": null,
   "metadata": {},
   "outputs": [],
   "source": [
    "if len(msg) == 0 and len(spr) == 0:\n",
    "    return\n",
    "\n",
    "f = codecs.open(\"diffs.txt\", encoding=\"utf-8\")\n",
    "while True:\n",
    "    l = f.readline()\n",
    "    print(l)\n",
    "    if not l:\n",
    "        break\n",
    "f.close()"
   ]
  },
  {
   "cell_type": "code",
   "execution_count": null,
   "metadata": {},
   "outputs": [],
   "source": [
    "#params = {\"media[]\": imagedata, \"status\": msg + \" #COVID19\"}\n",
    "#req = twtr.statuses.update_with_media(**params)\n",
    "#print(req['created_at'])\n",
    "#print(\"Tweeted.\")"
   ]
  }
 ],
 "metadata": {
  "kernelspec": {
   "display_name": "Python 3",
   "language": "python",
   "name": "python3"
  },
  "language_info": {
   "codemirror_mode": {
    "name": "ipython",
    "version": 3
   },
   "file_extension": ".py",
   "mimetype": "text/x-python",
   "name": "python",
   "nbconvert_exporter": "python",
   "pygments_lexer": "ipython3",
   "version": "3.8.6"
  }
 },
 "nbformat": 4,
 "nbformat_minor": 4
}
