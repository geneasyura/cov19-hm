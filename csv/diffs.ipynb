{
 "cells": [
  {
   "cell_type": "code",
   "execution_count": null,
   "metadata": {},
   "outputs": [],
   "source": [
    "#!/usr/bin/env python\n",
    "# coding: utf-8"
   ]
  },
  {
   "cell_type": "code",
   "execution_count": null,
   "metadata": {},
   "outputs": [],
   "source": [
    "from datetime import datetime as dt\n",
    "import pandas as pd"
   ]
  },
  {
   "cell_type": "code",
   "execution_count": null,
   "metadata": {},
   "outputs": [],
   "source": [
    "prev = pd.read_csv(\"prev.csv\", encoding='shift-jis', header=0)\n",
    "curr = pd.read_csv(\"maps.csv\", encoding='shift-jis', header=0)"
   ]
  },
  {
   "cell_type": "code",
   "execution_count": null,
   "metadata": {},
   "outputs": [],
   "source": [
    "n = len(curr) - len(prev)\n",
    "today = dt.now().isoformat()[:10]"
   ]
  },
  {
   "cell_type": "code",
   "execution_count": null,
   "metadata": {},
   "outputs": [],
   "source": [
    "msg = [\"{}、道内で {} 件の新規クラスターが発生しています。\".format(today, n)]\n",
    "for k, v in curr.iterrows():\n",
    "    s = \"\"\n",
    "    if k < len(prev):\n",
    "        diff = curr.at[k, 'patients'] - prev.at[k, 'patients']\n",
    "        if diff > 0:\n",
    "            s = \"{}、{}、{}名[+{}名]\".format(\n",
    "                curr.at[k, 'state'], curr.at[k, 'name'],\n",
    "                curr.at[k, 'patients'], diff)\n",
    "    else:\n",
    "        s = \"{}、{}、{}名 ※新規\".format(\n",
    "            curr.at[k, 'state'], curr.at[k, 'name'], curr.at[k, 'patients'])\n",
    "    if s != \"\":\n",
    "        msg.append(s)\n",
    "\n",
    "for m in sorted(msg):\n",
    "    print(m)"
   ]
  },
  {
   "cell_type": "code",
   "execution_count": null,
   "metadata": {},
   "outputs": [],
   "source": [
    "#prev"
   ]
  },
  {
   "cell_type": "code",
   "execution_count": null,
   "metadata": {},
   "outputs": [],
   "source": []
  }
 ],
 "metadata": {
  "kernelspec": {
   "display_name": "Python 3",
   "language": "python",
   "name": "python3"
  },
  "language_info": {
   "codemirror_mode": {
    "name": "ipython",
    "version": 3
   },
   "file_extension": ".py",
   "mimetype": "text/x-python",
   "name": "python",
   "nbconvert_exporter": "python",
   "pygments_lexer": "ipython3",
   "version": "3.8.6"
  }
 },
 "nbformat": 4,
 "nbformat_minor": 4
}
