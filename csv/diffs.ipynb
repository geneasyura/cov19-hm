{
 "cells": [
  {
   "cell_type": "code",
   "execution_count": 1,
   "metadata": {},
   "outputs": [],
   "source": [
    "#!/usr/bin/env python\n",
    "# coding: utf-8"
   ]
  },
  {
   "cell_type": "code",
   "execution_count": 2,
   "metadata": {},
   "outputs": [],
   "source": [
    "from datetime import datetime as dt\n",
    "import pandas as pd"
   ]
  },
  {
   "cell_type": "code",
   "execution_count": 3,
   "metadata": {},
   "outputs": [],
   "source": [
    "prev = pd.read_csv(\"prev.csv\", encoding='shift-jis', header=0)\n",
    "curr = pd.read_csv(\"maps.csv\", encoding='shift-jis', header=0)"
   ]
  },
  {
   "cell_type": "code",
   "execution_count": 4,
   "metadata": {},
   "outputs": [],
   "source": [
    "n = len(curr) - len(prev)\n",
    "today = dt.now().isoformat()[:10]"
   ]
  },
  {
   "cell_type": "code",
   "execution_count": 5,
   "metadata": {},
   "outputs": [
    {
     "name": "stdout",
     "output_type": "stream",
     "text": [
      "2021-02-11、道内で 3 件の新規感染報告が発生しています。\n",
      "余市町、養老ホーム かるな和順、8名[+2名]\n",
      "函館市、函館少年刑務所(市8例)、22名[+2名]\n",
      "小樽市、小樽協会病院(市13例)、56名[+1名]\n",
      "恵庭市、恵庭第一病院、1名 ※新規\n",
      "札幌市、ススキノ ラウンジ(市165例)、5名 ※新規\n",
      "札幌市、札幌市新生児童会館、1名 ※新規\n",
      "札幌市、障害福祉サービス事業所(市156例)、88名[+1名]\n",
      "江別市、介護老人保健施設 夢あかり、26名[+1名]\n"
     ]
    }
   ],
   "source": [
    "if n > 0:\n",
    "    msg = [\"{}、道内で {} 件の新規感染報告が発生しています。\".format(today, n)]\n",
    "else:\n",
    "    msg = [\"{}、北海道の新型コロナ感染者の報告状況です。\".format(today)]\n",
    "for k, v in curr.iterrows():\n",
    "    s = \"\"\n",
    "    if k < len(prev):\n",
    "        diff = curr.at[k, 'patients'] - prev.at[k, 'patients']\n",
    "        if diff > 0:\n",
    "            s = \"{}、{}、{}名[+{}名]\".format(\n",
    "                curr.at[k, 'state'], curr.at[k, 'name'],\n",
    "                curr.at[k, 'patients'], diff)\n",
    "    else:\n",
    "        s = \"{}、{}、{}名 ※新規\".format(\n",
    "            curr.at[k, 'state'], curr.at[k, 'name'], curr.at[k, 'patients'])\n",
    "    if s != \"\":\n",
    "        msg.append(s)\n",
    "\n",
    "if len(msg) > 1:\n",
    "    for m in sorted(msg):\n",
    "        print(m)"
   ]
  },
  {
   "cell_type": "code",
   "execution_count": null,
   "metadata": {},
   "outputs": [],
   "source": []
  }
 ],
 "metadata": {
  "kernelspec": {
   "display_name": "Python 3",
   "language": "python",
   "name": "python3"
  },
  "language_info": {
   "codemirror_mode": {
    "name": "ipython",
    "version": 3
   },
   "file_extension": ".py",
   "mimetype": "text/x-python",
   "name": "python",
   "nbconvert_exporter": "python",
   "pygments_lexer": "ipython3",
   "version": "3.8.6"
  }
 },
 "nbformat": 4,
 "nbformat_minor": 4
}
