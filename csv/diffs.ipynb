{
 "cells": [
  {
   "cell_type": "code",
   "execution_count": 1,
   "metadata": {},
   "outputs": [],
   "source": [
    "#!/usr/bin/env python\n",
    "# coding: utf-8"
   ]
  },
  {
   "cell_type": "code",
   "execution_count": 2,
   "metadata": {},
   "outputs": [],
   "source": [
    "from datetime import datetime as dt\n",
    "import pandas as pd"
   ]
  },
  {
   "cell_type": "code",
   "execution_count": 29,
   "metadata": {},
   "outputs": [],
   "source": [
    "prev = pd.read_csv(\"prev.csv\", encoding='shift-jis', header=0)\n",
    "curr = pd.read_csv(\"maps.csv\", encoding='shift-jis', header=0)"
   ]
  },
  {
   "cell_type": "code",
   "execution_count": 30,
   "metadata": {},
   "outputs": [],
   "source": [
    "n = len(curr) - len(prev)\n",
    "today = dt.now().isoformat()[:10]"
   ]
  },
  {
   "cell_type": "code",
   "execution_count": 31,
   "metadata": {},
   "outputs": [
    {
     "name": "stdout",
     "output_type": "stream",
     "text": [
      "2021-05-22、道内で 18 件の新規感染報告が発生しています。\n",
      "■札幌市\n",
      "グループホーム(市264例) 15名※新規\n",
      "サ付高齢者住宅(市263例) 9名※新規\n",
      "元町小学校 1名※新規\n",
      "医療機関(市261例) 10名※新規\n",
      "川北小学校 1名※新規\n",
      "平和小学校 1名※新規\n",
      "平岡中学校 2名[+1名]\n",
      "手稲中学校 1名※新規\n",
      "有料老人ホーム(市243例) 20名[+2名]\n",
      "本通小学校(市259例) 10名[+1名]\n",
      "札幌大通高等学校 1名※新規\n",
      "特養老ホーム(市244例) 29名[+2名]\n",
      "認可保育施設(市249例) 11名[+1名]\n",
      "障がい福祉サービス事業所(市262例) 6名※新規\n",
      "■札幌以外\n",
      "十勝地方、認知症グループホーム 9名[+1名]\n",
      "千歳市、北海道千歳高等学校 8名[+7名]\n",
      "名寄市、名寄市役所 風連庁舎 1名※新規\n",
      "名寄市、名寄市東保育所 1名※新規\n",
      "名寄市、名寄市立名寄中学校 1名※新規\n",
      "名寄市、名寄市立名寄南小学校 1名※新規\n",
      "名寄市、名寄市立名寄西小学校 1名※新規\n",
      "名寄市、名寄市立風連中学校 1名※新規\n",
      "室蘭市、高校 16名[+1名]\n",
      "小樽市、小樽市立山の手小学校 2名[+1名]\n",
      "小樽市、飲食店(昼カラ) 29名[+6名]\n",
      "帯広市、おひさま保育園 5名※新規\n",
      "幕別町、札内さかえ保育所 26名[+1名]\n",
      "旭川市、入居型高齢者福祉施設(市31例) 6名※新規\n",
      "旭川市、北海道教育大学附属旭川小学校 3名[+1名]\n",
      "森町、水産加工会社 32名※新規\n",
      "標津町、特養老ホ 標津はまなす苑 32名[+1名]\n",
      "浦河町、北海道浦河高等学校 5名[+4名]\n",
      "浦河町、浦河町立浦河第一中学校 8名[+7名]\n",
      "登別市、市内ホテル 12名[+3名]\n",
      "石狩地方、介護事業所 13名[+1名]\n",
      "芽室町、芽室町立芽室西中学校 7名[+5名]\n"
     ]
    }
   ],
   "source": [
    "msg = []\n",
    "spr = []\n",
    "if n > 0:\n",
    "    head = \"{}、道内で {} 件の新規感染報告が発生しています。\".format(today, n)\n",
    "else:\n",
    "    head = \"{}、北海道の新型コロナ感染者の報告状況です。\".format(today)\n",
    "for k, v in curr.iterrows():\n",
    "    s = \"\"\n",
    "    if k < len(prev):\n",
    "        diff = curr.at[k, 'patients'] - prev.at[k, 'patients']\n",
    "        if diff > 0:\n",
    "            s = \"{}、{} {}名[+{}名]\".format(\n",
    "                curr.at[k, 'state'], curr.at[k, 'name'],\n",
    "                curr.at[k, 'patients'], diff)\n",
    "    else:\n",
    "        s = \"{}、{} {}名※新規\".format(\n",
    "            curr.at[k, 'state'], curr.at[k, 'name'], curr.at[k, 'patients'])\n",
    "    if s != \"\":\n",
    "        if not pd.isnull(curr.at[k, 'ACH']) and curr.at[k, 'ACH'] > 0:\n",
    "            s += '(変異)'\n",
    "        if s.startswith('札幌市、'):\n",
    "            spr.append(s.replace(\"札幌市、\", \"\").replace(\"札幌市立\", \"\").replace('市立',''))\n",
    "        else:\n",
    "            msg.append(s)\n",
    "\n",
    "if len(msg) > 1:\n",
    "    print(head)\n",
    "    print(\"■札幌市\")\n",
    "    for s in sorted(spr):\n",
    "        print(s)\n",
    "    print(\"■札幌以外\")\n",
    "    for m in sorted(msg):\n",
    "        print(m)"
   ]
  },
  {
   "cell_type": "code",
   "execution_count": null,
   "metadata": {},
   "outputs": [],
   "source": []
  }
 ],
 "metadata": {
  "kernelspec": {
   "display_name": "Python 3",
   "language": "python",
   "name": "python3"
  },
  "language_info": {
   "codemirror_mode": {
    "name": "ipython",
    "version": 3
   },
   "file_extension": ".py",
   "mimetype": "text/x-python",
   "name": "python",
   "nbconvert_exporter": "python",
   "pygments_lexer": "ipython3",
   "version": "3.8.6"
  }
 },
 "nbformat": 4,
 "nbformat_minor": 4
}
