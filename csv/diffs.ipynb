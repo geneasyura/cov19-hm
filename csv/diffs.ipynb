{
 "cells": [
  {
   "cell_type": "code",
   "execution_count": 1,
   "metadata": {},
   "outputs": [],
   "source": [
    "#!/usr/bin/env python\n",
    "# coding: utf-8"
   ]
  },
  {
   "cell_type": "code",
   "execution_count": 32,
   "metadata": {},
   "outputs": [],
   "source": [
    "#from datetime import datetime as dt\n",
    "#import sys\n",
    "#import numpy as np\n",
    "#import os\n",
    "import pandas as pd\n",
    "#import plotly\n",
    "#import plotly.express as px\n",
    "#import plotly.tools as tls\n",
    "#import plotly.graph_objects as go\n",
    "#import plotly.io as pio\n",
    "#import plotly.offline as offline\n",
    "#import sys\n",
    "#if \"ipy\" in sys.argv[0]:\n",
    "#    offline.init_notebook_mode()\n",
    "#from cov19utils import create_basic_plot_figure, \\\n",
    "#    show_and_clear, moving_average, \\\n",
    "#    blank2zero, csv2array, \\\n",
    "#    get_twitter, tweet_with_image, \\\n",
    "#    get_gpr_predict, FONT_NAME, DT_OFFSET, \\\n",
    "#    download_if_needed, json2nparr, code2int, age2int, \\\n",
    "#    get_populations, get_os_idx_of_arr, dump_val_in_arr, \\\n",
    "#    calc_last1w2w_dif, create_basic_scatter_figure, \\\n",
    "#    show_and_save_plotly"
   ]
  },
  {
   "cell_type": "code",
   "execution_count": 33,
   "metadata": {},
   "outputs": [],
   "source": [
    "prev = pd.read_csv(\"prev.csv\", encoding='shift-jis', header=0)\n",
    "curr = pd.read_csv(\"maps.csv\", encoding='shift-jis', header=0)"
   ]
  },
  {
   "cell_type": "code",
   "execution_count": 34,
   "metadata": {},
   "outputs": [],
   "source": [
    "n = len(curr) - len(prev)"
   ]
  },
  {
   "cell_type": "code",
   "execution_count": 44,
   "metadata": {},
   "outputs": [
    {
     "name": "stdout",
     "output_type": "stream",
     "text": [
      "本日道内で 2 件の新規クラスターが発生しています。\n",
      "増加:旭川市、慶友会吉田病院、167名[+2名]\n",
      "増加:岩見沢市、北海道中央労災病院(道88例目)、40名[+2名]\n",
      "増加:滝川市、滝川中央病院(道89例目)、31名[+1名]\n",
      "\n",
      "続き：\n",
      "増加:北広島市、障害者支援施設(道104例目)、117名[+1名]\n",
      "増加:札幌市、札幌田中病院(市85例目)、166名[+13名]\n",
      "増加:旭川市、旭川厚生病院、203名[+16名]\n",
      "増加:旭川市、有料老人ホーム、7名[+1名]\n",
      "\n",
      "続き：\n",
      "増加:札幌市、札幌市立太平中学校、4名[+3名]\n",
      "増加:旭川市、障害者福祉施設 北海道療育園、25名[+1名]\n",
      "新規:札幌市、札幌医科大学附属病院(南4F/5F)、11名\n",
      "新規:滝川市、ＪＲ北海道岩見沢保線所滝川保線管理室、5名\n",
      "\n"
     ]
    }
   ],
   "source": [
    "msg = \"本日道内で {} 件の新規クラスターが発生しています。\\n\".format(n)\n",
    "for k, v in curr.iterrows():\n",
    "    s = \"\"\n",
    "    if k < len(prev):\n",
    "        diff = curr.at[k, 'patients'] - prev.at[k, 'patients']\n",
    "        if diff > 0:\n",
    "            s = \"増加:{}、{}、{}名[+{}名]\".format(\n",
    "                curr.at[k, 'state'], curr.at[k, 'name'],\n",
    "                curr.at[k, 'patients'], diff)\n",
    "    else:\n",
    "        s = \"新規:{}、{}、{}名\".format(\n",
    "            curr.at[k, 'state'], curr.at[k, 'name'], curr.at[k, 'patients'])\n",
    "    if s != \"\": # 140\n",
    "        if len(msg + s + \"\\n\") < 140:\n",
    "            msg += s + \"\\n\"\n",
    "        else:\n",
    "            print(msg)\n",
    "            msg = \"続き：\\n\"\n",
    "if s != \"\":\n",
    "    print(msg)"
   ]
  },
  {
   "cell_type": "code",
   "execution_count": 31,
   "metadata": {},
   "outputs": [],
   "source": [
    "#prev"
   ]
  },
  {
   "cell_type": "code",
   "execution_count": null,
   "metadata": {},
   "outputs": [],
   "source": []
  }
 ],
 "metadata": {
  "kernelspec": {
   "display_name": "Python 3",
   "language": "python",
   "name": "python3"
  },
  "language_info": {
   "codemirror_mode": {
    "name": "ipython",
    "version": 3
   },
   "file_extension": ".py",
   "mimetype": "text/x-python",
   "name": "python",
   "nbconvert_exporter": "python",
   "pygments_lexer": "ipython3",
   "version": "3.8.6"
  }
 },
 "nbformat": 4,
 "nbformat_minor": 4
}
