{
 "cells": [
  {
   "cell_type": "code",
   "execution_count": null,
   "metadata": {},
   "outputs": [],
   "source": [
    "import codecs\n",
    "from datetime import datetime as dt\n",
    "import json\n",
    "import sys\n",
    "import numpy as np\n",
    "import os\n",
    "import pandas as pd\n",
    "import plotly\n",
    "from plotly import subplots\n",
    "import plotly.express as px\n",
    "import plotly.tools as tls\n",
    "import plotly.graph_objects as go\n",
    "import plotly.io as pio\n",
    "import plotly.offline as offline\n",
    "import sys\n",
    "if \"ipy\" in sys.argv[0]:\n",
    "    offline.init_notebook_mode()\n",
    "from cov19utils import create_basic_plot_figure,     show_and_clear, moving_average,     blank2zero, csv2array,     get_twitter, tweet_with_image,     get_gpr_predict, FONT_NAME, DT_OFFSET,     download_if_needed, json2nparr, code2int, age2int,     get_populations, get_os_idx_of_arr, dump_val_in_arr,     calc_last1w2w_dif, create_basic_scatter_figure,     show_and_save_plotly\n",
    "import re\n",
    "import requests"
   ]
  },
  {
   "cell_type": "code",
   "execution_count": null,
   "metadata": {},
   "outputs": [],
   "source": [
    "# https://twitter.com/zwiYWJqourMuEh7/status/1431351917330845696"
   ]
  },
  {
   "cell_type": "code",
   "execution_count": null,
   "metadata": {},
   "outputs": [],
   "source": [
    "from sklearn.gaussian_process import GaussianProcessRegressor\n",
    "from sklearn.gaussian_process.kernels import RBF\n",
    "from sklearn.gaussian_process.kernels import ConstantKernel as C\n",
    "from sklearn.gaussian_process.kernels import WhiteKernel as WK\n",
    "from sklearn.gaussian_process.kernels import RationalQuadratic as RQ"
   ]
  },
  {
   "cell_type": "code",
   "execution_count": null,
   "metadata": {},
   "outputs": [],
   "source": [
    "from scipy.optimize import curve_fit\n",
    "from scipy.special import factorial"
   ]
  },
  {
   "cell_type": "code",
   "execution_count": null,
   "metadata": {},
   "outputs": [],
   "source": [
    "df = pd.read_csv('toma-ih.csv')\n",
    "fromto = \"{}～{}\".format(df.iloc[0]['Date'], df.iloc[-1]['Date'])\n",
    "df['Date'] = pd.to_datetime(df['Date'], format='%Y/%m/%d')"
   ]
  },
  {
   "cell_type": "code",
   "execution_count": null,
   "metadata": {},
   "outputs": [],
   "source": [
    "title = '全国高校選抜アイスホッケー大会COVID-19感染者数'"
   ]
  },
  {
   "cell_type": "code",
   "execution_count": null,
   "metadata": {},
   "outputs": [],
   "source": [
    "df['x'] = 0\n",
    "df['x'] = df['Date'] - df.iloc[0]['Date']\n",
    "df['x'] = df['x'].map(lambda x: x.days)"
   ]
  },
  {
   "cell_type": "code",
   "execution_count": null,
   "metadata": {},
   "outputs": [],
   "source": [
    "y = df['Cases'].tolist()\n",
    "X = df['x'].to_numpy().reshape(-1, 1)\n",
    "X_pred = df['x'].tolist()\n",
    "l = X_pred[-1]\n",
    "for i in np.arange(7):\n",
    "    X_pred.append(l + i + 1)\n",
    "X_pred = np.array(X_pred).reshape(-1, 1)"
   ]
  },
  {
   "cell_type": "code",
   "execution_count": null,
   "metadata": {},
   "outputs": [],
   "source": [
    "kernel = 1e-1**2 * RBF(length_scale=1) + WK(noise_level=1e-1**2)"
   ]
  },
  {
   "cell_type": "code",
   "execution_count": null,
   "metadata": {},
   "outputs": [],
   "source": [
    "gp = GaussianProcessRegressor(\n",
    "    kernel=kernel,\n",
    "    alpha=1e-1, \n",
    "    optimizer=\"fmin_l_bfgs_b\",\n",
    "    normalize_y=True,\n",
    "    n_restarts_optimizer=10\n",
    ")"
   ]
  },
  {
   "cell_type": "code",
   "execution_count": null,
   "metadata": {},
   "outputs": [],
   "source": [
    "gp.fit(X, y)\n",
    "y_pred, sigma = gp.predict(X_pred, return_std=True)"
   ]
  },
  {
   "cell_type": "code",
   "execution_count": null,
   "metadata": {},
   "outputs": [],
   "source": []
  },
  {
   "cell_type": "code",
   "execution_count": null,
   "metadata": {},
   "outputs": [],
   "source": [
    "def pred_func(x, b, c, K):\n",
    "    return K / (1 + b * np.exp(-c * x))"
   ]
  },
  {
   "cell_type": "code",
   "execution_count": null,
   "metadata": {},
   "outputs": [],
   "source": [
    "(b, c, K), p0 = curve_fit(\n",
    "    pred_func, df['x'].to_numpy(), y, maxfev=1000,\n",
    "    p0=[3, 1, 300]\n",
    "    )\n",
    "print(\"b:{}, c:{}, K:{}, p0:{}\".format(b, c, K, p0))"
   ]
  },
  {
   "cell_type": "code",
   "execution_count": null,
   "metadata": {},
   "outputs": [],
   "source": [
    "yhat = pred_func(X_pred.reshape(1, -1)[0], b, c, K)"
   ]
  },
  {
   "cell_type": "code",
   "execution_count": null,
   "metadata": {},
   "outputs": [],
   "source": [
    "fig = go.Figure()\n",
    "obs = go.Scatter(\n",
    "    name='Observations', mode='markers', marker=dict(color='red'),\n",
    "    x=X.reshape(1, -1)[0], y=df['Cases'])\n",
    "pred = go.Scatter(\n",
    "    name='Prediction', mode='lines', line=dict(color='blue'),\n",
    "    x=X_pred.reshape(1, -1)[0], y=y_pred)\n",
    "conf = go.Scatter(\n",
    "    x=np.concatenate([X_pred, X_pred[::-1]]).reshape(1, -1)[0],\n",
    "    y=np.concatenate([y_pred - 0.10 * sigma,\n",
    "                      (y_pred + 1.9600 * sigma)[::-1]]),\n",
    "    mode='lines',\n",
    "    line=dict(color='blue', width=0.5),\n",
    "    opacity=0.6,\n",
    "    fill='toself',\n",
    "    name='95% confidence interval'\n",
    ")\n",
    "pois = go.Scatter(\n",
    "    x=X_pred.reshape(1, -1)[0], y=yhat,\n",
    "    name='Logistic'\n",
    ")\n",
    "fig.add_trace(obs)\n",
    "fig.add_trace(conf)\n",
    "fig.add_trace(pred)\n",
    "fig.add_trace(pois)\n",
    "fig.update_layout(\n",
    "    width=800, height=600,\n",
    "    margin={\"r\":20,\"t\":50,\"l\":20,\"b\":50},\n",
    "    title=title,\n",
    "    template='plotly_dark', xaxis_title='日付',\n",
    "    yaxis_title='人数',\n",
    ")\n",
    "show_and_save_plotly(\n",
    "    fig, \"tom-ih.jpg\", js=False, show=True, image=True, html=False)\n",
    "\n",
    "print(\"{} {}\".format(title, fromto))"
   ]
  },
  {
   "cell_type": "code",
   "execution_count": null,
   "metadata": {},
   "outputs": [],
   "source": []
  },
  {
   "cell_type": "code",
   "execution_count": null,
   "metadata": {},
   "outputs": [],
   "source": []
  },
  {
   "cell_type": "code",
   "execution_count": null,
   "metadata": {},
   "outputs": [],
   "source": []
  },
  {
   "cell_type": "code",
   "execution_count": null,
   "metadata": {},
   "outputs": [],
   "source": []
  }
 ],
 "metadata": {
  "kernelspec": {
   "display_name": "Python 3",
   "language": "python",
   "name": "python3"
  },
  "language_info": {
   "codemirror_mode": {
    "name": "ipython",
    "version": 3
   },
   "file_extension": ".py",
   "mimetype": "text/x-python",
   "name": "python",
   "nbconvert_exporter": "python",
   "pygments_lexer": "ipython3",
   "version": "3.8.6"
  }
 },
 "nbformat": 4,
 "nbformat_minor": 4
}
