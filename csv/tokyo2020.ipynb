{
 "cells": [
  {
   "cell_type": "code",
   "execution_count": null,
   "metadata": {},
   "outputs": [],
   "source": [
    "#!/usr/bin/env python\n",
    "# coding: utf-8"
   ]
  },
  {
   "cell_type": "code",
   "execution_count": null,
   "metadata": {},
   "outputs": [],
   "source": [
    "import codecs\n",
    "from datetime import datetime as dt\n",
    "import json\n",
    "import sys\n",
    "import numpy as np\n",
    "import os\n",
    "import pandas as pd\n",
    "import plotly\n",
    "from plotly import subplots\n",
    "import plotly.express as px\n",
    "import plotly.tools as tls\n",
    "import plotly.graph_objects as go\n",
    "import plotly.io as pio\n",
    "import plotly.offline as offline\n",
    "import sys\n",
    "if \"ipy\" in sys.argv[0]:\n",
    "    offline.init_notebook_mode()\n",
    "from cov19utils import create_basic_plot_figure, \\\n",
    "    show_and_clear, moving_average, \\\n",
    "    blank2zero, csv2array, \\\n",
    "    get_twitter, tweet_with_image, \\\n",
    "    get_gpr_predict, FONT_NAME, DT_OFFSET, \\\n",
    "    download_if_needed, json2nparr, code2int, age2int, \\\n",
    "    get_populations, get_os_idx_of_arr, dump_val_in_arr, \\\n",
    "    calc_last1w2w_dif, create_basic_scatter_figure, \\\n",
    "    show_and_save_plotly\n",
    "import re\n",
    "import requests"
   ]
  },
  {
   "cell_type": "code",
   "execution_count": null,
   "metadata": {},
   "outputs": [],
   "source": [
    "df = pd.read_csv('tokyo2020.csv')"
   ]
  },
  {
   "cell_type": "code",
   "execution_count": null,
   "metadata": {},
   "outputs": [],
   "source": [
    "1209600000/16"
   ]
  },
  {
   "cell_type": "code",
   "execution_count": null,
   "metadata": {},
   "outputs": [],
   "source": [
    "fig = go.Figure()\n",
    "fig.add_trace(go.Bar(opacity=0.6,\n",
    "    x=df['date'], y=df['cases'], name='cases',))\n",
    "fig.update_layout(\n",
    "    title='Daily new confirmed COVID-19 positive cases in Tokyo2020',\n",
    "    template='plotly_dark', xaxis_title='date',\n",
    "    yaxis_title='cases',\n",
    ")\n",
    "fig.update_layout(\n",
    "    width=800, height=600,\n",
    "    xaxis=dict(title='date', type='date',\n",
    "               dtick=75600000.0, tickformat=\"%_m/%-d\",\n",
    "              ),\n",
    "    margin={\"r\":20,\"t\":80,\"l\":20,\"b\":80},\n",
    ")\n",
    "show_and_save_plotly(\n",
    "    fig, \"tokyo2020.jpg\", js=False, show=True, image=True, html=False)"
   ]
  },
  {
   "cell_type": "code",
   "execution_count": null,
   "metadata": {},
   "outputs": [],
   "source": []
  },
  {
   "cell_type": "code",
   "execution_count": null,
   "metadata": {},
   "outputs": [],
   "source": []
  }
 ],
 "metadata": {
  "kernelspec": {
   "display_name": "Python 3",
   "language": "python",
   "name": "python3"
  },
  "language_info": {
   "codemirror_mode": {
    "name": "ipython",
    "version": 3
   },
   "file_extension": ".py",
   "mimetype": "text/x-python",
   "name": "python",
   "nbconvert_exporter": "python",
   "pygments_lexer": "ipython3",
   "version": "3.8.6"
  }
 },
 "nbformat": 4,
 "nbformat_minor": 4
}
