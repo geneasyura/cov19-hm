{
 "cells": [
  {
   "cell_type": "code",
   "execution_count": null,
   "metadata": {},
   "outputs": [],
   "source": [
    "#!/usr/bin/env python\n",
    "# coding: utf-8"
   ]
  },
  {
   "cell_type": "code",
   "execution_count": null,
   "metadata": {},
   "outputs": [],
   "source": [
    "import codecs\n",
    "from datetime import datetime as dt\n",
    "from datetime import timedelta as td\n",
    "import json\n",
    "import sys\n",
    "import numpy as np\n",
    "import os\n",
    "import pandas as pd\n",
    "import plotly\n",
    "from plotly import subplots\n",
    "import plotly.express as px\n",
    "import plotly.tools as tls\n",
    "import plotly.graph_objects as go\n",
    "import plotly.io as pio\n",
    "import plotly.offline as offline\n",
    "import sys\n",
    "if \"ipy\" in sys.argv[0]:\n",
    "    offline.init_notebook_mode()\n",
    "from cov19utils import create_basic_plot_figure, \\\n",
    "    show_and_clear, moving_average, \\\n",
    "    blank2zero, csv2array, \\\n",
    "    get_twitter, tweet_with_image, \\\n",
    "    get_gpr_predict, FONT_NAME, DT_OFFSET, \\\n",
    "    download_if_needed, json2nparr, code2int, age2int, \\\n",
    "    get_populations, get_os_idx_of_arr, dump_val_in_arr, \\\n",
    "    calc_last1w2w_dif, create_basic_scatter_figure, \\\n",
    "    show_and_save_plotly\n",
    "import re\n",
    "import requests"
   ]
  },
  {
   "cell_type": "code",
   "execution_count": null,
   "metadata": {},
   "outputs": [],
   "source": [
    "def get_gr_name(x):\n",
    "    if x == 'a':\n",
    "        return \"(アルファ株)\"\n",
    "    if x == 'd':\n",
    "        return \"(デルタ株)\"\n",
    "    if x == 'd+':\n",
    "        return \"(デルタ＋株)\"\n",
    "    return \"(変異株)\""
   ]
  },
  {
   "cell_type": "code",
   "execution_count": null,
   "metadata": {},
   "outputs": [],
   "source": [
    "cats = [\n",
    "    \"飲食店\",\n",
    "    \"接待飲食\",\n",
    "    \"事業所\",\n",
    "    \"福祉施設\",\n",
    "    \"医療機関\",\n",
    "    \"小学校\",\n",
    "    \"中学校\",\n",
    "    \"高校\",\n",
    "    \"大学\",\n",
    "    \"専門学校\",\n",
    "    \"警察\",\n",
    "    \"自衛隊\",\n",
    "    \"教育機関\",\n",
    "    \"消防署\",\n",
    "    \"運動施設\",\n",
    "    \"保育園/幼稚園\"]"
   ]
  },
  {
   "cell_type": "code",
   "execution_count": null,
   "metadata": {},
   "outputs": [],
   "source": []
  },
  {
   "cell_type": "code",
   "execution_count": null,
   "metadata": {},
   "outputs": [],
   "source": [
    "def get_template_fig(title, subtitles, today_str):\n",
    "    figa = subplots.make_subplots(\n",
    "        shared_xaxes=True,\n",
    "        rows=4, cols=4, subplot_titles=subtitles,\n",
    "        horizontal_spacing=0.03, vertical_spacing=0.07)\n",
    "    figa.update_layout(\n",
    "        width=800, height=800, template='plotly_dark',\n",
    "        margin={\"r\":10,\"t\":50,\"l\":10,\"b\":10},\n",
    "        title=title + \" \" + today_str,\n",
    "        showlegend=False)\n",
    "    return figa"
   ]
  },
  {
   "cell_type": "code",
   "execution_count": null,
   "metadata": {},
   "outputs": [],
   "source": [
    "tw_body = \"北海道 職域別感染者数 全期間({}～{})\".format(start_date, latest_date)\n",
    "tw_body"
   ]
  },
  {
   "cell_type": "code",
   "execution_count": null,
   "metadata": {},
   "outputs": [],
   "source": [
    "df = pd.read_csv(\"maps.csv\", encoding='shift-jis', header=0)\n",
    "latest_date = df['opened'].iloc[-1].replace('/', '-')\n",
    "start_date = df['opened'].iloc[0].replace('/', '-')\n",
    "print(\"start:{} last:{}\".format(start_date, latest_date))"
   ]
  },
  {
   "cell_type": "code",
   "execution_count": null,
   "metadata": {},
   "outputs": [],
   "source": [
    "fig = get_template_fig(tw_body, cats, \"\")"
   ]
  },
  {
   "cell_type": "code",
   "execution_count": null,
   "metadata": {},
   "outputs": [],
   "source": [
    "xrange = pd.to_datetime([df['opened'].iloc[0], df['opened'].iloc[-1]], format='%Y/%m/%d')\n",
    "xrange"
   ]
  },
  {
   "cell_type": "code",
   "execution_count": null,
   "metadata": {},
   "outputs": [],
   "source": [
    "fig.add_trace(go.Scatter(x=xrange, y=[0, 0], mode='lines', line=dict(width=0, color='red')), 1, 1)"
   ]
  },
  {
   "cell_type": "code",
   "execution_count": null,
   "metadata": {},
   "outputs": [],
   "source": [
    "cnt = 0\n",
    "for y in np.arange(4):\n",
    "    for x in np.arange(4):\n",
    "        cnt += 1\n",
    "        sub_df = df[df['id'] == cnt].groupby('opened').sum()\n",
    "        sub_df['opened'] = sub_df.index.values\n",
    "        sub_df.index.name = None\n",
    "        sub_df['opened'] = pd.to_datetime(sub_df['opened'], format='%Y/%m/%d')\n",
    "        sub_df = sub_df.sort_values('opened')\n",
    "        trace = go.Scatter(\n",
    "            x=sub_df['opened'], y=sub_df['patients'], mode='lines+markers',\n",
    "            marker=dict(color='green', size=3),\n",
    "            line=dict(width=.5, color='red')\n",
    "        )\n",
    "        fig.add_trace(trace, y+1, x+1)"
   ]
  },
  {
   "cell_type": "code",
   "execution_count": null,
   "metadata": {},
   "outputs": [],
   "source": [
    "fig.update_xaxes(\n",
    "    range=xrange,\n",
    "    showgrid=False, showticklabels=False, ticks=\"\", \n",
    "    zeroline=True)\n",
    "fig.update_yaxes(rangemode=\"tozero\")\n",
    "show_and_save_plotly(fig, \"hokkaido-work.jpg\", js=False, show=True, image=True, html=True)"
   ]
  },
  {
   "cell_type": "code",
   "execution_count": null,
   "metadata": {},
   "outputs": [],
   "source": [
    "tw = get_twitter()"
   ]
  },
  {
   "cell_type": "code",
   "execution_count": null,
   "metadata": {},
   "outputs": [],
   "source": [
    "tweet_with_image(tw, \"docs/images/hokkaido-work.jpg\", tw_body)"
   ]
  },
  {
   "cell_type": "code",
   "execution_count": null,
   "metadata": {},
   "outputs": [],
   "source": []
  },
  {
   "cell_type": "code",
   "execution_count": null,
   "metadata": {},
   "outputs": [],
   "source": []
  },
  {
   "cell_type": "code",
   "execution_count": null,
   "metadata": {},
   "outputs": [],
   "source": []
  }
 ],
 "metadata": {
  "kernelspec": {
   "display_name": "Python 3",
   "language": "python",
   "name": "python3"
  },
  "language_info": {
   "codemirror_mode": {
    "name": "ipython",
    "version": 3
   },
   "file_extension": ".py",
   "mimetype": "text/x-python",
   "name": "python",
   "nbconvert_exporter": "python",
   "pygments_lexer": "ipython3",
   "version": "3.8.6"
  }
 },
 "nbformat": 4,
 "nbformat_minor": 4
}
