{
 "cells": [
  {
   "cell_type": "code",
   "execution_count": null,
   "metadata": {},
   "outputs": [],
   "source": [
    "#!/usr/bin/env python\n",
    "# coding: utf-8"
   ]
  },
  {
   "cell_type": "code",
   "execution_count": null,
   "metadata": {
    "scrolled": true
   },
   "outputs": [],
   "source": [
    "import codecs\n",
    "from datetime import datetime as dt\n",
    "import json\n",
    "import sys\n",
    "import numpy as np\n",
    "import os\n",
    "import pandas as pd\n",
    "import plotly\n",
    "from plotly import subplots\n",
    "import plotly.express as px\n",
    "import plotly.tools as tls\n",
    "import plotly.graph_objects as go\n",
    "import plotly.io as pio\n",
    "import plotly.offline as offline\n",
    "import sys\n",
    "if \"ipy\" in sys.argv[0]:\n",
    "    offline.init_notebook_mode()\n",
    "from cov19utils import create_basic_plot_figure, \\\n",
    "    show_and_clear, moving_average, \\\n",
    "    blank2zero, csv2array, \\\n",
    "    get_twitter, tweet_with_image, \\\n",
    "    get_gpr_predict, FONT_NAME, DT_OFFSET, \\\n",
    "    download_if_needed, json2nparr, code2int, age2int, \\\n",
    "    get_populations, get_os_idx_of_arr, dump_val_in_arr, \\\n",
    "    calc_last1w2w_dif, create_basic_scatter_figure, \\\n",
    "    show_and_save_plotly\n",
    "import re\n",
    "import requests"
   ]
  },
  {
   "cell_type": "code",
   "execution_count": null,
   "metadata": {},
   "outputs": [],
   "source": [
    "import tabula"
   ]
  },
  {
   "cell_type": "code",
   "execution_count": null,
   "metadata": {},
   "outputs": [],
   "source": [
    "dfs = tabula.read_pdf(\"000809311.pdf\", lattice=True, pages='29-30')\n",
    "#display(dfs)"
   ]
  },
  {
   "cell_type": "code",
   "execution_count": null,
   "metadata": {},
   "outputs": [],
   "source": [
    "dfs[0].columns = [\"Lot\", \"Start\", \"Total\", \"React\", \"Serious\", \"Death\", \"Anaphylaxis\"]\n",
    "df0 = dfs[0].dropna()\n",
    "dfs[1].columns = [\"Lot\", \"Start\", \"Total\", \"React\", \"Serious\", \"Death\", \"Anaphylaxis\"]\n",
    "df1 = dfs[1].dropna()"
   ]
  },
  {
   "cell_type": "code",
   "execution_count": null,
   "metadata": {},
   "outputs": [],
   "source": [
    "df2 = (pd.concat([df0, df1]))"
   ]
  },
  {
   "cell_type": "code",
   "execution_count": null,
   "metadata": {},
   "outputs": [],
   "source": [
    "df2"
   ]
  },
  {
   "cell_type": "code",
   "execution_count": null,
   "metadata": {},
   "outputs": [],
   "source": [
    "def s2f(s):\n",
    "    tmp = str(s).replace(',', '')\n",
    "    if tmp.isdigit():\n",
    "        return int(tmp)\n",
    "    if \"令和\" in tmp:\n",
    "        tmp = tmp.replace(\"令和3\", \"2021\")\n",
    "    return tmp"
   ]
  },
  {
   "cell_type": "code",
   "execution_count": null,
   "metadata": {},
   "outputs": [],
   "source": [
    "df2.columns = [\"Lot\", \"Start\", \"Total\", \"React\", \"Serious\", \"Death\", \"Anaphylaxis\"]\n",
    "total = df2[df2[\"Start\"] == '-']\n",
    "total = total[total['Lot'] != '不明']"
   ]
  },
  {
   "cell_type": "code",
   "execution_count": null,
   "metadata": {},
   "outputs": [],
   "source": [
    "df2 = df2.applymap(s2f)\n",
    "df2 = df2[df2['Lot'] != '不明']\n",
    "df2 = df2[df2['Start'] != '-' ]\n",
    "df2['Start'] = pd.to_datetime(df2['Start'], format='%Y年%m月%d日')"
   ]
  },
  {
   "cell_type": "code",
   "execution_count": null,
   "metadata": {},
   "outputs": [],
   "source": [
    "total = total.applymap(s2f)\n",
    "total"
   ]
  },
  {
   "cell_type": "code",
   "execution_count": null,
   "metadata": {},
   "outputs": [],
   "source": [
    "df2[\"r_React\"] = (df2[\"React\"] / df2[\"Total\"]) * 100.0\n",
    "df2[\"r_Serious\"] = (df2[\"Serious\"] / df2[\"Total\"]) * 100.0\n",
    "df2[\"r_Death\"] = (df2[\"Death\"] / df2[\"Total\"]) * 100.0\n",
    "df2[\"r_Anaphylaxis\"] = (df2[\"Anaphylaxis\"] / df2[\"Total\"]) * 100.0"
   ]
  },
  {
   "cell_type": "code",
   "execution_count": null,
   "metadata": {},
   "outputs": [],
   "source": [
    "total[\"r_React\"] = (total[\"React\"] / total[\"Total\"]) * 100.0\n",
    "total[\"r_Serious\"] = (total[\"Serious\"] / total[\"Total\"]) * 100.0\n",
    "total[\"r_Death\"] = (total[\"Death\"] / total[\"Total\"]) * 100.0\n",
    "total[\"r_Anaphylaxis\"] = (total[\"Anaphylaxis\"] / total[\"Total\"]) * 100.0"
   ]
  },
  {
   "cell_type": "code",
   "execution_count": null,
   "metadata": {},
   "outputs": [],
   "source": [
    "total['Lot'] = \"Total\"\n",
    "total"
   ]
  },
  {
   "cell_type": "code",
   "execution_count": null,
   "metadata": {},
   "outputs": [],
   "source": [
    "df2['d_React']       = df2['r_React'] / total['r_React'].values[0]\n",
    "df2['d_Serious']     = df2['r_Serious'] / total['r_Serious'].values[0]\n",
    "df2['d_Death']       = df2['r_Death'] / total['r_Death'].values[0]\n",
    "df2['d_Anaphylaxis'] = df2['r_Anaphylaxis'] / total['r_Anaphylaxis'].values[0]"
   ]
  },
  {
   "cell_type": "code",
   "execution_count": null,
   "metadata": {},
   "outputs": [],
   "source": [
    "df2"
   ]
  },
  {
   "cell_type": "code",
   "execution_count": null,
   "metadata": {},
   "outputs": [],
   "source": [
    "fig = subplots.make_subplots(specs=[[{\"secondary_y\": True}]])\n",
    "fig.add_trace(go.Bar(opacity=0.6,\n",
    "    x=df2['Lot'], y=df2['Total'], name='推定接種数',), secondary_y=False)\n",
    "fig.add_trace(go.Scatter(\n",
    "    x=df2['Lot'], y=df2['r_Serious'], name = '重篤率',\n",
    "    mode='lines+markers', line=dict(width=2)), secondary_y=True)\n",
    "fig.add_trace(go.Scatter(\n",
    "    x=df2['Lot'], y=df2['r_Death'], name='死亡率',\n",
    "    mode='lines+markers', line=dict(width=2)), secondary_y=True)\n",
    "fig.add_trace(go.Scatter(\n",
    "    x=df2['Lot'], y=df2['r_Anaphylaxis'], name='アナフィラキシー率',\n",
    "    mode='lines+markers', line=dict(width=2)), secondary_y=True)\n",
    "fig.update_layout(\n",
    "    title='2021/7/21 コミナティ筋注(ファイザー) ロット別報告件数 (PDF p.29)',\n",
    "    template='plotly_dark', xaxis_title='ロット [Lot]',\n",
    "    yaxis_title='推定接種回数 (人数ではない)',\n",
    "    yaxis2_title='報告割合 [%] (人数ではない)',\n",
    ")\n",
    "fig.update_layout(\n",
    "    width=850,\n",
    "    yaxis=dict(range=[0, np.max(df2['Total']) * 1.08]),\n",
    "    yaxis2=dict(range=[0, np.max(df2['r_Anaphylaxis']) * 1.08]))\n",
    "show_and_save_plotly(fig, \"000809311.jpg\", js=False, show=True, image=True, html=True)"
   ]
  },
  {
   "cell_type": "code",
   "execution_count": null,
   "metadata": {},
   "outputs": [],
   "source": []
  },
  {
   "cell_type": "code",
   "execution_count": null,
   "metadata": {},
   "outputs": [],
   "source": [
    "fig = subplots.make_subplots(specs=[[{\"secondary_y\": True}]])\n",
    "fig.add_trace(go.Bar(opacity=0.6,\n",
    "    x=df2['Lot'], y=df2['Total'], name='推定接種数',), secondary_y=False)\n",
    "fig.add_trace(go.Scatter(\n",
    "    x=df2['Lot'], y=df2['d_Serious'], name = '重篤率',\n",
    "    mode='lines+markers', line=dict(width=2)), secondary_y=True)\n",
    "fig.add_trace(go.Scatter(\n",
    "    x=df2['Lot'], y=df2['d_Death'], name='死亡率',\n",
    "    mode='lines+markers', line=dict(width=2)), secondary_y=True)\n",
    "fig.add_trace(go.Scatter(\n",
    "    x=df2['Lot'], y=df2['d_Anaphylaxis'], name='アナフィラキシー率',\n",
    "    mode='lines+markers', line=dict(width=2)), secondary_y=True)\n",
    "fig.update_layout(\n",
    "    title='2021/7/21 コミナティ筋注(ファイザー) ロット別報告件数 (PDF p.29) [全体平均比]',\n",
    "    template='plotly_dark', xaxis_title='ロット [Lot]',\n",
    "    yaxis_title='推定接種回数 (人数ではない)',\n",
    "    yaxis2_title='全体平均に対する報告割合 [%] (人数ではない)',\n",
    ")\n",
    "fig.update_layout(\n",
    "    width=850,\n",
    "    yaxis=dict(range=[0, np.max(df2['Total']) * 1.08]),\n",
    "    yaxis2=dict(range=[0, np.max(df2['d_Anaphylaxis']) * 1.08]))\n",
    "show_and_save_plotly(fig, \"000809311-2.jpg\", js=False, show=True, image=True, html=True)"
   ]
  },
  {
   "cell_type": "code",
   "execution_count": null,
   "metadata": {},
   "outputs": [],
   "source": []
  },
  {
   "cell_type": "code",
   "execution_count": null,
   "metadata": {},
   "outputs": [],
   "source": [
    "df_all = (pd.concat([df2, total]))\n",
    "df_all.to_csv(\"000809311.csv\")"
   ]
  },
  {
   "cell_type": "code",
   "execution_count": null,
   "metadata": {},
   "outputs": [],
   "source": []
  }
 ],
 "metadata": {
  "kernelspec": {
   "display_name": "Python 3",
   "language": "python",
   "name": "python3"
  },
  "language_info": {
   "codemirror_mode": {
    "name": "ipython",
    "version": 3
   },
   "file_extension": ".py",
   "mimetype": "text/x-python",
   "name": "python",
   "nbconvert_exporter": "python",
   "pygments_lexer": "ipython3",
   "version": "3.8.6"
  }
 },
 "nbformat": 4,
 "nbformat_minor": 4
}
