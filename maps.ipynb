{
 "cells": [
  {
   "cell_type": "code",
   "execution_count": null,
   "metadata": {},
   "outputs": [],
   "source": [
    "#!/usr/bin/python3\n",
    "# coding: utf-8\n",
    "# Hokkaido"
   ]
  },
  {
   "cell_type": "code",
   "execution_count": null,
   "metadata": {},
   "outputs": [],
   "source": [
    "from datetime import datetime as dt\n",
    "import sys\n",
    "import numpy as np\n",
    "import os\n",
    "import pandas as pd\n",
    "import plotly\n",
    "import plotly.express as px\n",
    "#import plotly.tools as tls\n",
    "import plotly.graph_objects as go\n",
    "#import plotly.io as pio\n",
    "import plotly.offline as offline\n",
    "import sys\n",
    "if \"ipy\" in sys.argv[0]:\n",
    "    offline.init_notebook_mode()\n",
    "from cov19utils import create_basic_plot_figure, \\\n",
    "    show_and_clear, moving_average, \\\n",
    "    blank2zero, csv2array, \\\n",
    "    get_twitter, tweet_with_image, \\\n",
    "    get_gpr_predict, FONT_NAME, DT_OFFSET, \\\n",
    "    download_if_needed, json2nparr, code2int, age2int, \\\n",
    "    get_populations, get_os_idx_of_arr, dump_val_in_arr, \\\n",
    "    calc_last1w2w_dif, create_basic_scatter_figure, \\\n",
    "    show_and_save_plotly"
   ]
  },
  {
   "cell_type": "code",
   "execution_count": null,
   "metadata": {},
   "outputs": [],
   "source": [
    "today_str = dt.now().isoformat()[:16].replace('T', ' ')\n",
    "update_map = False"
   ]
  },
  {
   "cell_type": "code",
   "execution_count": null,
   "metadata": {},
   "outputs": [],
   "source": [
    "with open(\"csv/maps.tmp\", \"rt\") as f:\n",
    "    prev = int(f.read())\n",
    "imgname = \"hokkaido-map.jpg\"\n",
    "tw_body = '北海道 新型コロナ 発生マップ (' + today_str + ')'\n",
    "df=pd.read_csv(\"csv/maps.csv\", encoding='shift-jis', header=0)"
   ]
  },
  {
   "cell_type": "code",
   "execution_count": null,
   "metadata": {},
   "outputs": [],
   "source": [
    "if len(df) > prev:\n",
    "    update_map = True\n",
    "    with open(\"csv/maps.tmp\", \"wt\") as f:\n",
    "        f.write(\"{}\".format(len(df)))"
   ]
  },
  {
   "cell_type": "code",
   "execution_count": null,
   "metadata": {},
   "outputs": [],
   "source": [
    "#update_map = True"
   ]
  },
  {
   "cell_type": "code",
   "execution_count": null,
   "metadata": {},
   "outputs": [],
   "source": [
    "fig = px.scatter_mapbox(df,\n",
    "    title=tw_body,\n",
    "    lat=\"lat\", lon=\"lon\", color=\"patients\", size='indoor',\n",
    "    color_continuous_scale=plotly.colors.sequential.Bluered,\n",
    "    hover_name=\"name\", \n",
    "    hover_data=[\"state\", \"category\", \"opened\"],\n",
    "    labels={'lat':'緯度', 'lon':'経度', 'state':'自治体',\n",
    "            'patients':'感染者数', 'indoor':'室内',\n",
    "            'category':'形態', 'name':'名称', 'id':'ID',\n",
    "            'opened':'認定日'},\n",
    "    size_max=12, zoom=7, height=500)\n",
    "fig.update_layout(mapbox_style=\"open-street-map\")\n",
    "fig.update_layout(margin={\"r\":0,\"t\":40,\"l\":0,\"b\":0})\n",
    "fig.update_layout(template='plotly_dark')\n",
    "if update_map:\n",
    "    tw = get_twitter()\n",
    "    show_and_save_plotly(fig, imgname, js=False, show=True, image=True, html=True)\n",
    "    tw_body += \" https://geneasyura.github.io/cov19-hm/hokkaido-map.html \"\n",
    "    tweet_with_image(tw, \"docs/images/{}\".format(imgname), tw_body)\n",
    "else:\n",
    "    print(\"nothin to tweet about hokkaido cluster map.\")"
   ]
  },
  {
   "cell_type": "code",
   "execution_count": null,
   "metadata": {},
   "outputs": [],
   "source": [
    "def hokkaido_cluster_pie(column_name, title, imgname, update_map,\n",
    "                        labels01=None):\n",
    "    states = df.groupby(column_name).size()\n",
    "    if not labels01:\n",
    "        labels = states.index.tolist()\n",
    "    else:\n",
    "        labels = []\n",
    "        for i in states.index.tolist():\n",
    "            labels.append(labels01[i])\n",
    "    tw_body = '北海道 新型コロナ発生 {} ({})'.format(title, today_str)\n",
    "    fig = go.Figure(data=[go.Pie(\n",
    "        labels=labels,\n",
    "        values=states.values.tolist(),\n",
    "        textinfo='percent',\n",
    "        title=tw_body\n",
    "    )])\n",
    "    fig.update_layout(margin={\"r\":0,\"t\":40,\"l\":0,\"b\":0})\n",
    "    if update_map:\n",
    "        show_and_save_plotly(fig, imgname, js=False)\n",
    "        tw_body += \" (夜の街関連を除く) \"\n",
    "        tw_body += \" https://geneasyura.github.io/cov19-hm/hokkaido-map.html \"\n",
    "        tweet_with_image(tw, \"docs/images/{}\".format(imgname), tw_body)"
   ]
  },
  {
   "cell_type": "code",
   "execution_count": null,
   "metadata": {},
   "outputs": [],
   "source": [
    "hokkaido_cluster_pie(\n",
    "    'state', '市町村別', \"hokkaido-cluster-state.jpg\", update_map)"
   ]
  },
  {
   "cell_type": "code",
   "execution_count": null,
   "metadata": {},
   "outputs": [],
   "source": [
    "hokkaido_cluster_pie(\n",
    "    'category', '施設別', \"hokkaido-cluster-category.jpg\", update_map)"
   ]
  },
  {
   "cell_type": "code",
   "execution_count": null,
   "metadata": {},
   "outputs": [],
   "source": [
    "hokkaido_cluster_pie(\n",
    "    'indoor', '室内発生率(憶測)', \"hokkaido-cluster-indoor.jpg\",\n",
    "    update_map, labels01=['室外', '室内'])"
   ]
  },
  {
   "cell_type": "code",
   "execution_count": null,
   "metadata": {},
   "outputs": [],
   "source": [
    "hokkaido_cluster_pie(\n",
    "    'voice', '会話発生率(憶測)', \"hokkaido-cluster-voice.jpg\",\n",
    "    update_map, labels01=['会話なし', '会話あり'])"
   ]
  },
  {
   "cell_type": "code",
   "execution_count": null,
   "metadata": {},
   "outputs": [],
   "source": [
    "hokkaido_cluster_pie(\n",
    "    'loud', '大声発生率(憶測)', \"hokkaido-cluster-loud.jpg\",\n",
    "    update_map, labels01=['大声なし', '大声あり'])"
   ]
  },
  {
   "cell_type": "code",
   "execution_count": null,
   "metadata": {},
   "outputs": [],
   "source": [
    "hokkaido_cluster_pie(\n",
    "    'H', '医療機関/福祉施設率(概算)', \"hokkaido-cluster-hosp.jpg\",\n",
    "    update_map, labels01=['それ以外', '医療機関'])"
   ]
  },
  {
   "cell_type": "code",
   "execution_count": null,
   "metadata": {},
   "outputs": [],
   "source": [
    "hokkaido_cluster_pie(\n",
    "    'RoomType', '部屋種別(憶測)', \"hokkaido-cluster-room.jpg\",\n",
    "    update_map)"
   ]
  },
  {
   "cell_type": "code",
   "execution_count": null,
   "metadata": {},
   "outputs": [],
   "source": [
    "def df_to_html(filename):\n",
    "    with open(filename, \"w\", encoding='utf-8') as f:\n",
    "        f.write('<style>\\n')\n",
    "        f.write('.MapsTblColNo { width:  35px; }\\n')\n",
    "        f.write('.MapsTblColSt { width: 100px; }\\n')\n",
    "        f.write('.MapsTblColCt { width: 150px; }\\n')\n",
    "        f.write('.MapsTblColNm { width: 350px; }\\n')\n",
    "        f.write('.MapsTblColOp { width: 120px; }\\n')\n",
    "        f.write('.MapsTblColPt { width:  80px; }\\n')\n",
    "        f.write('.MapsTblColRt { width: 120px; }\\n')\n",
    "        f.write('</style>\\n')\n",
    "\n",
    "        f.write('<table border=\"0\">\\n')\n",
    "        f.write('  <thead style=\"display: block;\" bgcolor=\"#000000\">\\n')\n",
    "        f.write('    <tr style=\"text-align: left;\">\\n')\n",
    "        f.write('      <th class=\"MapsTblColNo\">No.</th>\\n')\n",
    "        f.write('      <th class=\"MapsTblColSt\">自治体</th>\\n')\n",
    "        f.write('      <th class=\"MapsTblColCt\">施設種別</th>\\n')\n",
    "        f.write('      <th class=\"MapsTblColNm\">名称</th>\\n')\n",
    "        f.write('      <th class=\"MapsTblColOp\">認定日</th>\\n')\n",
    "        f.write('      <th class=\"MapsTblColPt\">感染者数</th>\\n')\n",
    "        f.write('      <th class=\"MapsTblColRt\">部屋種別</th>\\n')\n",
    "        f.write('    </tr>\\n')\n",
    "        f.write('  </thead>\\n')\n",
    "        f.write('  <tbody style=\"display: block; overflow-x: hidden; overflow-y: scroll; height: 300px;\">\\n')\n",
    "        for i, r in df.iterrows():\n",
    "            f.write('<tr bgcolor=\"{}\">'.format([\"#606060\", \"#000000\"][i % 2]))\n",
    "            f.write('<td class=\"MapsTblColNo\">{}</td>'.format(r['no']))\n",
    "            f.write('<td class=\"MapsTblColSt\">{}</td>'.format(r['state']))\n",
    "            f.write('<td class=\"MapsTblColCt\">{}</td>'.format(r['category']))\n",
    "            f.write('<td class=\"MapsTblColNm\">{}</td>'.format(r['name']))\n",
    "            f.write('<td class=\"MapsTblColOp\">{}</td>'.format(r['opened']))\n",
    "            f.write('<td class=\"MapsTblColPt\">{}</td>'.format(r['patients']))\n",
    "            f.write('<td class=\"MapsTblColRt\">{}</td>'.format(r['RoomType']))\n",
    "            f.write('</tr>\\n')\n",
    "        f.write('</tbody></table>\\n')"
   ]
  },
  {
   "cell_type": "code",
   "execution_count": null,
   "metadata": {},
   "outputs": [],
   "source": [
    "df_to_html('docs/_includes/maps.html')"
   ]
  },
  {
   "cell_type": "code",
   "execution_count": null,
   "metadata": {},
   "outputs": [],
   "source": []
  }
 ],
 "metadata": {
  "kernelspec": {
   "display_name": "Python 3",
   "language": "python",
   "name": "python3"
  },
  "language_info": {
   "codemirror_mode": {
    "name": "ipython",
    "version": 3
   },
   "file_extension": ".py",
   "mimetype": "text/x-python",
   "name": "python",
   "nbconvert_exporter": "python",
   "pygments_lexer": "ipython3",
   "version": "3.8.6"
  }
 },
 "nbformat": 4,
 "nbformat_minor": 4
}
