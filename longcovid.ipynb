{
 "cells": [
  {
   "cell_type": "code",
   "execution_count": null,
   "metadata": {},
   "outputs": [],
   "source": [
    "#!/usr/bin/python3\n",
    "# coding: utf-8"
   ]
  },
  {
   "cell_type": "code",
   "execution_count": null,
   "metadata": {},
   "outputs": [],
   "source": [
    "from datetime import datetime as dt\n",
    "import sys\n",
    "import numpy as np\n",
    "import os\n",
    "import pandas as pd\n",
    "import plotly\n",
    "import plotly.express as px\n",
    "import plotly.graph_objects as go\n",
    "import plotly.offline as offline\n",
    "import sys\n",
    "if \"ipy\" in sys.argv[0]:\n",
    "    offline.init_notebook_mode()\n",
    "from cov19utils import create_basic_plot_figure, \\\n",
    "    show_and_clear, moving_average, \\\n",
    "    blank2zero, csv2array, \\\n",
    "    get_twitter, tweet_with_image, \\\n",
    "    get_gpr_predict, FONT_NAME, DT_OFFSET, \\\n",
    "    download_if_needed, json2nparr, code2int, age2int, \\\n",
    "    get_populations, get_os_idx_of_arr, dump_val_in_arr, \\\n",
    "    calc_last1w2w_dif, create_basic_scatter_figure, \\\n",
    "    show_and_save_plotly"
   ]
  },
  {
   "cell_type": "code",
   "execution_count": null,
   "metadata": {},
   "outputs": [],
   "source": [
    "from reportlab.lib.units import cm, mm\n",
    "from reportlab.lib.pagesizes import A4, landscape\n",
    "from reportlab.lib.styles import getSampleStyleSheet, ParagraphStyle\n",
    "from reportlab.lib import colors\n",
    "from reportlab.pdfgen import canvas\n",
    "from reportlab.pdfbase import pdfmetrics\n",
    "from reportlab.pdfbase.cidfonts import UnicodeCIDFont\n",
    "from reportlab.platypus import Paragraph, Frame, Image, Table, TableStyle, LongTable\n",
    "from reportlab.platypus import PageBreak, SimpleDocTemplate, BaseDocTemplate"
   ]
  },
  {
   "cell_type": "code",
   "execution_count": null,
   "metadata": {},
   "outputs": [],
   "source": [
    "today_str = dt.now().isoformat()[:16].replace('T', ' ')\n",
    "update_map = False"
   ]
  },
  {
   "cell_type": "code",
   "execution_count": null,
   "metadata": {},
   "outputs": [],
   "source": [
    "with open(\"csv/longcovid.tmp\", \"rt\") as f:\n",
    "    prev = int(f.read())\n",
    "imgname = \"longcovid-map.jpg\"\n",
    "tw_body = '新型コロナ 後遺症外来マップ (' + today_str + ')'\n",
    "df=pd.read_csv(\"csv/longcovid.csv\", encoding='shift-jis', header=0)"
   ]
  },
  {
   "cell_type": "code",
   "execution_count": null,
   "metadata": {},
   "outputs": [],
   "source": [
    "if len(df) > prev:\n",
    "    update_map = True\n",
    "    with open(\"csv/longcovid.tmp\", \"wt\") as f:\n",
    "        f.write(\"{}\".format(len(df)))"
   ]
  },
  {
   "cell_type": "code",
   "execution_count": null,
   "metadata": {},
   "outputs": [],
   "source": [
    "#update_map = True # TODO: AAWA"
   ]
  },
  {
   "cell_type": "code",
   "execution_count": null,
   "metadata": {},
   "outputs": [],
   "source": [
    "fig = px.scatter_mapbox(df,\n",
    "    title=tw_body,\n",
    "    lat=\"lat\", lon=\"lon\", color=\"可\", size=\"可\",\n",
    "    color_continuous_scale=plotly.colors.sequential.Bluered,\n",
    "    hover_name=\"施設名称\", \n",
    "    hover_data=[\"オンライン\", \"紹介状\", \"条件\"],\n",
    "    labels={'lat':'緯度', 'lon':'経度'},\n",
    "    size_max=12, zoom=5, height=550)\n",
    "fig.update_layout(mapbox_style=\"open-street-map\")\n",
    "fig.update_layout(margin={\"r\":0,\"t\":40,\"l\":0,\"b\":0})\n",
    "fig.update_layout(template='plotly_dark')\n",
    "if update_map:\n",
    "    show_and_save_plotly(fig, imgname, js=False, show=True, image=False, html=True)\n",
    "    appended = len(df) - prev\n",
    "    tw_body += \"\\n{}件追加 \".format(appended)\n",
    "    tw_body += \"\\nPDF: https://raw.githubusercontent.com/geneasyura/cov19-hm/master/docs/images/longcovid.pdf\"\n",
    "    tw_body += \"\\n地図: https://geneasyura.github.io/cov19-hm/longcovid.html \"\n",
    "    tw = get_twitter()\n",
    "    tweet_with_image(tw, \"docs/images/{}\".format(imgname), tw_body)\n",
    "    print(tw_body)\n",
    "else:\n",
    "    print(\"nothin to tweet about long-covid hospital map.\")"
   ]
  },
  {
   "cell_type": "code",
   "execution_count": null,
   "metadata": {},
   "outputs": [],
   "source": [
    "def df_to_html(filename):\n",
    "    with open(filename, \"w\", encoding='utf-8') as f:\n",
    "        f.write('<style>\\n')\n",
    "        f.write('.MapsTblColNo { width:  70px; }\\n')\n",
    "        f.write('.MapsTblColSt { width:  90px; }\\n')\n",
    "        f.write('.MapsTblColNm { width: 280px; }\\n')\n",
    "        f.write('.MapsTblColEn { width:  70px; }\\n')\n",
    "        f.write('.MapsTblColOL { width:  70px; }\\n')\n",
    "        f.write('.MapsTblColRS { width:  70px; }\\n')\n",
    "        f.write('.MapsTblColCd { width: 160px; }\\n')\n",
    "        f.write('.MapsTblColHP { width:  50px; }\\n')\n",
    "        f.write('</style>\\n')\n",
    "\n",
    "        f.write('<table border=\"0\">\\n')\n",
    "        f.write('  <thead style=\"display: block;\" bgcolor=\"#000000\">\\n')\n",
    "        f.write('    <tr style=\"text-align: left;\">\\n')\n",
    "        f.write('      <th class=\"MapsTblColNo\">八地方</th>\\n')\n",
    "        f.write('      <th class=\"MapsTblColSt\">都道府県</th>\\n')\n",
    "        f.write('      <th class=\"MapsTblColNm\">施設名</th>\\n')\n",
    "        f.write('      <th class=\"MapsTblColEn\">診療可</th>\\n')\n",
    "        f.write('      <th class=\"MapsTblColOL\">Web</th>\\n')\n",
    "        f.write('      <th class=\"MapsTblColRS\">紹介状</th>\\n')\n",
    "        f.write('      <th class=\"MapsTblColCd\">条件</th>\\n')\n",
    "        f.write('      <th class=\"MapsTblColHP\">HP</th>\\n')\n",
    "        f.write('    </tr>\\n')\n",
    "        f.write('  </thead>\\n')\n",
    "        f.write('  <tbody style=\"display: block; overflow-x: hidden; overflow-y: scroll; height: 300px;\">\\n')\n",
    "        for i, r in df.iterrows():\n",
    "            f.write('<tr bgcolor=\"{}\">'.format([\"#606060\", \"#000000\"][i % 2]))\n",
    "            f.write('<td class=\"MapsTblColNo\">{}</td>'.format(r['八地方区分']))\n",
    "            f.write('<td class=\"MapsTblColSt\">{}</td>'.format(r['都道府県']))\n",
    "            f.write('<td class=\"MapsTblColNm\">{}</td>'.format(r['施設名称']))\n",
    "            f.write('<td class=\"MapsTblColEn\">{}</td>'.format(r['可']))\n",
    "            f.write('<td class=\"MapsTblColOL\">{}</td>'.format(r['オンライン']))\n",
    "            f.write('<td class=\"MapsTblColRS\">{}</td>'.format(r['紹介状']))\n",
    "            f.write('<td class=\"MapsTblColCd\">{}</td>'.format(r['条件']))\n",
    "            f.write('<td class=\"MapsTblColHP\"><a href=\"{}\">HP</a></td>'.format(r['HP']))\n",
    "            f.write('</tr>\\n')\n",
    "        f.write('</tbody></table>\\n')"
   ]
  },
  {
   "cell_type": "code",
   "execution_count": null,
   "metadata": {},
   "outputs": [],
   "source": [
    "df_to_html('docs/_includes/longcovid-table.html')"
   ]
  },
  {
   "cell_type": "code",
   "execution_count": null,
   "metadata": {},
   "outputs": [],
   "source": []
  },
  {
   "cell_type": "code",
   "execution_count": null,
   "metadata": {},
   "outputs": [],
   "source": [
    "font_name = 'HeiseiKakuGo-W5'\n",
    "page_size = landscape(A4)\n",
    "pdfFile = SimpleDocTemplate(\n",
    "    'docs/images/longcovid.pdf',\n",
    "    #showBoundary=1,\n",
    "    pagesize=page_size,\n",
    "    title=\"新型コロナ 後遺症外来一覧 by 遺伝子組換え阿修羅\",\n",
    "    leftMargin=11*mm, rightMargin=11*mm,\n",
    "    topMargin=11*mm, bottomMargin=11*mm)\n",
    "pdfmetrics.registerFont(UnicodeCIDFont(font_name))"
   ]
  },
  {
   "cell_type": "code",
   "execution_count": null,
   "metadata": {},
   "outputs": [],
   "source": [
    "style_dict ={\n",
    "    \"name\":\"normal\",\n",
    "    \"fontName\":font_name,\n",
    "    \"fontSize\":9\n",
    "}\n",
    "body_style = ParagraphStyle(**style_dict)"
   ]
  },
  {
   "cell_type": "code",
   "execution_count": null,
   "metadata": {},
   "outputs": [],
   "source": [
    "story = []\n",
    "link = '<link href=\"{}\">遺伝子組換え阿修羅 @zwiYWJqourMuEh7</link>'.format(\"https://twitter.com/zwiYWJqourMuEh7\")\n",
    "story.append(Paragraph(\n",
    "    \"新型コロナ 後遺症外来一覧 by \" + link + \" \" + today_str, body_style))"
   ]
  },
  {
   "cell_type": "code",
   "execution_count": null,
   "metadata": {},
   "outputs": [],
   "source": [
    "pdfFile.author = \"遺伝子組換え阿修羅 @zwiYWJqourMuEh7\"\n",
    "pdfFile.subject = \"新型コロナ 後遺症外来一覧\"\n",
    "pdfFile.creator = \"python3 with reportlab\"\n",
    "pdfFile.keywords = \"COVID19, LongCovid, SARS-Cov-2, Japan\""
   ]
  },
  {
   "cell_type": "code",
   "execution_count": null,
   "metadata": {},
   "outputs": [],
   "source": [
    "headers = ['No.', '都道府県', '施設名称', '住所', 'オンライン', '紹介状', '条件', 'HP']\n",
    "rows = []\n",
    "rows.append(headers)\n",
    "for i, r in df.iterrows():\n",
    "    columns = [\n",
    "        r['No.'], r['都道府県'], r['施設名称'], r['所在地'],\n",
    "        r['オンライン'], r['紹介状'], r['条件'],\n",
    "        Paragraph('<link href=\"{}\">Link</link>'.format(r['HP']), body_style)\n",
    "    ]\n",
    "    rows.append(columns)\n",
    "\n",
    "table = LongTable(rows, colWidths=(10*mm, 15*mm, 75*mm, 55*mm, 20*mm, 15*mm, 60*mm, 15*mm))\n",
    "table.setStyle(TableStyle([\n",
    "    ('FONT', (0, 0), (-1, -1), font_name, 9),\n",
    "    ('BOX', (0, 0), (-1, -1), 0.5, colors.black),\n",
    "    ('INNERGRID', (0, 0), (-1, -1), 0.25, colors.black),\n",
    "    ('VALIGN', (0, 0), (-1, -1), 'BOTTOM'),\n",
    "    ]))"
   ]
  },
  {
   "cell_type": "code",
   "execution_count": null,
   "metadata": {},
   "outputs": [],
   "source": [
    "story.append(table)"
   ]
  },
  {
   "cell_type": "code",
   "execution_count": null,
   "metadata": {},
   "outputs": [],
   "source": [
    "pdfFile.multiBuild(story)"
   ]
  },
  {
   "cell_type": "code",
   "execution_count": null,
   "metadata": {},
   "outputs": [],
   "source": []
  }
 ],
 "metadata": {
  "kernelspec": {
   "display_name": "Python 3",
   "language": "python",
   "name": "python3"
  },
  "language_info": {
   "codemirror_mode": {
    "name": "ipython",
    "version": 3
   },
   "file_extension": ".py",
   "mimetype": "text/x-python",
   "name": "python",
   "nbconvert_exporter": "python",
   "pygments_lexer": "ipython3",
   "version": "3.8.6"
  }
 },
 "nbformat": 4,
 "nbformat_minor": 4
}
