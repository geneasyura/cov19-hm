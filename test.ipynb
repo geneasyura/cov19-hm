{
 "cells": [
  {
   "cell_type": "code",
   "execution_count": null,
   "metadata": {},
   "outputs": [],
   "source": [
    "#!/usr/bin/python3\n",
    "# coding: utf-8\n",
    "# sapporo"
   ]
  },
  {
   "cell_type": "code",
   "execution_count": null,
   "metadata": {},
   "outputs": [],
   "source": [
    "import codecs\n",
    "from datetime import datetime as dt\n",
    "import datetime\n",
    "import sys\n",
    "from jma_csvdl import save_jma_data, parse_jma_csv\n",
    "import json\n",
    "import numpy as np\n",
    "import os\n",
    "import pandas as pd\n",
    "import plotly\n",
    "import plotly.express as px\n",
    "import plotly.tools as tls\n",
    "import plotly.graph_objects as go\n",
    "import plotly.io as pio\n",
    "import plotly.offline as offline\n",
    "from plotly.subplots import make_subplots\n",
    "import sys\n",
    "from urllib.request import urlretrieve\n",
    "from cov19utils import create_basic_plot_figure, \\\n",
    "    show_and_clear, moving_average, \\\n",
    "    blank2zero, csv2array, \\\n",
    "    get_twitter, tweet_with_image, \\\n",
    "    get_gpr_predict, FONT_NAME, DT_OFFSET, \\\n",
    "    download_if_needed, json2nparr, code2int, age2int, \\\n",
    "    get_populations, get_os_idx_of_arr, dump_val_in_arr, \\\n",
    "    calc_last1w2w_dif, create_basic_scatter_figure, \\\n",
    "    show_and_save_plotly\n",
    "from scipy.optimize import curve_fit"
   ]
  },
  {
   "cell_type": "code",
   "execution_count": null,
   "metadata": {
    "scrolled": true
   },
   "outputs": [],
   "source": [
    "if False:\n",
    "    #filename=\"kanagawa.geojson\"\n",
    "    filename=\"aomori.geojson\"\n",
    "    f=codecs.open(filename, \"rb\", encoding='utf-8')\n",
    "    j=json.load(f)\n",
    "    f.close()\n",
    "    f=codecs.open(filename.replace(\"geojson\", \"min.geojson\"), \"wb\", encoding='utf-8')\n",
    "    f.write(json.dumps(j, ensure_ascii=False, separators=(',', ':')))\n",
    "    f.close()"
   ]
  },
  {
   "cell_type": "code",
   "execution_count": null,
   "metadata": {},
   "outputs": [],
   "source": [
    "cov19data = []\n",
    "data_file = \"covid19_data.csv\"\n",
    "# CSVデータを整形する\n",
    "with codecs.open(data_file, encoding=\"shift-jis\") as f:\n",
    "    l = f.readline() # 先頭行をスキップ\n",
    "    while l:\n",
    "        l = f.readline().replace(\"\\r\\n\", \"\")\n",
    "        arr = l.split(',')\n",
    "        if len(arr) == 23:\n",
    "            tracked = blank2zero(arr[20])\n",
    "            untracked = blank2zero(arr[21])\n",
    "            unknown_rate = (untracked / max(1.0, (tracked + untracked))) * 100.0\n",
    "            #print(tracked, untracked, unknown_rate)\n",
    "            cov19data.append(\n",
    "                [\n",
    "                    dt(int(arr[1]), int(arr[2]), int(arr[3])), # date\n",
    "                    blank2zero(arr[4]),  # tests\n",
    "                    blank2zero(arr[6]),  # positive\n",
    "                    blank2zero(arr[19]), # postive rate [%]\n",
    "                    tracked, # tracked 濃厚接触\n",
    "                    untracked,  # untracked 濃厚接触以外\n",
    "                    unknown_rate # 経路不明率\n",
    "                ]\n",
    "            )\n",
    "\n",
    "print(\"Total: {}\".format(len(cov19data)))"
   ]
  },
  {
   "cell_type": "code",
   "execution_count": null,
   "metadata": {},
   "outputs": [],
   "source": [
    "cov19data.append([dt(2020, 11, 7), 0, 187, 0, 0, 0, 0])\n",
    "pos_rate_np = np.array(cov19data[250:])"
   ]
  },
  {
   "cell_type": "code",
   "execution_count": null,
   "metadata": {},
   "outputs": [],
   "source": [
    "#pos_rate_np\n",
    "x_offset = 0\n",
    "xbins = pos_rate_np[:,0]\n",
    "ybins = pos_rate_np[:,2]\n",
    "xdays = np.array([i.days for i in (xbins - xbins[0])])\n",
    "#print(xbins)"
   ]
  },
  {
   "cell_type": "code",
   "execution_count": null,
   "metadata": {
    "scrolled": true
   },
   "outputs": [],
   "source": [
    "xrange = np.arange(len(xdays[x_offset:]))\n",
    "(a, b), p0 = curve_fit(lambda t, a, b: a * np.exp(b * t), xrange, ybins[x_offset:], \n",
    "                       p0=[1,1], maxfev=1000)\n",
    "print(a, b)#, p0)\n",
    "xrange = np.arange(14 + len(xdays[x_offset:]))\n",
    "y_fit = np.array([a * np.exp(b * i) for i in xrange])\n",
    "#print(y_fit)\n",
    "x_pred = np.array(xbins)\n",
    "for i in np.arange(14):\n",
    "    x_pred = np.append(x_pred, (xbins[-1] + datetime.timedelta(days=int(1 + i))))\n",
    "#print(x_pred)"
   ]
  },
  {
   "cell_type": "code",
   "execution_count": null,
   "metadata": {},
   "outputs": [],
   "source": [
    "fig = make_subplots(specs=[[{\"secondary_y\": True}]])\n",
    "fig.add_trace(go.Scatter(x=xbins, y=ybins, mode='markers', name='新規感染者',\n",
    "                                       marker=dict(size=4)), secondary_y=False)\n",
    "fig.add_trace(go.Scatter(x=x_pred, y=y_fit, name=\"a * exp(b * x)\",\n",
    "                         line=dict(width=1)), secondary_y=False)\n",
    "fig.update_layout(\n",
    "    xaxis=dict(title='日付', type='date',\n",
    "               dtick=604800000.0, tickformat=\"%_m/%-d\"),\n",
    "    yaxis=dict(title='人数', type='log'),\n",
    "    title='北海道 新型コロナ 新規感染者数/累乗近似 a=%.5f, b=%.5f' % (a, b),\n",
    ")\n",
    "show_and_save_plotly(fig, \"hokkaido-fit.jpg\", js=False)"
   ]
  },
  {
   "cell_type": "code",
   "execution_count": null,
   "metadata": {},
   "outputs": [],
   "source": []
  }
 ],
 "metadata": {
  "kernelspec": {
   "display_name": "Python 3",
   "language": "python",
   "name": "python3"
  },
  "language_info": {
   "codemirror_mode": {
    "name": "ipython",
    "version": 3
   },
   "file_extension": ".py",
   "mimetype": "text/x-python",
   "name": "python",
   "nbconvert_exporter": "python",
   "pygments_lexer": "ipython3",
   "version": "3.8.6"
  }
 },
 "nbformat": 4,
 "nbformat_minor": 4
}
