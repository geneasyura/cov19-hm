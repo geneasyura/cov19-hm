{
 "cells": [
  {
   "cell_type": "code",
   "execution_count": 1,
   "metadata": {},
   "outputs": [],
   "source": [
    "#!/usr/bin/python3\n",
    "# coding: utf-8\n",
    "# sapporo"
   ]
  },
  {
   "cell_type": "code",
   "execution_count": 8,
   "metadata": {},
   "outputs": [],
   "source": [
    "import codecs\n",
    "from datetime import datetime as dt\n",
    "import datetime\n",
    "import sys\n",
    "from jma_csvdl import save_jma_data, parse_jma_csv\n",
    "import json\n",
    "import numpy as np\n",
    "import os\n",
    "import pandas as pd\n",
    "import plotly\n",
    "import plotly.express as px\n",
    "import plotly.tools as tls\n",
    "import plotly.graph_objects as go\n",
    "import plotly.io as pio\n",
    "import plotly.offline as offline\n",
    "from plotly.subplots import make_subplots\n",
    "import sys\n",
    "from urllib.request import urlretrieve\n",
    "from cov19utils import create_basic_plot_figure, \\\n",
    "    show_and_clear, moving_average, \\\n",
    "    blank2zero, csv2array, \\\n",
    "    get_twitter, tweet_with_image, \\\n",
    "    get_gpr_predict, FONT_NAME, DT_OFFSET, \\\n",
    "    download_if_needed, json2nparr, code2int, age2int, \\\n",
    "    get_populations, get_os_idx_of_arr, dump_val_in_arr, \\\n",
    "    calc_last1w2w_dif, create_basic_scatter_figure, \\\n",
    "    show_and_save_plotly\n",
    "from scipy.optimize import curve_fit"
   ]
  },
  {
   "cell_type": "code",
   "execution_count": null,
   "metadata": {
    "scrolled": true
   },
   "outputs": [],
   "source": [
    "if False:\n",
    "    #filename=\"kanagawa.geojson\"\n",
    "    filename=\"aomori.geojson\"\n",
    "    f=codecs.open(filename, \"rb\", encoding='utf-8')\n",
    "    j=json.load(f)\n",
    "    f.close()\n",
    "    f=codecs.open(filename.replace(\"geojson\", \"min.geojson\"), \"wb\", encoding='utf-8')\n",
    "    f.write(json.dumps(j, ensure_ascii=False, separators=(',', ':')))\n",
    "    f.close()"
   ]
  },
  {
   "cell_type": "code",
   "execution_count": null,
   "metadata": {},
   "outputs": [],
   "source": [
    "#import geopandas as gpd\n",
    "#https://plotly.com/python/network-graphs/\n",
    "#https://plotly.com/python/scattermapbox/\n",
    "#https://labs.mapbox.com/maki-icons/\n",
    "df=pd.read_csv(\"csv/maps.csv\", encoding='shift-jis', header=0)\n",
    "#df = px.data.carshare()\n",
    "#print(df)\n",
    "fig = px.scatter_mapbox(df,\n",
    "    title='北海道 新型コロナ 発生マップ',\n",
    "    lat=\"lat\", lon=\"lon\", color=\"patients\", size='indoor',\n",
    "    color_continuous_scale=plotly.colors.sequential.Bluered,\n",
    "    hover_name=\"name\", \n",
    "    hover_data=[\"state\", \"category\"],\n",
    "    labels={'lat':'緯度', 'lon':'経度', 'state':'自治体',\n",
    "            'patients':'感染者数', 'indoor':'室内',\n",
    "            'category':'形態', 'name':'名称', 'id':'ID'},\n",
    "    size_max=12, zoom=7, height=500)\n",
    "fig.update_layout(mapbox_style=\"open-street-map\")\n",
    "fig.update_layout(margin={\"r\":0,\"t\":40,\"l\":0,\"b\":0})\n",
    "fig.update_layout(template='plotly_dark')\n",
    "fig.show()"
   ]
  },
  {
   "cell_type": "code",
   "execution_count": 9,
   "metadata": {},
   "outputs": [],
   "source": [
    "#df = pd.read_csv(\"covid19_data.csv\", header=0, encoding='shift-jis')"
   ]
  },
  {
   "cell_type": "code",
   "execution_count": 10,
   "metadata": {},
   "outputs": [
    {
     "name": "stdout",
     "output_type": "stream",
     "text": [
      "Total: 284\n"
     ]
    }
   ],
   "source": [
    "cov19data = []\n",
    "data_file = \"covid19_data.csv\"\n",
    "# CSVデータを整形する\n",
    "with codecs.open(data_file, encoding=\"shift-jis\") as f:\n",
    "    l = f.readline() # 先頭行をスキップ\n",
    "    while l:\n",
    "        l = f.readline().replace(\"\\r\\n\", \"\")\n",
    "        arr = l.split(',')\n",
    "        if len(arr) == 23:\n",
    "            tracked = blank2zero(arr[20])\n",
    "            untracked = blank2zero(arr[21])\n",
    "            unknown_rate = (untracked / max(1.0, (tracked + untracked))) * 100.0\n",
    "            #print(tracked, untracked, unknown_rate)\n",
    "            cov19data.append(\n",
    "                [\n",
    "                    dt(int(arr[1]), int(arr[2]), int(arr[3])), # date\n",
    "                    blank2zero(arr[4]),  # tests\n",
    "                    blank2zero(arr[6]),  # positive\n",
    "                    blank2zero(arr[19]), # postive rate [%]\n",
    "                    tracked, # tracked 濃厚接触\n",
    "                    untracked,  # untracked 濃厚接触以外\n",
    "                    unknown_rate # 経路不明率\n",
    "                ]\n",
    "            )\n",
    "\n",
    "print(\"Total: {}\".format(len(cov19data)))"
   ]
  },
  {
   "cell_type": "code",
   "execution_count": 11,
   "metadata": {},
   "outputs": [],
   "source": [
    "pos_rate_np = np.array(cov19data)\n"
   ]
  },
  {
   "cell_type": "code",
   "execution_count": 12,
   "metadata": {},
   "outputs": [
    {
     "data": {
      "text/plain": [
       "array([[datetime.datetime(2020, 1, 28, 0, 0), 0, 1, ..., 0, 1, 100.0],\n",
       "       [datetime.datetime(2020, 1, 29, 0, 0), 0, 0, ..., 0, 0, 0.0],\n",
       "       [datetime.datetime(2020, 1, 30, 0, 0), 0, 0, ..., 0, 0, 0.0],\n",
       "       ...,\n",
       "       [datetime.datetime(2020, 11, 4, 0, 0), 1289, 75, ..., 26, 49,\n",
       "        65.33333333333333],\n",
       "       [datetime.datetime(2020, 11, 5, 0, 0), 1021, 119, ..., 41, 78,\n",
       "        65.54621848739495],\n",
       "       [datetime.datetime(2020, 11, 6, 0, 0), 1705, 115, ..., 55, 60,\n",
       "        52.17391304347826]], dtype=object)"
      ]
     },
     "execution_count": 12,
     "metadata": {},
     "output_type": "execute_result"
    }
   ],
   "source": [
    "pos_rate_np"
   ]
  },
  {
   "cell_type": "code",
   "execution_count": null,
   "metadata": {},
   "outputs": [],
   "source": []
  }
 ],
 "metadata": {
  "kernelspec": {
   "display_name": "Python 3",
   "language": "python",
   "name": "python3"
  },
  "language_info": {
   "codemirror_mode": {
    "name": "ipython",
    "version": 3
   },
   "file_extension": ".py",
   "mimetype": "text/x-python",
   "name": "python",
   "nbconvert_exporter": "python",
   "pygments_lexer": "ipython3",
   "version": "3.8.6"
  }
 },
 "nbformat": 4,
 "nbformat_minor": 4
}
