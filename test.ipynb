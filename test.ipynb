{
 "cells": [
  {
   "cell_type": "code",
   "execution_count": null,
   "metadata": {},
   "outputs": [],
   "source": [
    "#!/usr/bin/python3\n",
    "# coding: utf-8\n",
    "# sapporo"
   ]
  },
  {
   "cell_type": "code",
   "execution_count": null,
   "metadata": {},
   "outputs": [],
   "source": [
    "import codecs\n",
    "from datetime import datetime as dt\n",
    "import datetime\n",
    "import math\n",
    "import sys\n",
    "from jma_csvdl import save_jma_data, parse_jma_csv\n",
    "import json\n",
    "import numpy as np\n",
    "import os\n",
    "import pandas as pd\n",
    "import plotly\n",
    "import plotly.express as px\n",
    "import plotly.tools as tls\n",
    "import plotly.graph_objects as go\n",
    "import plotly.io as pio\n",
    "import plotly.offline as offline\n",
    "from plotly.subplots import make_subplots\n",
    "import sys\n",
    "from urllib.request import urlretrieve\n",
    "from cov19utils import create_basic_plot_figure, \\\n",
    "    show_and_clear, moving_average, \\\n",
    "    blank2zero, csv2array, \\\n",
    "    get_twitter, tweet_with_image, \\\n",
    "    get_gpr_predict, FONT_NAME, DT_OFFSET, \\\n",
    "    download_if_needed, json2nparr, code2int, age2int, \\\n",
    "    get_populations, get_os_idx_of_arr, dump_val_in_arr, \\\n",
    "    calc_last1w2w_dif, create_basic_scatter_figure, \\\n",
    "    show_and_save_plotly"
   ]
  },
  {
   "cell_type": "code",
   "execution_count": null,
   "metadata": {
    "scrolled": true
   },
   "outputs": [],
   "source": [
    "if False:\n",
    "    #filename=\"kanagawa.geojson\"\n",
    "    filename=\"aomori.geojson\"\n",
    "    f=codecs.open(filename, \"rb\", encoding='utf-8')\n",
    "    j=json.load(f)\n",
    "    f.close()\n",
    "    f=codecs.open(filename.replace(\"geojson\", \"min.geojson\"), \"wb\", encoding='utf-8')\n",
    "    f.write(json.dumps(j, ensure_ascii=False, separators=(',', ':')))\n",
    "    f.close()"
   ]
  },
  {
   "cell_type": "code",
   "execution_count": null,
   "metadata": {},
   "outputs": [],
   "source": [
    "from air_registance import AirRegistance"
   ]
  },
  {
   "cell_type": "code",
   "execution_count": null,
   "metadata": {},
   "outputs": [],
   "source": [
    "if False:\n",
    "    ar = AirRegistance()\n",
    "    Fd = ar.calc(t=10.0, P=1015.13, rh=100.0)\n",
    "    Fd = ar.calc(t=10.0, P=1015.13, rh=80.0)\n",
    "    Fd = ar.calc(t=10.0, P=1015.13, rh=60.0)\n",
    "    Fd = ar.calc(t=10.0, P=1015.13, rh=0.0)\n",
    "    Fd = ar.calc(t=10.0, P=1015.13, rh=20.0)\n",
    "    Fd = ar.calc(t=5.0, P=1015.13, rh=20.0)"
   ]
  },
  {
   "cell_type": "code",
   "execution_count": null,
   "metadata": {},
   "outputs": [],
   "source": [
    "save_jma_data(\"hoge.csv\", city_code=\"s47412\")\n",
    "w = parse_jma_csv(\"hoge.csv\")"
   ]
  },
  {
   "cell_type": "code",
   "execution_count": null,
   "metadata": {},
   "outputs": [],
   "source": [
    "if False:\n",
    "    Fds = []\n",
    "    for r in w:\n",
    "        ts, t, rh, vp, ap, ah = r\n",
    "        Fd = ar.calc(t=t, P=100*vp, rh=rh)\n",
    "        Fds.append(Fd)"
   ]
  },
  {
   "cell_type": "code",
   "execution_count": null,
   "metadata": {},
   "outputs": [],
   "source": [
    "w_np = np.array(w)\n",
    "fig = go.Figure()\n",
    "fig.add_trace(go.Scatter(x=w_np[:, 0], y=w_np[:, 6]))\n",
    "fig.show()"
   ]
  },
  {
   "cell_type": "code",
   "execution_count": null,
   "metadata": {},
   "outputs": [],
   "source": []
  }
 ],
 "metadata": {
  "kernelspec": {
   "display_name": "Python 3",
   "language": "python",
   "name": "python3"
  },
  "language_info": {
   "codemirror_mode": {
    "name": "ipython",
    "version": 3
   },
   "file_extension": ".py",
   "mimetype": "text/x-python",
   "name": "python",
   "nbconvert_exporter": "python",
   "pygments_lexer": "ipython3",
   "version": "3.8.6"
  }
 },
 "nbformat": 4,
 "nbformat_minor": 4
}
