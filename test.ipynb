{
 "cells": [
  {
   "cell_type": "code",
   "execution_count": 1,
   "metadata": {},
   "outputs": [],
   "source": [
    "#!/usr/bin/python3\n",
    "# coding: utf-8\n",
    "# sapporo"
   ]
  },
  {
   "cell_type": "code",
   "execution_count": 33,
   "metadata": {},
   "outputs": [],
   "source": [
    "import codecs\n",
    "from datetime import datetime as dt\n",
    "import datetime\n",
    "import math\n",
    "import sys\n",
    "from jma_csvdl import save_jma_data, parse_jma_csv\n",
    "import json\n",
    "import numpy as np\n",
    "import os\n",
    "import pandas as pd\n",
    "import plotly\n",
    "import plotly.express as px\n",
    "import plotly.tools as tls\n",
    "import plotly.graph_objects as go\n",
    "import plotly.io as pio\n",
    "import plotly.offline as offline\n",
    "from plotly.subplots import make_subplots\n",
    "import sys\n",
    "from urllib.request import urlretrieve\n",
    "from cov19utils import create_basic_plot_figure, \\\n",
    "    show_and_clear, moving_average, \\\n",
    "    blank2zero, csv2array, \\\n",
    "    get_twitter, tweet_with_image, \\\n",
    "    get_gpr_predict, FONT_NAME, DT_OFFSET, \\\n",
    "    download_if_needed, json2nparr, code2int, age2int, \\\n",
    "    get_populations, get_os_idx_of_arr, dump_val_in_arr, \\\n",
    "    calc_last1w2w_dif, create_basic_scatter_figure, \\\n",
    "    show_and_save_plotly"
   ]
  },
  {
   "cell_type": "code",
   "execution_count": 3,
   "metadata": {
    "scrolled": true
   },
   "outputs": [],
   "source": [
    "if False:\n",
    "    #filename=\"kanagawa.geojson\"\n",
    "    filename=\"aomori.geojson\"\n",
    "    f=codecs.open(filename, \"rb\", encoding='utf-8')\n",
    "    j=json.load(f)\n",
    "    f.close()\n",
    "    f=codecs.open(filename.replace(\"geojson\", \"min.geojson\"), \"wb\", encoding='utf-8')\n",
    "    f.write(json.dumps(j, ensure_ascii=False, separators=(',', ':')))\n",
    "    f.close()"
   ]
  },
  {
   "cell_type": "code",
   "execution_count": 46,
   "metadata": {},
   "outputs": [],
   "source": [
    "class AirRegistance:\n",
    "    def __init__(self):\n",
    "        self.R   = 2e-7 # 半径 [m]\n",
    "        self.L   = self.R * 2 # 直径 [m]\n",
    "        self.Fd  = None # 空気抵抗力 [N]\n",
    "        self.eta = None # 空気粘性率 [kg/ms]\n",
    "        self.rho = None # 空気密度 [kg/m^3]\n",
    "        self.v   = 0.80 # 球体速度 [m/s]\n",
    "        self.Re  = None # レイルズ数\n",
    "        self.Cd  = None # 抗力係数\n",
    "\n",
    "    def _calc_rho(self, t, P, M):\n",
    "        a = 0.0034856447\n",
    "        b = 272.48\n",
    "        c = 0.378\n",
    "        d = 100 * 6.1078\n",
    "        x = (7.5 * t)/(t + 237.3)\n",
    "        rho = (a*(P/(t+b))) * (1-M*c*((d*10**x)/(P)))\n",
    "        return rho\n",
    "\n",
    "    def _calc_Cd(self, Re):\n",
    "        Cd = 24/Re + \\\n",
    "            (26*(Re/5.0)) / (1+(Re/5.0)**1.52) + \\\n",
    "            (0.411*(Re/263000)**(-7.94)) / (1+(Re/263000)**(-8)) + \\\n",
    "            ((Re**0.80) / 461000)\n",
    "        return Cd\n",
    "    \n",
    "    def _calc_Fd(self):\n",
    "        Fd = 0.5 * self.Cd * self.rho * math.pi * \\\n",
    "            self.R**2 * self.v**2\n",
    "        return Fd\n",
    "    \n",
    "    def calc(self, t, P, rh):\n",
    "        K = t + 273.15\n",
    "        self.eta = 1.487 * 1e-6 * ((K**1.5)/(K+117))\n",
    "        self.rho = self._calc_rho(t, P, rh/100.0)\n",
    "        print(\"eta:{}, rho:{}\".format(self.eta, self.rho))\n",
    "        self.Re = (self.v * self.rho * self.L) / self.eta\n",
    "        self.Cd = self._calc_Cd(self.Re)\n",
    "        print(\"Re:{} Cd:{}\".format(self.Re, self.Cd))\n",
    "        self.Fd = self._calc_Fd()\n",
    "        print(\"Fd:{}\".format(self.Fd))\n",
    "        return self.Fd"
   ]
  },
  {
   "cell_type": "code",
   "execution_count": 51,
   "metadata": {},
   "outputs": [
    {
     "name": "stdout",
     "output_type": "stream",
     "text": [
      "eta:1.7705695712890723e-05, rho:0.006798868092492209\n",
      "Re:0.00012287784817252464 Cd:195316.0341799204\n",
      "Fd:5.3399151370472533e-11\n"
     ]
    }
   ],
   "source": [
    "ar = AirRegistance()\n",
    "Fd = ar.calc(t=10.0, P=1015.13, rh=100.0)"
   ]
  },
  {
   "cell_type": "code",
   "execution_count": 52,
   "metadata": {},
   "outputs": [
    {
     "name": "stdout",
     "output_type": "stream",
     "text": [
      "eta:1.7705695712890723e-05, rho:0.007944321395765928\n",
      "Re:0.00014357994669445535 Cd:167154.37685990025\n",
      "Fd:5.339915698999456e-11\n"
     ]
    }
   ],
   "source": [
    "Fd = ar.calc(t=10.0, P=1015.13, rh=80.0)"
   ]
  },
  {
   "cell_type": "code",
   "execution_count": 53,
   "metadata": {},
   "outputs": [
    {
     "name": "stdout",
     "output_type": "stream",
     "text": [
      "eta:1.7705695712890723e-05, rho:0.009089774699039646\n",
      "Re:0.00016428204521638608 Cd:146090.33531067494\n",
      "Fd:5.339916266786944e-11\n"
     ]
    }
   ],
   "source": [
    "Fd = ar.calc(t=10.0, P=1015.13, rh=60.0)"
   ]
  },
  {
   "cell_type": "code",
   "execution_count": 54,
   "metadata": {},
   "outputs": [
    {
     "name": "stdout",
     "output_type": "stream",
     "text": [
      "eta:1.7705695712890723e-05, rho:0.011380681305587084\n",
      "Re:0.00020568624226024752 Cd:116682.69097671565\n",
      "Fd:5.339917417677941e-11\n"
     ]
    }
   ],
   "source": [
    "Fd = ar.calc(t=10.0, P=1015.13, rh=20.0)"
   ]
  },
  {
   "cell_type": "code",
   "execution_count": 55,
   "metadata": {},
   "outputs": [
    {
     "name": "stdout",
     "output_type": "stream",
     "text": [
      "eta:1.7705695712890723e-05, rho:0.012526134608860803\n",
      "Re:0.00022638834078217822 Cd:106012.64525356202\n",
      "Fd:5.3399179999662545e-11\n"
     ]
    }
   ],
   "source": [
    "Fd = ar.calc(t=10.0, P=1015.13, rh=0.0)"
   ]
  },
  {
   "cell_type": "code",
   "execution_count": 56,
   "metadata": {},
   "outputs": [
    {
     "name": "stdout",
     "output_type": "stream",
     "text": [
      "eta:1.7456918271166893e-05, rho:0.011923476061932422\n",
      "Re:0.0002185673485176562 Cd:109806.0896684838\n",
      "Fd:5.2648881898112785e-11\n"
     ]
    }
   ],
   "source": [
    "Fd = ar.calc(t=5.0, P=1015.13, rh=20.0)"
   ]
  },
  {
   "cell_type": "code",
   "execution_count": null,
   "metadata": {},
   "outputs": [],
   "source": []
  }
 ],
 "metadata": {
  "kernelspec": {
   "display_name": "Python 3",
   "language": "python",
   "name": "python3"
  },
  "language_info": {
   "codemirror_mode": {
    "name": "ipython",
    "version": 3
   },
   "file_extension": ".py",
   "mimetype": "text/x-python",
   "name": "python",
   "nbconvert_exporter": "python",
   "pygments_lexer": "ipython3",
   "version": "3.8.6"
  }
 },
 "nbformat": 4,
 "nbformat_minor": 4
}
