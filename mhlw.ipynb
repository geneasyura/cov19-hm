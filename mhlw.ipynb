{
 "cells": [
  {
   "cell_type": "code",
   "execution_count": null,
   "metadata": {},
   "outputs": [],
   "source": [
    "#!/usr/bin/python3\n",
    "# coding: utf-8\n",
    "# MHLW"
   ]
  },
  {
   "cell_type": "code",
   "execution_count": null,
   "metadata": {},
   "outputs": [],
   "source": [
    "from datetime import datetime as dt\n",
    "from datetime import timedelta as td\n",
    "import matplotlib.pyplot as plt\n",
    "import numpy as np\n",
    "import os\n",
    "import pandas as pd\n",
    "import sys\n",
    "import plotly\n",
    "import plotly.express as px\n",
    "import plotly.tools as tls\n",
    "import plotly.graph_objects as go\n",
    "import plotly.io as pio\n",
    "import plotly.offline as offline\n",
    "from plotly.subplots import make_subplots\n",
    "if \"ipy\" in sys.argv[0]:\n",
    "    offline.init_notebook_mode()\n",
    "from cov19utils import create_basic_plot_figure, \\\n",
    "    show_and_clear, moving_average, \\\n",
    "    blank2zero, csv2array, \\\n",
    "    get_twitter, tweet_with_image, \\\n",
    "    get_gpr_predict, FONT_NAME, DT_OFFSET, \\\n",
    "    download_if_needed, show_and_save_plotly, \\\n",
    "    make_exp_fit_graph"
   ]
  },
  {
   "cell_type": "code",
   "execution_count": null,
   "metadata": {},
   "outputs": [],
   "source": [
    "today_str = dt.now().isoformat()[:16].replace('T', ' ')"
   ]
  },
  {
   "cell_type": "code",
   "execution_count": null,
   "metadata": {
    "scrolled": true
   },
   "outputs": [],
   "source": [
    "# 厚労省の OpenData を参照する\n",
    "base_uri = \"https://www.mhlw.go.jp/content/\"\n",
    "\n",
    "raws = dict(\n",
    "    posis = \"pcr_positive_daily.csv\",\n",
    "    # 日別PCR検査人数よりも検査機関別の数値を使用すべき\n",
    "    tests = \"pcr_tested_daily.csv\",\n",
    "    cases = \"cases_total.csv\",\n",
    "    recov = \"recovery_total.csv\",\n",
    "    death = \"death_total.csv\",\n",
    "    pcr = \"pcr_case_daily.csv\")\n",
    "\n",
    "offsets = dict(\n",
    "    dates = 0, # 日付オフセット\n",
    "    cases = 1, # 入院治療を要する者(Total)\n",
    "    death = 2, # 死亡者数(Total)\n",
    "    pcr   = 3, # PCR検査 件数 3.感染研、4.検疫、5.保健所、6.民間、7.大学、8.医療機関(Daily), \n",
    "    pcrs  = 9, # 上記の合算\n",
    "    posis = 10, # 陽性者数(Daily)\n",
    "    tests = 11, # PCR検査 人数(Daily)\n",
    "    recov = 12, # 退院（Total)\n",
    "    ratio = 13, # 陽性率(Daily) = 陽性者数 / 検査人数\n",
    "    total = 14, # 陽性者数(Total)\n",
    "    ) # \n",
    "\n",
    "# 集計期間\n",
    "dt_range = (dt.today() - dt.strptime(DT_OFFSET, \"%Y/%m/%d\")).days\n",
    "# 配列初期化\n",
    "all_data_arr = []\n",
    "for i in np.arange(dt_range):\n",
    "    all_data_arr.append([i, 0, 0, 0, 0, 0, 0, 0, 0, 0, 0, 0, 0, 0, 0])\n",
    "# データの取得\n",
    "for k, v in raws.items():\n",
    "    download_if_needed(base_uri, v)\n",
    "# データの集計\n",
    "for k, v in raws.items():\n",
    "    if v != 0:\n",
    "        csv2array(all_data_arr, k, v, offsets[k])\n",
    "# 陽性率等の計算\n",
    "for i in np.arange(dt_range):\n",
    "    div = all_data_arr[i][offsets['pcrs']]\n",
    "    if div != 0:\n",
    "        all_data_arr[i][offsets['ratio']] = max(0, min(100, (all_data_arr[i][offsets['posis']] / div) * 100))\n",
    "    if i == 0:\n",
    "        all_data_arr[i][offsets['total']] = all_data_arr[i][offsets['posis']]\n",
    "    else:\n",
    "        all_data_arr[i][offsets['total']] = all_data_arr[i][offsets['posis']] + all_data_arr[i-1][offsets['total']]\n",
    "\n",
    "all_data_np = np.array(all_data_arr)\n",
    "#for line in all_data_arr:\n",
    "#    print(line)"
   ]
  },
  {
   "cell_type": "code",
   "execution_count": null,
   "metadata": {},
   "outputs": [],
   "source": [
    "updated = (dt.strptime(DT_OFFSET, \"%Y/%m/%d\") + td(days=int(all_data_np[-1][0]))).isoformat()[:10]\n",
    "with open(\"mhlw.prev.tmp\", \"rt\") as f:\n",
    "    prev = f.read().rstrip()\n",
    "print(\"updated: {}, prev: {}\".format(updated, prev))\n",
    "if prev == updated:\n",
    "    print(\"maybe the same data, nothing to do.\")\n",
    "    if \"ipy\" in sys.argv[0]:\n",
    "        pass#exit()\n",
    "    else:\n",
    "        sys.exit()\n",
    "\n",
    "with open(\"mhlw.prev.tmp\", \"wt\") as f:\n",
    "    f.write(updated)"
   ]
  },
  {
   "cell_type": "code",
   "execution_count": null,
   "metadata": {},
   "outputs": [],
   "source": [
    "from_date = dt.strptime(DT_OFFSET, \"%Y/%m/%d\")\n",
    "xbins = [from_date + td(days=i) for i in range(dt_range)]\n",
    "days2pred = 4 * 7\n",
    "xbins_pred = [from_date + td(days=i) for i in range(dt_range + days2pred)]"
   ]
  },
  {
   "cell_type": "code",
   "execution_count": null,
   "metadata": {},
   "outputs": [],
   "source": [
    "ave_mov_days = 7\n",
    "# 移動平均を算出する\n",
    "posis_mov_mean = moving_average(all_data_np[:, offsets['posis']])\n",
    "ratio_mov_mean = moving_average(all_data_np[:, offsets['ratio']])\n",
    "print(\"陽性者数(移動平均): {}\".format(posis_mov_mean[-1]))\n",
    "print(\"　陽性率(移動平均): {}\".format(ratio_mov_mean[-1]))"
   ]
  },
  {
   "cell_type": "code",
   "execution_count": null,
   "metadata": {},
   "outputs": [],
   "source": [
    "X = np.arange(0, len(posis_mov_mean))[:, np.newaxis]\n",
    "X_pred = np.arange(0, len(xbins_pred))[:, np.newaxis]\n",
    "y_posis = get_gpr_predict(X, all_data_np[:, offsets['posis']], X_pred, 80, 10, 200)\n",
    "y_ratio = get_gpr_predict(X, all_data_np[:, offsets['ratio']], X_pred, 80, 10, 200)"
   ]
  },
  {
   "cell_type": "code",
   "execution_count": null,
   "metadata": {},
   "outputs": [],
   "source": [
    "fig = make_subplots(specs=[[{\"secondary_y\": True}]])\n",
    "fig.add_trace(go.Scatter(x=xbins, y=all_data_np[:, offsets['posis']], mode='markers', name='陽性者数', marker=dict(size=4)), secondary_y=False)\n",
    "fig.add_trace(go.Scatter(x=xbins_pred, y=y_posis, mode='lines', name='予測値', line=dict(width=1)), secondary_y=False)\n",
    "fig.add_trace(go.Bar(x=xbins, y=posis_mov_mean, name='移動平均', opacity=0.5), secondary_y=False)\n",
    "fig.add_trace(go.Scatter(x=xbins, y=all_data_np[:, offsets['ratio']], mode='markers', name='陽性率[%]', marker=dict(size=4)), secondary_y=True)\n",
    "fig.add_trace(go.Scatter(x=xbins_pred, y=y_ratio, mode='lines', name='予測値', line=dict(width=1)), secondary_y=True)\n",
    "fig.add_trace(go.Bar(x=xbins, y=ratio_mov_mean, name='移動平均', opacity=0.8, marker_color='yellow'), secondary_y=True)\n",
    "fig.update_layout(\n",
    "    barmode='overlay',\n",
    "    xaxis=dict(title='日付', type='date', dtick=1209600000.0, tickformat=\"%_m/%-d\",\n",
    "              range=[xbins[30], xbins_pred[-1]]),\n",
    "    yaxis=dict(title='人数', range=[0, np.max(all_data_np[:, offsets['posis']])]),\n",
    "    yaxis2=dict(title='陽性率[%]', range=[0,50]),\n",
    "    title='全国 新型コロナ 陽性者数/陽性率 ({})'.format(today_str),\n",
    ")\n",
    "show_and_save_plotly(fig, \"mhlw-posis.jpg\", js=False)"
   ]
  },
  {
   "cell_type": "code",
   "execution_count": null,
   "metadata": {},
   "outputs": [],
   "source": [
    "y_tests = get_gpr_predict(X, all_data_np[:, offsets['pcrs']], X_pred, 1, 1, 5)"
   ]
  },
  {
   "cell_type": "code",
   "execution_count": null,
   "metadata": {
    "scrolled": false
   },
   "outputs": [],
   "source": [
    "# 移動平均を算出する\n",
    "tests_mov_mean = moving_average(all_data_np[:, offsets['pcrs']])\n",
    "print(\"検査人数(移動平均): {}\".format(tests_mov_mean[-1]))"
   ]
  },
  {
   "cell_type": "code",
   "execution_count": null,
   "metadata": {},
   "outputs": [],
   "source": [
    "fig = make_subplots(specs=[[{\"secondary_y\": True}]])\n",
    "fig.add_trace(go.Scatter(x=xbins, y=all_data_np[:, offsets['pcrs']], mode='markers', name='検査人数', marker=dict(size=4)), secondary_y=False)\n",
    "fig.add_trace(go.Scatter(x=xbins_pred, y=y_tests, mode='lines', name='予測値', line=dict(width=1)), secondary_y=False)\n",
    "fig.add_trace(go.Bar(x=xbins, y=tests_mov_mean, name='移動平均', opacity=0.5), secondary_y=False)\n",
    "fig.add_trace(go.Scatter(x=xbins, y=all_data_np[:, offsets['ratio']], mode='markers', name='陽性率[%]', marker=dict(size=4)), secondary_y=True)\n",
    "fig.add_trace(go.Scatter(x=xbins_pred, y=y_ratio, mode='lines', name='予測値', line=dict(width=1)), secondary_y=True)\n",
    "fig.add_trace(go.Bar(x=xbins, y=ratio_mov_mean, name='移動平均', opacity=0.8, marker_color='yellow'), secondary_y=True)\n",
    "fig.update_layout(\n",
    "    barmode='overlay',   \n",
    "    xaxis=dict(title='日付', type='date', dtick=1209600000.0, tickformat=\"%_m/%-d\",\n",
    "              range=[xbins[30], xbins_pred[-1]]),\n",
    "    yaxis=dict(title='人数', range=[0, np.max(y_tests)]),\n",
    "    yaxis2=dict(title='陽性率[%]', range=[0,50]),\n",
    "    title='全国 新型コロナ 検査人数/陽性率 ({})'.format(today_str),\n",
    ")\n",
    "show_and_save_plotly(fig, \"mhlw-tests.jpg\", js=False)"
   ]
  },
  {
   "cell_type": "code",
   "execution_count": null,
   "metadata": {},
   "outputs": [],
   "source": [
    "fig = make_subplots(specs=[[{\"secondary_y\": True}]])\n",
    "fig.add_trace(go.Bar(x=xbins, y=all_data_np[:, offsets['total']], \n",
    "                     name='陽性者', opacity=0.8, marker_color='#c08080'), secondary_y=False)\n",
    "fig.add_trace(go.Bar(x=xbins, y=all_data_np[:, offsets['recov']], \n",
    "                     name='退院者', opacity=0.8, marker_color='#00c000'), secondary_y=False)\n",
    "fig.add_trace(go.Bar(x=xbins, y=all_data_np[:, offsets['cases']], \n",
    "                     name='入院中', opacity=0.8, marker_color='yellow'), secondary_y=False)\n",
    "deads = all_data_np[:, offsets['death']]\n",
    "deads_os = 0\n",
    "for i in range(7):\n",
    "    if deads[-(1+i)] == 0:\n",
    "        deads_os = i + 1\n",
    "print(\"deads offset: {}\".format(deads_os))\n",
    "if deads_os != 0:\n",
    "    fig.add_trace(go.Scatter(x=xbins[:-deads_os], y=deads[:-deads_os], name=\"死者\",\n",
    "                             line=dict(width=1, color='magenta')), secondary_y=True)    \n",
    "else:\n",
    "    fig.add_trace(go.Scatter(x=xbins, y=deads, name=\"死者\",\n",
    "                             line=dict(width=1, color='magenta')), secondary_y=True)\n",
    "fig.update_layout(\n",
    "    barmode='overlay',\n",
    "    xaxis=dict(title='日付', type='date', dtick=1209600000.0, tickformat=\"%_m/%-d\",\n",
    "              range=[xbins[40], xbins[-1]]),\n",
    "    yaxis=dict(title='人数'),\n",
    "    yaxis2=dict(range=[0, np.max(all_data_np[:, offsets['death']])+10]),\n",
    "    title='全国 新型コロナ 陽性者/退院者/入院中/死者 ({})'.format(today_str),\n",
    ")\n",
    "show_and_save_plotly(fig, \"mhlw-total.jpg\", js=False)"
   ]
  },
  {
   "cell_type": "code",
   "execution_count": null,
   "metadata": {},
   "outputs": [],
   "source": [
    "tw_body_total = \"全国 新型コロナ 累計陽性者/退院者/死者(\" + today_str + \") \"\n",
    "tw_body_total += \" https://geneasyura.github.io/cov19-hm/mhlw.html \"\n",
    "tw_body_tests = \"全国 新型コロナ 検査人数/陽性率(\" + today_str + \") \"\n",
    "tw_body_tests += \" https://geneasyura.github.io/cov19-hm/mhlw.html \"\n",
    "tw_body_posis = \"全国 新型コロナ 陽性者/陽性率(\" + today_str + \") \"\n",
    "tw_body_posis += \" https://geneasyura.github.io/cov19-hm/mhlw.html \""
   ]
  },
  {
   "cell_type": "code",
   "execution_count": null,
   "metadata": {},
   "outputs": [],
   "source": [
    "tw = get_twitter()\n",
    "tweet_with_image(tw, \"docs/images/mhlw-posis.jpg\", tw_body_posis)\n",
    "tweet_with_image(tw, \"docs/images/mhlw-tests.jpg\", tw_body_tests)\n",
    "tweet_with_image(tw, \"docs/images/mhlw-total.jpg\", tw_body_total)"
   ]
  },
  {
   "cell_type": "code",
   "execution_count": null,
   "metadata": {},
   "outputs": [],
   "source": [
    "# 実効再生産数\n",
    "ogiwara_uri = \"https://raw.githubusercontent.com/kaz-ogiwara/covid19/master/data/\"\n",
    "ern_file = \"effective_reproduction_number.csv\"\n",
    "download_if_needed(ogiwara_uri, ern_file)"
   ]
  },
  {
   "cell_type": "code",
   "execution_count": null,
   "metadata": {},
   "outputs": [],
   "source": [
    "ern_data_arr = []\n",
    "for i in np.arange(dt_range):\n",
    "    ern_data_arr.append([i, 0, 0, 0])\n",
    "csv2array(ern_data_arr, 'ern', ern_file, 1)\n",
    "ern_data_np = np.array(ern_data_arr)\n",
    "#print(ern_data_np[:,1])"
   ]
  },
  {
   "cell_type": "code",
   "execution_count": null,
   "metadata": {},
   "outputs": [],
   "source": [
    "y_ern = get_gpr_predict(X, ern_data_np[:, 1], X_pred, 80, 10, 200)"
   ]
  },
  {
   "cell_type": "code",
   "execution_count": null,
   "metadata": {},
   "outputs": [],
   "source": [
    "fig = go.Figure()\n",
    "fig.add_trace(go.Bar(x=xbins, y=ern_data_np[:, 1], name=\"実効再生産数\", opacity=0.5))\n",
    "fig.add_trace(go.Scatter(x=xbins_pred, y=y_ern, mode='lines', name='予測値', line=dict(width=1)))\n",
    "fig.update_layout(\n",
    "    xaxis=dict(title='日付', type='date', dtick=1209600000.0, tickformat=\"%_m/%-d\",\n",
    "               range=[xbins[44], xbins_pred[-1]]),\n",
    "    yaxis=dict(title='実効再生産'),\n",
    "    title='全国 新型コロナ 実効再生産数 ({})'.format(today_str),\n",
    ")\n",
    "show_and_save_plotly(fig, \"ogiwara-ern.jpg\", js=False)"
   ]
  },
  {
   "cell_type": "code",
   "execution_count": null,
   "metadata": {},
   "outputs": [],
   "source": [
    "tw_body_ern = \"全国 新型コロナ 実効再生産数 ({})\".format(today_str)\n",
    "tw_body_ern += \" https://geneasyura.github.io/cov19-hm/tokyo.html \"\n",
    "tweet_with_image(tw, \"docs/images/ogiwara-ern.jpg\", tw_body_ern)"
   ]
  },
  {
   "cell_type": "code",
   "execution_count": null,
   "metadata": {},
   "outputs": [],
   "source": [
    "title = '全国 新型コロナ 新規陽性者移動平均/累乗近似 (' + today_str + ')'\n",
    "xdata = np.array(xbins)\n",
    "#ydata = all_data_np[:, offsets['posis']]\n",
    "ydata = posis_mov_mean\n",
    "xos = 265\n",
    "make_exp_fit_graph(tw,\n",
    "    xdata[xos:], ydata[xos:],\n",
    "    title, \"mhlw-fit.jpg\",\n",
    "    \"mhlw-doubling-time.html\", \"mhlw.html\", needs_tw=False)"
   ]
  },
  {
   "cell_type": "code",
   "execution_count": null,
   "metadata": {},
   "outputs": [],
   "source": []
  },
  {
   "cell_type": "code",
   "execution_count": null,
   "metadata": {},
   "outputs": [],
   "source": []
  }
 ],
 "metadata": {
  "kernelspec": {
   "display_name": "Python 3",
   "language": "python",
   "name": "python3"
  },
  "language_info": {
   "codemirror_mode": {
    "name": "ipython",
    "version": 3
   },
   "file_extension": ".py",
   "mimetype": "text/x-python",
   "name": "python",
   "nbconvert_exporter": "python",
   "pygments_lexer": "ipython3",
   "version": "3.8.6"
  }
 },
 "nbformat": 4,
 "nbformat_minor": 4
}
