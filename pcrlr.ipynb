{
 "cells": [
  {
   "cell_type": "code",
   "execution_count": null,
   "metadata": {},
   "outputs": [],
   "source": [
    "#!/usr/bin/env python\n",
    "# coding: utf-8"
   ]
  },
  {
   "cell_type": "code",
   "execution_count": null,
   "metadata": {},
   "outputs": [],
   "source": [
    "import codecs\n",
    "from datetime import datetime as dt\n",
    "import sys\n",
    "import numpy as np\n",
    "import os\n",
    "import pandas as pd\n",
    "import plotly\n",
    "from plotly import subplots\n",
    "import plotly.express as px\n",
    "import plotly.tools as tls\n",
    "import plotly.graph_objects as go\n",
    "import plotly.io as pio\n",
    "import plotly.offline as offline\n",
    "import sys\n",
    "if \"ipy\" in sys.argv[0]:\n",
    "    offline.init_notebook_mode()\n",
    "from cov19utils import create_basic_plot_figure, \\\n",
    "    show_and_clear, moving_average, \\\n",
    "    blank2zero, csv2array, \\\n",
    "    get_twitter, tweet_with_image, \\\n",
    "    get_gpr_predict, FONT_NAME, DT_OFFSET, \\\n",
    "    download_if_needed, json2nparr, code2int, age2int, \\\n",
    "    get_populations, get_os_idx_of_arr, dump_val_in_arr, \\\n",
    "    calc_last1w2w_dif, create_basic_scatter_figure, \\\n",
    "    show_and_save_plotly\n",
    "import re\n",
    "import requests\n",
    "from sklearn.decomposition import PCA\n",
    "from sklearn import manifold, cluster\n",
    "from sklearn.linear_model import LinearRegression\n",
    "import pdfplumber\n",
    "from nhk_lib import get_nhk_df, get_nhk_keys, get_lr_col, \\\n",
    "    add_pref2fig, update_axes, update_layout, add_trace2fig, \\\n",
    "    make_prefs_subplots, get_template_fig"
   ]
  },
  {
   "cell_type": "code",
   "execution_count": null,
   "metadata": {},
   "outputs": [],
   "source": [
    "today = dt.now().isoformat()[:10]"
   ]
  },
  {
   "cell_type": "code",
   "execution_count": null,
   "metadata": {},
   "outputs": [],
   "source": [
    "nhk_df = get_nhk_df(\"nhk.csv\")\n",
    "nk = get_nhk_keys()\n",
    "keys = [nk.ts, nk.pref_code, nk.pref_name, nk.total_case, nk.total_death]\n",
    "nhk_df = nhk_df.loc[:, keys]\n",
    "# 最新のデータのみ参照\n",
    "last_day = nhk_df[nk.ts].tail(1).values[0]\n",
    "print(last_day)\n",
    "last_df = nhk_df.loc[nhk_df[nk.ts] == last_day]\n",
    "# int から float へ変換\n",
    "last_df = last_df.astype({nk.total_case: float})\n",
    "last_df = last_df.astype({nk.total_death: float})\n",
    "last_df['pcr'] = 0.0 # # of PCR tests\n",
    "last_df['dpm'] = 0.0 # deaths per million people\n",
    "last_df['cpm'] = 0.0 # cases per million people\n",
    "last_df['dr'] = 0.0 # death rate\n",
    "last_df['pop'] = 0.0 # populations"
   ]
  },
  {
   "cell_type": "code",
   "execution_count": null,
   "metadata": {},
   "outputs": [],
   "source": [
    "prev = None\n",
    "with open(\"pcr-lr.tmp\") as f:\n",
    "    prev = f.read().strip()\n",
    "print(prev)\n",
    "\n",
    "if last_day == prev:\n",
    "    print(\"maybe the same data, nothing to do.\")\n",
    "    if \"ipy\" in sys.argv[0]:\n",
    "        pass#exit()\n",
    "    else:\n",
    "        sys.exit()\n",
    "with open(\"pcr-lr.tmp\", \"wt\") as f:\n",
    "    f.write(last_day)"
   ]
  },
  {
   "cell_type": "code",
   "execution_count": null,
   "metadata": {},
   "outputs": [],
   "source": [
    "# 都道府県別人口を取得\n",
    "populations = get_populations()\n",
    "totals = {} # populations\n",
    "pcodes = {} # 都道府県コード\n",
    "ppops = {} # 都道府県人口\n",
    "for k, v in populations.items():\n",
    "    totals[v['code']] = v['total']\n",
    "    pcodes[v['ja']] = v['code']\n",
    "    ppops[v['ja']] = v['total']"
   ]
  },
  {
   "cell_type": "code",
   "execution_count": null,
   "metadata": {},
   "outputs": [],
   "source": [
    "#last_df"
   ]
  },
  {
   "cell_type": "code",
   "execution_count": null,
   "metadata": {},
   "outputs": [],
   "source": [
    "# per 100 万人で正規化\n",
    "ppm = 1000000\n",
    "for index, row in last_df.iterrows():\n",
    "    pname = row[nk.pref_name].rstrip('県').rstrip('都').rstrip('府')\n",
    "    last_df.at[index, nk.pref_code] = pcodes[pname]\n",
    "    last_df.at[index, 'cpm'] = \\\n",
    "        (float(row[nk.total_case]) / ppops[pname]) * ppm\n",
    "    last_df.at[index, 'dpm'] = \\\n",
    "        (float(row[nk.total_death]) / ppops[pname]) * ppm\n",
    "    last_df.at[index, 'dr'] = \\\n",
    "        (float(row[nk.total_death]) / float(row[nk.total_case])) * 100.0\n",
    "    last_df.at[index, 'pop'] = \\\n",
    "        totals[pcodes[pname]]"
   ]
  },
  {
   "cell_type": "code",
   "execution_count": null,
   "metadata": {},
   "outputs": [],
   "source": [
    "#last_df"
   ]
  },
  {
   "cell_type": "code",
   "execution_count": null,
   "metadata": {},
   "outputs": [],
   "source": [
    "title = '全国新型コロナ 感染者数/死者数 ' + today\n",
    "fig = px.scatter(\n",
    "    last_df, x='cpm', y='dpm',\n",
    "    size=nk.total_case, color=nk.total_death,\n",
    "    text=nk.pref_name, log_x=True, log_y=True,\n",
    "    width=700, height=700, title=title)\n",
    "fig.update_layout(margin=dict(t=50, l=0, r=0, b=0))\n",
    "fig.update_layout(xaxis=dict(title=nk.total_case + ' / 100万人'))\n",
    "fig.update_layout(yaxis=dict(title=nk.total_death + ' / 100万人'))\n",
    "imgname = \"pcr-lr-1.jpg\"\n",
    "show_and_save_plotly(fig, imgname, js=False, show=True, image=True, html=False)"
   ]
  },
  {
   "cell_type": "code",
   "execution_count": null,
   "metadata": {},
   "outputs": [],
   "source": [
    "tw = get_twitter()"
   ]
  },
  {
   "cell_type": "code",
   "execution_count": null,
   "metadata": {},
   "outputs": [],
   "source": [
    "#厚生労働省データ及び\n",
    "tw_body = title + \"\\nNHKデータを独自に加工。\"\n",
    "print(tw_body)\n",
    "tweet_with_image(tw, \"docs/images/\" + imgname, tw_body)"
   ]
  },
  {
   "cell_type": "code",
   "execution_count": null,
   "metadata": {},
   "outputs": [],
   "source": []
  },
  {
   "cell_type": "code",
   "execution_count": null,
   "metadata": {},
   "outputs": [],
   "source": [
    "uri = \"https://www.mhlw.go.jp/stf/seisakunitsuite/\"\n",
    "file = \"newpage_00016.html\"\n",
    "download_if_needed(uri, file)"
   ]
  },
  {
   "cell_type": "code",
   "execution_count": null,
   "metadata": {},
   "outputs": [],
   "source": [
    "ptn = re.compile(r\"^.*\\<a href=\\\"(.*?)\\\"\\>PCR検査等の検査実施人数の推移（都道府県別・各日）.*$\")\n",
    "pdfname = None\n",
    "with codecs.open(file, encoding=\"utf-8\") as f:\n",
    "    for l in f:\n",
    "        l.strip('\\r\\n')\n",
    "        m = ptn.match(l)\n",
    "        if m:\n",
    "            pdfname = m.groups()[0]\n",
    "            break"
   ]
  },
  {
   "cell_type": "code",
   "execution_count": null,
   "metadata": {},
   "outputs": [],
   "source": [
    "if pdfname:\n",
    "    uri = \"https://www.mhlw.go.jp\" + pdfname\n",
    "    (url, file) = os.path.split(uri)\n",
    "    url = url + '/'\n",
    "    print(url, file)\n",
    "    download_if_needed(url, file)"
   ]
  },
  {
   "cell_type": "code",
   "execution_count": null,
   "metadata": {},
   "outputs": [],
   "source": []
  },
  {
   "cell_type": "code",
   "execution_count": null,
   "metadata": {},
   "outputs": [],
   "source": [
    "with pdfplumber.open(file) as pdf:\n",
    "    for page in pdf.pages:\n",
    "        data = page.extract_table()\n",
    "        pcr_df = pd.DataFrame(data[3:])\n",
    "        #print(pcr_df)\n",
    "        pcr_df.to_csv(file.replace('pdf', 'csv'))"
   ]
  },
  {
   "cell_type": "code",
   "execution_count": null,
   "metadata": {
    "scrolled": true
   },
   "outputs": [],
   "source": [
    "#pcr_df"
   ]
  },
  {
   "cell_type": "code",
   "execution_count": null,
   "metadata": {},
   "outputs": [],
   "source": [
    "pcr_df = pcr_df.dropna(how='all', axis=1)\n",
    "# 最新の値のみ取得\n",
    "pcr_df = pcr_df.iloc[:, [0, -1]]\n",
    "pcr_df.columns = ['pref', 'latest']"
   ]
  },
  {
   "cell_type": "code",
   "execution_count": null,
   "metadata": {},
   "outputs": [],
   "source": [
    "#pcr_df"
   ]
  },
  {
   "cell_type": "code",
   "execution_count": null,
   "metadata": {},
   "outputs": [],
   "source": [
    "pcrs = {}\n",
    "for k, v in pcr_df.iterrows():\n",
    "    if ' ' in pcr_df.at[k, 'latest']:\n",
    "        vals = pcr_df.at[k, 'latest'].split(' ')\n",
    "        pnm = pcr_df.at[k, 'pref']\n",
    "        pcrs[pnm] = float(vals[0].replace(',', ''))"
   ]
  },
  {
   "cell_type": "code",
   "execution_count": null,
   "metadata": {},
   "outputs": [],
   "source": [
    "for k, v in last_df.iterrows():\n",
    "    p = last_df.at[k, nk.pref_name].rstrip('都').rstrip('県').rstrip('府')\n",
    "    #print(p)\n",
    "    if p in pcrs:\n",
    "        last_df.at[k, 'pcr'] = pcrs[p]"
   ]
  },
  {
   "cell_type": "code",
   "execution_count": null,
   "metadata": {},
   "outputs": [],
   "source": [
    "# 総陽性率\n",
    "last_df['rate'] = 0.0\n",
    "last_df['rate'] = (last_df[nk.total_case] / last_df['pcr']) * 100.0"
   ]
  },
  {
   "cell_type": "code",
   "execution_count": null,
   "metadata": {
    "scrolled": true
   },
   "outputs": [],
   "source": [
    "last_df['tpc'] = 0.0 # test per case\n",
    "last_df['tpd'] = 0.0 # test per death\n",
    "last_df['tpc'] = last_df['pcr'] / last_df[nk.total_case]\n",
    "last_df['tpd'] = last_df['pcr'] / last_df[nk.total_death]\n",
    "#last_df"
   ]
  },
  {
   "cell_type": "code",
   "execution_count": null,
   "metadata": {},
   "outputs": [],
   "source": [
    "#lr = LinearRegression()\n",
    "#X = last_df[nk.total_death].values\n",
    "#Y = last_df['rate'].values\n",
    "#lr.fit(X.reshape(-1, 1), Y.reshape(-1, 1))\n",
    "#Y_pred = lr.predict(X.reshape(-1, 1)).reshape(1, -1)[0]\n",
    "#a = lr.coef_[0][0]\n",
    "#print(a)"
   ]
  },
  {
   "cell_type": "code",
   "execution_count": null,
   "metadata": {},
   "outputs": [],
   "source": [
    "title = '全国新型コロナ 全期間陽性率-累計死者数 ' + today\n",
    "fig = px.scatter(\n",
    "    last_df, \n",
    "    x=nk.total_death,\n",
    "    y='rate',\n",
    "    size=nk.total_case, color=nk.total_death,\n",
    "    text='都道府県名',\n",
    "    log_x=True,\n",
    "    width=700, height=700, title=title)\n",
    "fig.update_layout(margin=dict(t=50, l=0, r=0, b=0))\n",
    "fig.update_layout(xaxis=dict(title='累計死者数 (total deaths) [対数 (log-scale)]')) #  / 100万人\n",
    "fig.update_layout(yaxis=dict(title='全期間陽性率 (total positive rate) [%]', range=[0.0, 9.0]))\n",
    "#trace_lr = go.Scatter(x=X, y=Y_pred, mode='lines', line=dict(width=1, color='red'))\n",
    "#fig.add_trace(trace_lr)\n",
    "imgname = \"pcr-lr-2.jpg\"\n",
    "show_and_save_plotly(fig, imgname, js=False, show=True, image=True, html=False)"
   ]
  },
  {
   "cell_type": "code",
   "execution_count": null,
   "metadata": {},
   "outputs": [],
   "source": [
    "tw_body = title + \"\\n厚生労働省データ及びNHKデータを独自に加工。\"\n",
    "print(tw_body)\n",
    "tweet_with_image(tw, \"docs/images/\" + imgname, tw_body)"
   ]
  },
  {
   "cell_type": "code",
   "execution_count": null,
   "metadata": {},
   "outputs": [],
   "source": [
    "title = '全国新型コロナ 全期間陽性率-累計感染者数 ' + today\n",
    "fig = px.scatter(\n",
    "    last_df, \n",
    "    x=nk.total_case,\n",
    "    y='rate',\n",
    "    size=nk.total_case, color=nk.total_death,\n",
    "    text='都道府県名',\n",
    "    log_x=True,\n",
    "    width=700, height=700, title=title)\n",
    "fig.update_layout(margin=dict(t=50, l=0, r=0, b=0))\n",
    "fig.update_layout(xaxis=dict(title='累計感染者数 (total cases) [対数 (log-scale)]')) #  / 100万人\n",
    "fig.update_layout(yaxis=dict(title='全期間陽性率 (total positive rate) [%]', range=[0.0, 9.0]))\n",
    "#trace_lr = go.Scatter(x=X, y=Y_pred, mode='lines', line=dict(width=1, color='red'))\n",
    "#fig.add_trace(trace_lr)\n",
    "imgname = \"pcr-lr-3.jpg\"\n",
    "show_and_save_plotly(fig, imgname, js=False, show=True, image=True, html=False)"
   ]
  },
  {
   "cell_type": "code",
   "execution_count": null,
   "metadata": {},
   "outputs": [],
   "source": [
    "tw_body = title + \"\\n厚生労働省データ及びNHKデータを独自に加工。\"\n",
    "print(tw_body)\n",
    "tweet_with_image(tw, \"docs/images/\" + imgname, tw_body)"
   ]
  },
  {
   "cell_type": "code",
   "execution_count": null,
   "metadata": {
    "scrolled": false
   },
   "outputs": [],
   "source": [
    "title = '全国新型コロナ tpd-dpm-致死率 ' + today\n",
    "fig = px.scatter(\n",
    "    last_df, x='tpd', y='dpm', size='dr', color='dr', text='都道府県名',\n",
    "    labels={'dr':'致死率'},\n",
    "    log_x=True, log_y=True, width=700, height=700, title=title)\n",
    "fig.update_layout(margin=dict(t=50, l=0, r=0, b=0))\n",
    "fig.update_layout(xaxis=dict(title='検査数/死者 (tests per death) [対数 (log-scale)]'))\n",
    "fig.update_layout(yaxis=dict(title='死者/100万人 (deaths / million people) [対数 (log-scale)]'))\n",
    "imgname = \"pcr-lr-4.jpg\"\n",
    "show_and_save_plotly(fig, imgname, js=False, show=True, image=True, html=False)"
   ]
  },
  {
   "cell_type": "code",
   "execution_count": null,
   "metadata": {},
   "outputs": [],
   "source": [
    "tw_body = title + \"\\n厚生労働省データ及びNHKデータを独自に加工。\"\n",
    "print(tw_body)\n",
    "tweet_with_image(tw, \"docs/images/\" + imgname, tw_body)"
   ]
  },
  {
   "cell_type": "code",
   "execution_count": null,
   "metadata": {},
   "outputs": [],
   "source": [
    "#last_df"
   ]
  },
  {
   "cell_type": "code",
   "execution_count": null,
   "metadata": {},
   "outputs": [],
   "source": [
    "#ave_dpm = ppm * last_df['各地の死者数_累計'].sum() / last_df['pop'].sum()\n",
    "#ave_dpm"
   ]
  },
  {
   "cell_type": "code",
   "execution_count": null,
   "metadata": {},
   "outputs": [],
   "source": [
    "#ave_tpd = last_df['pcr'].sum() / last_df['各地の死者数_累計'].sum()\n",
    "#ave_tpd"
   ]
  },
  {
   "cell_type": "code",
   "execution_count": null,
   "metadata": {},
   "outputs": [],
   "source": []
  }
 ],
 "metadata": {
  "kernelspec": {
   "display_name": "Python 3",
   "language": "python",
   "name": "python3"
  },
  "language_info": {
   "codemirror_mode": {
    "name": "ipython",
    "version": 3
   },
   "file_extension": ".py",
   "mimetype": "text/x-python",
   "name": "python",
   "nbconvert_exporter": "python",
   "pygments_lexer": "ipython3",
   "version": "3.8.6"
  }
 },
 "nbformat": 4,
 "nbformat_minor": 4
}
