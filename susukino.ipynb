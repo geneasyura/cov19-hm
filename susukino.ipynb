{
 "cells": [
  {
   "cell_type": "code",
   "execution_count": null,
   "metadata": {},
   "outputs": [],
   "source": [
    "#!/usr/bin/python3\n",
    "# coding: utf-8\n",
    "# sapporo"
   ]
  },
  {
   "cell_type": "code",
   "execution_count": null,
   "metadata": {},
   "outputs": [],
   "source": [
    "import codecs\n",
    "from datetime import datetime as dt\n",
    "import datetime\n",
    "import math\n",
    "import sys\n",
    "import json\n",
    "import numpy as np\n",
    "import os\n",
    "import pandas as pd\n",
    "import plotly\n",
    "import plotly.express as px\n",
    "import plotly.tools as tls\n",
    "import plotly.graph_objects as go\n",
    "import plotly.io as pio\n",
    "import plotly.offline as offline\n",
    "from plotly.subplots import make_subplots\n",
    "import sys"
   ]
  },
  {
   "cell_type": "code",
   "execution_count": null,
   "metadata": {
    "scrolled": true
   },
   "outputs": [],
   "source": [
    "df = pd.read_csv(\"csv/susukino.csv\")"
   ]
  },
  {
   "cell_type": "code",
   "execution_count": null,
   "metadata": {},
   "outputs": [],
   "source": [
    "df = df[74:]"
   ]
  },
  {
   "cell_type": "code",
   "execution_count": null,
   "metadata": {},
   "outputs": [],
   "source": [
    "the_others = df['hokkaido'] - df['susukino']"
   ]
  },
  {
   "cell_type": "code",
   "execution_count": null,
   "metadata": {},
   "outputs": [],
   "source": [
    "fig = go.Figure()\n",
    "fig.update_layout(template='plotly_dark')\n",
    "fig.add_trace(go.Scatter(\n",
    "    x=df['date'].values.tolist(), y=df['susukino'].values.tolist(), fill='tozeroy',\n",
    "    name='すすきの'\n",
    "))\n",
    "fig.add_trace(go.Scatter(\n",
    "    x=df['date'].values.tolist(), y=the_others.values.tolist(), fill='tonexty',\n",
    "    name='それ以外'\n",
    "))\n",
    "fig.update_layout(\n",
    "    title='ススキノとそれ以外の累計感染者数 2020-11-24',\n",
    "    xaxis=dict(title='日付'),\n",
    "    yaxis=dict(title='累計感染者数'),\n",
    "    )\n",
    "fig.show()"
   ]
  },
  {
   "cell_type": "code",
   "execution_count": null,
   "metadata": {},
   "outputs": [],
   "source": [
    "fig = go.Figure()\n",
    "fig.update_layout(template='plotly_dark')\n",
    "fig.add_trace(go.Scatter(\n",
    "    x=df['date'].values.tolist(), y=df['susukino'].values.tolist(), fill='tozeroy',\n",
    "    name='すすきの', groupnorm='percent', stackgroup='one',\n",
    "))\n",
    "fig.add_trace(go.Scatter(\n",
    "    x=df['date'].values.tolist(), y=the_others.values.tolist(), fill='tonexty',\n",
    "    name='それ以外', stackgroup='one',\n",
    "))\n",
    "fig.update_layout(\n",
    "    title='ススキノとそれ以外の累計感染者数[%] 2020-11-24',\n",
    "    xaxis=dict(title='日付'),\n",
    "    yaxis=dict(title='累計感染者数の比率[%]')\n",
    ")\n",
    "fig.show()"
   ]
  },
  {
   "cell_type": "code",
   "execution_count": null,
   "metadata": {},
   "outputs": [],
   "source": []
  },
  {
   "cell_type": "code",
   "execution_count": null,
   "metadata": {},
   "outputs": [],
   "source": []
  }
 ],
 "metadata": {
  "kernelspec": {
   "display_name": "Python 3",
   "language": "python",
   "name": "python3"
  },
  "language_info": {
   "codemirror_mode": {
    "name": "ipython",
    "version": 3
   },
   "file_extension": ".py",
   "mimetype": "text/x-python",
   "name": "python",
   "nbconvert_exporter": "python",
   "pygments_lexer": "ipython3",
   "version": "3.8.6"
  }
 },
 "nbformat": 4,
 "nbformat_minor": 4
}
